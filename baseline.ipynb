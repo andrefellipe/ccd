{
  "nbformat": 4,
  "nbformat_minor": 0,
  "metadata": {
    "kernelspec": {
      "display_name": "Python 3",
      "language": "python",
      "name": "python3"
    },
    "language_info": {
      "codemirror_mode": {
        "name": "ipython",
        "version": 3
      },
      "file_extension": ".py",
      "mimetype": "text/x-python",
      "name": "python",
      "nbconvert_exporter": "python",
      "pygments_lexer": "ipython3",
      "version": "3.6.6"
    },
    "colab": {
      "name": "Baseline.ipynb",
      "provenance": [],
      "include_colab_link": true
    }
  },
  "cells": [
    {
      "cell_type": "markdown",
      "metadata": {
        "id": "view-in-github",
        "colab_type": "text"
      },
      "source": [
        "<a href=\"https://colab.research.google.com/github/vitorsr/ccd/blob/master/baseline.ipynb\" target=\"_parent\"><img src=\"https://colab.research.google.com/assets/colab-badge.svg\" alt=\"Open In Colab\"/></a>"
      ]
    },
    {
      "cell_type": "markdown",
      "metadata": {
        "id": "bzvWppKXlyKp",
        "colab_type": "text"
      },
      "source": [
        "# Definição do Baseline"
      ]
    },
    {
      "cell_type": "markdown",
      "metadata": {
        "id": "7O7eTnYGngk2",
        "colab_type": "text"
      },
      "source": [
        "## Bibliotecas Utilizadas"
      ]
    },
    {
      "cell_type": "code",
      "metadata": {
        "id": "ch7Kv80Lnbu7",
        "colab_type": "code",
        "colab": {}
      },
      "source": [
        "import numpy as np\n",
        "import pandas as pd\n",
        "import matplotlib.pyplot as plt\n",
        "import seaborn as sns\n",
        "import os"
      ],
      "execution_count": 0,
      "outputs": []
    },
    {
      "cell_type": "markdown",
      "metadata": {
        "id": "tsmhi3sRnk0R",
        "colab_type": "text"
      },
      "source": [
        "## Extração de Dados"
      ]
    },
    {
      "cell_type": "code",
      "metadata": {
        "id": "Udn_udEoH_co",
        "colab_type": "code",
        "outputId": "8a6c2b26-0258-4ee2-d7e6-484c91f08340",
        "colab": {
          "base_uri": "https://localhost:8080/",
          "height": 51
        }
      },
      "source": [
        "!wget -q -O ccd_2019.zip https://www.dropbox.com/s/7rriacb7c6vzf3m/ccd_2019.zip\n",
        "\n",
        "!unzip ccd_2019.zip"
      ],
      "execution_count": 2,
      "outputs": [
        {
          "output_type": "stream",
          "text": [
            "Archive:  ccd_2019.zip\n",
            "replace bdmep_meta.csv? [y]es, [n]o, [A]ll, [N]one, [r]ename: N\n"
          ],
          "name": "stdout"
        }
      ]
    },
    {
      "cell_type": "code",
      "metadata": {
        "id": "Abn2ryA4mhGW",
        "colab_type": "code",
        "colab": {
          "base_uri": "https://localhost:8080/",
          "height": 343
        },
        "outputId": "25fdf70a-67a5-4926-9f47-944d8e61531f"
      },
      "source": [
        "!wget \"https://onedrive.live.com/download?cid=BCBADB0836C97273&resid=BCBADB0836C97273%21115485&authkey=AJlb41BWz0YiBd8\" -O 2019.zip\n",
        "!unzip 2019.zip"
      ],
      "execution_count": 3,
      "outputs": [
        {
          "output_type": "stream",
          "text": [
            "--2019-10-26 01:39:45--  https://onedrive.live.com/download?cid=BCBADB0836C97273&resid=BCBADB0836C97273%21115485&authkey=AJlb41BWz0YiBd8\n",
            "Resolving onedrive.live.com (onedrive.live.com)... 13.107.42.13\n",
            "Connecting to onedrive.live.com (onedrive.live.com)|13.107.42.13|:443... connected.\n",
            "HTTP request sent, awaiting response... 302 Found\n",
            "Location: https://c9quda.bn.files.1drv.com/y4m8lIjhH05sWTPuFnZEWUVtQH9fEs28ILeB2EcgdYuwcu_tMXlSI3KleVwsHIeCcwLNtrw74Sz3Dbot24rW-VNodjKIpxqMJ6Bl6_OA0VHGn2DEjoj_ajA9sAK2-M-zgQSDneiKZSMWqhZqLos5WBmJLkot-6GXR7H7Fs-wsez4_7XWQkVJWIhLxsBFDXBWqlWHMat0kiWQF7xZUySrGyJkA/2019.zip?download&psid=1 [following]\n",
            "--2019-10-26 01:39:46--  https://c9quda.bn.files.1drv.com/y4m8lIjhH05sWTPuFnZEWUVtQH9fEs28ILeB2EcgdYuwcu_tMXlSI3KleVwsHIeCcwLNtrw74Sz3Dbot24rW-VNodjKIpxqMJ6Bl6_OA0VHGn2DEjoj_ajA9sAK2-M-zgQSDneiKZSMWqhZqLos5WBmJLkot-6GXR7H7Fs-wsez4_7XWQkVJWIhLxsBFDXBWqlWHMat0kiWQF7xZUySrGyJkA/2019.zip?download&psid=1\n",
            "Resolving c9quda.bn.files.1drv.com (c9quda.bn.files.1drv.com)... 13.107.42.12\n",
            "Connecting to c9quda.bn.files.1drv.com (c9quda.bn.files.1drv.com)|13.107.42.12|:443... connected.\n",
            "HTTP request sent, awaiting response... 200 OK\n",
            "Length: 1857551 (1.8M) [application/zip]\n",
            "Saving to: ‘2019.zip’\n",
            "\n",
            "2019.zip            100%[===================>]   1.77M  --.-KB/s    in 0.09s   \n",
            "\n",
            "2019-10-26 01:39:47 (19.8 MB/s) - ‘2019.zip’ saved [1857551/1857551]\n",
            "\n",
            "Archive:  2019.zip\n",
            "replace 2019/82024.csv? [y]es, [n]o, [A]ll, [N]one, [r]ename: N\n"
          ],
          "name": "stdout"
        }
      ]
    },
    {
      "cell_type": "code",
      "metadata": {
        "id": "hk-VTr62ml2Z",
        "colab_type": "code",
        "colab": {}
      },
      "source": [
        "directory = '2019'\n",
        "files = []\n",
        "for filename in os.listdir(directory):\n",
        "    if filename.endswith(\".csv\"): \n",
        "        files.append(filename)\n",
        "        continue\n",
        "    else:\n",
        "        continue"
      ],
      "execution_count": 0,
      "outputs": []
    },
    {
      "cell_type": "code",
      "metadata": {
        "id": "QUXlc1rDm5r8",
        "colab_type": "code",
        "colab": {
          "base_uri": "https://localhost:8080/",
          "height": 391
        },
        "outputId": "05211451-5067-4892-e635-b88af880491e"
      },
      "source": [
        "id_2019 = pd.DataFrame()\n",
        "for file in files:\n",
        "    id_aux = pd.read_csv(directory+'/'+file, delimiter=',')\n",
        "    id_2019 = pd.concat([id_aux, id_2019], sort=True)\n",
        "id_2019 = pd.unique(id_2019['id'])\n",
        "id_2019"
      ],
      "execution_count": 5,
      "outputs": [
        {
          "output_type": "execute_result",
          "data": {
            "text/plain": [
              "array([83632, 82588, 82992, 82983, 82676, 82191, 82659, 83557, 83377,\n",
              "       83049, 83288, 82331, 83927, 83623, 83698, 82098, 82198, 83811,\n",
              "       83184, 83368, 82024, 82042, 82970, 82336, 83536, 83936, 83442,\n",
              "       82765, 83738, 82975, 82178, 83286, 82382, 82141, 82689, 83807,\n",
              "       82493, 82586, 83550, 82723, 83844, 82890, 83639, 83997, 82317,\n",
              "       83592, 82326, 83190, 83912, 83249, 82188, 82184, 83338, 83376,\n",
              "       82882, 82893, 82487, 83805, 83064, 82564, 82795, 83916, 82106,\n",
              "       82590, 82990, 83192, 83096, 82476, 83736, 83781, 82392, 83386,\n",
              "       83591, 82578, 83522, 83767, 82181, 82533, 83090, 82145, 82212,\n",
              "       83967, 82780, 83013, 82361, 83334, 83221, 83244, 82792, 83676,\n",
              "       82753, 83942, 82915, 82994, 82445, 83687, 83361, 82996, 83538,\n",
              "       82863, 83744, 82798, 82246, 83964, 83229, 83428, 83577, 83526,\n",
              "       83441, 82376, 83695, 83483, 83919, 83669, 83379, 83579, 82596,\n",
              "       82693, 83007, 83714, 82610, 82598, 83683, 83851, 82976, 83470,\n",
              "       82861, 82460, 83589, 82280, 83393, 83726, 82807, 82678, 83836,\n",
              "       82886, 82353, 83195, 83332, 83948, 82113, 82797, 83235, 83766,\n",
              "       83437, 82683, 83789, 83076, 82668, 83692, 83097, 82686, 83358,\n",
              "       83842, 83696, 83242, 83464, 83914, 83236, 82777, 83995, 83423,\n",
              "       82979, 82900, 83897, 83648, 83498, 83488, 83384, 83907, 83114,\n",
              "       82410, 83186, 83222, 83228, 83182, 83587, 83179, 83033, 83479,\n",
              "       82263, 83630, 82571, 83813, 82397, 83985, 83980, 82784, 82768,\n",
              "       83718, 83309, 83737, 83339, 83565, 82562])"
            ]
          },
          "metadata": {
            "tags": []
          },
          "execution_count": 5
        }
      ]
    },
    {
      "cell_type": "markdown",
      "metadata": {
        "id": "c-9hwQsmlyKx",
        "colab_type": "text"
      },
      "source": [
        "## Leitura dos Dados"
      ]
    },
    {
      "cell_type": "markdown",
      "metadata": {
        "id": "9oN_ANc6qL9M",
        "colab_type": "text"
      },
      "source": [
        "<br><b>variável | descrição | unidade </b></br>\n",
        "<br>date | data e hora da coleta             -\n",
        "<br> id | ID da estação de coleta             -\n",
        "<br>prec | precipitação |       mm\n",
        "<br>tair | temperatura do ar  | graus Celsius\n",
        "<br>tw | temperatura de bulbo úmido |  graus Celsius\n",
        "<br>tmax | temperatura máxima do ar  | graus Celsius\n",
        "<br>tmin | temperatura mínima do ar  | graus Celsius\n",
        "<br>urmax | umidade relativa máxima  |             %\n",
        "<br>patm | pressão atmosférica         |    hPa\n",
        "<br>pnmm | pressão atmosférica média ao nível do mar  |           hPa\n",
        "<br>wd | direção do vento        |   graus\n",
        "<br>wsmax  |  rajadas de vento    |         m/s\n",
        "<br>n |  horas de sol          |     h\n",
        "<br>cc |   cobertura de nuvens    |           -\n",
        "<br>evap  |   evaporação        |      mm\n",
        "<br>ur  |   umidade relativa          |     %\n",
        "<br>ws   |   velocidade do vento       |      m/s"
      ]
    },
    {
      "cell_type": "code",
      "metadata": {
        "id": "HgUnyTMUlyKy",
        "colab_type": "code",
        "outputId": "856c10b3-faa9-495b-9ba8-bfe5bc530518",
        "colab": {
          "base_uri": "https://localhost:8080/",
          "height": 204
        }
      },
      "source": [
        "df = pd.read_csv(\"inmetr.csv\")\n",
        "df.head()"
      ],
      "execution_count": 6,
      "outputs": [
        {
          "output_type": "execute_result",
          "data": {
            "text/html": [
              "<div>\n",
              "<style scoped>\n",
              "    .dataframe tbody tr th:only-of-type {\n",
              "        vertical-align: middle;\n",
              "    }\n",
              "\n",
              "    .dataframe tbody tr th {\n",
              "        vertical-align: top;\n",
              "    }\n",
              "\n",
              "    .dataframe thead th {\n",
              "        text-align: right;\n",
              "    }\n",
              "</style>\n",
              "<table border=\"1\" class=\"dataframe\">\n",
              "  <thead>\n",
              "    <tr style=\"text-align: right;\">\n",
              "      <th></th>\n",
              "      <th>date</th>\n",
              "      <th>id</th>\n",
              "      <th>prec</th>\n",
              "      <th>tair</th>\n",
              "      <th>tw</th>\n",
              "      <th>tmax</th>\n",
              "      <th>tmin</th>\n",
              "      <th>urmax</th>\n",
              "      <th>patm</th>\n",
              "      <th>pnmm</th>\n",
              "      <th>wd</th>\n",
              "      <th>wsmax</th>\n",
              "      <th>n</th>\n",
              "      <th>cc</th>\n",
              "      <th>evap</th>\n",
              "      <th>ur</th>\n",
              "      <th>ws</th>\n",
              "    </tr>\n",
              "  </thead>\n",
              "  <tbody>\n",
              "    <tr>\n",
              "      <th>0</th>\n",
              "      <td>1970-05-04 00:00:00</td>\n",
              "      <td>83010</td>\n",
              "      <td>NaN</td>\n",
              "      <td>NaN</td>\n",
              "      <td>NaN</td>\n",
              "      <td>32.6</td>\n",
              "      <td>NaN</td>\n",
              "      <td>NaN</td>\n",
              "      <td>NaN</td>\n",
              "      <td>NaN</td>\n",
              "      <td>NaN</td>\n",
              "      <td>NaN</td>\n",
              "      <td>NaN</td>\n",
              "      <td>NaN</td>\n",
              "      <td>NaN</td>\n",
              "      <td>89.75</td>\n",
              "      <td>NaN</td>\n",
              "    </tr>\n",
              "    <tr>\n",
              "      <th>1</th>\n",
              "      <td>1970-05-04 12:00:00</td>\n",
              "      <td>83010</td>\n",
              "      <td>NaN</td>\n",
              "      <td>25.3</td>\n",
              "      <td>24.0</td>\n",
              "      <td>NaN</td>\n",
              "      <td>23.7</td>\n",
              "      <td>90.0</td>\n",
              "      <td>1005.9</td>\n",
              "      <td>NaN</td>\n",
              "      <td>NaN</td>\n",
              "      <td>NaN</td>\n",
              "      <td>NaN</td>\n",
              "      <td>5.0</td>\n",
              "      <td>NaN</td>\n",
              "      <td>NaN</td>\n",
              "      <td>NaN</td>\n",
              "    </tr>\n",
              "    <tr>\n",
              "      <th>2</th>\n",
              "      <td>1970-05-04 18:00:00</td>\n",
              "      <td>83010</td>\n",
              "      <td>NaN</td>\n",
              "      <td>29.2</td>\n",
              "      <td>27.1</td>\n",
              "      <td>NaN</td>\n",
              "      <td>NaN</td>\n",
              "      <td>85.0</td>\n",
              "      <td>1004.2</td>\n",
              "      <td>NaN</td>\n",
              "      <td>NaN</td>\n",
              "      <td>NaN</td>\n",
              "      <td>NaN</td>\n",
              "      <td>4.0</td>\n",
              "      <td>NaN</td>\n",
              "      <td>NaN</td>\n",
              "      <td>NaN</td>\n",
              "    </tr>\n",
              "    <tr>\n",
              "      <th>3</th>\n",
              "      <td>1970-05-05 00:00:00</td>\n",
              "      <td>83010</td>\n",
              "      <td>NaN</td>\n",
              "      <td>25.0</td>\n",
              "      <td>27.0</td>\n",
              "      <td>32.6</td>\n",
              "      <td>NaN</td>\n",
              "      <td>92.0</td>\n",
              "      <td>1007.5</td>\n",
              "      <td>NaN</td>\n",
              "      <td>NaN</td>\n",
              "      <td>NaN</td>\n",
              "      <td>NaN</td>\n",
              "      <td>8.0</td>\n",
              "      <td>2.4</td>\n",
              "      <td>88.25</td>\n",
              "      <td>NaN</td>\n",
              "    </tr>\n",
              "    <tr>\n",
              "      <th>4</th>\n",
              "      <td>1970-05-05 12:00:00</td>\n",
              "      <td>83010</td>\n",
              "      <td>0.0</td>\n",
              "      <td>25.9</td>\n",
              "      <td>24.8</td>\n",
              "      <td>NaN</td>\n",
              "      <td>23.0</td>\n",
              "      <td>91.0</td>\n",
              "      <td>1006.4</td>\n",
              "      <td>NaN</td>\n",
              "      <td>NaN</td>\n",
              "      <td>NaN</td>\n",
              "      <td>NaN</td>\n",
              "      <td>4.0</td>\n",
              "      <td>NaN</td>\n",
              "      <td>NaN</td>\n",
              "      <td>NaN</td>\n",
              "    </tr>\n",
              "  </tbody>\n",
              "</table>\n",
              "</div>"
            ],
            "text/plain": [
              "                  date     id  prec  tair    tw  ...   n   cc  evap     ur  ws\n",
              "0  1970-05-04 00:00:00  83010   NaN   NaN   NaN  ... NaN  NaN   NaN  89.75 NaN\n",
              "1  1970-05-04 12:00:00  83010   NaN  25.3  24.0  ... NaN  5.0   NaN    NaN NaN\n",
              "2  1970-05-04 18:00:00  83010   NaN  29.2  27.1  ... NaN  4.0   NaN    NaN NaN\n",
              "3  1970-05-05 00:00:00  83010   NaN  25.0  27.0  ... NaN  8.0   2.4  88.25 NaN\n",
              "4  1970-05-05 12:00:00  83010   0.0  25.9  24.8  ... NaN  4.0   NaN    NaN NaN\n",
              "\n",
              "[5 rows x 17 columns]"
            ]
          },
          "metadata": {
            "tags": []
          },
          "execution_count": 6
        }
      ]
    },
    {
      "cell_type": "code",
      "metadata": {
        "id": "J-dg899qlyK2",
        "colab_type": "code",
        "outputId": "62462072-3006-42ab-ba7b-b62c75902f46",
        "colab": {
          "base_uri": "https://localhost:8080/",
          "height": 204
        }
      },
      "source": [
        "df_m = pd.read_csv(\"bdmep_meta.csv\")\n",
        "df_m.head()"
      ],
      "execution_count": 7,
      "outputs": [
        {
          "output_type": "execute_result",
          "data": {
            "text/html": [
              "<div>\n",
              "<style scoped>\n",
              "    .dataframe tbody tr th:only-of-type {\n",
              "        vertical-align: middle;\n",
              "    }\n",
              "\n",
              "    .dataframe tbody tr th {\n",
              "        vertical-align: top;\n",
              "    }\n",
              "\n",
              "    .dataframe thead th {\n",
              "        text-align: right;\n",
              "    }\n",
              "</style>\n",
              "<table border=\"1\" class=\"dataframe\">\n",
              "  <thead>\n",
              "    <tr style=\"text-align: right;\">\n",
              "      <th></th>\n",
              "      <th>id</th>\n",
              "      <th>lon</th>\n",
              "      <th>lat</th>\n",
              "      <th>alt</th>\n",
              "      <th>name</th>\n",
              "      <th>state</th>\n",
              "      <th>uf</th>\n",
              "      <th>time_zone</th>\n",
              "      <th>offset_utc</th>\n",
              "      <th>time_zone.1</th>\n",
              "      <th>offset_utc.1</th>\n",
              "    </tr>\n",
              "  </thead>\n",
              "  <tbody>\n",
              "    <tr>\n",
              "      <th>0</th>\n",
              "      <td>83010</td>\n",
              "      <td>-68.733333</td>\n",
              "      <td>-11.016667</td>\n",
              "      <td>260.00</td>\n",
              "      <td>Brasiléia</td>\n",
              "      <td>Acre</td>\n",
              "      <td>AC</td>\n",
              "      <td>America/Rio_Branco</td>\n",
              "      <td>-5</td>\n",
              "      <td>America/Rio_Branco</td>\n",
              "      <td>-5</td>\n",
              "    </tr>\n",
              "    <tr>\n",
              "      <th>1</th>\n",
              "      <td>82704</td>\n",
              "      <td>-72.666667</td>\n",
              "      <td>-7.633333</td>\n",
              "      <td>170.00</td>\n",
              "      <td>Cruzeiro do Sul</td>\n",
              "      <td>Acre</td>\n",
              "      <td>AC</td>\n",
              "      <td>America/Rio_Branco</td>\n",
              "      <td>-5</td>\n",
              "      <td>America/Rio_Branco</td>\n",
              "      <td>-5</td>\n",
              "    </tr>\n",
              "    <tr>\n",
              "      <th>2</th>\n",
              "      <td>82915</td>\n",
              "      <td>-67.800000</td>\n",
              "      <td>-9.966667</td>\n",
              "      <td>160.00</td>\n",
              "      <td>Rio Branco</td>\n",
              "      <td>Acre</td>\n",
              "      <td>AC</td>\n",
              "      <td>America/Rio_Branco</td>\n",
              "      <td>-5</td>\n",
              "      <td>America/Rio_Branco</td>\n",
              "      <td>-5</td>\n",
              "    </tr>\n",
              "    <tr>\n",
              "      <th>3</th>\n",
              "      <td>82807</td>\n",
              "      <td>-70.766667</td>\n",
              "      <td>-8.166667</td>\n",
              "      <td>190.00</td>\n",
              "      <td>Tarauacá</td>\n",
              "      <td>Acre</td>\n",
              "      <td>AC</td>\n",
              "      <td>America/Rio_Branco</td>\n",
              "      <td>-5</td>\n",
              "      <td>America/Rio_Branco</td>\n",
              "      <td>-5</td>\n",
              "    </tr>\n",
              "    <tr>\n",
              "      <th>4</th>\n",
              "      <td>83098</td>\n",
              "      <td>-36.166667</td>\n",
              "      <td>-10.150000</td>\n",
              "      <td>56.13</td>\n",
              "      <td>Coruripe</td>\n",
              "      <td>Alagoas</td>\n",
              "      <td>AL</td>\n",
              "      <td>America/Maceio</td>\n",
              "      <td>-3</td>\n",
              "      <td>America/Maceio</td>\n",
              "      <td>-3</td>\n",
              "    </tr>\n",
              "  </tbody>\n",
              "</table>\n",
              "</div>"
            ],
            "text/plain": [
              "      id        lon        lat  ...  offset_utc         time_zone.1 offset_utc.1\n",
              "0  83010 -68.733333 -11.016667  ...          -5  America/Rio_Branco           -5\n",
              "1  82704 -72.666667  -7.633333  ...          -5  America/Rio_Branco           -5\n",
              "2  82915 -67.800000  -9.966667  ...          -5  America/Rio_Branco           -5\n",
              "3  82807 -70.766667  -8.166667  ...          -5  America/Rio_Branco           -5\n",
              "4  83098 -36.166667 -10.150000  ...          -3      America/Maceio           -3\n",
              "\n",
              "[5 rows x 11 columns]"
            ]
          },
          "metadata": {
            "tags": []
          },
          "execution_count": 7
        }
      ]
    },
    {
      "cell_type": "markdown",
      "metadata": {
        "id": "uDaWQhLklyK4",
        "colab_type": "text"
      },
      "source": [
        "Os dados apresentados abragem o período entre os anos de 1970 e 2018.\n",
        "\n",
        "Filtrando apenas para o Mês de Agosto:"
      ]
    },
    {
      "cell_type": "code",
      "metadata": {
        "id": "Ontod82HhmqN",
        "colab_type": "code",
        "colab": {
          "base_uri": "https://localhost:8080/",
          "height": 34
        },
        "outputId": "c5fc8040-caf0-4d5f-fe78-ca2cfc2c0af4"
      },
      "source": [
        "mask = (df['date'].str.split('-',n=2,expand = True)[1]=='08')\n",
        "df = df.loc[mask]\n",
        "df.size"
      ],
      "execution_count": 8,
      "outputs": [
        {
          "output_type": "execute_result",
          "data": {
            "text/plain": [
              "20944306"
            ]
          },
          "metadata": {
            "tags": []
          },
          "execution_count": 8
        }
      ]
    },
    {
      "cell_type": "markdown",
      "metadata": {
        "id": "uH9_BawVpqbF",
        "colab_type": "text"
      },
      "source": [
        "Filtrando apenas as Estações ainda Existentes em 2019:"
      ]
    },
    {
      "cell_type": "code",
      "metadata": {
        "id": "xCggXWBfprue",
        "colab_type": "code",
        "colab": {
          "base_uri": "https://localhost:8080/",
          "height": 34
        },
        "outputId": "f1f9cc69-82da-4705-d1ac-87814b57857b"
      },
      "source": [
        "mask = (df['id'].isin(id_2019))\n",
        "df = df.loc[mask]\n",
        "df.size"
      ],
      "execution_count": 9,
      "outputs": [
        {
          "output_type": "execute_result",
          "data": {
            "text/plain": [
              "13499360"
            ]
          },
          "metadata": {
            "tags": []
          },
          "execution_count": 9
        }
      ]
    },
    {
      "cell_type": "markdown",
      "metadata": {
        "id": "XDcfKe8vh8jp",
        "colab_type": "text"
      },
      "source": [
        "Extraindo o Ano da Coluna Date:"
      ]
    },
    {
      "cell_type": "code",
      "metadata": {
        "id": "7ukDsDUZz1vp",
        "colab_type": "code",
        "colab": {
          "base_uri": "https://localhost:8080/",
          "height": 204
        },
        "outputId": "b3ab449d-95db-4daf-d18f-7d79e6f8243f"
      },
      "source": [
        "df['date'] = df['date'].str.split('-',n=1,expand = True)[1]\n",
        "df.head()"
      ],
      "execution_count": 10,
      "outputs": [
        {
          "output_type": "execute_result",
          "data": {
            "text/html": [
              "<div>\n",
              "<style scoped>\n",
              "    .dataframe tbody tr th:only-of-type {\n",
              "        vertical-align: middle;\n",
              "    }\n",
              "\n",
              "    .dataframe tbody tr th {\n",
              "        vertical-align: top;\n",
              "    }\n",
              "\n",
              "    .dataframe thead th {\n",
              "        text-align: right;\n",
              "    }\n",
              "</style>\n",
              "<table border=\"1\" class=\"dataframe\">\n",
              "  <thead>\n",
              "    <tr style=\"text-align: right;\">\n",
              "      <th></th>\n",
              "      <th>date</th>\n",
              "      <th>id</th>\n",
              "      <th>prec</th>\n",
              "      <th>tair</th>\n",
              "      <th>tw</th>\n",
              "      <th>tmax</th>\n",
              "      <th>tmin</th>\n",
              "      <th>urmax</th>\n",
              "      <th>patm</th>\n",
              "      <th>pnmm</th>\n",
              "      <th>wd</th>\n",
              "      <th>wsmax</th>\n",
              "      <th>n</th>\n",
              "      <th>cc</th>\n",
              "      <th>evap</th>\n",
              "      <th>ur</th>\n",
              "      <th>ws</th>\n",
              "    </tr>\n",
              "  </thead>\n",
              "  <tbody>\n",
              "    <tr>\n",
              "      <th>53402</th>\n",
              "      <td>08-01 00:00:00</td>\n",
              "      <td>82915</td>\n",
              "      <td>NaN</td>\n",
              "      <td>25.0</td>\n",
              "      <td>22.8</td>\n",
              "      <td>35.0</td>\n",
              "      <td>NaN</td>\n",
              "      <td>84.0</td>\n",
              "      <td>1010.6</td>\n",
              "      <td>NaN</td>\n",
              "      <td>NaN</td>\n",
              "      <td>NaN</td>\n",
              "      <td>5.6</td>\n",
              "      <td>4.0</td>\n",
              "      <td>3.2</td>\n",
              "      <td>74.75</td>\n",
              "      <td>0.0</td>\n",
              "    </tr>\n",
              "    <tr>\n",
              "      <th>53403</th>\n",
              "      <td>08-01 12:00:00</td>\n",
              "      <td>82915</td>\n",
              "      <td>0.0</td>\n",
              "      <td>22.2</td>\n",
              "      <td>21.6</td>\n",
              "      <td>NaN</td>\n",
              "      <td>19.7</td>\n",
              "      <td>94.0</td>\n",
              "      <td>1000.6</td>\n",
              "      <td>NaN</td>\n",
              "      <td>0.0</td>\n",
              "      <td>0.0</td>\n",
              "      <td>NaN</td>\n",
              "      <td>7.0</td>\n",
              "      <td>NaN</td>\n",
              "      <td>NaN</td>\n",
              "      <td>NaN</td>\n",
              "    </tr>\n",
              "    <tr>\n",
              "      <th>53404</th>\n",
              "      <td>08-01 18:00:00</td>\n",
              "      <td>82915</td>\n",
              "      <td>NaN</td>\n",
              "      <td>33.8</td>\n",
              "      <td>27.0</td>\n",
              "      <td>NaN</td>\n",
              "      <td>NaN</td>\n",
              "      <td>57.0</td>\n",
              "      <td>999.2</td>\n",
              "      <td>NaN</td>\n",
              "      <td>0.0</td>\n",
              "      <td>0.0</td>\n",
              "      <td>NaN</td>\n",
              "      <td>7.0</td>\n",
              "      <td>NaN</td>\n",
              "      <td>NaN</td>\n",
              "      <td>NaN</td>\n",
              "    </tr>\n",
              "    <tr>\n",
              "      <th>53405</th>\n",
              "      <td>08-02 00:00:00</td>\n",
              "      <td>82915</td>\n",
              "      <td>NaN</td>\n",
              "      <td>26.8</td>\n",
              "      <td>24.8</td>\n",
              "      <td>33.8</td>\n",
              "      <td>NaN</td>\n",
              "      <td>74.0</td>\n",
              "      <td>996.6</td>\n",
              "      <td>NaN</td>\n",
              "      <td>NaN</td>\n",
              "      <td>NaN</td>\n",
              "      <td>3.5</td>\n",
              "      <td>6.0</td>\n",
              "      <td>2.1</td>\n",
              "      <td>83.50</td>\n",
              "      <td>NaN</td>\n",
              "    </tr>\n",
              "    <tr>\n",
              "      <th>53406</th>\n",
              "      <td>08-02 12:00:00</td>\n",
              "      <td>82915</td>\n",
              "      <td>21.9</td>\n",
              "      <td>11.8</td>\n",
              "      <td>11.0</td>\n",
              "      <td>NaN</td>\n",
              "      <td>11.2</td>\n",
              "      <td>90.0</td>\n",
              "      <td>1009.0</td>\n",
              "      <td>NaN</td>\n",
              "      <td>NaN</td>\n",
              "      <td>NaN</td>\n",
              "      <td>NaN</td>\n",
              "      <td>8.0</td>\n",
              "      <td>NaN</td>\n",
              "      <td>NaN</td>\n",
              "      <td>NaN</td>\n",
              "    </tr>\n",
              "  </tbody>\n",
              "</table>\n",
              "</div>"
            ],
            "text/plain": [
              "                 date     id  prec  tair    tw  ...    n   cc  evap     ur   ws\n",
              "53402  08-01 00:00:00  82915   NaN  25.0  22.8  ...  5.6  4.0   3.2  74.75  0.0\n",
              "53403  08-01 12:00:00  82915   0.0  22.2  21.6  ...  NaN  7.0   NaN    NaN  NaN\n",
              "53404  08-01 18:00:00  82915   NaN  33.8  27.0  ...  NaN  7.0   NaN    NaN  NaN\n",
              "53405  08-02 00:00:00  82915   NaN  26.8  24.8  ...  3.5  6.0   2.1  83.50  NaN\n",
              "53406  08-02 12:00:00  82915  21.9  11.8  11.0  ...  NaN  8.0   NaN    NaN  NaN\n",
              "\n",
              "[5 rows x 17 columns]"
            ]
          },
          "metadata": {
            "tags": []
          },
          "execution_count": 10
        }
      ]
    },
    {
      "cell_type": "markdown",
      "metadata": {
        "id": "MzfvAzNtigm5",
        "colab_type": "text"
      },
      "source": [
        "Extraindo a Hora de Medição da Coluna Date:"
      ]
    },
    {
      "cell_type": "code",
      "metadata": {
        "id": "fVgFMm5HikLw",
        "colab_type": "code",
        "colab": {
          "base_uri": "https://localhost:8080/",
          "height": 204
        },
        "outputId": "1c74b99b-a16b-4c99-9b5a-e056842611d2"
      },
      "source": [
        "df['date'] = df['date'].str.split(' ',n=1,expand = True)[0]\n",
        "df.head()"
      ],
      "execution_count": 11,
      "outputs": [
        {
          "output_type": "execute_result",
          "data": {
            "text/html": [
              "<div>\n",
              "<style scoped>\n",
              "    .dataframe tbody tr th:only-of-type {\n",
              "        vertical-align: middle;\n",
              "    }\n",
              "\n",
              "    .dataframe tbody tr th {\n",
              "        vertical-align: top;\n",
              "    }\n",
              "\n",
              "    .dataframe thead th {\n",
              "        text-align: right;\n",
              "    }\n",
              "</style>\n",
              "<table border=\"1\" class=\"dataframe\">\n",
              "  <thead>\n",
              "    <tr style=\"text-align: right;\">\n",
              "      <th></th>\n",
              "      <th>date</th>\n",
              "      <th>id</th>\n",
              "      <th>prec</th>\n",
              "      <th>tair</th>\n",
              "      <th>tw</th>\n",
              "      <th>tmax</th>\n",
              "      <th>tmin</th>\n",
              "      <th>urmax</th>\n",
              "      <th>patm</th>\n",
              "      <th>pnmm</th>\n",
              "      <th>wd</th>\n",
              "      <th>wsmax</th>\n",
              "      <th>n</th>\n",
              "      <th>cc</th>\n",
              "      <th>evap</th>\n",
              "      <th>ur</th>\n",
              "      <th>ws</th>\n",
              "    </tr>\n",
              "  </thead>\n",
              "  <tbody>\n",
              "    <tr>\n",
              "      <th>53402</th>\n",
              "      <td>08-01</td>\n",
              "      <td>82915</td>\n",
              "      <td>NaN</td>\n",
              "      <td>25.0</td>\n",
              "      <td>22.8</td>\n",
              "      <td>35.0</td>\n",
              "      <td>NaN</td>\n",
              "      <td>84.0</td>\n",
              "      <td>1010.6</td>\n",
              "      <td>NaN</td>\n",
              "      <td>NaN</td>\n",
              "      <td>NaN</td>\n",
              "      <td>5.6</td>\n",
              "      <td>4.0</td>\n",
              "      <td>3.2</td>\n",
              "      <td>74.75</td>\n",
              "      <td>0.0</td>\n",
              "    </tr>\n",
              "    <tr>\n",
              "      <th>53403</th>\n",
              "      <td>08-01</td>\n",
              "      <td>82915</td>\n",
              "      <td>0.0</td>\n",
              "      <td>22.2</td>\n",
              "      <td>21.6</td>\n",
              "      <td>NaN</td>\n",
              "      <td>19.7</td>\n",
              "      <td>94.0</td>\n",
              "      <td>1000.6</td>\n",
              "      <td>NaN</td>\n",
              "      <td>0.0</td>\n",
              "      <td>0.0</td>\n",
              "      <td>NaN</td>\n",
              "      <td>7.0</td>\n",
              "      <td>NaN</td>\n",
              "      <td>NaN</td>\n",
              "      <td>NaN</td>\n",
              "    </tr>\n",
              "    <tr>\n",
              "      <th>53404</th>\n",
              "      <td>08-01</td>\n",
              "      <td>82915</td>\n",
              "      <td>NaN</td>\n",
              "      <td>33.8</td>\n",
              "      <td>27.0</td>\n",
              "      <td>NaN</td>\n",
              "      <td>NaN</td>\n",
              "      <td>57.0</td>\n",
              "      <td>999.2</td>\n",
              "      <td>NaN</td>\n",
              "      <td>0.0</td>\n",
              "      <td>0.0</td>\n",
              "      <td>NaN</td>\n",
              "      <td>7.0</td>\n",
              "      <td>NaN</td>\n",
              "      <td>NaN</td>\n",
              "      <td>NaN</td>\n",
              "    </tr>\n",
              "    <tr>\n",
              "      <th>53405</th>\n",
              "      <td>08-02</td>\n",
              "      <td>82915</td>\n",
              "      <td>NaN</td>\n",
              "      <td>26.8</td>\n",
              "      <td>24.8</td>\n",
              "      <td>33.8</td>\n",
              "      <td>NaN</td>\n",
              "      <td>74.0</td>\n",
              "      <td>996.6</td>\n",
              "      <td>NaN</td>\n",
              "      <td>NaN</td>\n",
              "      <td>NaN</td>\n",
              "      <td>3.5</td>\n",
              "      <td>6.0</td>\n",
              "      <td>2.1</td>\n",
              "      <td>83.50</td>\n",
              "      <td>NaN</td>\n",
              "    </tr>\n",
              "    <tr>\n",
              "      <th>53406</th>\n",
              "      <td>08-02</td>\n",
              "      <td>82915</td>\n",
              "      <td>21.9</td>\n",
              "      <td>11.8</td>\n",
              "      <td>11.0</td>\n",
              "      <td>NaN</td>\n",
              "      <td>11.2</td>\n",
              "      <td>90.0</td>\n",
              "      <td>1009.0</td>\n",
              "      <td>NaN</td>\n",
              "      <td>NaN</td>\n",
              "      <td>NaN</td>\n",
              "      <td>NaN</td>\n",
              "      <td>8.0</td>\n",
              "      <td>NaN</td>\n",
              "      <td>NaN</td>\n",
              "      <td>NaN</td>\n",
              "    </tr>\n",
              "  </tbody>\n",
              "</table>\n",
              "</div>"
            ],
            "text/plain": [
              "        date     id  prec  tair    tw  tmax  ...  wsmax    n   cc  evap     ur   ws\n",
              "53402  08-01  82915   NaN  25.0  22.8  35.0  ...    NaN  5.6  4.0   3.2  74.75  0.0\n",
              "53403  08-01  82915   0.0  22.2  21.6   NaN  ...    0.0  NaN  7.0   NaN    NaN  NaN\n",
              "53404  08-01  82915   NaN  33.8  27.0   NaN  ...    0.0  NaN  7.0   NaN    NaN  NaN\n",
              "53405  08-02  82915   NaN  26.8  24.8  33.8  ...    NaN  3.5  6.0   2.1  83.50  NaN\n",
              "53406  08-02  82915  21.9  11.8  11.0   NaN  ...    NaN  NaN  8.0   NaN    NaN  NaN\n",
              "\n",
              "[5 rows x 17 columns]"
            ]
          },
          "metadata": {
            "tags": []
          },
          "execution_count": 11
        }
      ]
    },
    {
      "cell_type": "markdown",
      "metadata": {
        "id": "nS7XfKvfo7zs",
        "colab_type": "text"
      },
      "source": [
        "Group By por Data e Estação:"
      ]
    },
    {
      "cell_type": "code",
      "metadata": {
        "id": "aZB1_nGlY1Pq",
        "colab_type": "code",
        "colab": {
          "base_uri": "https://localhost:8080/",
          "height": 450
        },
        "outputId": "66c41c88-69d7-4fa6-a70f-5792d59f67aa"
      },
      "source": [
        "df = df.groupby(by=['date','id']).mean()\n",
        "df.head(1000)"
      ],
      "execution_count": 12,
      "outputs": [
        {
          "output_type": "execute_result",
          "data": {
            "text/html": [
              "<div>\n",
              "<style scoped>\n",
              "    .dataframe tbody tr th:only-of-type {\n",
              "        vertical-align: middle;\n",
              "    }\n",
              "\n",
              "    .dataframe tbody tr th {\n",
              "        vertical-align: top;\n",
              "    }\n",
              "\n",
              "    .dataframe thead th {\n",
              "        text-align: right;\n",
              "    }\n",
              "</style>\n",
              "<table border=\"1\" class=\"dataframe\">\n",
              "  <thead>\n",
              "    <tr style=\"text-align: right;\">\n",
              "      <th></th>\n",
              "      <th></th>\n",
              "      <th>prec</th>\n",
              "      <th>tair</th>\n",
              "      <th>tw</th>\n",
              "      <th>tmax</th>\n",
              "      <th>tmin</th>\n",
              "      <th>urmax</th>\n",
              "      <th>patm</th>\n",
              "      <th>pnmm</th>\n",
              "      <th>wd</th>\n",
              "      <th>wsmax</th>\n",
              "      <th>n</th>\n",
              "      <th>cc</th>\n",
              "      <th>evap</th>\n",
              "      <th>ur</th>\n",
              "      <th>ws</th>\n",
              "    </tr>\n",
              "    <tr>\n",
              "      <th>date</th>\n",
              "      <th>id</th>\n",
              "      <th></th>\n",
              "      <th></th>\n",
              "      <th></th>\n",
              "      <th></th>\n",
              "      <th></th>\n",
              "      <th></th>\n",
              "      <th></th>\n",
              "      <th></th>\n",
              "      <th></th>\n",
              "      <th></th>\n",
              "      <th></th>\n",
              "      <th></th>\n",
              "      <th></th>\n",
              "      <th></th>\n",
              "      <th></th>\n",
              "    </tr>\n",
              "  </thead>\n",
              "  <tbody>\n",
              "    <tr>\n",
              "      <th rowspan=\"5\" valign=\"top\">08-01</th>\n",
              "      <th>82024</th>\n",
              "      <td>6.219512</td>\n",
              "      <td>27.235246</td>\n",
              "      <td>24.882883</td>\n",
              "      <td>32.069231</td>\n",
              "      <td>23.400000</td>\n",
              "      <td>82.653465</td>\n",
              "      <td>1001.716216</td>\n",
              "      <td>1012.100000</td>\n",
              "      <td>10.176471</td>\n",
              "      <td>1.075546</td>\n",
              "      <td>5.175000</td>\n",
              "      <td>5.283333</td>\n",
              "      <td>2.597143</td>\n",
              "      <td>84.051471</td>\n",
              "      <td>1.025690</td>\n",
              "    </tr>\n",
              "    <tr>\n",
              "      <th>82042</th>\n",
              "      <td>4.133333</td>\n",
              "      <td>26.858163</td>\n",
              "      <td>24.436145</td>\n",
              "      <td>32.003448</td>\n",
              "      <td>22.071875</td>\n",
              "      <td>83.881579</td>\n",
              "      <td>NaN</td>\n",
              "      <td>NaN</td>\n",
              "      <td>3.578947</td>\n",
              "      <td>0.445155</td>\n",
              "      <td>5.860000</td>\n",
              "      <td>5.754639</td>\n",
              "      <td>2.345455</td>\n",
              "      <td>83.840000</td>\n",
              "      <td>0.467799</td>\n",
              "    </tr>\n",
              "    <tr>\n",
              "      <th>82098</th>\n",
              "      <td>3.716327</td>\n",
              "      <td>28.204027</td>\n",
              "      <td>25.416779</td>\n",
              "      <td>31.976000</td>\n",
              "      <td>23.632000</td>\n",
              "      <td>79.320611</td>\n",
              "      <td>1010.518571</td>\n",
              "      <td>1012.216667</td>\n",
              "      <td>5.694656</td>\n",
              "      <td>1.385906</td>\n",
              "      <td>8.237500</td>\n",
              "      <td>4.687162</td>\n",
              "      <td>2.765306</td>\n",
              "      <td>81.761364</td>\n",
              "      <td>1.290667</td>\n",
              "    </tr>\n",
              "    <tr>\n",
              "      <th>82106</th>\n",
              "      <td>4.888889</td>\n",
              "      <td>25.806329</td>\n",
              "      <td>24.044521</td>\n",
              "      <td>30.796296</td>\n",
              "      <td>21.407547</td>\n",
              "      <td>87.307087</td>\n",
              "      <td>1003.087736</td>\n",
              "      <td>1007.000000</td>\n",
              "      <td>9.503937</td>\n",
              "      <td>1.180905</td>\n",
              "      <td>4.656250</td>\n",
              "      <td>5.431250</td>\n",
              "      <td>1.298000</td>\n",
              "      <td>88.738372</td>\n",
              "      <td>1.182592</td>\n",
              "    </tr>\n",
              "    <tr>\n",
              "      <th>82113</th>\n",
              "      <td>6.386538</td>\n",
              "      <td>26.638000</td>\n",
              "      <td>24.857746</td>\n",
              "      <td>32.082000</td>\n",
              "      <td>21.821569</td>\n",
              "      <td>86.439024</td>\n",
              "      <td>999.248611</td>\n",
              "      <td>NaN</td>\n",
              "      <td>13.333333</td>\n",
              "      <td>1.276955</td>\n",
              "      <td>6.700000</td>\n",
              "      <td>3.563333</td>\n",
              "      <td>1.847368</td>\n",
              "      <td>87.191860</td>\n",
              "      <td>1.266859</td>\n",
              "    </tr>\n",
              "    <tr>\n",
              "      <th>...</th>\n",
              "      <th>...</th>\n",
              "      <td>...</td>\n",
              "      <td>...</td>\n",
              "      <td>...</td>\n",
              "      <td>...</td>\n",
              "      <td>...</td>\n",
              "      <td>...</td>\n",
              "      <td>...</td>\n",
              "      <td>...</td>\n",
              "      <td>...</td>\n",
              "      <td>...</td>\n",
              "      <td>...</td>\n",
              "      <td>...</td>\n",
              "      <td>...</td>\n",
              "      <td>...</td>\n",
              "      <td>...</td>\n",
              "    </tr>\n",
              "    <tr>\n",
              "      <th rowspan=\"5\" valign=\"top\">08-06</th>\n",
              "      <th>82336</th>\n",
              "      <td>3.765116</td>\n",
              "      <td>28.311024</td>\n",
              "      <td>25.521930</td>\n",
              "      <td>32.833333</td>\n",
              "      <td>22.871795</td>\n",
              "      <td>79.203883</td>\n",
              "      <td>1009.350000</td>\n",
              "      <td>1039.600000</td>\n",
              "      <td>7.560000</td>\n",
              "      <td>0.999209</td>\n",
              "      <td>7.302857</td>\n",
              "      <td>4.403846</td>\n",
              "      <td>3.527778</td>\n",
              "      <td>80.323529</td>\n",
              "      <td>1.007813</td>\n",
              "    </tr>\n",
              "    <tr>\n",
              "      <th>82353</th>\n",
              "      <td>1.214815</td>\n",
              "      <td>28.338961</td>\n",
              "      <td>24.939610</td>\n",
              "      <td>33.164706</td>\n",
              "      <td>21.482353</td>\n",
              "      <td>75.500000</td>\n",
              "      <td>1000.891000</td>\n",
              "      <td>1009.054348</td>\n",
              "      <td>13.027778</td>\n",
              "      <td>1.365041</td>\n",
              "      <td>7.980000</td>\n",
              "      <td>3.053659</td>\n",
              "      <td>2.410870</td>\n",
              "      <td>77.088889</td>\n",
              "      <td>1.326016</td>\n",
              "    </tr>\n",
              "    <tr>\n",
              "      <th>82361</th>\n",
              "      <td>1.113953</td>\n",
              "      <td>28.308462</td>\n",
              "      <td>25.276378</td>\n",
              "      <td>33.773810</td>\n",
              "      <td>22.064286</td>\n",
              "      <td>77.354545</td>\n",
              "      <td>1009.910236</td>\n",
              "      <td>1013.166667</td>\n",
              "      <td>17.079646</td>\n",
              "      <td>1.436923</td>\n",
              "      <td>8.793103</td>\n",
              "      <td>3.385385</td>\n",
              "      <td>3.400000</td>\n",
              "      <td>78.694444</td>\n",
              "      <td>1.404924</td>\n",
              "    </tr>\n",
              "    <tr>\n",
              "      <th>82376</th>\n",
              "      <td>0.081395</td>\n",
              "      <td>28.585217</td>\n",
              "      <td>24.247826</td>\n",
              "      <td>32.978571</td>\n",
              "      <td>21.897619</td>\n",
              "      <td>70.400000</td>\n",
              "      <td>1006.997521</td>\n",
              "      <td>1012.564706</td>\n",
              "      <td>9.982143</td>\n",
              "      <td>2.162000</td>\n",
              "      <td>8.648780</td>\n",
              "      <td>3.991736</td>\n",
              "      <td>4.674419</td>\n",
              "      <td>72.789474</td>\n",
              "      <td>2.037037</td>\n",
              "    </tr>\n",
              "    <tr>\n",
              "      <th>82382</th>\n",
              "      <td>0.159524</td>\n",
              "      <td>28.420909</td>\n",
              "      <td>23.314545</td>\n",
              "      <td>33.130952</td>\n",
              "      <td>21.923684</td>\n",
              "      <td>65.618182</td>\n",
              "      <td>1000.401818</td>\n",
              "      <td>1012.833333</td>\n",
              "      <td>13.490741</td>\n",
              "      <td>2.089524</td>\n",
              "      <td>9.558537</td>\n",
              "      <td>2.427273</td>\n",
              "      <td>5.735714</td>\n",
              "      <td>68.409722</td>\n",
              "      <td>2.142157</td>\n",
              "    </tr>\n",
              "  </tbody>\n",
              "</table>\n",
              "<p>1000 rows × 15 columns</p>\n",
              "</div>"
            ],
            "text/plain": [
              "                 prec       tair         tw  ...      evap         ur        ws\n",
              "date  id                                     ...                               \n",
              "08-01 82024  6.219512  27.235246  24.882883  ...  2.597143  84.051471  1.025690\n",
              "      82042  4.133333  26.858163  24.436145  ...  2.345455  83.840000  0.467799\n",
              "      82098  3.716327  28.204027  25.416779  ...  2.765306  81.761364  1.290667\n",
              "      82106  4.888889  25.806329  24.044521  ...  1.298000  88.738372  1.182592\n",
              "      82113  6.386538  26.638000  24.857746  ...  1.847368  87.191860  1.266859\n",
              "...               ...        ...        ...  ...       ...        ...       ...\n",
              "08-06 82336  3.765116  28.311024  25.521930  ...  3.527778  80.323529  1.007813\n",
              "      82353  1.214815  28.338961  24.939610  ...  2.410870  77.088889  1.326016\n",
              "      82361  1.113953  28.308462  25.276378  ...  3.400000  78.694444  1.404924\n",
              "      82376  0.081395  28.585217  24.247826  ...  4.674419  72.789474  2.037037\n",
              "      82382  0.159524  28.420909  23.314545  ...  5.735714  68.409722  2.142157\n",
              "\n",
              "[1000 rows x 15 columns]"
            ]
          },
          "metadata": {
            "tags": []
          },
          "execution_count": 12
        }
      ]
    },
    {
      "cell_type": "code",
      "metadata": {
        "id": "FAiW3JnDraLX",
        "colab_type": "code",
        "colab": {
          "base_uri": "https://localhost:8080/",
          "height": 34
        },
        "outputId": "08f313ac-5944-49e4-f944-f618c3fcb21c"
      },
      "source": [
        "df.size"
      ],
      "execution_count": 14,
      "outputs": [
        {
          "output_type": "execute_result",
          "data": {
            "text/plain": [
              "90675"
            ]
          },
          "metadata": {
            "tags": []
          },
          "execution_count": 14
        }
      ]
    },
    {
      "cell_type": "code",
      "metadata": {
        "id": "CnFDV0Fcrb7R",
        "colab_type": "code",
        "colab": {}
      },
      "source": [
        ""
      ],
      "execution_count": 0,
      "outputs": []
    }
  ]
}