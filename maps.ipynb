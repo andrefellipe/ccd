{
  "nbformat": 4,
  "nbformat_minor": 0,
  "metadata": {
    "colab": {
      "name": "maps.ipynb",
      "provenance": [],
      "collapsed_sections": [],
      "include_colab_link": true
    },
    "kernelspec": {
      "name": "python3",
      "display_name": "Python 3"
    }
  },
  "cells": [
    {
      "cell_type": "markdown",
      "metadata": {
        "id": "view-in-github",
        "colab_type": "text"
      },
      "source": [
        "<a href=\"https://colab.research.google.com/github/vitorsr/ccd/blob/master/maps.ipynb\" target=\"_parent\"><img src=\"https://colab.research.google.com/assets/colab-badge.svg\" alt=\"Open In Colab\"/></a>"
      ]
    },
    {
      "cell_type": "markdown",
      "metadata": {
        "id": "Ca-NPl4OJMMZ",
        "colab_type": "text"
      },
      "source": [
        "# Prophet\n",
        "## Quick Start\n",
        "\n",
        "Source: https://facebook.github.io/prophet/docs/quick_start.html"
      ]
    },
    {
      "cell_type": "code",
      "metadata": {
        "id": "XViA36WUFvb9",
        "colab_type": "code",
        "outputId": "f08a6780-3904-4f30-8d60-508c4d866fac",
        "colab": {
          "base_uri": "https://localhost:8080/",
          "height": 85
        }
      },
      "source": [
        "!pip install -q geopandas"
      ],
      "execution_count": 4,
      "outputs": [
        {
          "output_type": "stream",
          "text": [
            "\u001b[K     |████████████████████████████████| 921kB 2.8MB/s \n",
            "\u001b[K     |████████████████████████████████| 11.9MB 193kB/s \n",
            "\u001b[K     |████████████████████████████████| 10.1MB 47.8MB/s \n",
            "\u001b[?25h  Building wheel for munch (setup.py) ... \u001b[?25l\u001b[?25hdone\n"
          ],
          "name": "stdout"
        }
      ]
    },
    {
      "cell_type": "code",
      "metadata": {
        "id": "g1hwNGOEHs4d",
        "colab_type": "code",
        "colab": {}
      },
      "source": [
        "import pandas as pd\n",
        "import geopandas as gp\n",
        "import matplotlib.pyplot as plt\n",
        "import plotly.express as px\n",
        "from google.colab import files\n",
        "from fbprophet import Prophet"
      ],
      "execution_count": 0,
      "outputs": []
    },
    {
      "cell_type": "code",
      "metadata": {
        "colab_type": "code",
        "id": "ZCg-k_ZNMDgn",
        "outputId": "2103d666-2621-4c9a-8cd1-8b2ab6d46fe4",
        "colab": {
          "base_uri": "https://localhost:8080/",
          "height": 35
        }
      },
      "source": [
        "!unzip ccd_2019.zip"
      ],
      "execution_count": 0,
      "outputs": [
        {
          "output_type": "stream",
          "text": [
            "unzip:  cannot find or open ccd_2019.zip, ccd_2019.zip.zip or ccd_2019.zip.ZIP.\n"
          ],
          "name": "stdout"
        }
      ]
    },
    {
      "cell_type": "code",
      "metadata": {
        "id": "Et-a3nrdItqr",
        "colab_type": "code",
        "colab": {}
      },
      "source": [
        "stations_meta = pd.read_csv(\"https://media.githubusercontent.com/media/vitorsr/ccd/master/data/bdmep_meta.csv?token=AFPQLZC3565PRPVW4B6VHPK5WIBZQ\")"
      ],
      "execution_count": 0,
      "outputs": []
    },
    {
      "cell_type": "code",
      "metadata": {
        "id": "jKDoOdpOI5oa",
        "colab_type": "code",
        "colab": {}
      },
      "source": [
        "stations_meta.shape"
      ],
      "execution_count": 0,
      "outputs": []
    },
    {
      "cell_type": "code",
      "metadata": {
        "id": "NaK4IC-VI8cT",
        "colab_type": "code",
        "colab": {}
      },
      "source": [
        "stations_meta.columns"
      ],
      "execution_count": 0,
      "outputs": []
    },
    {
      "cell_type": "code",
      "metadata": {
        "id": "SAV_PA70JDoi",
        "colab_type": "code",
        "colab": {}
      },
      "source": [
        "stations_meta.head()"
      ],
      "execution_count": 0,
      "outputs": []
    },
    {
      "cell_type": "code",
      "metadata": {
        "id": "9mkog8DwJQX6",
        "colab_type": "code",
        "colab": {}
      },
      "source": [
        "stations_per_uf = stations_meta.groupby('uf').size().reset_index(name='stations_per_uf')\n",
        "stations_per_uf_sorted_desc = stations_per_uf.sort_values('stations_per_uf', ascending=False)\n",
        "stations_per_uf_sorted_desc.head()"
      ],
      "execution_count": 0,
      "outputs": []
    },
    {
      "cell_type": "code",
      "metadata": {
        "id": "ZK9mfLtLKzJY",
        "colab_type": "code",
        "colab": {}
      },
      "source": [
        "inmetr = pd.read_csv(\"https://media.githubusercontent.com/media/vitorsr/ccd/master/data/inmetr.csv?token=AFPQLZE3FSY4QGCXIW4JTAC5WICC4\")"
      ],
      "execution_count": 0,
      "outputs": []
    },
    {
      "cell_type": "code",
      "metadata": {
        "id": "Iqzyc2Mp-wiZ",
        "colab_type": "code",
        "colab": {
          "base_uri": "https://localhost:8080/",
          "height": 34
        },
        "outputId": "a2ff1130-049f-4abe-9bde-d9b7539728e2"
      },
      "source": [
        "inmetr.shape"
      ],
      "execution_count": 8,
      "outputs": [
        {
          "output_type": "execute_result",
          "data": {
            "text/plain": [
              "(14528638, 17)"
            ]
          },
          "metadata": {
            "tags": []
          },
          "execution_count": 8
        }
      ]
    },
    {
      "cell_type": "code",
      "metadata": {
        "id": "z_MIv15j_GLf",
        "colab_type": "code",
        "colab": {}
      },
      "source": [
        "inmetr.columns"
      ],
      "execution_count": 0,
      "outputs": []
    },
    {
      "cell_type": "code",
      "metadata": {
        "id": "317ZK1sP_LE_",
        "colab_type": "code",
        "colab": {}
      },
      "source": [
        "inmetr.head()"
      ],
      "execution_count": 0,
      "outputs": []
    },
    {
      "cell_type": "code",
      "metadata": {
        "id": "rSuNTyCH_MkE",
        "colab_type": "code",
        "colab": {}
      },
      "source": [
        "df = pd.merge(stations_meta, inmetr, on='id')\n",
        "df"
      ],
      "execution_count": 0,
      "outputs": []
    },
    {
      "cell_type": "code",
      "metadata": {
        "id": "Am2A8HRC_aY0",
        "colab_type": "code",
        "colab": {}
      },
      "source": [
        "df_by_station = df.groupby(['lon', 'lat', 'name'])\n",
        "df_by_station_count_des = df_by_station.size().reset_index(name='num_of_measurements_by_station').sort_values('num_of_measurements_by_station', ascending=False)\n",
        "df_by_station_count_des"
      ],
      "execution_count": 0,
      "outputs": []
    },
    {
      "cell_type": "code",
      "metadata": {
        "id": "Hmj1V6udDaG-",
        "colab_type": "code",
        "colab": {}
      },
      "source": [
        "fig = px.scatter_geo(data_frame=df_by_station_count_des.head(3), scope='south america',lat='lat',lon='lon',\n",
        "                     size='num_of_measurements_by_station', color='name')\n",
        "fig.update_layout(\n",
        "        title_text = '317')\n",
        "fig.show()"
      ],
      "execution_count": 0,
      "outputs": []
    },
    {
      "cell_type": "code",
      "metadata": {
        "id": "GrFz-oHH_wJL",
        "colab_type": "code",
        "colab": {}
      },
      "source": [
        "df_by_uf = df.groupby('uf')\n",
        "df_by_uf.size().reset_index(name='num_of_measurements_by_uf')"
      ],
      "execution_count": 0,
      "outputs": []
    },
    {
      "cell_type": "code",
      "metadata": {
        "id": "Zqq_3E-s_7xk",
        "colab_type": "code",
        "colab": {}
      },
      "source": [
        "df_by_uf.get_group('RN')['name'].drop_duplicates()"
      ],
      "execution_count": 0,
      "outputs": []
    },
    {
      "cell_type": "code",
      "metadata": {
        "id": "SVv4Ho0kAUC6",
        "colab_type": "code",
        "colab": {}
      },
      "source": [
        "nan_prec = 100.0 * ((len(df) - df['prec'].count()) / len(df))\n",
        "nan_tair = 100.0 * ((len(df) - df['tair'].count()) / len(df))\n",
        "nan_tw = 100.0 * ((len(df) - df['tw'].count()) / len(df))\n",
        "nan_tmax = 100.0 * ((len(df) - df['tmax'].count()) / len(df))\n",
        "nan_tmin = 100.0 * ((len(df) - df['tmin'].count()) / len(df))\n",
        "nan_urmax = 100.0 * ((len(df) - df['urmax'].count()) / len(df))\n",
        "nan_patm = 100.0 * ((len(df) - df['patm'].count()) / len(df))\n",
        "nan_pnmm = 100.0 * ((len(df) - df['pnmm'].count()) / len(df))\n",
        "nan_wd = 100.0 * ((len(df) - df['wd'].count()) / len(df))\n",
        "nan_wsmax = 100.0 * ((len(df) - df['wsmax'].count()) / len(df))\n",
        "nan_n = 100.0 * ((len(df) - df['n'].count()) / len(df))\n",
        "nan_cc = 100.0 * ((len(df) - df['cc'].count()) / len(df))\n",
        "nan_evap = 100.0 * ((len(df) - df['evap'].count()) / len(df))\n",
        "nan_ur = 100.0 * ((len(df) - df['ur'].count()) / len(df))\n",
        "nan_ws = 100.0 * ((len(df) - df['ws'].count()) / len(df))\n",
        "\n",
        "print(\"Precipitação (%): \", nan_prec.round())\n",
        "print(\"Temperatura do Ar (%): \", nan_tair.round())\n",
        "print(\"Temperatura de Bulbo Úmido (%): \", nan_tw.round())\n",
        "print(\"Temperatura Máxima do Ar (%): \", nan_tmax.round())\n",
        "print(\"Temperatura Mínima do Ar (%): \", nan_tmin.round())\n",
        "print(\"Umidade Relativa Máxima (%): \", nan_urmax.round())\n",
        "print(\"Pressão Atmosférica (%): \", nan_patm.round())\n",
        "print(\"Pressão Atmosférica Média ao Nível do Mar (%): \", nan_pnmm.round())\n",
        "print(\"Direção do Vento (%): \", nan_wd.round())\n",
        "print(\"Rajadas de Vento (%): \", nan_wsmax.round())\n",
        "print(\"Horas de Sol (%): \", nan_n.round())\n",
        "print(\"Cobertura de Nuvens (%): \", nan_cc.round())\n",
        "print(\"Evaporação (%): \", nan_evap.round())\n",
        "print(\"Umidade Relativa (%): \", nan_ur.round())\n",
        "print(\"Velocidade do Vento (%): \", nan_ws.round())"
      ],
      "execution_count": 0,
      "outputs": []
    },
    {
      "cell_type": "code",
      "metadata": {
        "id": "Vmaix_2KCQbw",
        "colab_type": "code",
        "colab": {}
      },
      "source": [
        ""
      ],
      "execution_count": 0,
      "outputs": []
    },
    {
      "cell_type": "code",
      "metadata": {
        "id": "G3rm0hiOGpad",
        "colab_type": "code",
        "colab": {}
      },
      "source": [
        "df = pd.DataFrame(\n",
        "    {'City': ['Buenos Aires', 'Brasilia', 'Santiago', 'Bogota', 'Caracas'],\n",
        "     'Country': ['Argentina', 'Brazil', 'Chile', 'Colombia', 'Venezuela'],\n",
        "     'Latitude': [-34.58, -15.78, -33.45, 4.60, 10.48],\n",
        "     'Longitude': [-58.66, -47.91, -70.66, -74.08, -66.86]})\n",
        "\n",
        "gdf = gp.GeoDataFrame(\n",
        "    df, geometry=gp.points_from_xy(df.Longitude, df.Latitude))\n",
        "\n",
        "print(gdf.head())"
      ],
      "execution_count": 0,
      "outputs": []
    },
    {
      "cell_type": "code",
      "metadata": {
        "id": "zn8PTPwFG4ZJ",
        "colab_type": "code",
        "colab": {}
      },
      "source": [
        "world = gp.read_file(gp.datasets.get_path('naturalearth_lowres'))\n",
        "\n",
        "# We restrict to Brazil.\n",
        "ax = world[world.name == 'Brazil'].plot(\n",
        "    color='blue', edgecolor='black')\n",
        "\n",
        "# We can now plot our ``GeoDataFrame``.\n",
        "gdf.plot(ax=ax, color='red')\n",
        "\n",
        "plt.show()"
      ],
      "execution_count": 0,
      "outputs": []
    },
    {
      "cell_type": "code",
      "metadata": {
        "id": "fhIpiZ2tIcUJ",
        "colab_type": "code",
        "colab": {}
      },
      "source": [
        "\n",
        "df = pd.read_csv(\"https://raw.githubusercontent.com/facebook/prophet/master/examples/example_wp_log_peyton_manning.csv\")\n",
        "df.head()"
      ],
      "execution_count": 0,
      "outputs": []
    },
    {
      "cell_type": "code",
      "metadata": {
        "id": "b89ThyctJFmZ",
        "colab_type": "code",
        "colab": {}
      },
      "source": [
        "m = Prophet()\n",
        "m.fit(df)"
      ],
      "execution_count": 0,
      "outputs": []
    },
    {
      "cell_type": "code",
      "metadata": {
        "id": "WfZpFYriJWWx",
        "colab_type": "code",
        "colab": {}
      },
      "source": [
        "future = m.make_future_dataframe(periods=365)\n",
        "future.tail()"
      ],
      "execution_count": 0,
      "outputs": []
    },
    {
      "cell_type": "code",
      "metadata": {
        "id": "IE6S-F3iJXZI",
        "colab_type": "code",
        "colab": {}
      },
      "source": [
        "forecast = m.predict(future)\n",
        "forecast[['ds', 'yhat', 'yhat_lower', 'yhat_upper']].tail()"
      ],
      "execution_count": 0,
      "outputs": []
    },
    {
      "cell_type": "code",
      "metadata": {
        "id": "UXzhagfOJZUL",
        "colab_type": "code",
        "colab": {}
      },
      "source": [
        "fig1 = m.plot(forecast)"
      ],
      "execution_count": 0,
      "outputs": []
    },
    {
      "cell_type": "code",
      "metadata": {
        "id": "yXHiF6f6JcKy",
        "colab_type": "code",
        "colab": {}
      },
      "source": [
        "fig2 = m.plot_components(forecast)"
      ],
      "execution_count": 0,
      "outputs": []
    }
  ]
}