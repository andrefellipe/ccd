{
  "nbformat": 4,
  "nbformat_minor": 0,
  "metadata": {
    "colab": {
      "name": "maps.ipynb",
      "provenance": [],
      "collapsed_sections": [],
      "machine_shape": "hm",
      "include_colab_link": true
    },
    "kernelspec": {
      "name": "python3",
      "display_name": "Python 3"
    }
  },
  "cells": [
    {
      "cell_type": "markdown",
      "metadata": {
        "id": "view-in-github",
        "colab_type": "text"
      },
      "source": [
        "<a href=\"https://colab.research.google.com/github/vitorsr/ccd/blob/master/maps.ipynb\" target=\"_parent\"><img src=\"https://colab.research.google.com/assets/colab-badge.svg\" alt=\"Open In Colab\"/></a>"
      ]
    },
    {
      "cell_type": "code",
      "metadata": {
        "id": "1_avummlmq6z",
        "colab_type": "code",
        "colab": {}
      },
      "source": [
        "# !apt-get update -qqq && apt-get dist-upgrade -qqq -y"
      ],
      "execution_count": 0,
      "outputs": []
    },
    {
      "cell_type": "code",
      "metadata": {
        "id": "XViA36WUFvb9",
        "colab_type": "code",
        "colab": {}
      },
      "source": [
        "# https://github.com/googlecolab/colabtools/issues/85#issuecomment-372532728\n",
        "!apt-get install libproj-dev proj-data proj-bin -qqq -y\n",
        "!apt-get install libgeos-dev -qqq -y\n",
        "!pip install -q -U cython\n",
        "!pip install -q -U cartopy\n",
        "!pip install -q -U geopandas\n",
        "!pip install -q -U geoplot"
      ],
      "execution_count": 0,
      "outputs": []
    },
    {
      "cell_type": "code",
      "metadata": {
        "id": "g1hwNGOEHs4d",
        "colab_type": "code",
        "colab": {}
      },
      "source": [
        "import pandas as pd\n",
        "import mapclassify\n",
        "import geopandas as gpd\n",
        "import geoplot as gplt\n",
        "import matplotlib.pyplot as plt"
      ],
      "execution_count": 0,
      "outputs": []
    },
    {
      "cell_type": "code",
      "metadata": {
        "id": "Et-a3nrdItqr",
        "colab_type": "code",
        "colab": {
          "base_uri": "https://localhost:8080/",
          "height": 77
        },
        "outputId": "8a8b9993-9203-456e-8155-01fcbf6b2e69"
      },
      "source": [
        "# inmetr_df = pd.read_csv(\"https://onedrive.live.com/download?cid=BCBADB0836C97273&resid=BCBADB0836C97273%21115090&authkey=AHJ7x3UN1MzJW1M\")\n",
        "\n",
        "stations_df = pd.read_csv(\"https://onedrive.live.com/download?cid=BCBADB0836C97273&resid=BCBADB0836C97273%21115089&authkey=AN3WuZnSKh9jgC8\")\n",
        "inmetr_df = pd.read_csv(\"https://raw.githubusercontent.com/vitorsr/ccd/master/data/baseline_temp2.csv?token=AFPQLZBILR7UOZB72SARAY25XY5US\")\n",
        "\n",
        "inmetr_df.head(1)"
      ],
      "execution_count": 3,
      "outputs": [
        {
          "output_type": "execute_result",
          "data": {
            "text/html": [
              "<div>\n",
              "<style scoped>\n",
              "    .dataframe tbody tr th:only-of-type {\n",
              "        vertical-align: middle;\n",
              "    }\n",
              "\n",
              "    .dataframe tbody tr th {\n",
              "        vertical-align: top;\n",
              "    }\n",
              "\n",
              "    .dataframe thead th {\n",
              "        text-align: right;\n",
              "    }\n",
              "</style>\n",
              "<table border=\"1\" class=\"dataframe\">\n",
              "  <thead>\n",
              "    <tr style=\"text-align: right;\">\n",
              "      <th></th>\n",
              "      <th>date</th>\n",
              "      <th>id</th>\n",
              "      <th>tair</th>\n",
              "      <th>tmax</th>\n",
              "      <th>tmin</th>\n",
              "      <th>tw</th>\n",
              "    </tr>\n",
              "  </thead>\n",
              "  <tbody>\n",
              "    <tr>\n",
              "      <th>0</th>\n",
              "      <td>08-01</td>\n",
              "      <td>82024</td>\n",
              "      <td>-3.135246</td>\n",
              "      <td>2.330769</td>\n",
              "      <td>-1.4</td>\n",
              "      <td>-1.482883</td>\n",
              "    </tr>\n",
              "  </tbody>\n",
              "</table>\n",
              "</div>"
            ],
            "text/plain": [
              "    date     id      tair      tmax  tmin        tw\n",
              "0  08-01  82024 -3.135246  2.330769  -1.4 -1.482883"
            ]
          },
          "metadata": {
            "tags": []
          },
          "execution_count": 3
        }
      ]
    },
    {
      "cell_type": "code",
      "metadata": {
        "id": "rSuNTyCH_MkE",
        "colab_type": "code",
        "colab": {
          "base_uri": "https://localhost:8080/",
          "height": 114
        },
        "outputId": "6f853940-1130-4cf2-faef-c3cde256aed3"
      },
      "source": [
        "df = pd.merge(stations_df, inmetr_df, on='id')\n",
        "\n",
        "df.head(1)"
      ],
      "execution_count": 4,
      "outputs": [
        {
          "output_type": "execute_result",
          "data": {
            "text/html": [
              "<div>\n",
              "<style scoped>\n",
              "    .dataframe tbody tr th:only-of-type {\n",
              "        vertical-align: middle;\n",
              "    }\n",
              "\n",
              "    .dataframe tbody tr th {\n",
              "        vertical-align: top;\n",
              "    }\n",
              "\n",
              "    .dataframe thead th {\n",
              "        text-align: right;\n",
              "    }\n",
              "</style>\n",
              "<table border=\"1\" class=\"dataframe\">\n",
              "  <thead>\n",
              "    <tr style=\"text-align: right;\">\n",
              "      <th></th>\n",
              "      <th>id</th>\n",
              "      <th>lon</th>\n",
              "      <th>lat</th>\n",
              "      <th>alt</th>\n",
              "      <th>name</th>\n",
              "      <th>state</th>\n",
              "      <th>uf</th>\n",
              "      <th>time_zone</th>\n",
              "      <th>offset_utc</th>\n",
              "      <th>time_zone.1</th>\n",
              "      <th>offset_utc.1</th>\n",
              "      <th>date</th>\n",
              "      <th>tair</th>\n",
              "      <th>tmax</th>\n",
              "      <th>tmin</th>\n",
              "      <th>tw</th>\n",
              "    </tr>\n",
              "  </thead>\n",
              "  <tbody>\n",
              "    <tr>\n",
              "      <th>0</th>\n",
              "      <td>82915</td>\n",
              "      <td>-67.8</td>\n",
              "      <td>-9.966667</td>\n",
              "      <td>160.0</td>\n",
              "      <td>Rio Branco</td>\n",
              "      <td>Acre</td>\n",
              "      <td>AC</td>\n",
              "      <td>America/Rio_Branco</td>\n",
              "      <td>-5</td>\n",
              "      <td>America/Rio_Branco</td>\n",
              "      <td>-5</td>\n",
              "      <td>08-01</td>\n",
              "      <td>1.241905</td>\n",
              "      <td>3.297674</td>\n",
              "      <td>0.611111</td>\n",
              "      <td>0.155556</td>\n",
              "    </tr>\n",
              "  </tbody>\n",
              "</table>\n",
              "</div>"
            ],
            "text/plain": [
              "      id   lon       lat    alt  ...      tair      tmax      tmin        tw\n",
              "0  82915 -67.8 -9.966667  160.0  ...  1.241905  3.297674  0.611111  0.155556\n",
              "\n",
              "[1 rows x 16 columns]"
            ]
          },
          "metadata": {
            "tags": []
          },
          "execution_count": 4
        }
      ]
    },
    {
      "cell_type": "code",
      "metadata": {
        "id": "_QBBNqZD5dW0",
        "colab_type": "code",
        "colab": {}
      },
      "source": [
        "!wget -q \"https://biogeo.ucdavis.edu/data/gadm3.6/shp/gadm36_BRA_shp.zip\"\n",
        "!unzip -qq -u gadm36_BRA_shp.zip"
      ],
      "execution_count": 0,
      "outputs": []
    },
    {
      "cell_type": "code",
      "metadata": {
        "id": "zn8PTPwFG4ZJ",
        "colab_type": "code",
        "colab": {}
      },
      "source": [
        "br = gpd.read_file('gadm36_BRA_1.shp')"
      ],
      "execution_count": 0,
      "outputs": []
    },
    {
      "cell_type": "code",
      "metadata": {
        "id": "Ua1RcdEQO9IX",
        "colab_type": "code",
        "colab": {}
      },
      "source": [
        "df_sorted = df.sort_values(by=['date'])\n",
        "df_08 = df_sorted[(df_sorted['date'] >= '08-01') & (df_sorted['date'] <= '08-31')]"
      ],
      "execution_count": 0,
      "outputs": []
    },
    {
      "cell_type": "code",
      "metadata": {
        "id": "8a3eYCZ8QBHJ",
        "colab_type": "code",
        "colab": {}
      },
      "source": [
        "lst_08 = [v for k, v in df_08.groupby('date')] # daily list of df_08,\n",
        "                                               # for all unique values of date\n",
        "                                               # in the above range (august)"
      ],
      "execution_count": 0,
      "outputs": []
    },
    {
      "cell_type": "code",
      "metadata": {
        "id": "k8-Ibwxd2vVb",
        "colab_type": "code",
        "colab": {
          "base_uri": "https://localhost:8080/",
          "height": 34
        },
        "outputId": "632442f6-1045-4cec-8b01-57b9350df3b3"
      },
      "source": [
        "print(\"List of\", type(lst_08[0]), \"with length =\", len(lst_08))"
      ],
      "execution_count": 9,
      "outputs": [
        {
          "output_type": "stream",
          "text": [
            "List of <class 'pandas.core.frame.DataFrame'> with length = 31\n"
          ],
          "name": "stdout"
        }
      ]
    },
    {
      "cell_type": "code",
      "metadata": {
        "id": "o544Hp9jqvcY",
        "colab_type": "code",
        "colab": {}
      },
      "source": [
        "%matplotlib inline\n",
        "from IPython.display import set_matplotlib_formats\n",
        "set_matplotlib_formats(\"png\")\n",
        "\n",
        "%mkdir fig"
      ],
      "execution_count": 0,
      "outputs": []
    },
    {
      "cell_type": "code",
      "metadata": {
        "id": "VkelB_N020Pt",
        "colab_type": "code",
        "colab": {}
      },
      "source": [
        "import numpy as np\n",
        "import cartopy.crs as ccrs\n",
        "from matplotlib.cm import ScalarMappable\n",
        "from matplotlib.colors import Normalize"
      ],
      "execution_count": 0,
      "outputs": []
    },
    {
      "cell_type": "code",
      "metadata": {
        "id": "0kymu-BC223K",
        "colab_type": "code",
        "colab": {}
      },
      "source": [
        "df_i_ = lst_08[0]"
      ],
      "execution_count": 0,
      "outputs": []
    },
    {
      "cell_type": "code",
      "metadata": {
        "id": "fYLW3zwYrWLQ",
        "colab_type": "code",
        "colab": {
          "base_uri": "https://localhost:8080/",
          "height": 258
        },
        "outputId": "0b2f29b3-6915-4807-be79-a588a7ee06cf"
      },
      "source": [
        "var = \"tair\"\n",
        "df_i_ = df_i_[df_i_[var] == df_i_[var]]\n",
        "lons = df_i_[\"lon\"].to_numpy()[:]\n",
        "lats = df_i_[\"lat\"].to_numpy()[:]\n",
        "data = df_i_[var].to_numpy()[:]\n",
        "\n",
        "fig = plt.figure(\"Temperatura do ar\")\n",
        "ax = plt.axes(projection=ccrs.Miller())\n",
        "fig.add_axes(ax)\n",
        "lb = -10; ub = 10; lv = 20 # lower bound, upper bound,levels\n",
        "plt.tricontourf(lons, lats, data, np.linspace(lb, ub, lv),\n",
        "                cmap=\"coolwarm\", extend=\"both\")\n",
        "gplt.polyplot(br, edgecolor=\"dimgray\", linewidth=0.5, zorder=1, ax=ax)\n",
        "plt.colorbar(ScalarMappable(norm=Normalize(lb, ub), cmap=\"coolwarm\"), ax=ax)\n",
        "plt.show()\n",
        "# plt.savefig(\"fig/\" + str(\"{:03d}\".format(0)) + \".png\", dpi=150)"
      ],
      "execution_count": 58,
      "outputs": [
        {
          "output_type": "display_data",
          "data": {
            "image/png": "[encoded data removed]",
            "text/plain": [
              "<Figure size 432x288 with 2 Axes>"
            ]
          },
          "metadata": {
            "tags": []
          }
        }
      ]
    },
    {
      "cell_type": "code",
      "metadata": {
        "id": "kk41eYHyqWJJ",
        "colab_type": "code",
        "colab": {
          "base_uri": "https://localhost:8080/",
          "height": 270
        },
        "outputId": "7ee31039-b35e-4e3e-f60b-dd96532f200c"
      },
      "source": [
        "var = \"tair\"\n",
        "lb = -10; ub = 10; lv = 20 # lower bound, upper bound, levels\n",
        "\n",
        "for i, df_i_ in enumerate(lst_08):\n",
        "  df_i_ = df_i_[df_i_[var] == df_i_[var]]\n",
        "  lons = df_i_[\"lon\"].to_numpy()[:]\n",
        "  lats = df_i_[\"lat\"].to_numpy()[:]\n",
        "  data = df_i_[var].to_numpy()[:]\n",
        "\n",
        "  plt.close(fig)\n",
        "  del fig; del ax;\n",
        "  fig = plt.figure(\"Temperatura do ar\" + str(\"{:02d}\".format(i+1)))\n",
        "  ax = plt.axes(projection=ccrs.Miller())\n",
        "  fig.add_axes(ax)\n",
        "  \n",
        "  plt.tricontourf(lons, lats, data, np.linspace(lb, ub, lv),\n",
        "                  cmap=\"coolwarm\", extend=\"both\")\n",
        "  gplt.polyplot(br, edgecolor=\"dimgray\", linewidth=0.5, zorder=1, ax=ax)\n",
        "  plt.colorbar(ScalarMappable(norm=Normalize(lb, ub), cmap=\"coolwarm\"), ax=ax)\n",
        "  ax.set_title(str(\"{:02d}\".format(i+1)) + \"/08/2019\")\n",
        "  plt.savefig(\"fig/\" + str(\"{:03d}\".format(i+1)) + \".png\", dpi=150)\n"
      ],
      "execution_count": 59,
      "outputs": [
        {
          "output_type": "display_data",
          "data": {
            "image/png": "[encoded data removed]",
            "text/plain": [
              "<Figure size 432x288 with 2 Axes>"
            ]
          },
          "metadata": {
            "tags": []
          }
        }
      ]
    },
    {
      "cell_type": "code",
      "metadata": {
        "id": "qBvT24xJ7gUe",
        "colab_type": "code",
        "colab": {
          "base_uri": "https://localhost:8080/",
          "height": 843
        },
        "outputId": "869c4496-fe9c-431d-d07c-255c5d4c1bd5"
      },
      "source": [
        "# !sudo apt install imagemagick ffmpeg\n",
        "# !convert fig/*.png -alpha off fig/*.png\n",
        "!ffmpeg -framerate 3 -i 'fig/%03d.png' output.mp4"
      ],
      "execution_count": 72,
      "outputs": [
        {
          "output_type": "stream",
          "text": [
            "ffmpeg version 3.4.6-0ubuntu0.18.04.1 Copyright (c) 2000-2019 the FFmpeg developers\n",
            "  built with gcc 7 (Ubuntu 7.3.0-16ubuntu3)\n",
            "  configuration: --prefix=/usr --extra-version=0ubuntu0.18.04.1 --toolchain=hardened --libdir=/usr/lib/x86_64-linux-gnu --incdir=/usr/include/x86_64-linux-gnu --enable-gpl --disable-stripping --enable-avresample --enable-avisynth --enable-gnutls --enable-ladspa --enable-libass --enable-libbluray --enable-libbs2b --enable-libcaca --enable-libcdio --enable-libflite --enable-libfontconfig --enable-libfreetype --enable-libfribidi --enable-libgme --enable-libgsm --enable-libmp3lame --enable-libmysofa --enable-libopenjpeg --enable-libopenmpt --enable-libopus --enable-libpulse --enable-librubberband --enable-librsvg --enable-libshine --enable-libsnappy --enable-libsoxr --enable-libspeex --enable-libssh --enable-libtheora --enable-libtwolame --enable-libvorbis --enable-libvpx --enable-libwavpack --enable-libwebp --enable-libx265 --enable-libxml2 --enable-libxvid --enable-libzmq --enable-libzvbi --enable-omx --enable-openal --enable-opengl --enable-sdl2 --enable-libdc1394 --enable-libdrm --enable-libiec61883 --enable-chromaprint --enable-frei0r --enable-libopencv --enable-libx264 --enable-shared\n",
            "  libavutil      55. 78.100 / 55. 78.100\n",
            "  libavcodec     57.107.100 / 57.107.100\n",
            "  libavformat    57. 83.100 / 57. 83.100\n",
            "  libavdevice    57. 10.100 / 57. 10.100\n",
            "  libavfilter     6.107.100 /  6.107.100\n",
            "  libavresample   3.  7.  0 /  3.  7.  0\n",
            "  libswscale      4.  8.100 /  4.  8.100\n",
            "  libswresample   2.  9.100 /  2.  9.100\n",
            "  libpostproc    54.  7.100 / 54.  7.100\n",
            "Input #0, image2, from 'fig/%03d.png':\n",
            "  Duration: 00:00:10.33, start: 0.000000, bitrate: N/A\n",
            "    Stream #0:0: Video: png, rgba(pc), 900x600 [SAR 5905:5905 DAR 3:2], 3 fps, 3 tbr, 3 tbn, 3 tbc\n",
            "File 'output.mp4' already exists. Overwrite ? [y/N] y\n",
            "Stream mapping:\n",
            "  Stream #0:0 -> #0:0 (png (native) -> h264 (libx264))\n",
            "Press [q] to stop, [?] for help\n",
            "\u001b[1;36m[libx264 @ 0x55bed4bdbe00] \u001b[0musing SAR=1/1\n",
            "\u001b[1;36m[libx264 @ 0x55bed4bdbe00] \u001b[0musing cpu capabilities: MMX2 SSE2Fast SSSE3 SSE4.2 AVX FMA3 BMI2 AVX2\n",
            "\u001b[1;36m[libx264 @ 0x55bed4bdbe00] \u001b[0mprofile High 4:4:4 Predictive, level 3.1, 4:4:4 8-bit\n",
            "\u001b[1;36m[libx264 @ 0x55bed4bdbe00] \u001b[0m264 - core 152 r2854 e9a5903 - H.264/MPEG-4 AVC codec - Copyleft 2003-2017 - http://www.videolan.org/x264.html - options: cabac=1 ref=3 deblock=1:0:0 analyse=0x1:0x111 me=hex subme=7 psy=1 psy_rd=1.00:0.00 mixed_ref=1 me_range=16 chroma_me=1 trellis=1 8x8dct=0 cqm=0 deadzone=21,11 fast_pskip=1 chroma_qp_offset=4 threads=6 lookahead_threads=1 sliced_threads=0 nr=0 decimate=1 interlaced=0 bluray_compat=0 constrained_intra=0 bframes=3 b_pyramid=2 b_adapt=1 b_bias=0 direct=1 weightb=1 open_gop=0 weightp=2 keyint=250 keyint_min=3 scenecut=40 intra_refresh=0 rc_lookahead=40 rc=crf mbtree=1 crf=23.0 qcomp=0.60 qpmin=0 qpmax=69 qpstep=4 ip_ratio=1.40 aq=1:1.00\n",
            "Output #0, mp4, to 'output.mp4':\n",
            "  Metadata:\n",
            "    encoder         : Lavf57.83.100\n",
            "    Stream #0:0: Video: h264 (libx264) (avc1 / 0x31637661), yuv444p, 900x600 [SAR 1:1 DAR 3:2], q=-1--1, 3 fps, 12288 tbn, 3 tbc\n",
            "    Metadata:\n",
            "      encoder         : Lavc57.107.100 libx264\n",
            "    Side data:\n",
            "      cpb: bitrate max/min/avg: 0/0/0 buffer size: 0 vbv_delay: -1\n",
            "frame=   31 fps=0.0 q=-1.0 Lsize=     200kB time=00:00:09.33 bitrate= 175.5kbits/s speed=17.9x    \n",
            "video:199kB audio:0kB subtitle:0kB other streams:0kB global headers:0kB muxing overhead: 0.602516%\n",
            "\u001b[1;36m[libx264 @ 0x55bed4bdbe00] \u001b[0mframe I:1     Avg QP: 5.19  size: 27612\n",
            "\u001b[1;36m[libx264 @ 0x55bed4bdbe00] \u001b[0mframe P:8     Avg QP:18.30  size:  9282\n",
            "\u001b[1;36m[libx264 @ 0x55bed4bdbe00] \u001b[0mframe B:22    Avg QP:22.92  size:  4587\n",
            "\u001b[1;36m[libx264 @ 0x55bed4bdbe00] \u001b[0mconsecutive B-frames:  3.2%  6.5%  0.0% 90.3%\n",
            "\u001b[1;36m[libx264 @ 0x55bed4bdbe00] \u001b[0mmb I  I16..4: 79.7%  0.0% 20.3%\n",
            "\u001b[1;36m[libx264 @ 0x55bed4bdbe00] \u001b[0mmb P  I16..4:  0.8%  0.0%  4.3%  P16..4:  4.6%  2.3%  2.5%  0.0%  0.0%    skip:85.6%\n",
            "\u001b[1;36m[libx264 @ 0x55bed4bdbe00] \u001b[0mmb B  I16..4:  0.6%  0.0%  1.8%  B16..8:  5.3%  2.2%  1.2%  direct: 2.7%  skip:86.2%  L0:48.9% L1:43.6% BI: 7.5%\n",
            "\u001b[1;36m[libx264 @ 0x55bed4bdbe00] \u001b[0mcoded y,u,v intra: 28.6% 26.3% 25.6% inter: 4.2% 4.8% 4.9%\n",
            "\u001b[1;36m[libx264 @ 0x55bed4bdbe00] \u001b[0mi16 v,h,dc,p: 84%  8%  7%  1%\n",
            "\u001b[1;36m[libx264 @ 0x55bed4bdbe00] \u001b[0mi4 v,h,dc,ddl,ddr,vr,hd,vl,hu: 28% 19% 24%  4%  7%  7%  6%  4%  3%\n",
            "\u001b[1;36m[libx264 @ 0x55bed4bdbe00] \u001b[0mWeighted P-Frames: Y:0.0% UV:0.0%\n",
            "\u001b[1;36m[libx264 @ 0x55bed4bdbe00] \u001b[0mref P L0: 32.1%  7.1% 25.2% 35.6%\n",
            "\u001b[1;36m[libx264 @ 0x55bed4bdbe00] \u001b[0mref B L0: 70.1% 20.0%  9.8%\n",
            "\u001b[1;36m[libx264 @ 0x55bed4bdbe00] \u001b[0mref B L1: 87.1% 12.9%\n",
            "\u001b[1;36m[libx264 @ 0x55bed4bdbe00] \u001b[0mkb/s:157.00\n"
          ],
          "name": "stdout"
        }
      ]
    },
    {
      "cell_type": "code",
      "metadata": {
        "id": "CXvqOOm_G_Dl",
        "colab_type": "code",
        "colab": {}
      },
      "source": [
        "# gdf = gpd.GeoDataFrame(\n",
        "#     df, \n",
        "#     geometry=gpd.points_from_xy(df.lon, df.lat))"
      ],
      "execution_count": 0,
      "outputs": []
    },
    {
      "cell_type": "code",
      "metadata": {
        "id": "g5_D27ZnNG2w",
        "colab_type": "code",
        "colab": {}
      },
      "source": [
        "# gdf_lst = []\n",
        "# for i,d in enumerate(lst_08):\n",
        "#   df = lst_08[i]\n",
        "#   gdf = gpd.GeoDataFrame(\n",
        "#       df, \n",
        "#       geometry=gpd.points_from_xy(df.lon, df.lat))\n",
        "#   gdf['tair'] = gdf['tair'].round(2)\n",
        "#   gdf_lst.append(gdf)"
      ],
      "execution_count": 0,
      "outputs": []
    },
    {
      "cell_type": "code",
      "metadata": {
        "id": "9J7vTy89LW_d",
        "colab_type": "code",
        "colab": {}
      },
      "source": [
        "# gdf.head(1)"
      ],
      "execution_count": 0,
      "outputs": []
    },
    {
      "cell_type": "code",
      "metadata": {
        "id": "Zrrxk0tjFQKc",
        "colab_type": "code",
        "colab": {}
      },
      "source": [
        "# var = 'tair'\n",
        "# for i, gd in enumerate(gdf_lst):\n",
        "#   ax = gplt.voronoi(\n",
        "#       gd[gd[var] == gd[var]], # Nota: NaN == NaN sempre retorna False!\n",
        "#       clip=br.simplify(0.1),\n",
        "#       hue=var, k=10, cmap='Reds', edgecolor='None',\n",
        "#       legend=True\n",
        "#   )\n",
        "#   gplt.polyplot(br, edgecolor='black', zorder=1, ax=ax)\n",
        "#   ax.set_title(\"Air Temperature @ 2019/08/\" + str(i))\n",
        "#   plt.savefig(str(i) + '.png')"
      ],
      "execution_count": 0,
      "outputs": []
    }
  ]
}