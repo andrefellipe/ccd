{
  "nbformat": 4,
  "nbformat_minor": 0,
  "metadata": {
    "colab": {
      "name": "maps.ipynb",
      "provenance": [],
      "collapsed_sections": [],
      "machine_shape": "hm",
      "include_colab_link": true
    },
    "kernelspec": {
      "name": "python3",
      "display_name": "Python 3"
    }
  },
  "cells": [
    {
      "cell_type": "markdown",
      "metadata": {
        "id": "view-in-github",
        "colab_type": "text"
      },
      "source": [
        "<a href=\"https://colab.research.google.com/github/vitorsr/ccd/blob/master/maps.ipynb\" target=\"_parent\"><img src=\"https://colab.research.google.com/assets/colab-badge.svg\" alt=\"Open In Colab\"/></a>"
      ]
    },
    {
      "cell_type": "code",
      "metadata": {
        "id": "1_avummlmq6z",
        "colab_type": "code",
        "colab": {}
      },
      "source": [
        "# !apt-get update -qqq && apt-get dist-upgrade -qqq -y"
      ],
      "execution_count": 0,
      "outputs": []
    },
    {
      "cell_type": "code",
      "metadata": {
        "id": "XViA36WUFvb9",
        "colab_type": "code",
        "colab": {}
      },
      "source": [
        "# https://github.com/googlecolab/colabtools/issues/85#issuecomment-372532728\n",
        "!apt-get install libproj-dev proj-data proj-bin -qqq -y\n",
        "!apt-get install libgeos-dev -qqq -y\n",
        "!pip install -q -U cython\n",
        "!pip install -q -U cartopy\n",
        "!pip install -q -U geopandas\n",
        "!pip install -q -U geoplot"
      ],
      "execution_count": 0,
      "outputs": []
    },
    {
      "cell_type": "code",
      "metadata": {
        "id": "g1hwNGOEHs4d",
        "colab_type": "code",
        "colab": {}
      },
      "source": [
        "import pandas as pd\n",
        "import mapclassify\n",
        "import geopandas as gpd\n",
        "import geoplot as gplt\n",
        "import matplotlib.pyplot as plt"
      ],
      "execution_count": 0,
      "outputs": []
    },
    {
      "cell_type": "code",
      "metadata": {
        "id": "Et-a3nrdItqr",
        "colab_type": "code",
        "colab": {
          "base_uri": "https://localhost:8080/",
          "height": 77
        },
        "outputId": "2370a739-b339-4eb6-b310-f6bc23e35e4e"
      },
      "source": [
        "# inmetr_df = pd.read_csv(\"https://onedrive.live.com/download?cid=BCBADB0836C97273&resid=BCBADB0836C97273%21115090&authkey=AHJ7x3UN1MzJW1M\")\n",
        "stations_df = pd.read_csv(\"https://onedrive.live.com/download?cid=BCBADB0836C97273&resid=BCBADB0836C97273%21115089&authkey=AN3WuZnSKh9jgC8\")\n",
        "inmetr_df = pd.read_csv(\"https://raw.githubusercontent.com/vitorsr/ccd/master/data/baseline_temp2.csv?token=AFPQLZBILR7UOZB72SARAY25XY5US\")\n",
        "\n",
        "inmetr_df.head(1)"
      ],
      "execution_count": 3,
      "outputs": [
        {
          "output_type": "execute_result",
          "data": {
            "text/html": [
              "<div>\n",
              "<style scoped>\n",
              "    .dataframe tbody tr th:only-of-type {\n",
              "        vertical-align: middle;\n",
              "    }\n",
              "\n",
              "    .dataframe tbody tr th {\n",
              "        vertical-align: top;\n",
              "    }\n",
              "\n",
              "    .dataframe thead th {\n",
              "        text-align: right;\n",
              "    }\n",
              "</style>\n",
              "<table border=\"1\" class=\"dataframe\">\n",
              "  <thead>\n",
              "    <tr style=\"text-align: right;\">\n",
              "      <th></th>\n",
              "      <th>date</th>\n",
              "      <th>id</th>\n",
              "      <th>tair</th>\n",
              "      <th>tmax</th>\n",
              "      <th>tmin</th>\n",
              "      <th>tw</th>\n",
              "    </tr>\n",
              "  </thead>\n",
              "  <tbody>\n",
              "    <tr>\n",
              "      <th>0</th>\n",
              "      <td>08-01</td>\n",
              "      <td>82024</td>\n",
              "      <td>-3.135246</td>\n",
              "      <td>2.330769</td>\n",
              "      <td>-1.4</td>\n",
              "      <td>-1.482883</td>\n",
              "    </tr>\n",
              "  </tbody>\n",
              "</table>\n",
              "</div>"
            ],
            "text/plain": [
              "    date     id      tair      tmax  tmin        tw\n",
              "0  08-01  82024 -3.135246  2.330769  -1.4 -1.482883"
            ]
          },
          "metadata": {
            "tags": []
          },
          "execution_count": 3
        }
      ]
    },
    {
      "cell_type": "code",
      "metadata": {
        "id": "rSuNTyCH_MkE",
        "colab_type": "code",
        "colab": {
          "base_uri": "https://localhost:8080/",
          "height": 114
        },
        "outputId": "1947cf18-c9c5-462a-b0e7-646b03cd3442"
      },
      "source": [
        "df = pd.merge(stations_df, inmetr_df, on='id')\n",
        "\n",
        "df.head(1)"
      ],
      "execution_count": 4,
      "outputs": [
        {
          "output_type": "execute_result",
          "data": {
            "text/html": [
              "<div>\n",
              "<style scoped>\n",
              "    .dataframe tbody tr th:only-of-type {\n",
              "        vertical-align: middle;\n",
              "    }\n",
              "\n",
              "    .dataframe tbody tr th {\n",
              "        vertical-align: top;\n",
              "    }\n",
              "\n",
              "    .dataframe thead th {\n",
              "        text-align: right;\n",
              "    }\n",
              "</style>\n",
              "<table border=\"1\" class=\"dataframe\">\n",
              "  <thead>\n",
              "    <tr style=\"text-align: right;\">\n",
              "      <th></th>\n",
              "      <th>id</th>\n",
              "      <th>lon</th>\n",
              "      <th>lat</th>\n",
              "      <th>alt</th>\n",
              "      <th>name</th>\n",
              "      <th>state</th>\n",
              "      <th>uf</th>\n",
              "      <th>time_zone</th>\n",
              "      <th>offset_utc</th>\n",
              "      <th>time_zone.1</th>\n",
              "      <th>offset_utc.1</th>\n",
              "      <th>date</th>\n",
              "      <th>tair</th>\n",
              "      <th>tmax</th>\n",
              "      <th>tmin</th>\n",
              "      <th>tw</th>\n",
              "    </tr>\n",
              "  </thead>\n",
              "  <tbody>\n",
              "    <tr>\n",
              "      <th>0</th>\n",
              "      <td>82915</td>\n",
              "      <td>-67.8</td>\n",
              "      <td>-9.966667</td>\n",
              "      <td>160.0</td>\n",
              "      <td>Rio Branco</td>\n",
              "      <td>Acre</td>\n",
              "      <td>AC</td>\n",
              "      <td>America/Rio_Branco</td>\n",
              "      <td>-5</td>\n",
              "      <td>America/Rio_Branco</td>\n",
              "      <td>-5</td>\n",
              "      <td>08-01</td>\n",
              "      <td>1.241905</td>\n",
              "      <td>3.297674</td>\n",
              "      <td>0.611111</td>\n",
              "      <td>0.155556</td>\n",
              "    </tr>\n",
              "  </tbody>\n",
              "</table>\n",
              "</div>"
            ],
            "text/plain": [
              "      id   lon       lat    alt  ...      tair      tmax      tmin        tw\n",
              "0  82915 -67.8 -9.966667  160.0  ...  1.241905  3.297674  0.611111  0.155556\n",
              "\n",
              "[1 rows x 16 columns]"
            ]
          },
          "metadata": {
            "tags": []
          },
          "execution_count": 4
        }
      ]
    },
    {
      "cell_type": "code",
      "metadata": {
        "id": "_QBBNqZD5dW0",
        "colab_type": "code",
        "colab": {}
      },
      "source": [
        "!wget -q \"https://biogeo.ucdavis.edu/data/gadm3.6/shp/gadm36_BRA_shp.zip\"\n",
        "!unzip -qq -u gadm36_BRA_shp.zip"
      ],
      "execution_count": 0,
      "outputs": []
    },
    {
      "cell_type": "code",
      "metadata": {
        "id": "zn8PTPwFG4ZJ",
        "colab_type": "code",
        "colab": {}
      },
      "source": [
        "br = gpd.read_file('gadm36_BRA_1.shp')"
      ],
      "execution_count": 0,
      "outputs": []
    },
    {
      "cell_type": "code",
      "metadata": {
        "id": "Ua1RcdEQO9IX",
        "colab_type": "code",
        "colab": {}
      },
      "source": [
        "df_sorted = df.sort_values(by=['date'])\n",
        "df_08 = df_sorted[(df_sorted['date'] >= '08-01') & (df_sorted['date'] <= '08-31')]"
      ],
      "execution_count": 0,
      "outputs": []
    },
    {
      "cell_type": "code",
      "metadata": {
        "id": "8a3eYCZ8QBHJ",
        "colab_type": "code",
        "colab": {}
      },
      "source": [
        "# daily list of df_08, for all unique values of date in the above range (august)\n",
        "lst_08 = [v for k, v in df_08.groupby('date')]"
      ],
      "execution_count": 0,
      "outputs": []
    },
    {
      "cell_type": "code",
      "metadata": {
        "id": "k8-Ibwxd2vVb",
        "colab_type": "code",
        "colab": {
          "base_uri": "https://localhost:8080/",
          "height": 34
        },
        "outputId": "5201c52a-f07b-4166-d48f-4735c0cce5b6"
      },
      "source": [
        "print(\"List of\", type(lst_08[0]), \"with length =\", len(lst_08))"
      ],
      "execution_count": 9,
      "outputs": [
        {
          "output_type": "stream",
          "text": [
            "List of <class 'pandas.core.frame.DataFrame'> with length = 31\n"
          ],
          "name": "stdout"
        }
      ]
    },
    {
      "cell_type": "code",
      "metadata": {
        "id": "o544Hp9jqvcY",
        "colab_type": "code",
        "colab": {
          "base_uri": "https://localhost:8080/",
          "height": 34
        },
        "outputId": "88549de0-a48c-4983-bad5-d4569ea9253f"
      },
      "source": [
        "%matplotlib inline\n",
        "from IPython.display import set_matplotlib_formats\n",
        "set_matplotlib_formats(\"png\")\n",
        "\n",
        "%mkdir fig"
      ],
      "execution_count": 10,
      "outputs": [
        {
          "output_type": "stream",
          "text": [
            "mkdir: cannot create directory ‘fig’: File exists\n"
          ],
          "name": "stdout"
        }
      ]
    },
    {
      "cell_type": "code",
      "metadata": {
        "id": "VkelB_N020Pt",
        "colab_type": "code",
        "colab": {}
      },
      "source": [
        "import numpy as np\n",
        "import cartopy.crs as ccrs\n",
        "from matplotlib.cm import ScalarMappable\n",
        "from matplotlib.colors import Normalize"
      ],
      "execution_count": 0,
      "outputs": []
    },
    {
      "cell_type": "code",
      "metadata": {
        "id": "0kymu-BC223K",
        "colab_type": "code",
        "colab": {}
      },
      "source": [
        "df_i_ = lst_08[0]"
      ],
      "execution_count": 0,
      "outputs": []
    },
    {
      "cell_type": "code",
      "metadata": {
        "id": "fYLW3zwYrWLQ",
        "colab_type": "code",
        "colab": {
          "base_uri": "https://localhost:8080/",
          "height": 258
        },
        "outputId": "e31b5677-f7eb-4d40-83c6-8a734d97b3f9"
      },
      "source": [
        "var = \"tair\"\n",
        "df_i_ = df_i_[df_i_[var] == df_i_[var]]\n",
        "lons = df_i_[\"lon\"].to_numpy()[:]\n",
        "lats = df_i_[\"lat\"].to_numpy()[:]\n",
        "data = df_i_[var].to_numpy()[:]\n",
        "\n",
        "fig = plt.figure(\"Temperatura do ar\")\n",
        "ax = plt.axes(projection=ccrs.Miller())\n",
        "fig.add_axes(ax)\n",
        "lb = -10; ub = 10; lv = 20 # lower bound, upper bound,levels\n",
        "plt.tricontourf(lons, lats, data, np.linspace(lb, ub, lv),\n",
        "                cmap=\"coolwarm\", extend=\"both\")\n",
        "gplt.polyplot(br, edgecolor=\"dimgray\", linewidth=0.5, zorder=1, ax=ax)\n",
        "plt.colorbar(ScalarMappable(norm=Normalize(lb, ub), cmap=\"coolwarm\"), ax=ax)\n",
        "plt.show()\n",
        "# plt.savefig(\"fig/\" + str(\"{:03d}\".format(0)) + \".png\", dpi=150)"
      ],
      "execution_count": 13,
      "outputs": [
        {
          "output_type": "display_data",
          "data": {
            "image/png": "[encoded data removed]",
            "text/plain": [
              "<Figure size 432x288 with 2 Axes>"
            ]
          },
          "metadata": {
            "tags": []
          }
        }
      ]
    },
    {
      "cell_type": "code",
      "metadata": {
        "id": "kk41eYHyqWJJ",
        "colab_type": "code",
        "colab": {
          "base_uri": "https://localhost:8080/",
          "height": 270
        },
        "outputId": "f3245d16-9bd4-48b5-c3c0-4d687981a7bc"
      },
      "source": [
        "var = \"tair\"\n",
        "lb = -10; ub = 10; lv = 20\n",
        "\n",
        "for i, df_i_ in enumerate(lst_08):\n",
        "  df_i_ = df_i_[df_i_[var] == df_i_[var]]\n",
        "  lons = df_i_[\"lon\"].to_numpy()[:]\n",
        "  lats = df_i_[\"lat\"].to_numpy()[:]\n",
        "  data = df_i_[var].to_numpy()[:]\n",
        "\n",
        "  plt.close('all')\n",
        "  del fig; del ax;\n",
        "  fig = plt.figure(\"Temperatura do ar\" + str(\"{:02d}\".format(i+1)))\n",
        "  ax = plt.axes(projection=ccrs.Miller())\n",
        "  fig.add_axes(ax)\n",
        "  \n",
        "  plt.tricontourf(lons, lats, data, np.linspace(lb, ub, lv),\n",
        "                  cmap=\"coolwarm\", extend=\"both\")\n",
        "  gplt.polyplot(br, edgecolor=\"dimgray\", linewidth=0.5, zorder=1, ax=ax)\n",
        "  plt.colorbar(ScalarMappable(norm=Normalize(lb, ub), cmap=\"coolwarm\"), ax=ax)\n",
        "  ax.set_title(str(\"{:02d}\".format(i+1)) + \"/08/2019\")\n",
        "  plt.savefig(\"fig/\" + str(\"{:03d}\".format(i+1)) + \".png\", dpi=150)"
      ],
      "execution_count": 14,
      "outputs": [
        {
          "output_type": "display_data",
          "data": {
            "image/png": "[encoded data removed]",
            "text/plain": [
              "<Figure size 432x288 with 2 Axes>"
            ]
          },
          "metadata": {
            "tags": []
          }
        }
      ]
    },
    {
      "cell_type": "code",
      "metadata": {
        "id": "qBvT24xJ7gUe",
        "colab_type": "code",
        "colab": {
          "base_uri": "https://localhost:8080/",
          "height": 34
        },
        "outputId": "3b4c6c08-6373-44a3-d2dd-b10e8206bfb4"
      },
      "source": [
        "!apt-get install ffmpeg -qqq -y\n",
        "!ffmpeg -framerate 3.1 -i 'fig/%03d.png' tair.mp4 -loglevel quiet"
      ],
      "execution_count": 17,
      "outputs": [
        {
          "output_type": "stream",
          "text": [
            "File 'tair.mp4' already exists. Overwrite ? [y/N] y\n"
          ],
          "name": "stdout"
        }
      ]
    },
    {
      "cell_type": "code",
      "metadata": {
        "id": "CXvqOOm_G_Dl",
        "colab_type": "code",
        "colab": {}
      },
      "source": [
        "# gdf = gpd.GeoDataFrame(\n",
        "#     df, \n",
        "#     geometry=gpd.points_from_xy(df.lon, df.lat))"
      ],
      "execution_count": 0,
      "outputs": []
    },
    {
      "cell_type": "code",
      "metadata": {
        "id": "g5_D27ZnNG2w",
        "colab_type": "code",
        "colab": {}
      },
      "source": [
        "# gdf_lst = []\n",
        "# for i,d in enumerate(lst_08):\n",
        "#   df = lst_08[i]\n",
        "#   gdf = gpd.GeoDataFrame(\n",
        "#       df, \n",
        "#       geometry=gpd.points_from_xy(df.lon, df.lat))\n",
        "#   gdf['tair'] = gdf['tair'].round(2)\n",
        "#   gdf_lst.append(gdf)"
      ],
      "execution_count": 0,
      "outputs": []
    },
    {
      "cell_type": "code",
      "metadata": {
        "id": "9J7vTy89LW_d",
        "colab_type": "code",
        "colab": {}
      },
      "source": [
        "# gdf.head(1)"
      ],
      "execution_count": 0,
      "outputs": []
    },
    {
      "cell_type": "code",
      "metadata": {
        "id": "Zrrxk0tjFQKc",
        "colab_type": "code",
        "colab": {}
      },
      "source": [
        "# var = 'tair'\n",
        "# for i, gd in enumerate(gdf_lst):\n",
        "#   ax = gplt.voronoi(\n",
        "#       gd[gd[var] == gd[var]], # Nota: NaN == NaN sempre retorna False!\n",
        "#       clip=br.simplify(0.1),\n",
        "#       hue=var, k=10, cmap='Reds', edgecolor='None',\n",
        "#       legend=True\n",
        "#   )\n",
        "#   gplt.polyplot(br, edgecolor='black', zorder=1, ax=ax)\n",
        "#   ax.set_title(\"Air Temperature @ 2019/08/\" + str(i))\n",
        "#   plt.savefig(str(i) + '.png')"
      ],
      "execution_count": 0,
      "outputs": []
    }
  ]
}