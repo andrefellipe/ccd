{
  "nbformat": 4,
  "nbformat_minor": 0,
  "metadata": {
    "colab": {
      "name": "main.ipynb",
      "provenance": [],
      "collapsed_sections": [],
      "include_colab_link": true
    },
    "kernelspec": {
      "name": "python3",
      "display_name": "Python 3"
    }
  },
  "cells": [
    {
      "cell_type": "markdown",
      "metadata": {
        "id": "view-in-github",
        "colab_type": "text"
      },
      "source": [
        "<a href=\"https://colab.research.google.com/github/vitorsr/ccd/blob/master/main.ipynb\" target=\"_parent\"><img src=\"https://colab.research.google.com/assets/colab-badge.svg\" alt=\"Open In Colab\"/></a>"
      ]
    },
    {
      "cell_type": "markdown",
      "metadata": {
        "id": "TqGQeZ0sCA-k",
        "colab_type": "text"
      },
      "source": [
        "# Importando dados"
      ]
    },
    {
      "cell_type": "code",
      "metadata": {
        "id": "69CSdZsN-XVT",
        "colab_type": "code",
        "colab": {
          "base_uri": "https://localhost:8080/",
          "height": 530
        },
        "outputId": "4211563c-23ba-4505-f08d-2b3cd449d16c"
      },
      "source": [
        "!wget https://www.dropbox.com/s/7rriacb7c6vzf3m/ccd_2019.zip -O ccd_2019.zip\n",
        "!unzip ccd_2019.zip"
      ],
      "execution_count": 2,
      "outputs": [
        {
          "output_type": "stream",
          "text": [
            "--2019-10-25 18:13:50--  https://www.dropbox.com/s/7rriacb7c6vzf3m/ccd_2019.zip\n",
            "Resolving www.dropbox.com (www.dropbox.com)... 162.125.9.1, 2620:100:601f:1::a27d:901\n",
            "Connecting to www.dropbox.com (www.dropbox.com)|162.125.9.1|:443... connected.\n",
            "HTTP request sent, awaiting response... 301 Moved Permanently\n",
            "Location: /s/raw/7rriacb7c6vzf3m/ccd_2019.zip [following]\n",
            "--2019-10-25 18:13:50--  https://www.dropbox.com/s/raw/7rriacb7c6vzf3m/ccd_2019.zip\n",
            "Reusing existing connection to www.dropbox.com:443.\n",
            "HTTP request sent, awaiting response... 302 Found\n",
            "Location: https://ucb8701080627bcd6d12ca478523.dl.dropboxusercontent.com/cd/0/inline/ArFhIsNC4GBGa7_xzGdmg8HUTJod3sJNg6sDUVVniEJ5c-xnVUjcI8KLGQJwXn3HP2yLtsAoX87hpbpcUAMc_VCe7x45wJU4KGbqfKNYFFvTJEh77vFA2VEyojmAL8NAqHc/file# [following]\n",
            "--2019-10-25 18:13:50--  https://ucb8701080627bcd6d12ca478523.dl.dropboxusercontent.com/cd/0/inline/ArFhIsNC4GBGa7_xzGdmg8HUTJod3sJNg6sDUVVniEJ5c-xnVUjcI8KLGQJwXn3HP2yLtsAoX87hpbpcUAMc_VCe7x45wJU4KGbqfKNYFFvTJEh77vFA2VEyojmAL8NAqHc/file\n",
            "Resolving ucb8701080627bcd6d12ca478523.dl.dropboxusercontent.com (ucb8701080627bcd6d12ca478523.dl.dropboxusercontent.com)... 162.125.9.6, 2620:100:601f:6::a27d:906\n",
            "Connecting to ucb8701080627bcd6d12ca478523.dl.dropboxusercontent.com (ucb8701080627bcd6d12ca478523.dl.dropboxusercontent.com)|162.125.9.6|:443... connected.\n",
            "HTTP request sent, awaiting response... 302 FOUND\n",
            "Location: /cd/0/inline2/ArHZxcord7Nts4EpjHXloaLnA8muPKw6lXKtZKmHMDBQr5IiLpiZ_oXv8pXe4iG0cFRYZ2RgS0AqD1ICGZnhmfB1Og3xFGd8UKLUf-dhFHpdl3JaZBz0hrG6sF43-GsGjt0g48jfy5M3hhYcejJdcgV-xeTwNTwId6AObIXbiHD8xX4snG9XWV6ECjEwfpWZAV9rTipRiteyOoNPZh6ss1Ggy7pjvzRXSZPCohlvoWHMp1w-RYgHiW94JTcBlv8u9C4WGdBDp7ulmNJqX9TUDdsLAq8jnSdHCuvA7NfPyFyVj9EB_Ox83JQURCf5jVPNcV1GFtkPj6qmoaj3w7ppK5sbMtF6dsESLNNrwHeWh-bySw/file [following]\n",
            "--2019-10-25 18:13:51--  https://ucb8701080627bcd6d12ca478523.dl.dropboxusercontent.com/cd/0/inline2/ArHZxcord7Nts4EpjHXloaLnA8muPKw6lXKtZKmHMDBQr5IiLpiZ_oXv8pXe4iG0cFRYZ2RgS0AqD1ICGZnhmfB1Og3xFGd8UKLUf-dhFHpdl3JaZBz0hrG6sF43-GsGjt0g48jfy5M3hhYcejJdcgV-xeTwNTwId6AObIXbiHD8xX4snG9XWV6ECjEwfpWZAV9rTipRiteyOoNPZh6ss1Ggy7pjvzRXSZPCohlvoWHMp1w-RYgHiW94JTcBlv8u9C4WGdBDp7ulmNJqX9TUDdsLAq8jnSdHCuvA7NfPyFyVj9EB_Ox83JQURCf5jVPNcV1GFtkPj6qmoaj3w7ppK5sbMtF6dsESLNNrwHeWh-bySw/file\n",
            "Reusing existing connection to ucb8701080627bcd6d12ca478523.dl.dropboxusercontent.com:443.\n",
            "HTTP request sent, awaiting response... 200 OK\n",
            "Length: 214105380 (204M) [application/zip]\n",
            "Saving to: ‘ccd_2019.zip’\n",
            "\n",
            "ccd_2019.zip        100%[===================>] 204.19M  1.51MB/s    in 2m 19s  \n",
            "\n",
            "2019-10-25 18:16:10 (1.47 MB/s) - ‘ccd_2019.zip’ saved [214105380/214105380]\n",
            "\n",
            "Archive:  ccd_2019.zip\n",
            "  inflating: bdmep_meta.csv          \n",
            "  inflating: __MACOSX/._bdmep_meta.csv  \n",
            "  inflating: inmetr.csv              \n",
            "  inflating: __MACOSX/._inmetr.csv   \n"
          ],
          "name": "stdout"
        }
      ]
    },
    {
      "cell_type": "code",
      "metadata": {
        "id": "hB420eiaCfAW",
        "colab_type": "code",
        "colab": {}
      },
      "source": [
        "import pandas as pd"
      ],
      "execution_count": 0,
      "outputs": []
    },
    {
      "cell_type": "markdown",
      "metadata": {
        "id": "OfzV4keyqh68",
        "colab_type": "text"
      },
      "source": [
        "Import csvs from git"
      ]
    },
    {
      "cell_type": "code",
      "metadata": {
        "id": "1lK6A5mmB9C6",
        "colab_type": "code",
        "colab": {}
      },
      "source": [
        "df_m = pd.read_csv(\"bdmep_meta.csv\")"
      ],
      "execution_count": 0,
      "outputs": []
    },
    {
      "cell_type": "code",
      "metadata": {
        "id": "FU_92u4FKZVQ",
        "colab_type": "code",
        "colab": {}
      },
      "source": [
        "df = pd.read_csv(\"inmetr.csv\")"
      ],
      "execution_count": 0,
      "outputs": []
    },
    {
      "cell_type": "code",
      "metadata": {
        "id": "OSJ9YEOGCyew",
        "colab_type": "code",
        "outputId": "3ff72cb2-80c0-4884-d47b-b6e1044d2f38",
        "colab": {
          "base_uri": "https://localhost:8080/",
          "height": 204
        }
      },
      "source": [
        "df.head()"
      ],
      "execution_count": 6,
      "outputs": [
        {
          "output_type": "execute_result",
          "data": {
            "text/html": [
              "<div>\n",
              "<style scoped>\n",
              "    .dataframe tbody tr th:only-of-type {\n",
              "        vertical-align: middle;\n",
              "    }\n",
              "\n",
              "    .dataframe tbody tr th {\n",
              "        vertical-align: top;\n",
              "    }\n",
              "\n",
              "    .dataframe thead th {\n",
              "        text-align: right;\n",
              "    }\n",
              "</style>\n",
              "<table border=\"1\" class=\"dataframe\">\n",
              "  <thead>\n",
              "    <tr style=\"text-align: right;\">\n",
              "      <th></th>\n",
              "      <th>date</th>\n",
              "      <th>id</th>\n",
              "      <th>prec</th>\n",
              "      <th>tair</th>\n",
              "      <th>tw</th>\n",
              "      <th>tmax</th>\n",
              "      <th>tmin</th>\n",
              "      <th>urmax</th>\n",
              "      <th>patm</th>\n",
              "      <th>pnmm</th>\n",
              "      <th>wd</th>\n",
              "      <th>wsmax</th>\n",
              "      <th>n</th>\n",
              "      <th>cc</th>\n",
              "      <th>evap</th>\n",
              "      <th>ur</th>\n",
              "      <th>ws</th>\n",
              "    </tr>\n",
              "  </thead>\n",
              "  <tbody>\n",
              "    <tr>\n",
              "      <th>0</th>\n",
              "      <td>1970-05-04 00:00:00</td>\n",
              "      <td>83010</td>\n",
              "      <td>NaN</td>\n",
              "      <td>NaN</td>\n",
              "      <td>NaN</td>\n",
              "      <td>32.6</td>\n",
              "      <td>NaN</td>\n",
              "      <td>NaN</td>\n",
              "      <td>NaN</td>\n",
              "      <td>NaN</td>\n",
              "      <td>NaN</td>\n",
              "      <td>NaN</td>\n",
              "      <td>NaN</td>\n",
              "      <td>NaN</td>\n",
              "      <td>NaN</td>\n",
              "      <td>89.75</td>\n",
              "      <td>NaN</td>\n",
              "    </tr>\n",
              "    <tr>\n",
              "      <th>1</th>\n",
              "      <td>1970-05-04 12:00:00</td>\n",
              "      <td>83010</td>\n",
              "      <td>NaN</td>\n",
              "      <td>25.3</td>\n",
              "      <td>24.0</td>\n",
              "      <td>NaN</td>\n",
              "      <td>23.7</td>\n",
              "      <td>90.0</td>\n",
              "      <td>1005.9</td>\n",
              "      <td>NaN</td>\n",
              "      <td>NaN</td>\n",
              "      <td>NaN</td>\n",
              "      <td>NaN</td>\n",
              "      <td>5.0</td>\n",
              "      <td>NaN</td>\n",
              "      <td>NaN</td>\n",
              "      <td>NaN</td>\n",
              "    </tr>\n",
              "    <tr>\n",
              "      <th>2</th>\n",
              "      <td>1970-05-04 18:00:00</td>\n",
              "      <td>83010</td>\n",
              "      <td>NaN</td>\n",
              "      <td>29.2</td>\n",
              "      <td>27.1</td>\n",
              "      <td>NaN</td>\n",
              "      <td>NaN</td>\n",
              "      <td>85.0</td>\n",
              "      <td>1004.2</td>\n",
              "      <td>NaN</td>\n",
              "      <td>NaN</td>\n",
              "      <td>NaN</td>\n",
              "      <td>NaN</td>\n",
              "      <td>4.0</td>\n",
              "      <td>NaN</td>\n",
              "      <td>NaN</td>\n",
              "      <td>NaN</td>\n",
              "    </tr>\n",
              "    <tr>\n",
              "      <th>3</th>\n",
              "      <td>1970-05-05 00:00:00</td>\n",
              "      <td>83010</td>\n",
              "      <td>NaN</td>\n",
              "      <td>25.0</td>\n",
              "      <td>27.0</td>\n",
              "      <td>32.6</td>\n",
              "      <td>NaN</td>\n",
              "      <td>92.0</td>\n",
              "      <td>1007.5</td>\n",
              "      <td>NaN</td>\n",
              "      <td>NaN</td>\n",
              "      <td>NaN</td>\n",
              "      <td>NaN</td>\n",
              "      <td>8.0</td>\n",
              "      <td>2.4</td>\n",
              "      <td>88.25</td>\n",
              "      <td>NaN</td>\n",
              "    </tr>\n",
              "    <tr>\n",
              "      <th>4</th>\n",
              "      <td>1970-05-05 12:00:00</td>\n",
              "      <td>83010</td>\n",
              "      <td>0.0</td>\n",
              "      <td>25.9</td>\n",
              "      <td>24.8</td>\n",
              "      <td>NaN</td>\n",
              "      <td>23.0</td>\n",
              "      <td>91.0</td>\n",
              "      <td>1006.4</td>\n",
              "      <td>NaN</td>\n",
              "      <td>NaN</td>\n",
              "      <td>NaN</td>\n",
              "      <td>NaN</td>\n",
              "      <td>4.0</td>\n",
              "      <td>NaN</td>\n",
              "      <td>NaN</td>\n",
              "      <td>NaN</td>\n",
              "    </tr>\n",
              "  </tbody>\n",
              "</table>\n",
              "</div>"
            ],
            "text/plain": [
              "                  date     id  prec  tair    tw  ...   n   cc  evap     ur  ws\n",
              "0  1970-05-04 00:00:00  83010   NaN   NaN   NaN  ... NaN  NaN   NaN  89.75 NaN\n",
              "1  1970-05-04 12:00:00  83010   NaN  25.3  24.0  ... NaN  5.0   NaN    NaN NaN\n",
              "2  1970-05-04 18:00:00  83010   NaN  29.2  27.1  ... NaN  4.0   NaN    NaN NaN\n",
              "3  1970-05-05 00:00:00  83010   NaN  25.0  27.0  ... NaN  8.0   2.4  88.25 NaN\n",
              "4  1970-05-05 12:00:00  83010   0.0  25.9  24.8  ... NaN  4.0   NaN    NaN NaN\n",
              "\n",
              "[5 rows x 17 columns]"
            ]
          },
          "metadata": {
            "tags": []
          },
          "execution_count": 6
        }
      ]
    },
    {
      "cell_type": "code",
      "metadata": {
        "id": "9XL-kyfjK1gX",
        "colab_type": "code",
        "outputId": "3040ab24-bc4e-47b8-aaac-083ad5800642",
        "colab": {
          "base_uri": "https://localhost:8080/",
          "height": 204
        }
      },
      "source": [
        "df_m.head()"
      ],
      "execution_count": 7,
      "outputs": [
        {
          "output_type": "execute_result",
          "data": {
            "text/html": [
              "<div>\n",
              "<style scoped>\n",
              "    .dataframe tbody tr th:only-of-type {\n",
              "        vertical-align: middle;\n",
              "    }\n",
              "\n",
              "    .dataframe tbody tr th {\n",
              "        vertical-align: top;\n",
              "    }\n",
              "\n",
              "    .dataframe thead th {\n",
              "        text-align: right;\n",
              "    }\n",
              "</style>\n",
              "<table border=\"1\" class=\"dataframe\">\n",
              "  <thead>\n",
              "    <tr style=\"text-align: right;\">\n",
              "      <th></th>\n",
              "      <th>id</th>\n",
              "      <th>lon</th>\n",
              "      <th>lat</th>\n",
              "      <th>alt</th>\n",
              "      <th>name</th>\n",
              "      <th>state</th>\n",
              "      <th>uf</th>\n",
              "      <th>time_zone</th>\n",
              "      <th>offset_utc</th>\n",
              "      <th>time_zone.1</th>\n",
              "      <th>offset_utc.1</th>\n",
              "    </tr>\n",
              "  </thead>\n",
              "  <tbody>\n",
              "    <tr>\n",
              "      <th>0</th>\n",
              "      <td>83010</td>\n",
              "      <td>-68.733333</td>\n",
              "      <td>-11.016667</td>\n",
              "      <td>260.00</td>\n",
              "      <td>Brasiléia</td>\n",
              "      <td>Acre</td>\n",
              "      <td>AC</td>\n",
              "      <td>America/Rio_Branco</td>\n",
              "      <td>-5</td>\n",
              "      <td>America/Rio_Branco</td>\n",
              "      <td>-5</td>\n",
              "    </tr>\n",
              "    <tr>\n",
              "      <th>1</th>\n",
              "      <td>82704</td>\n",
              "      <td>-72.666667</td>\n",
              "      <td>-7.633333</td>\n",
              "      <td>170.00</td>\n",
              "      <td>Cruzeiro do Sul</td>\n",
              "      <td>Acre</td>\n",
              "      <td>AC</td>\n",
              "      <td>America/Rio_Branco</td>\n",
              "      <td>-5</td>\n",
              "      <td>America/Rio_Branco</td>\n",
              "      <td>-5</td>\n",
              "    </tr>\n",
              "    <tr>\n",
              "      <th>2</th>\n",
              "      <td>82915</td>\n",
              "      <td>-67.800000</td>\n",
              "      <td>-9.966667</td>\n",
              "      <td>160.00</td>\n",
              "      <td>Rio Branco</td>\n",
              "      <td>Acre</td>\n",
              "      <td>AC</td>\n",
              "      <td>America/Rio_Branco</td>\n",
              "      <td>-5</td>\n",
              "      <td>America/Rio_Branco</td>\n",
              "      <td>-5</td>\n",
              "    </tr>\n",
              "    <tr>\n",
              "      <th>3</th>\n",
              "      <td>82807</td>\n",
              "      <td>-70.766667</td>\n",
              "      <td>-8.166667</td>\n",
              "      <td>190.00</td>\n",
              "      <td>Tarauacá</td>\n",
              "      <td>Acre</td>\n",
              "      <td>AC</td>\n",
              "      <td>America/Rio_Branco</td>\n",
              "      <td>-5</td>\n",
              "      <td>America/Rio_Branco</td>\n",
              "      <td>-5</td>\n",
              "    </tr>\n",
              "    <tr>\n",
              "      <th>4</th>\n",
              "      <td>83098</td>\n",
              "      <td>-36.166667</td>\n",
              "      <td>-10.150000</td>\n",
              "      <td>56.13</td>\n",
              "      <td>Coruripe</td>\n",
              "      <td>Alagoas</td>\n",
              "      <td>AL</td>\n",
              "      <td>America/Maceio</td>\n",
              "      <td>-3</td>\n",
              "      <td>America/Maceio</td>\n",
              "      <td>-3</td>\n",
              "    </tr>\n",
              "  </tbody>\n",
              "</table>\n",
              "</div>"
            ],
            "text/plain": [
              "      id        lon        lat  ...  offset_utc         time_zone.1 offset_utc.1\n",
              "0  83010 -68.733333 -11.016667  ...          -5  America/Rio_Branco           -5\n",
              "1  82704 -72.666667  -7.633333  ...          -5  America/Rio_Branco           -5\n",
              "2  82915 -67.800000  -9.966667  ...          -5  America/Rio_Branco           -5\n",
              "3  82807 -70.766667  -8.166667  ...          -5  America/Rio_Branco           -5\n",
              "4  83098 -36.166667 -10.150000  ...          -3      America/Maceio           -3\n",
              "\n",
              "[5 rows x 11 columns]"
            ]
          },
          "metadata": {
            "tags": []
          },
          "execution_count": 7
        }
      ]
    },
    {
      "cell_type": "markdown",
      "metadata": {
        "id": "-N5Chu1-spS2",
        "colab_type": "text"
      },
      "source": [
        "### Dicionário de dados:"
      ]
    },
    {
      "cell_type": "markdown",
      "metadata": {
        "id": "CNa0QZa1szu-",
        "colab_type": "text"
      },
      "source": [
        "<br><b>variável | descrição | unidade </b></br>\n",
        "<br>date | data e hora da coleta             -\n",
        "<br> id | ID da estação de coleta             -\n",
        "<br>prec | precipitação |       mm\n",
        "<br>tair | temperatura do ar  | graus Celsius\n",
        "<br>tw | temperatura de bulbo úmido |  graus Celsius\n",
        "<br>tmax | temperatura máxima do ar  | graus Celsius\n",
        "<br>tmin | temperatura mínima do ar  | graus Celsius\n",
        "<br>urmax | umidade relativa máxima  |             %\n",
        "<br>patm | pressão atmosférica         |    hPa\n",
        "<br>pnmm | pressão atmosférica média ao nível do mar  |           hPa\n",
        "<br>wd | direção do vento        |   graus\n",
        "<br>wsmax  |  rajadas de vento    |         m/s\n",
        "<br>n |  horas de sol          |     h\n",
        "<br>cc |   cobertura de nuvens    |           -\n",
        "<br>evap  |   evaporação        |      mm\n",
        "<br>ur  |   umidade relativa          |     %\n",
        "<br>ws   |   velocidade do vento       |      m/s\n",
        "\n"
      ]
    },
    {
      "cell_type": "markdown",
      "metadata": {
        "id": "PHi9-XWjq2LY",
        "colab_type": "text"
      },
      "source": [
        "## Explorando"
      ]
    },
    {
      "cell_type": "markdown",
      "metadata": {
        "id": "ShEluODmsRYn",
        "colab_type": "text"
      },
      "source": [
        "> **Hipótese**: as queimadas que ocorreram na amazônia, entre 8 e 22 de Agosto de 2019 influenciaram as temperaturas na região e/ou no restante do país?"
      ]
    },
    {
      "cell_type": "markdown",
      "metadata": {
        "id": "XyXuVGsAHmvd",
        "colab_type": "text"
      },
      "source": [
        "Primeiramente, vamos fazer que a coluna date seja do tipo **datetime**"
      ]
    },
    {
      "cell_type": "code",
      "metadata": {
        "id": "la0H-B-Fshza",
        "colab_type": "code",
        "colab": {
          "base_uri": "https://localhost:8080/",
          "height": 204
        },
        "outputId": "0e9d019b-4347-4bab-b33a-00f6083bdfeb"
      },
      "source": [
        "df.head()"
      ],
      "execution_count": 8,
      "outputs": [
        {
          "output_type": "execute_result",
          "data": {
            "text/html": [
              "<div>\n",
              "<style scoped>\n",
              "    .dataframe tbody tr th:only-of-type {\n",
              "        vertical-align: middle;\n",
              "    }\n",
              "\n",
              "    .dataframe tbody tr th {\n",
              "        vertical-align: top;\n",
              "    }\n",
              "\n",
              "    .dataframe thead th {\n",
              "        text-align: right;\n",
              "    }\n",
              "</style>\n",
              "<table border=\"1\" class=\"dataframe\">\n",
              "  <thead>\n",
              "    <tr style=\"text-align: right;\">\n",
              "      <th></th>\n",
              "      <th>date</th>\n",
              "      <th>id</th>\n",
              "      <th>prec</th>\n",
              "      <th>tair</th>\n",
              "      <th>tw</th>\n",
              "      <th>tmax</th>\n",
              "      <th>tmin</th>\n",
              "      <th>urmax</th>\n",
              "      <th>patm</th>\n",
              "      <th>pnmm</th>\n",
              "      <th>wd</th>\n",
              "      <th>wsmax</th>\n",
              "      <th>n</th>\n",
              "      <th>cc</th>\n",
              "      <th>evap</th>\n",
              "      <th>ur</th>\n",
              "      <th>ws</th>\n",
              "    </tr>\n",
              "  </thead>\n",
              "  <tbody>\n",
              "    <tr>\n",
              "      <th>0</th>\n",
              "      <td>1970-05-04 00:00:00</td>\n",
              "      <td>83010</td>\n",
              "      <td>NaN</td>\n",
              "      <td>NaN</td>\n",
              "      <td>NaN</td>\n",
              "      <td>32.6</td>\n",
              "      <td>NaN</td>\n",
              "      <td>NaN</td>\n",
              "      <td>NaN</td>\n",
              "      <td>NaN</td>\n",
              "      <td>NaN</td>\n",
              "      <td>NaN</td>\n",
              "      <td>NaN</td>\n",
              "      <td>NaN</td>\n",
              "      <td>NaN</td>\n",
              "      <td>89.75</td>\n",
              "      <td>NaN</td>\n",
              "    </tr>\n",
              "    <tr>\n",
              "      <th>1</th>\n",
              "      <td>1970-05-04 12:00:00</td>\n",
              "      <td>83010</td>\n",
              "      <td>NaN</td>\n",
              "      <td>25.3</td>\n",
              "      <td>24.0</td>\n",
              "      <td>NaN</td>\n",
              "      <td>23.7</td>\n",
              "      <td>90.0</td>\n",
              "      <td>1005.9</td>\n",
              "      <td>NaN</td>\n",
              "      <td>NaN</td>\n",
              "      <td>NaN</td>\n",
              "      <td>NaN</td>\n",
              "      <td>5.0</td>\n",
              "      <td>NaN</td>\n",
              "      <td>NaN</td>\n",
              "      <td>NaN</td>\n",
              "    </tr>\n",
              "    <tr>\n",
              "      <th>2</th>\n",
              "      <td>1970-05-04 18:00:00</td>\n",
              "      <td>83010</td>\n",
              "      <td>NaN</td>\n",
              "      <td>29.2</td>\n",
              "      <td>27.1</td>\n",
              "      <td>NaN</td>\n",
              "      <td>NaN</td>\n",
              "      <td>85.0</td>\n",
              "      <td>1004.2</td>\n",
              "      <td>NaN</td>\n",
              "      <td>NaN</td>\n",
              "      <td>NaN</td>\n",
              "      <td>NaN</td>\n",
              "      <td>4.0</td>\n",
              "      <td>NaN</td>\n",
              "      <td>NaN</td>\n",
              "      <td>NaN</td>\n",
              "    </tr>\n",
              "    <tr>\n",
              "      <th>3</th>\n",
              "      <td>1970-05-05 00:00:00</td>\n",
              "      <td>83010</td>\n",
              "      <td>NaN</td>\n",
              "      <td>25.0</td>\n",
              "      <td>27.0</td>\n",
              "      <td>32.6</td>\n",
              "      <td>NaN</td>\n",
              "      <td>92.0</td>\n",
              "      <td>1007.5</td>\n",
              "      <td>NaN</td>\n",
              "      <td>NaN</td>\n",
              "      <td>NaN</td>\n",
              "      <td>NaN</td>\n",
              "      <td>8.0</td>\n",
              "      <td>2.4</td>\n",
              "      <td>88.25</td>\n",
              "      <td>NaN</td>\n",
              "    </tr>\n",
              "    <tr>\n",
              "      <th>4</th>\n",
              "      <td>1970-05-05 12:00:00</td>\n",
              "      <td>83010</td>\n",
              "      <td>0.0</td>\n",
              "      <td>25.9</td>\n",
              "      <td>24.8</td>\n",
              "      <td>NaN</td>\n",
              "      <td>23.0</td>\n",
              "      <td>91.0</td>\n",
              "      <td>1006.4</td>\n",
              "      <td>NaN</td>\n",
              "      <td>NaN</td>\n",
              "      <td>NaN</td>\n",
              "      <td>NaN</td>\n",
              "      <td>4.0</td>\n",
              "      <td>NaN</td>\n",
              "      <td>NaN</td>\n",
              "      <td>NaN</td>\n",
              "    </tr>\n",
              "  </tbody>\n",
              "</table>\n",
              "</div>"
            ],
            "text/plain": [
              "                  date     id  prec  tair    tw  ...   n   cc  evap     ur  ws\n",
              "0  1970-05-04 00:00:00  83010   NaN   NaN   NaN  ... NaN  NaN   NaN  89.75 NaN\n",
              "1  1970-05-04 12:00:00  83010   NaN  25.3  24.0  ... NaN  5.0   NaN    NaN NaN\n",
              "2  1970-05-04 18:00:00  83010   NaN  29.2  27.1  ... NaN  4.0   NaN    NaN NaN\n",
              "3  1970-05-05 00:00:00  83010   NaN  25.0  27.0  ... NaN  8.0   2.4  88.25 NaN\n",
              "4  1970-05-05 12:00:00  83010   0.0  25.9  24.8  ... NaN  4.0   NaN    NaN NaN\n",
              "\n",
              "[5 rows x 17 columns]"
            ]
          },
          "metadata": {
            "tags": []
          },
          "execution_count": 8
        }
      ]
    },
    {
      "cell_type": "code",
      "metadata": {
        "id": "vZhijR7lH_FC",
        "colab_type": "code",
        "colab": {
          "base_uri": "https://localhost:8080/",
          "height": 323
        },
        "outputId": "0f4361de-054d-48b4-ad30-7525c098a2e0"
      },
      "source": [
        "df.dtypes"
      ],
      "execution_count": 9,
      "outputs": [
        {
          "output_type": "execute_result",
          "data": {
            "text/plain": [
              "date      object\n",
              "id         int64\n",
              "prec     float64\n",
              "tair     float64\n",
              "tw       float64\n",
              "tmax     float64\n",
              "tmin     float64\n",
              "urmax    float64\n",
              "patm     float64\n",
              "pnmm     float64\n",
              "wd       float64\n",
              "wsmax    float64\n",
              "n        float64\n",
              "cc       float64\n",
              "evap     float64\n",
              "ur       float64\n",
              "ws       float64\n",
              "dtype: object"
            ]
          },
          "metadata": {
            "tags": []
          },
          "execution_count": 9
        }
      ]
    },
    {
      "cell_type": "code",
      "metadata": {
        "id": "yrsOkvZNIrtU",
        "colab_type": "code",
        "colab": {}
      },
      "source": [
        "df['date'] = pd.to_datetime(df['date'])"
      ],
      "execution_count": 0,
      "outputs": []
    },
    {
      "cell_type": "code",
      "metadata": {
        "id": "CPlyAIIbI1sa",
        "colab_type": "code",
        "colab": {
          "base_uri": "https://localhost:8080/",
          "height": 323
        },
        "outputId": "b0f2064f-7371-471b-b494-20d7b05d0675"
      },
      "source": [
        "df.dtypes"
      ],
      "execution_count": 11,
      "outputs": [
        {
          "output_type": "execute_result",
          "data": {
            "text/plain": [
              "date     datetime64[ns]\n",
              "id                int64\n",
              "prec            float64\n",
              "tair            float64\n",
              "tw              float64\n",
              "tmax            float64\n",
              "tmin            float64\n",
              "urmax           float64\n",
              "patm            float64\n",
              "pnmm            float64\n",
              "wd              float64\n",
              "wsmax           float64\n",
              "n               float64\n",
              "cc              float64\n",
              "evap            float64\n",
              "ur              float64\n",
              "ws              float64\n",
              "dtype: object"
            ]
          },
          "metadata": {
            "tags": []
          },
          "execution_count": 11
        }
      ]
    },
    {
      "cell_type": "markdown",
      "metadata": {
        "id": "Ca-NPl4OJMMZ",
        "colab_type": "text"
      },
      "source": [
        "# Prophet\n",
        "## Quick Start\n",
        "\n",
        "Source: https://facebook.github.io/prophet/docs/quick_start.html"
      ]
    },
    {
      "cell_type": "code",
      "metadata": {
        "id": "g1hwNGOEHs4d",
        "colab_type": "code",
        "colab": {}
      },
      "source": [
        "import pandas as pd\n",
        "from fbprophet import Prophet"
      ],
      "execution_count": 0,
      "outputs": []
    },
    {
      "cell_type": "code",
      "metadata": {
        "id": "fhIpiZ2tIcUJ",
        "colab_type": "code",
        "colab": {}
      },
      "source": [
        "df = pd.read_csv(\"https://raw.githubusercontent.com/facebook/prophet/master/examples/example_wp_log_peyton_manning.csv\")\n",
        "df.head()"
      ],
      "execution_count": 0,
      "outputs": []
    },
    {
      "cell_type": "code",
      "metadata": {
        "id": "b89ThyctJFmZ",
        "colab_type": "code",
        "colab": {}
      },
      "source": [
        "m = Prophet()\n",
        "m.fit(df)"
      ],
      "execution_count": 0,
      "outputs": []
    },
    {
      "cell_type": "code",
      "metadata": {
        "id": "WfZpFYriJWWx",
        "colab_type": "code",
        "colab": {}
      },
      "source": [
        "future = m.make_future_dataframe(periods=365)\n",
        "future.tail()"
      ],
      "execution_count": 0,
      "outputs": []
    },
    {
      "cell_type": "code",
      "metadata": {
        "id": "IE6S-F3iJXZI",
        "colab_type": "code",
        "colab": {}
      },
      "source": [
        "forecast = m.predict(future)\n",
        "forecast[['ds', 'yhat', 'yhat_lower', 'yhat_upper']].tail()"
      ],
      "execution_count": 0,
      "outputs": []
    },
    {
      "cell_type": "code",
      "metadata": {
        "id": "UXzhagfOJZUL",
        "colab_type": "code",
        "colab": {}
      },
      "source": [
        "fig1 = m.plot(forecast)"
      ],
      "execution_count": 0,
      "outputs": []
    },
    {
      "cell_type": "code",
      "metadata": {
        "id": "yXHiF6f6JcKy",
        "colab_type": "code",
        "colab": {}
      },
      "source": [
        "fig2 = m.plot_components(forecast)"
      ],
      "execution_count": 0,
      "outputs": []
    }
  ]
}