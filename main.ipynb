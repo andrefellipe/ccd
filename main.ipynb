{
  "nbformat": 4,
  "nbformat_minor": 0,
  "metadata": {
    "colab": {
      "name": "main.ipynb",
      "provenance": [],
      "collapsed_sections": [],
      "include_colab_link": true
    },
    "kernelspec": {
      "name": "python3",
      "display_name": "Python 3"
    }
  },
  "cells": [
    {
      "cell_type": "markdown",
      "metadata": {
        "id": "view-in-github",
        "colab_type": "text"
      },
      "source": [
        "<a href=\"https://colab.research.google.com/github/vitorsr/ccd/blob/master/main.ipynb\" target=\"_parent\"><img src=\"https://colab.research.google.com/assets/colab-badge.svg\" alt=\"Open In Colab\"/></a>"
      ]
    },
    {
      "cell_type": "markdown",
      "metadata": {
        "id": "TqGQeZ0sCA-k",
        "colab_type": "text"
      },
      "source": [
        "# Importando dados"
      ]
    },
    {
      "cell_type": "code",
      "metadata": {
        "id": "69CSdZsN-XVT",
        "colab_type": "code",
        "outputId": "d6c9e852-f10f-4672-8167-f8540f3c97d8",
        "colab": {
          "base_uri": "https://localhost:8080/",
          "height": 479
        }
      },
      "source": [
        "!wget https://www.dropbox.com/s/7rriacb7c6vzf3m/ccd_2019.zip -O ccd_2019.zip\n",
        "!unzip ccd_2019.zip"
      ],
      "execution_count": 12,
      "outputs": [
        {
          "output_type": "stream",
          "text": [
            "--2019-10-25 18:18:37--  https://www.dropbox.com/s/7rriacb7c6vzf3m/ccd_2019.zip\n",
            "Resolving www.dropbox.com (www.dropbox.com)... 162.125.8.1, 2620:100:601f:1::a27d:901\n",
            "Connecting to www.dropbox.com (www.dropbox.com)|162.125.8.1|:443... connected.\n",
            "HTTP request sent, awaiting response... 301 Moved Permanently\n",
            "Location: /s/raw/7rriacb7c6vzf3m/ccd_2019.zip [following]\n",
            "--2019-10-25 18:18:37--  https://www.dropbox.com/s/raw/7rriacb7c6vzf3m/ccd_2019.zip\n",
            "Reusing existing connection to www.dropbox.com:443.\n",
            "HTTP request sent, awaiting response... 302 Found\n",
            "Location: https://ucb8701080627bcd6d12ca478523.dl.dropboxusercontent.com/cd/0/inline/ArFhIsNC4GBGa7_xzGdmg8HUTJod3sJNg6sDUVVniEJ5c-xnVUjcI8KLGQJwXn3HP2yLtsAoX87hpbpcUAMc_VCe7x45wJU4KGbqfKNYFFvTJEh77vFA2VEyojmAL8NAqHc/file# [following]\n",
            "--2019-10-25 18:18:38--  https://ucb8701080627bcd6d12ca478523.dl.dropboxusercontent.com/cd/0/inline/ArFhIsNC4GBGa7_xzGdmg8HUTJod3sJNg6sDUVVniEJ5c-xnVUjcI8KLGQJwXn3HP2yLtsAoX87hpbpcUAMc_VCe7x45wJU4KGbqfKNYFFvTJEh77vFA2VEyojmAL8NAqHc/file\n",
            "Resolving ucb8701080627bcd6d12ca478523.dl.dropboxusercontent.com (ucb8701080627bcd6d12ca478523.dl.dropboxusercontent.com)... 162.125.9.6, 2620:100:601b:6::a27d:806\n",
            "Connecting to ucb8701080627bcd6d12ca478523.dl.dropboxusercontent.com (ucb8701080627bcd6d12ca478523.dl.dropboxusercontent.com)|162.125.9.6|:443... connected.\n",
            "HTTP request sent, awaiting response... 302 FOUND\n",
            "Location: /cd/0/inline2/ArESHTPzFe3yCtY1kvARhstleFDUuvRIoBtuQxFclXIYKkBKvX3xT11-1JWJPVjCK-I9SsvJMnE9kkeVDQcETcpOcjd51uWPZ3NI0JURTTs_IN-zv8N5yMerA_rml70xOLagveb_u13cCdKt4XHc7tYMPo76VU6M_PAETazyZsarYJl_i3aBl9dRZEca-GASh5FynAR-bW0_OUCU6ScUYWHx5W0A3au1Z-SeaSSZZg1uV7VUH_Rlgz5tLKW7fQHxnc9Z4J0McOtDunkVOdnGmvn-JrDhGQXHXRS08v5ViKt3s7w98LFwgJsiKHccxKGof2Di9VoAYp2uT_UgIgVdKI8EFvllmevsvzHgQAEmbqM0AA/file [following]\n",
            "--2019-10-25 18:18:38--  https://ucb8701080627bcd6d12ca478523.dl.dropboxusercontent.com/cd/0/inline2/ArESHTPzFe3yCtY1kvARhstleFDUuvRIoBtuQxFclXIYKkBKvX3xT11-1JWJPVjCK-I9SsvJMnE9kkeVDQcETcpOcjd51uWPZ3NI0JURTTs_IN-zv8N5yMerA_rml70xOLagveb_u13cCdKt4XHc7tYMPo76VU6M_PAETazyZsarYJl_i3aBl9dRZEca-GASh5FynAR-bW0_OUCU6ScUYWHx5W0A3au1Z-SeaSSZZg1uV7VUH_Rlgz5tLKW7fQHxnc9Z4J0McOtDunkVOdnGmvn-JrDhGQXHXRS08v5ViKt3s7w98LFwgJsiKHccxKGof2Di9VoAYp2uT_UgIgVdKI8EFvllmevsvzHgQAEmbqM0AA/file\n",
            "Reusing existing connection to ucb8701080627bcd6d12ca478523.dl.dropboxusercontent.com:443.\n",
            "HTTP request sent, awaiting response... 200 OK\n",
            "Length: 214105380 (204M) [application/zip]\n",
            "Saving to: ‘ccd_2019.zip’\n",
            "\n",
            "ccd_2019.zip        100%[===================>] 204.19M  41.0MB/s    in 7.4s    \n",
            "\n",
            "2019-10-25 18:18:46 (27.7 MB/s) - ‘ccd_2019.zip’ saved [214105380/214105380]\n",
            "\n",
            "Archive:  ccd_2019.zip\n",
            "replace bdmep_meta.csv? [y]es, [n]o, [A]ll, [N]one, [r]ename: "
          ],
          "name": "stdout"
        }
      ]
    },
    {
      "cell_type": "code",
      "metadata": {
        "id": "hB420eiaCfAW",
        "colab_type": "code",
        "colab": {}
      },
      "source": [
        "import pandas as pd"
      ],
      "execution_count": 0,
      "outputs": []
    },
    {
      "cell_type": "markdown",
      "metadata": {
        "id": "OfzV4keyqh68",
        "colab_type": "text"
      },
      "source": [
        "Import csvs from git"
      ]
    },
    {
      "cell_type": "code",
      "metadata": {
        "id": "1lK6A5mmB9C6",
        "colab_type": "code",
        "colab": {}
      },
      "source": [
        "df_m = pd.read_csv(\"bdmep_meta.csv\")"
      ],
      "execution_count": 0,
      "outputs": []
    },
    {
      "cell_type": "code",
      "metadata": {
        "id": "FU_92u4FKZVQ",
        "colab_type": "code",
        "colab": {}
      },
      "source": [
        "df = pd.read_csv(\"inmetr.csv\")"
      ],
      "execution_count": 0,
      "outputs": []
    },
    {
      "cell_type": "code",
      "metadata": {
        "id": "OSJ9YEOGCyew",
        "colab_type": "code",
        "outputId": "cc8fce3f-21d9-4a2c-febe-60ac15fdb961",
        "colab": {
          "base_uri": "https://localhost:8080/",
          "height": 204
        }
      },
      "source": [
        "df.head()"
      ],
      "execution_count": 16,
      "outputs": [
        {
          "output_type": "execute_result",
          "data": {
            "text/html": [
              "<div>\n",
              "<style scoped>\n",
              "    .dataframe tbody tr th:only-of-type {\n",
              "        vertical-align: middle;\n",
              "    }\n",
              "\n",
              "    .dataframe tbody tr th {\n",
              "        vertical-align: top;\n",
              "    }\n",
              "\n",
              "    .dataframe thead th {\n",
              "        text-align: right;\n",
              "    }\n",
              "</style>\n",
              "<table border=\"1\" class=\"dataframe\">\n",
              "  <thead>\n",
              "    <tr style=\"text-align: right;\">\n",
              "      <th></th>\n",
              "      <th>date</th>\n",
              "      <th>id</th>\n",
              "      <th>prec</th>\n",
              "      <th>tair</th>\n",
              "      <th>tw</th>\n",
              "      <th>tmax</th>\n",
              "      <th>tmin</th>\n",
              "      <th>urmax</th>\n",
              "      <th>patm</th>\n",
              "      <th>pnmm</th>\n",
              "      <th>wd</th>\n",
              "      <th>wsmax</th>\n",
              "      <th>n</th>\n",
              "      <th>cc</th>\n",
              "      <th>evap</th>\n",
              "      <th>ur</th>\n",
              "      <th>ws</th>\n",
              "    </tr>\n",
              "  </thead>\n",
              "  <tbody>\n",
              "    <tr>\n",
              "      <th>0</th>\n",
              "      <td>1970-05-04 00:00:00</td>\n",
              "      <td>83010</td>\n",
              "      <td>NaN</td>\n",
              "      <td>NaN</td>\n",
              "      <td>NaN</td>\n",
              "      <td>32.6</td>\n",
              "      <td>NaN</td>\n",
              "      <td>NaN</td>\n",
              "      <td>NaN</td>\n",
              "      <td>NaN</td>\n",
              "      <td>NaN</td>\n",
              "      <td>NaN</td>\n",
              "      <td>NaN</td>\n",
              "      <td>NaN</td>\n",
              "      <td>NaN</td>\n",
              "      <td>89.75</td>\n",
              "      <td>NaN</td>\n",
              "    </tr>\n",
              "    <tr>\n",
              "      <th>1</th>\n",
              "      <td>1970-05-04 12:00:00</td>\n",
              "      <td>83010</td>\n",
              "      <td>NaN</td>\n",
              "      <td>25.3</td>\n",
              "      <td>24.0</td>\n",
              "      <td>NaN</td>\n",
              "      <td>23.7</td>\n",
              "      <td>90.0</td>\n",
              "      <td>1005.9</td>\n",
              "      <td>NaN</td>\n",
              "      <td>NaN</td>\n",
              "      <td>NaN</td>\n",
              "      <td>NaN</td>\n",
              "      <td>5.0</td>\n",
              "      <td>NaN</td>\n",
              "      <td>NaN</td>\n",
              "      <td>NaN</td>\n",
              "    </tr>\n",
              "    <tr>\n",
              "      <th>2</th>\n",
              "      <td>1970-05-04 18:00:00</td>\n",
              "      <td>83010</td>\n",
              "      <td>NaN</td>\n",
              "      <td>29.2</td>\n",
              "      <td>27.1</td>\n",
              "      <td>NaN</td>\n",
              "      <td>NaN</td>\n",
              "      <td>85.0</td>\n",
              "      <td>1004.2</td>\n",
              "      <td>NaN</td>\n",
              "      <td>NaN</td>\n",
              "      <td>NaN</td>\n",
              "      <td>NaN</td>\n",
              "      <td>4.0</td>\n",
              "      <td>NaN</td>\n",
              "      <td>NaN</td>\n",
              "      <td>NaN</td>\n",
              "    </tr>\n",
              "    <tr>\n",
              "      <th>3</th>\n",
              "      <td>1970-05-05 00:00:00</td>\n",
              "      <td>83010</td>\n",
              "      <td>NaN</td>\n",
              "      <td>25.0</td>\n",
              "      <td>27.0</td>\n",
              "      <td>32.6</td>\n",
              "      <td>NaN</td>\n",
              "      <td>92.0</td>\n",
              "      <td>1007.5</td>\n",
              "      <td>NaN</td>\n",
              "      <td>NaN</td>\n",
              "      <td>NaN</td>\n",
              "      <td>NaN</td>\n",
              "      <td>8.0</td>\n",
              "      <td>2.4</td>\n",
              "      <td>88.25</td>\n",
              "      <td>NaN</td>\n",
              "    </tr>\n",
              "    <tr>\n",
              "      <th>4</th>\n",
              "      <td>1970-05-05 12:00:00</td>\n",
              "      <td>83010</td>\n",
              "      <td>0.0</td>\n",
              "      <td>25.9</td>\n",
              "      <td>24.8</td>\n",
              "      <td>NaN</td>\n",
              "      <td>23.0</td>\n",
              "      <td>91.0</td>\n",
              "      <td>1006.4</td>\n",
              "      <td>NaN</td>\n",
              "      <td>NaN</td>\n",
              "      <td>NaN</td>\n",
              "      <td>NaN</td>\n",
              "      <td>4.0</td>\n",
              "      <td>NaN</td>\n",
              "      <td>NaN</td>\n",
              "      <td>NaN</td>\n",
              "    </tr>\n",
              "  </tbody>\n",
              "</table>\n",
              "</div>"
            ],
            "text/plain": [
              "                  date     id  prec  tair    tw  ...   n   cc  evap     ur  ws\n",
              "0  1970-05-04 00:00:00  83010   NaN   NaN   NaN  ... NaN  NaN   NaN  89.75 NaN\n",
              "1  1970-05-04 12:00:00  83010   NaN  25.3  24.0  ... NaN  5.0   NaN    NaN NaN\n",
              "2  1970-05-04 18:00:00  83010   NaN  29.2  27.1  ... NaN  4.0   NaN    NaN NaN\n",
              "3  1970-05-05 00:00:00  83010   NaN  25.0  27.0  ... NaN  8.0   2.4  88.25 NaN\n",
              "4  1970-05-05 12:00:00  83010   0.0  25.9  24.8  ... NaN  4.0   NaN    NaN NaN\n",
              "\n",
              "[5 rows x 17 columns]"
            ]
          },
          "metadata": {
            "tags": []
          },
          "execution_count": 16
        }
      ]
    },
    {
      "cell_type": "code",
      "metadata": {
        "id": "9XL-kyfjK1gX",
        "colab_type": "code",
        "outputId": "3624bd21-c333-4d80-d1fd-dc299d88e784",
        "colab": {
          "base_uri": "https://localhost:8080/",
          "height": 204
        }
      },
      "source": [
        "df_m.head()"
      ],
      "execution_count": 17,
      "outputs": [
        {
          "output_type": "execute_result",
          "data": {
            "text/html": [
              "<div>\n",
              "<style scoped>\n",
              "    .dataframe tbody tr th:only-of-type {\n",
              "        vertical-align: middle;\n",
              "    }\n",
              "\n",
              "    .dataframe tbody tr th {\n",
              "        vertical-align: top;\n",
              "    }\n",
              "\n",
              "    .dataframe thead th {\n",
              "        text-align: right;\n",
              "    }\n",
              "</style>\n",
              "<table border=\"1\" class=\"dataframe\">\n",
              "  <thead>\n",
              "    <tr style=\"text-align: right;\">\n",
              "      <th></th>\n",
              "      <th>id</th>\n",
              "      <th>lon</th>\n",
              "      <th>lat</th>\n",
              "      <th>alt</th>\n",
              "      <th>name</th>\n",
              "      <th>state</th>\n",
              "      <th>uf</th>\n",
              "      <th>time_zone</th>\n",
              "      <th>offset_utc</th>\n",
              "      <th>time_zone.1</th>\n",
              "      <th>offset_utc.1</th>\n",
              "    </tr>\n",
              "  </thead>\n",
              "  <tbody>\n",
              "    <tr>\n",
              "      <th>0</th>\n",
              "      <td>83010</td>\n",
              "      <td>-68.733333</td>\n",
              "      <td>-11.016667</td>\n",
              "      <td>260.00</td>\n",
              "      <td>Brasiléia</td>\n",
              "      <td>Acre</td>\n",
              "      <td>AC</td>\n",
              "      <td>America/Rio_Branco</td>\n",
              "      <td>-5</td>\n",
              "      <td>America/Rio_Branco</td>\n",
              "      <td>-5</td>\n",
              "    </tr>\n",
              "    <tr>\n",
              "      <th>1</th>\n",
              "      <td>82704</td>\n",
              "      <td>-72.666667</td>\n",
              "      <td>-7.633333</td>\n",
              "      <td>170.00</td>\n",
              "      <td>Cruzeiro do Sul</td>\n",
              "      <td>Acre</td>\n",
              "      <td>AC</td>\n",
              "      <td>America/Rio_Branco</td>\n",
              "      <td>-5</td>\n",
              "      <td>America/Rio_Branco</td>\n",
              "      <td>-5</td>\n",
              "    </tr>\n",
              "    <tr>\n",
              "      <th>2</th>\n",
              "      <td>82915</td>\n",
              "      <td>-67.800000</td>\n",
              "      <td>-9.966667</td>\n",
              "      <td>160.00</td>\n",
              "      <td>Rio Branco</td>\n",
              "      <td>Acre</td>\n",
              "      <td>AC</td>\n",
              "      <td>America/Rio_Branco</td>\n",
              "      <td>-5</td>\n",
              "      <td>America/Rio_Branco</td>\n",
              "      <td>-5</td>\n",
              "    </tr>\n",
              "    <tr>\n",
              "      <th>3</th>\n",
              "      <td>82807</td>\n",
              "      <td>-70.766667</td>\n",
              "      <td>-8.166667</td>\n",
              "      <td>190.00</td>\n",
              "      <td>Tarauacá</td>\n",
              "      <td>Acre</td>\n",
              "      <td>AC</td>\n",
              "      <td>America/Rio_Branco</td>\n",
              "      <td>-5</td>\n",
              "      <td>America/Rio_Branco</td>\n",
              "      <td>-5</td>\n",
              "    </tr>\n",
              "    <tr>\n",
              "      <th>4</th>\n",
              "      <td>83098</td>\n",
              "      <td>-36.166667</td>\n",
              "      <td>-10.150000</td>\n",
              "      <td>56.13</td>\n",
              "      <td>Coruripe</td>\n",
              "      <td>Alagoas</td>\n",
              "      <td>AL</td>\n",
              "      <td>America/Maceio</td>\n",
              "      <td>-3</td>\n",
              "      <td>America/Maceio</td>\n",
              "      <td>-3</td>\n",
              "    </tr>\n",
              "  </tbody>\n",
              "</table>\n",
              "</div>"
            ],
            "text/plain": [
              "      id        lon        lat  ...  offset_utc         time_zone.1 offset_utc.1\n",
              "0  83010 -68.733333 -11.016667  ...          -5  America/Rio_Branco           -5\n",
              "1  82704 -72.666667  -7.633333  ...          -5  America/Rio_Branco           -5\n",
              "2  82915 -67.800000  -9.966667  ...          -5  America/Rio_Branco           -5\n",
              "3  82807 -70.766667  -8.166667  ...          -5  America/Rio_Branco           -5\n",
              "4  83098 -36.166667 -10.150000  ...          -3      America/Maceio           -3\n",
              "\n",
              "[5 rows x 11 columns]"
            ]
          },
          "metadata": {
            "tags": []
          },
          "execution_count": 17
        }
      ]
    },
    {
      "cell_type": "markdown",
      "metadata": {
        "id": "-N5Chu1-spS2",
        "colab_type": "text"
      },
      "source": [
        "### Dicionário de dados:"
      ]
    },
    {
      "cell_type": "markdown",
      "metadata": {
        "id": "CNa0QZa1szu-",
        "colab_type": "text"
      },
      "source": [
        "<br><b>variável | descrição | unidade </b></br>\n",
        "<br>date | data e hora da coleta             -\n",
        "<br> id | ID da estação de coleta             -\n",
        "<br>prec | precipitação |       mm\n",
        "<br>tair | temperatura do ar  | graus Celsius\n",
        "<br>tw | temperatura de bulbo úmido |  graus Celsius\n",
        "<br>tmax | temperatura máxima do ar  | graus Celsius\n",
        "<br>tmin | temperatura mínima do ar  | graus Celsius\n",
        "<br>urmax | umidade relativa máxima  |             %\n",
        "<br>patm | pressão atmosférica         |    hPa\n",
        "<br>pnmm | pressão atmosférica média ao nível do mar  |           hPa\n",
        "<br>wd | direção do vento        |   graus\n",
        "<br>wsmax  |  rajadas de vento    |         m/s\n",
        "<br>n |  horas de sol          |     h\n",
        "<br>cc |   cobertura de nuvens    |           -\n",
        "<br>evap  |   evaporação        |      mm\n",
        "<br>ur  |   umidade relativa          |     %\n",
        "<br>ws   |   velocidade do vento       |      m/s\n",
        "\n"
      ]
    },
    {
      "cell_type": "markdown",
      "metadata": {
        "id": "PHi9-XWjq2LY",
        "colab_type": "text"
      },
      "source": [
        "## Explorando"
      ]
    },
    {
      "cell_type": "markdown",
      "metadata": {
        "id": "ShEluODmsRYn",
        "colab_type": "text"
      },
      "source": [
        "> **Hipótese**: as queimadas que ocorreram na amazônia, entre 8 e 22 de Agosto de 2019 influenciaram as temperaturas na região e/ou no restante do país?"
      ]
    },
    {
      "cell_type": "markdown",
      "metadata": {
        "id": "XyXuVGsAHmvd",
        "colab_type": "text"
      },
      "source": [
        "Primeiramente, vamos fazer que a coluna date seja do tipo **datetime**"
      ]
    },
    {
      "cell_type": "code",
      "metadata": {
        "id": "la0H-B-Fshza",
        "colab_type": "code",
        "outputId": "0e9d019b-4347-4bab-b33a-00f6083bdfeb",
        "colab": {
          "base_uri": "https://localhost:8080/",
          "height": 204
        }
      },
      "source": [
        "df.head()"
      ],
      "execution_count": 0,
      "outputs": [
        {
          "output_type": "execute_result",
          "data": {
            "text/html": [
              "<div>\n",
              "<style scoped>\n",
              "    .dataframe tbody tr th:only-of-type {\n",
              "        vertical-align: middle;\n",
              "    }\n",
              "\n",
              "    .dataframe tbody tr th {\n",
              "        vertical-align: top;\n",
              "    }\n",
              "\n",
              "    .dataframe thead th {\n",
              "        text-align: right;\n",
              "    }\n",
              "</style>\n",
              "<table border=\"1\" class=\"dataframe\">\n",
              "  <thead>\n",
              "    <tr style=\"text-align: right;\">\n",
              "      <th></th>\n",
              "      <th>date</th>\n",
              "      <th>id</th>\n",
              "      <th>prec</th>\n",
              "      <th>tair</th>\n",
              "      <th>tw</th>\n",
              "      <th>tmax</th>\n",
              "      <th>tmin</th>\n",
              "      <th>urmax</th>\n",
              "      <th>patm</th>\n",
              "      <th>pnmm</th>\n",
              "      <th>wd</th>\n",
              "      <th>wsmax</th>\n",
              "      <th>n</th>\n",
              "      <th>cc</th>\n",
              "      <th>evap</th>\n",
              "      <th>ur</th>\n",
              "      <th>ws</th>\n",
              "    </tr>\n",
              "  </thead>\n",
              "  <tbody>\n",
              "    <tr>\n",
              "      <th>0</th>\n",
              "      <td>1970-05-04 00:00:00</td>\n",
              "      <td>83010</td>\n",
              "      <td>NaN</td>\n",
              "      <td>NaN</td>\n",
              "      <td>NaN</td>\n",
              "      <td>32.6</td>\n",
              "      <td>NaN</td>\n",
              "      <td>NaN</td>\n",
              "      <td>NaN</td>\n",
              "      <td>NaN</td>\n",
              "      <td>NaN</td>\n",
              "      <td>NaN</td>\n",
              "      <td>NaN</td>\n",
              "      <td>NaN</td>\n",
              "      <td>NaN</td>\n",
              "      <td>89.75</td>\n",
              "      <td>NaN</td>\n",
              "    </tr>\n",
              "    <tr>\n",
              "      <th>1</th>\n",
              "      <td>1970-05-04 12:00:00</td>\n",
              "      <td>83010</td>\n",
              "      <td>NaN</td>\n",
              "      <td>25.3</td>\n",
              "      <td>24.0</td>\n",
              "      <td>NaN</td>\n",
              "      <td>23.7</td>\n",
              "      <td>90.0</td>\n",
              "      <td>1005.9</td>\n",
              "      <td>NaN</td>\n",
              "      <td>NaN</td>\n",
              "      <td>NaN</td>\n",
              "      <td>NaN</td>\n",
              "      <td>5.0</td>\n",
              "      <td>NaN</td>\n",
              "      <td>NaN</td>\n",
              "      <td>NaN</td>\n",
              "    </tr>\n",
              "    <tr>\n",
              "      <th>2</th>\n",
              "      <td>1970-05-04 18:00:00</td>\n",
              "      <td>83010</td>\n",
              "      <td>NaN</td>\n",
              "      <td>29.2</td>\n",
              "      <td>27.1</td>\n",
              "      <td>NaN</td>\n",
              "      <td>NaN</td>\n",
              "      <td>85.0</td>\n",
              "      <td>1004.2</td>\n",
              "      <td>NaN</td>\n",
              "      <td>NaN</td>\n",
              "      <td>NaN</td>\n",
              "      <td>NaN</td>\n",
              "      <td>4.0</td>\n",
              "      <td>NaN</td>\n",
              "      <td>NaN</td>\n",
              "      <td>NaN</td>\n",
              "    </tr>\n",
              "    <tr>\n",
              "      <th>3</th>\n",
              "      <td>1970-05-05 00:00:00</td>\n",
              "      <td>83010</td>\n",
              "      <td>NaN</td>\n",
              "      <td>25.0</td>\n",
              "      <td>27.0</td>\n",
              "      <td>32.6</td>\n",
              "      <td>NaN</td>\n",
              "      <td>92.0</td>\n",
              "      <td>1007.5</td>\n",
              "      <td>NaN</td>\n",
              "      <td>NaN</td>\n",
              "      <td>NaN</td>\n",
              "      <td>NaN</td>\n",
              "      <td>8.0</td>\n",
              "      <td>2.4</td>\n",
              "      <td>88.25</td>\n",
              "      <td>NaN</td>\n",
              "    </tr>\n",
              "    <tr>\n",
              "      <th>4</th>\n",
              "      <td>1970-05-05 12:00:00</td>\n",
              "      <td>83010</td>\n",
              "      <td>0.0</td>\n",
              "      <td>25.9</td>\n",
              "      <td>24.8</td>\n",
              "      <td>NaN</td>\n",
              "      <td>23.0</td>\n",
              "      <td>91.0</td>\n",
              "      <td>1006.4</td>\n",
              "      <td>NaN</td>\n",
              "      <td>NaN</td>\n",
              "      <td>NaN</td>\n",
              "      <td>NaN</td>\n",
              "      <td>4.0</td>\n",
              "      <td>NaN</td>\n",
              "      <td>NaN</td>\n",
              "      <td>NaN</td>\n",
              "    </tr>\n",
              "  </tbody>\n",
              "</table>\n",
              "</div>"
            ],
            "text/plain": [
              "                  date     id  prec  tair    tw  ...   n   cc  evap     ur  ws\n",
              "0  1970-05-04 00:00:00  83010   NaN   NaN   NaN  ... NaN  NaN   NaN  89.75 NaN\n",
              "1  1970-05-04 12:00:00  83010   NaN  25.3  24.0  ... NaN  5.0   NaN    NaN NaN\n",
              "2  1970-05-04 18:00:00  83010   NaN  29.2  27.1  ... NaN  4.0   NaN    NaN NaN\n",
              "3  1970-05-05 00:00:00  83010   NaN  25.0  27.0  ... NaN  8.0   2.4  88.25 NaN\n",
              "4  1970-05-05 12:00:00  83010   0.0  25.9  24.8  ... NaN  4.0   NaN    NaN NaN\n",
              "\n",
              "[5 rows x 17 columns]"
            ]
          },
          "metadata": {
            "tags": []
          },
          "execution_count": 8
        }
      ]
    },
    {
      "cell_type": "code",
      "metadata": {
        "id": "vZhijR7lH_FC",
        "colab_type": "code",
        "outputId": "0f4361de-054d-48b4-ad30-7525c098a2e0",
        "colab": {
          "base_uri": "https://localhost:8080/",
          "height": 323
        }
      },
      "source": [
        "df.dtypes"
      ],
      "execution_count": 0,
      "outputs": [
        {
          "output_type": "execute_result",
          "data": {
            "text/plain": [
              "date      object\n",
              "id         int64\n",
              "prec     float64\n",
              "tair     float64\n",
              "tw       float64\n",
              "tmax     float64\n",
              "tmin     float64\n",
              "urmax    float64\n",
              "patm     float64\n",
              "pnmm     float64\n",
              "wd       float64\n",
              "wsmax    float64\n",
              "n        float64\n",
              "cc       float64\n",
              "evap     float64\n",
              "ur       float64\n",
              "ws       float64\n",
              "dtype: object"
            ]
          },
          "metadata": {
            "tags": []
          },
          "execution_count": 9
        }
      ]
    },
    {
      "cell_type": "code",
      "metadata": {
        "id": "yrsOkvZNIrtU",
        "colab_type": "code",
        "colab": {}
      },
      "source": [
        "df['date'] = pd.to_datetime(df['date'])"
      ],
      "execution_count": 0,
      "outputs": []
    },
    {
      "cell_type": "code",
      "metadata": {
        "id": "CPlyAIIbI1sa",
        "colab_type": "code",
        "outputId": "1e83cecc-92ca-46f4-9b56-db17518fc5e1",
        "colab": {
          "base_uri": "https://localhost:8080/",
          "height": 323
        }
      },
      "source": [
        "df.dtypes"
      ],
      "execution_count": 23,
      "outputs": [
        {
          "output_type": "execute_result",
          "data": {
            "text/plain": [
              "date     datetime64[ns]\n",
              "id                int64\n",
              "prec            float64\n",
              "tair            float64\n",
              "tw              float64\n",
              "tmax            float64\n",
              "tmin            float64\n",
              "urmax           float64\n",
              "patm            float64\n",
              "pnmm            float64\n",
              "wd              float64\n",
              "wsmax           float64\n",
              "n               float64\n",
              "cc              float64\n",
              "evap            float64\n",
              "ur              float64\n",
              "ws              float64\n",
              "dtype: object"
            ]
          },
          "metadata": {
            "tags": []
          },
          "execution_count": 23
        }
      ]
    },
    {
      "cell_type": "markdown",
      "metadata": {
        "id": "jXK1WGo9JUoi",
        "colab_type": "text"
      },
      "source": [
        "Vamos selecionar o período desejado para a análise: 01/Ago a 31/Ago"
      ]
    },
    {
      "cell_type": "code",
      "metadata": {
        "id": "Gi3JD8dtLmJB",
        "colab_type": "code",
        "colab": {}
      },
      "source": [
        "start_date = pd.to_datetime('01/08/2019', dayfirst=True)\n",
        "end_date = pd.to_datetime('31/08/2019', dayfirst=True)"
      ],
      "execution_count": 0,
      "outputs": []
    },
    {
      "cell_type": "code",
      "metadata": {
        "id": "PyFM2AjIKO6F",
        "colab_type": "code",
        "colab": {}
      },
      "source": [
        "mask = (df['date'] > start_date) & (df['date'] < end_date)"
      ],
      "execution_count": 0,
      "outputs": []
    },
    {
      "cell_type": "code",
      "metadata": {
        "id": "XVQRYNoJKyJf",
        "colab_type": "code",
        "colab": {
          "base_uri": "https://localhost:8080/",
          "height": 34
        },
        "outputId": "489fe7cb-289e-44c4-9f8e-0a6028ecc629"
      },
      "source": [
        "df['date'].max()"
      ],
      "execution_count": 24,
      "outputs": [
        {
          "output_type": "execute_result",
          "data": {
            "text/plain": [
              "Timestamp('2018-12-31 18:00:00')"
            ]
          },
          "metadata": {
            "tags": []
          },
          "execution_count": 24
        }
      ]
    },
    {
      "cell_type": "markdown",
      "metadata": {
        "id": "I_AlNUFXO5Z0",
        "colab_type": "text"
      },
      "source": [
        "> <b>Não</b> temos dados de <b>2019</b>!!! Vamos baixar da fonte"
      ]
    },
    {
      "cell_type": "markdown",
      "metadata": {
        "id": "eLIgbRhrRlZm",
        "colab_type": "text"
      },
      "source": [
        "### Sobre a nuvem preta de SP"
      ]
    },
    {
      "cell_type": "markdown",
      "metadata": {
        "id": "MgRJpOB0Rowy",
        "colab_type": "text"
      },
      "source": [
        ">Segundo o documento, a passagem da frente fria fez o vento de camadas mais altas da atmosfera (entre mil metros e 5 mil metros de altitude) mudar de direção. Com isso, a fumaça acabou “direcionada para o estado de São Paulo, mas também para a região sul de Mato Grosso, Mato Grosso do Sul e Paraná”. O texto destaca, ainda, que o satélite Terra/MODIS, operado pela Nasa, detectou que uma grande quantidade de fumaça vinda da Bolívia e de Rondônia se encaminhava ao sul do Brasil no dia 17 de agosto. A fumaça, antes concentrada do sul do país, teria ganhado Paraná e Mato Grosso do Sul e alcançado São Paulo no dia 19 de agosto – justamente quando a tarde ficou escura na capital paulistana.<\n",
        "\n",
        ">Segundo o documento, a passagem da frente fria fez o vento de camadas mais altas da atmosfera (entre mil metros e 5 mil metros de altitude) mudar de direção. Com isso, a fumaça acabou “direcionada para o estado de São Paulo, mas também para a região sul de Mato Grosso, Mato Grosso do Sul e Paraná”. O texto destaca, ainda, que o satélite Terra/MODIS, operado pela Nasa, detectou que uma grande quantidade de fumaça vinda da Bolívia e de Rondônia se encaminhava ao sul do Brasil no dia 17 de agosto. A fumaça, antes concentrada do sul do país, teria ganhado Paraná e Mato Grosso do Sul e alcançado São Paulo no dia 19 de agosto – justamente quando a tarde ficou escura na capital paulistana.\n",
        "\n",
        ">Para notar a tal frente fria, bastava olhar os termômetros. Segundo o Inmet (Instituto Nacional de Meteorologia), na tarde do domingo (18), a temperatura às 15h era de 28,4°C. No mesmo horário do dia seguinte (19), registrou-se 15,3°C – um declínio de 13°C. Isso deixou o dia encoberto e com garoa em diferentes cidades do estado de São Paulo já no começo da segunda-feira. \n",
        "\n",
        ">“A sensação de escuridão foi por conta da formação de uma nuvem bastante baixa e densa, provavelmente uma nuvem Nimbustratus ou Cumulonimbus, que se formou na região de São Paulo, muito próxima a superfície. É normal acontecer, se tem o avanço da frente fria, dependendo das condições de umidade, pode se formar essas nuvens”, explicou o meteorologista do CPTEC, Maicon Veber.\n",
        "\n",
        ">“As partículas [de fumaça] funcionam como núcleo de condensação da água. Assim, gotículas de chuva menores são formadas, mas em grande quantidade, e isso faz com que uma maior parte da radiação solar seja refletida de volta para o espaço, a ponto de escurecer o solo”, explicou. [fonte](https://www.oeco.org.br/noticias/pesquisadores-descrevem-fenomeno-que-escureceu-sp-e-sua-relacao-com-as-queimadas-na-amazonia/) "
      ]
    },
    {
      "cell_type": "code",
      "metadata": {
        "id": "iGkV20FcJJaW",
        "colab_type": "code",
        "colab": {
          "base_uri": "https://localhost:8080/",
          "height": 34
        },
        "outputId": "ecfc9cef-2a44-4876-b634-56aec1d237b5"
      },
      "source": [
        "df['id'].nunique()"
      ],
      "execution_count": 26,
      "outputs": [
        {
          "output_type": "execute_result",
          "data": {
            "text/plain": [
              "389"
            ]
          },
          "metadata": {
            "tags": []
          },
          "execution_count": 26
        }
      ]
    },
    {
      "cell_type": "markdown",
      "metadata": {
        "id": "Ca-NPl4OJMMZ",
        "colab_type": "text"
      },
      "source": [
        "# Prophet\n",
        "## Quick Start\n",
        "\n",
        "Source: https://facebook.github.io/prophet/docs/quick_start.html"
      ]
    },
    {
      "cell_type": "code",
      "metadata": {
        "id": "g1hwNGOEHs4d",
        "colab_type": "code",
        "colab": {}
      },
      "source": [
        "import pandas as pd\n",
        "from fbprophet import Prophet"
      ],
      "execution_count": 0,
      "outputs": []
    },
    {
      "cell_type": "code",
      "metadata": {
        "id": "fhIpiZ2tIcUJ",
        "colab_type": "code",
        "colab": {}
      },
      "source": [
        "df = pd.read_csv(\"https://raw.githubusercontent.com/facebook/prophet/master/examples/example_wp_log_peyton_manning.csv\")\n",
        "df.head()"
      ],
      "execution_count": 0,
      "outputs": []
    },
    {
      "cell_type": "code",
      "metadata": {
        "id": "b89ThyctJFmZ",
        "colab_type": "code",
        "colab": {}
      },
      "source": [
        "m = Prophet()\n",
        "m.fit(df)"
      ],
      "execution_count": 0,
      "outputs": []
    },
    {
      "cell_type": "code",
      "metadata": {
        "id": "WfZpFYriJWWx",
        "colab_type": "code",
        "colab": {}
      },
      "source": [
        "future = m.make_future_dataframe(periods=365)\n",
        "future.tail()"
      ],
      "execution_count": 0,
      "outputs": []
    },
    {
      "cell_type": "code",
      "metadata": {
        "id": "IE6S-F3iJXZI",
        "colab_type": "code",
        "colab": {}
      },
      "source": [
        "forecast = m.predict(future)\n",
        "forecast[['ds', 'yhat', 'yhat_lower', 'yhat_upper']].tail()"
      ],
      "execution_count": 0,
      "outputs": []
    },
    {
      "cell_type": "code",
      "metadata": {
        "id": "UXzhagfOJZUL",
        "colab_type": "code",
        "colab": {}
      },
      "source": [
        "fig1 = m.plot(forecast)"
      ],
      "execution_count": 0,
      "outputs": []
    },
    {
      "cell_type": "code",
      "metadata": {
        "id": "yXHiF6f6JcKy",
        "colab_type": "code",
        "colab": {}
      },
      "source": [
        "fig2 = m.plot_components(forecast)"
      ],
      "execution_count": 0,
      "outputs": []
    }
  ]
}