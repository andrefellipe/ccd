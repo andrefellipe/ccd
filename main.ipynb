{
  "nbformat": 4,
  "nbformat_minor": 0,
  "metadata": {
    "colab": {
      "name": "main.ipynb",
      "provenance": [],
      "collapsed_sections": [],
      "include_colab_link": true
    },
    "kernelspec": {
      "name": "python3",
      "display_name": "Python 3"
    }
  },
  "cells": [
    {
      "cell_type": "markdown",
      "metadata": {
        "id": "view-in-github",
        "colab_type": "text"
      },
      "source": [
        "<a href=\"https://colab.research.google.com/github/vitorsr/ccd/blob/master/main.ipynb\" target=\"_parent\"><img src=\"https://colab.research.google.com/assets/colab-badge.svg\" alt=\"Open In Colab\"/></a>"
      ]
    },
    {
      "cell_type": "markdown",
      "metadata": {
        "id": "TqGQeZ0sCA-k",
        "colab_type": "text"
      },
      "source": [
        "# Importando dados"
      ]
    },
    {
      "cell_type": "code",
      "metadata": {
        "id": "hB420eiaCfAW",
        "colab_type": "code",
        "colab": {}
      },
      "source": [
        "import pandas as pd\n",
        "import os"
      ],
      "execution_count": 0,
      "outputs": []
    },
    {
      "cell_type": "code",
      "metadata": {
        "id": "69CSdZsN-XVT",
        "colab_type": "code",
        "outputId": "d6c9e852-f10f-4672-8167-f8540f3c97d8",
        "colab": {
          "base_uri": "https://localhost:8080/",
          "height": 479
        }
      },
      "source": [
        "!wget https://www.dropbox.com/s/7rriacb7c6vzf3m/ccd_2019.zip -O ccd_2019.zip\n",
        "!unzip ccd_2019.zip"
      ],
      "execution_count": 0,
      "outputs": [
        {
          "output_type": "stream",
          "text": [
            "--2019-10-25 18:18:37--  https://www.dropbox.com/s/7rriacb7c6vzf3m/ccd_2019.zip\n",
            "Resolving www.dropbox.com (www.dropbox.com)... 162.125.8.1, 2620:100:601f:1::a27d:901\n",
            "Connecting to www.dropbox.com (www.dropbox.com)|162.125.8.1|:443... connected.\n",
            "HTTP request sent, awaiting response... 301 Moved Permanently\n",
            "Location: /s/raw/7rriacb7c6vzf3m/ccd_2019.zip [following]\n",
            "--2019-10-25 18:18:37--  https://www.dropbox.com/s/raw/7rriacb7c6vzf3m/ccd_2019.zip\n",
            "Reusing existing connection to www.dropbox.com:443.\n",
            "HTTP request sent, awaiting response... 302 Found\n",
            "Location: https://ucb8701080627bcd6d12ca478523.dl.dropboxusercontent.com/cd/0/inline/ArFhIsNC4GBGa7_xzGdmg8HUTJod3sJNg6sDUVVniEJ5c-xnVUjcI8KLGQJwXn3HP2yLtsAoX87hpbpcUAMc_VCe7x45wJU4KGbqfKNYFFvTJEh77vFA2VEyojmAL8NAqHc/file# [following]\n",
            "--2019-10-25 18:18:38--  https://ucb8701080627bcd6d12ca478523.dl.dropboxusercontent.com/cd/0/inline/ArFhIsNC4GBGa7_xzGdmg8HUTJod3sJNg6sDUVVniEJ5c-xnVUjcI8KLGQJwXn3HP2yLtsAoX87hpbpcUAMc_VCe7x45wJU4KGbqfKNYFFvTJEh77vFA2VEyojmAL8NAqHc/file\n",
            "Resolving ucb8701080627bcd6d12ca478523.dl.dropboxusercontent.com (ucb8701080627bcd6d12ca478523.dl.dropboxusercontent.com)... 162.125.9.6, 2620:100:601b:6::a27d:806\n",
            "Connecting to ucb8701080627bcd6d12ca478523.dl.dropboxusercontent.com (ucb8701080627bcd6d12ca478523.dl.dropboxusercontent.com)|162.125.9.6|:443... connected.\n",
            "HTTP request sent, awaiting response... 302 FOUND\n",
            "Location: /cd/0/inline2/ArESHTPzFe3yCtY1kvARhstleFDUuvRIoBtuQxFclXIYKkBKvX3xT11-1JWJPVjCK-I9SsvJMnE9kkeVDQcETcpOcjd51uWPZ3NI0JURTTs_IN-zv8N5yMerA_rml70xOLagveb_u13cCdKt4XHc7tYMPo76VU6M_PAETazyZsarYJl_i3aBl9dRZEca-GASh5FynAR-bW0_OUCU6ScUYWHx5W0A3au1Z-SeaSSZZg1uV7VUH_Rlgz5tLKW7fQHxnc9Z4J0McOtDunkVOdnGmvn-JrDhGQXHXRS08v5ViKt3s7w98LFwgJsiKHccxKGof2Di9VoAYp2uT_UgIgVdKI8EFvllmevsvzHgQAEmbqM0AA/file [following]\n",
            "--2019-10-25 18:18:38--  https://ucb8701080627bcd6d12ca478523.dl.dropboxusercontent.com/cd/0/inline2/ArESHTPzFe3yCtY1kvARhstleFDUuvRIoBtuQxFclXIYKkBKvX3xT11-1JWJPVjCK-I9SsvJMnE9kkeVDQcETcpOcjd51uWPZ3NI0JURTTs_IN-zv8N5yMerA_rml70xOLagveb_u13cCdKt4XHc7tYMPo76VU6M_PAETazyZsarYJl_i3aBl9dRZEca-GASh5FynAR-bW0_OUCU6ScUYWHx5W0A3au1Z-SeaSSZZg1uV7VUH_Rlgz5tLKW7fQHxnc9Z4J0McOtDunkVOdnGmvn-JrDhGQXHXRS08v5ViKt3s7w98LFwgJsiKHccxKGof2Di9VoAYp2uT_UgIgVdKI8EFvllmevsvzHgQAEmbqM0AA/file\n",
            "Reusing existing connection to ucb8701080627bcd6d12ca478523.dl.dropboxusercontent.com:443.\n",
            "HTTP request sent, awaiting response... 200 OK\n",
            "Length: 214105380 (204M) [application/zip]\n",
            "Saving to: ‘ccd_2019.zip’\n",
            "\n",
            "ccd_2019.zip        100%[===================>] 204.19M  41.0MB/s    in 7.4s    \n",
            "\n",
            "2019-10-25 18:18:46 (27.7 MB/s) - ‘ccd_2019.zip’ saved [214105380/214105380]\n",
            "\n",
            "Archive:  ccd_2019.zip\n",
            "replace bdmep_meta.csv? [y]es, [n]o, [A]ll, [N]one, [r]ename: "
          ],
          "name": "stdout"
        }
      ]
    },
    {
      "cell_type": "markdown",
      "metadata": {
        "id": "OfzV4keyqh68",
        "colab_type": "text"
      },
      "source": [
        "Import csvs from git"
      ]
    },
    {
      "cell_type": "code",
      "metadata": {
        "id": "1lK6A5mmB9C6",
        "colab_type": "code",
        "colab": {}
      },
      "source": [
        "df_m = pd.read_csv(\"bdmep_meta.csv\")"
      ],
      "execution_count": 0,
      "outputs": []
    },
    {
      "cell_type": "code",
      "metadata": {
        "id": "FU_92u4FKZVQ",
        "colab_type": "code",
        "colab": {}
      },
      "source": [
        "df = pd.read_csv(\"inmetr.csv\")"
      ],
      "execution_count": 0,
      "outputs": []
    },
    {
      "cell_type": "code",
      "metadata": {
        "id": "OSJ9YEOGCyew",
        "colab_type": "code",
        "outputId": "cc8fce3f-21d9-4a2c-febe-60ac15fdb961",
        "colab": {
          "base_uri": "https://localhost:8080/",
          "height": 204
        }
      },
      "source": [
        "df.head()"
      ],
      "execution_count": 0,
      "outputs": [
        {
          "output_type": "execute_result",
          "data": {
            "text/html": [
              "<div>\n",
              "<style scoped>\n",
              "    .dataframe tbody tr th:only-of-type {\n",
              "        vertical-align: middle;\n",
              "    }\n",
              "\n",
              "    .dataframe tbody tr th {\n",
              "        vertical-align: top;\n",
              "    }\n",
              "\n",
              "    .dataframe thead th {\n",
              "        text-align: right;\n",
              "    }\n",
              "</style>\n",
              "<table border=\"1\" class=\"dataframe\">\n",
              "  <thead>\n",
              "    <tr style=\"text-align: right;\">\n",
              "      <th></th>\n",
              "      <th>date</th>\n",
              "      <th>id</th>\n",
              "      <th>prec</th>\n",
              "      <th>tair</th>\n",
              "      <th>tw</th>\n",
              "      <th>tmax</th>\n",
              "      <th>tmin</th>\n",
              "      <th>urmax</th>\n",
              "      <th>patm</th>\n",
              "      <th>pnmm</th>\n",
              "      <th>wd</th>\n",
              "      <th>wsmax</th>\n",
              "      <th>n</th>\n",
              "      <th>cc</th>\n",
              "      <th>evap</th>\n",
              "      <th>ur</th>\n",
              "      <th>ws</th>\n",
              "    </tr>\n",
              "  </thead>\n",
              "  <tbody>\n",
              "    <tr>\n",
              "      <th>0</th>\n",
              "      <td>1970-05-04 00:00:00</td>\n",
              "      <td>83010</td>\n",
              "      <td>NaN</td>\n",
              "      <td>NaN</td>\n",
              "      <td>NaN</td>\n",
              "      <td>32.6</td>\n",
              "      <td>NaN</td>\n",
              "      <td>NaN</td>\n",
              "      <td>NaN</td>\n",
              "      <td>NaN</td>\n",
              "      <td>NaN</td>\n",
              "      <td>NaN</td>\n",
              "      <td>NaN</td>\n",
              "      <td>NaN</td>\n",
              "      <td>NaN</td>\n",
              "      <td>89.75</td>\n",
              "      <td>NaN</td>\n",
              "    </tr>\n",
              "    <tr>\n",
              "      <th>1</th>\n",
              "      <td>1970-05-04 12:00:00</td>\n",
              "      <td>83010</td>\n",
              "      <td>NaN</td>\n",
              "      <td>25.3</td>\n",
              "      <td>24.0</td>\n",
              "      <td>NaN</td>\n",
              "      <td>23.7</td>\n",
              "      <td>90.0</td>\n",
              "      <td>1005.9</td>\n",
              "      <td>NaN</td>\n",
              "      <td>NaN</td>\n",
              "      <td>NaN</td>\n",
              "      <td>NaN</td>\n",
              "      <td>5.0</td>\n",
              "      <td>NaN</td>\n",
              "      <td>NaN</td>\n",
              "      <td>NaN</td>\n",
              "    </tr>\n",
              "    <tr>\n",
              "      <th>2</th>\n",
              "      <td>1970-05-04 18:00:00</td>\n",
              "      <td>83010</td>\n",
              "      <td>NaN</td>\n",
              "      <td>29.2</td>\n",
              "      <td>27.1</td>\n",
              "      <td>NaN</td>\n",
              "      <td>NaN</td>\n",
              "      <td>85.0</td>\n",
              "      <td>1004.2</td>\n",
              "      <td>NaN</td>\n",
              "      <td>NaN</td>\n",
              "      <td>NaN</td>\n",
              "      <td>NaN</td>\n",
              "      <td>4.0</td>\n",
              "      <td>NaN</td>\n",
              "      <td>NaN</td>\n",
              "      <td>NaN</td>\n",
              "    </tr>\n",
              "    <tr>\n",
              "      <th>3</th>\n",
              "      <td>1970-05-05 00:00:00</td>\n",
              "      <td>83010</td>\n",
              "      <td>NaN</td>\n",
              "      <td>25.0</td>\n",
              "      <td>27.0</td>\n",
              "      <td>32.6</td>\n",
              "      <td>NaN</td>\n",
              "      <td>92.0</td>\n",
              "      <td>1007.5</td>\n",
              "      <td>NaN</td>\n",
              "      <td>NaN</td>\n",
              "      <td>NaN</td>\n",
              "      <td>NaN</td>\n",
              "      <td>8.0</td>\n",
              "      <td>2.4</td>\n",
              "      <td>88.25</td>\n",
              "      <td>NaN</td>\n",
              "    </tr>\n",
              "    <tr>\n",
              "      <th>4</th>\n",
              "      <td>1970-05-05 12:00:00</td>\n",
              "      <td>83010</td>\n",
              "      <td>0.0</td>\n",
              "      <td>25.9</td>\n",
              "      <td>24.8</td>\n",
              "      <td>NaN</td>\n",
              "      <td>23.0</td>\n",
              "      <td>91.0</td>\n",
              "      <td>1006.4</td>\n",
              "      <td>NaN</td>\n",
              "      <td>NaN</td>\n",
              "      <td>NaN</td>\n",
              "      <td>NaN</td>\n",
              "      <td>4.0</td>\n",
              "      <td>NaN</td>\n",
              "      <td>NaN</td>\n",
              "      <td>NaN</td>\n",
              "    </tr>\n",
              "  </tbody>\n",
              "</table>\n",
              "</div>"
            ],
            "text/plain": [
              "                  date     id  prec  tair    tw  ...   n   cc  evap     ur  ws\n",
              "0  1970-05-04 00:00:00  83010   NaN   NaN   NaN  ... NaN  NaN   NaN  89.75 NaN\n",
              "1  1970-05-04 12:00:00  83010   NaN  25.3  24.0  ... NaN  5.0   NaN    NaN NaN\n",
              "2  1970-05-04 18:00:00  83010   NaN  29.2  27.1  ... NaN  4.0   NaN    NaN NaN\n",
              "3  1970-05-05 00:00:00  83010   NaN  25.0  27.0  ... NaN  8.0   2.4  88.25 NaN\n",
              "4  1970-05-05 12:00:00  83010   0.0  25.9  24.8  ... NaN  4.0   NaN    NaN NaN\n",
              "\n",
              "[5 rows x 17 columns]"
            ]
          },
          "metadata": {
            "tags": []
          },
          "execution_count": 16
        }
      ]
    },
    {
      "cell_type": "code",
      "metadata": {
        "id": "9XL-kyfjK1gX",
        "colab_type": "code",
        "outputId": "3624bd21-c333-4d80-d1fd-dc299d88e784",
        "colab": {
          "base_uri": "https://localhost:8080/",
          "height": 204
        }
      },
      "source": [
        "df_m.head()"
      ],
      "execution_count": 0,
      "outputs": [
        {
          "output_type": "execute_result",
          "data": {
            "text/html": [
              "<div>\n",
              "<style scoped>\n",
              "    .dataframe tbody tr th:only-of-type {\n",
              "        vertical-align: middle;\n",
              "    }\n",
              "\n",
              "    .dataframe tbody tr th {\n",
              "        vertical-align: top;\n",
              "    }\n",
              "\n",
              "    .dataframe thead th {\n",
              "        text-align: right;\n",
              "    }\n",
              "</style>\n",
              "<table border=\"1\" class=\"dataframe\">\n",
              "  <thead>\n",
              "    <tr style=\"text-align: right;\">\n",
              "      <th></th>\n",
              "      <th>id</th>\n",
              "      <th>lon</th>\n",
              "      <th>lat</th>\n",
              "      <th>alt</th>\n",
              "      <th>name</th>\n",
              "      <th>state</th>\n",
              "      <th>uf</th>\n",
              "      <th>time_zone</th>\n",
              "      <th>offset_utc</th>\n",
              "      <th>time_zone.1</th>\n",
              "      <th>offset_utc.1</th>\n",
              "    </tr>\n",
              "  </thead>\n",
              "  <tbody>\n",
              "    <tr>\n",
              "      <th>0</th>\n",
              "      <td>83010</td>\n",
              "      <td>-68.733333</td>\n",
              "      <td>-11.016667</td>\n",
              "      <td>260.00</td>\n",
              "      <td>Brasiléia</td>\n",
              "      <td>Acre</td>\n",
              "      <td>AC</td>\n",
              "      <td>America/Rio_Branco</td>\n",
              "      <td>-5</td>\n",
              "      <td>America/Rio_Branco</td>\n",
              "      <td>-5</td>\n",
              "    </tr>\n",
              "    <tr>\n",
              "      <th>1</th>\n",
              "      <td>82704</td>\n",
              "      <td>-72.666667</td>\n",
              "      <td>-7.633333</td>\n",
              "      <td>170.00</td>\n",
              "      <td>Cruzeiro do Sul</td>\n",
              "      <td>Acre</td>\n",
              "      <td>AC</td>\n",
              "      <td>America/Rio_Branco</td>\n",
              "      <td>-5</td>\n",
              "      <td>America/Rio_Branco</td>\n",
              "      <td>-5</td>\n",
              "    </tr>\n",
              "    <tr>\n",
              "      <th>2</th>\n",
              "      <td>82915</td>\n",
              "      <td>-67.800000</td>\n",
              "      <td>-9.966667</td>\n",
              "      <td>160.00</td>\n",
              "      <td>Rio Branco</td>\n",
              "      <td>Acre</td>\n",
              "      <td>AC</td>\n",
              "      <td>America/Rio_Branco</td>\n",
              "      <td>-5</td>\n",
              "      <td>America/Rio_Branco</td>\n",
              "      <td>-5</td>\n",
              "    </tr>\n",
              "    <tr>\n",
              "      <th>3</th>\n",
              "      <td>82807</td>\n",
              "      <td>-70.766667</td>\n",
              "      <td>-8.166667</td>\n",
              "      <td>190.00</td>\n",
              "      <td>Tarauacá</td>\n",
              "      <td>Acre</td>\n",
              "      <td>AC</td>\n",
              "      <td>America/Rio_Branco</td>\n",
              "      <td>-5</td>\n",
              "      <td>America/Rio_Branco</td>\n",
              "      <td>-5</td>\n",
              "    </tr>\n",
              "    <tr>\n",
              "      <th>4</th>\n",
              "      <td>83098</td>\n",
              "      <td>-36.166667</td>\n",
              "      <td>-10.150000</td>\n",
              "      <td>56.13</td>\n",
              "      <td>Coruripe</td>\n",
              "      <td>Alagoas</td>\n",
              "      <td>AL</td>\n",
              "      <td>America/Maceio</td>\n",
              "      <td>-3</td>\n",
              "      <td>America/Maceio</td>\n",
              "      <td>-3</td>\n",
              "    </tr>\n",
              "  </tbody>\n",
              "</table>\n",
              "</div>"
            ],
            "text/plain": [
              "      id        lon        lat  ...  offset_utc         time_zone.1 offset_utc.1\n",
              "0  83010 -68.733333 -11.016667  ...          -5  America/Rio_Branco           -5\n",
              "1  82704 -72.666667  -7.633333  ...          -5  America/Rio_Branco           -5\n",
              "2  82915 -67.800000  -9.966667  ...          -5  America/Rio_Branco           -5\n",
              "3  82807 -70.766667  -8.166667  ...          -5  America/Rio_Branco           -5\n",
              "4  83098 -36.166667 -10.150000  ...          -3      America/Maceio           -3\n",
              "\n",
              "[5 rows x 11 columns]"
            ]
          },
          "metadata": {
            "tags": []
          },
          "execution_count": 17
        }
      ]
    },
    {
      "cell_type": "markdown",
      "metadata": {
        "id": "-N5Chu1-spS2",
        "colab_type": "text"
      },
      "source": [
        "### Dicionário de dados:"
      ]
    },
    {
      "cell_type": "markdown",
      "metadata": {
        "id": "CNa0QZa1szu-",
        "colab_type": "text"
      },
      "source": [
        "<br><b>variável | descrição | unidade </b></br>\n",
        "<br>date | data e hora da coleta             -\n",
        "<br> id | ID da estação de coleta             -\n",
        "<br>prec | precipitação |       mm\n",
        "<br>tair | temperatura do ar  | graus Celsius\n",
        "<br>tw | temperatura de bulbo úmido |  graus Celsius\n",
        "<br>tmax | temperatura máxima do ar  | graus Celsius\n",
        "<br>tmin | temperatura mínima do ar  | graus Celsius\n",
        "<br>urmax | umidade relativa máxima  |             %\n",
        "<br>patm | pressão atmosférica         |    hPa\n",
        "<br>pnmm | pressão atmosférica média ao nível do mar  |           hPa\n",
        "<br>wd | direção do vento        |   graus\n",
        "<br>wsmax  |  rajadas de vento    |         m/s\n",
        "<br>n |  horas de sol          |     h\n",
        "<br>cc |   cobertura de nuvens    |           -\n",
        "<br>evap  |   evaporação        |      mm\n",
        "<br>ur  |   umidade relativa          |     %\n",
        "<br>ws   |   velocidade do vento       |      m/s\n",
        "\n"
      ]
    },
    {
      "cell_type": "markdown",
      "metadata": {
        "id": "PHi9-XWjq2LY",
        "colab_type": "text"
      },
      "source": [
        "## Explorando"
      ]
    },
    {
      "cell_type": "markdown",
      "metadata": {
        "id": "ShEluODmsRYn",
        "colab_type": "text"
      },
      "source": [
        "> **Hipótese**: as queimadas que ocorreram na amazônia, entre 8 e 22 de Agosto de 2019 influenciaram as temperaturas na região e/ou no restante do país?"
      ]
    },
    {
      "cell_type": "markdown",
      "metadata": {
        "id": "XyXuVGsAHmvd",
        "colab_type": "text"
      },
      "source": [
        "Primeiramente, vamos fazer que a coluna date seja do tipo **datetime**"
      ]
    },
    {
      "cell_type": "code",
      "metadata": {
        "id": "la0H-B-Fshza",
        "colab_type": "code",
        "outputId": "0e9d019b-4347-4bab-b33a-00f6083bdfeb",
        "colab": {
          "base_uri": "https://localhost:8080/",
          "height": 204
        }
      },
      "source": [
        "df.head()"
      ],
      "execution_count": 0,
      "outputs": [
        {
          "output_type": "execute_result",
          "data": {
            "text/html": [
              "<div>\n",
              "<style scoped>\n",
              "    .dataframe tbody tr th:only-of-type {\n",
              "        vertical-align: middle;\n",
              "    }\n",
              "\n",
              "    .dataframe tbody tr th {\n",
              "        vertical-align: top;\n",
              "    }\n",
              "\n",
              "    .dataframe thead th {\n",
              "        text-align: right;\n",
              "    }\n",
              "</style>\n",
              "<table border=\"1\" class=\"dataframe\">\n",
              "  <thead>\n",
              "    <tr style=\"text-align: right;\">\n",
              "      <th></th>\n",
              "      <th>date</th>\n",
              "      <th>id</th>\n",
              "      <th>prec</th>\n",
              "      <th>tair</th>\n",
              "      <th>tw</th>\n",
              "      <th>tmax</th>\n",
              "      <th>tmin</th>\n",
              "      <th>urmax</th>\n",
              "      <th>patm</th>\n",
              "      <th>pnmm</th>\n",
              "      <th>wd</th>\n",
              "      <th>wsmax</th>\n",
              "      <th>n</th>\n",
              "      <th>cc</th>\n",
              "      <th>evap</th>\n",
              "      <th>ur</th>\n",
              "      <th>ws</th>\n",
              "    </tr>\n",
              "  </thead>\n",
              "  <tbody>\n",
              "    <tr>\n",
              "      <th>0</th>\n",
              "      <td>1970-05-04 00:00:00</td>\n",
              "      <td>83010</td>\n",
              "      <td>NaN</td>\n",
              "      <td>NaN</td>\n",
              "      <td>NaN</td>\n",
              "      <td>32.6</td>\n",
              "      <td>NaN</td>\n",
              "      <td>NaN</td>\n",
              "      <td>NaN</td>\n",
              "      <td>NaN</td>\n",
              "      <td>NaN</td>\n",
              "      <td>NaN</td>\n",
              "      <td>NaN</td>\n",
              "      <td>NaN</td>\n",
              "      <td>NaN</td>\n",
              "      <td>89.75</td>\n",
              "      <td>NaN</td>\n",
              "    </tr>\n",
              "    <tr>\n",
              "      <th>1</th>\n",
              "      <td>1970-05-04 12:00:00</td>\n",
              "      <td>83010</td>\n",
              "      <td>NaN</td>\n",
              "      <td>25.3</td>\n",
              "      <td>24.0</td>\n",
              "      <td>NaN</td>\n",
              "      <td>23.7</td>\n",
              "      <td>90.0</td>\n",
              "      <td>1005.9</td>\n",
              "      <td>NaN</td>\n",
              "      <td>NaN</td>\n",
              "      <td>NaN</td>\n",
              "      <td>NaN</td>\n",
              "      <td>5.0</td>\n",
              "      <td>NaN</td>\n",
              "      <td>NaN</td>\n",
              "      <td>NaN</td>\n",
              "    </tr>\n",
              "    <tr>\n",
              "      <th>2</th>\n",
              "      <td>1970-05-04 18:00:00</td>\n",
              "      <td>83010</td>\n",
              "      <td>NaN</td>\n",
              "      <td>29.2</td>\n",
              "      <td>27.1</td>\n",
              "      <td>NaN</td>\n",
              "      <td>NaN</td>\n",
              "      <td>85.0</td>\n",
              "      <td>1004.2</td>\n",
              "      <td>NaN</td>\n",
              "      <td>NaN</td>\n",
              "      <td>NaN</td>\n",
              "      <td>NaN</td>\n",
              "      <td>4.0</td>\n",
              "      <td>NaN</td>\n",
              "      <td>NaN</td>\n",
              "      <td>NaN</td>\n",
              "    </tr>\n",
              "    <tr>\n",
              "      <th>3</th>\n",
              "      <td>1970-05-05 00:00:00</td>\n",
              "      <td>83010</td>\n",
              "      <td>NaN</td>\n",
              "      <td>25.0</td>\n",
              "      <td>27.0</td>\n",
              "      <td>32.6</td>\n",
              "      <td>NaN</td>\n",
              "      <td>92.0</td>\n",
              "      <td>1007.5</td>\n",
              "      <td>NaN</td>\n",
              "      <td>NaN</td>\n",
              "      <td>NaN</td>\n",
              "      <td>NaN</td>\n",
              "      <td>8.0</td>\n",
              "      <td>2.4</td>\n",
              "      <td>88.25</td>\n",
              "      <td>NaN</td>\n",
              "    </tr>\n",
              "    <tr>\n",
              "      <th>4</th>\n",
              "      <td>1970-05-05 12:00:00</td>\n",
              "      <td>83010</td>\n",
              "      <td>0.0</td>\n",
              "      <td>25.9</td>\n",
              "      <td>24.8</td>\n",
              "      <td>NaN</td>\n",
              "      <td>23.0</td>\n",
              "      <td>91.0</td>\n",
              "      <td>1006.4</td>\n",
              "      <td>NaN</td>\n",
              "      <td>NaN</td>\n",
              "      <td>NaN</td>\n",
              "      <td>NaN</td>\n",
              "      <td>4.0</td>\n",
              "      <td>NaN</td>\n",
              "      <td>NaN</td>\n",
              "      <td>NaN</td>\n",
              "    </tr>\n",
              "  </tbody>\n",
              "</table>\n",
              "</div>"
            ],
            "text/plain": [
              "                  date     id  prec  tair    tw  ...   n   cc  evap     ur  ws\n",
              "0  1970-05-04 00:00:00  83010   NaN   NaN   NaN  ... NaN  NaN   NaN  89.75 NaN\n",
              "1  1970-05-04 12:00:00  83010   NaN  25.3  24.0  ... NaN  5.0   NaN    NaN NaN\n",
              "2  1970-05-04 18:00:00  83010   NaN  29.2  27.1  ... NaN  4.0   NaN    NaN NaN\n",
              "3  1970-05-05 00:00:00  83010   NaN  25.0  27.0  ... NaN  8.0   2.4  88.25 NaN\n",
              "4  1970-05-05 12:00:00  83010   0.0  25.9  24.8  ... NaN  4.0   NaN    NaN NaN\n",
              "\n",
              "[5 rows x 17 columns]"
            ]
          },
          "metadata": {
            "tags": []
          },
          "execution_count": 8
        }
      ]
    },
    {
      "cell_type": "code",
      "metadata": {
        "id": "vZhijR7lH_FC",
        "colab_type": "code",
        "outputId": "0f4361de-054d-48b4-ad30-7525c098a2e0",
        "colab": {
          "base_uri": "https://localhost:8080/",
          "height": 323
        }
      },
      "source": [
        "df.dtypes"
      ],
      "execution_count": 0,
      "outputs": [
        {
          "output_type": "execute_result",
          "data": {
            "text/plain": [
              "date      object\n",
              "id         int64\n",
              "prec     float64\n",
              "tair     float64\n",
              "tw       float64\n",
              "tmax     float64\n",
              "tmin     float64\n",
              "urmax    float64\n",
              "patm     float64\n",
              "pnmm     float64\n",
              "wd       float64\n",
              "wsmax    float64\n",
              "n        float64\n",
              "cc       float64\n",
              "evap     float64\n",
              "ur       float64\n",
              "ws       float64\n",
              "dtype: object"
            ]
          },
          "metadata": {
            "tags": []
          },
          "execution_count": 9
        }
      ]
    },
    {
      "cell_type": "code",
      "metadata": {
        "id": "yrsOkvZNIrtU",
        "colab_type": "code",
        "colab": {}
      },
      "source": [
        "df['date'] = pd.to_datetime(df['date'])"
      ],
      "execution_count": 0,
      "outputs": []
    },
    {
      "cell_type": "code",
      "metadata": {
        "id": "CPlyAIIbI1sa",
        "colab_type": "code",
        "outputId": "1e83cecc-92ca-46f4-9b56-db17518fc5e1",
        "colab": {
          "base_uri": "https://localhost:8080/",
          "height": 323
        }
      },
      "source": [
        "df.dtypes"
      ],
      "execution_count": 0,
      "outputs": [
        {
          "output_type": "execute_result",
          "data": {
            "text/plain": [
              "date     datetime64[ns]\n",
              "id                int64\n",
              "prec            float64\n",
              "tair            float64\n",
              "tw              float64\n",
              "tmax            float64\n",
              "tmin            float64\n",
              "urmax           float64\n",
              "patm            float64\n",
              "pnmm            float64\n",
              "wd              float64\n",
              "wsmax           float64\n",
              "n               float64\n",
              "cc              float64\n",
              "evap            float64\n",
              "ur              float64\n",
              "ws              float64\n",
              "dtype: object"
            ]
          },
          "metadata": {
            "tags": []
          },
          "execution_count": 23
        }
      ]
    },
    {
      "cell_type": "markdown",
      "metadata": {
        "id": "jXK1WGo9JUoi",
        "colab_type": "text"
      },
      "source": [
        "\n",
        "\n",
        "```\n",
        "# This is formatted as code\n",
        "```\n",
        "\n",
        "Vamos selecionar o período desejado para a análise: 01/Ago a 31/Ago"
      ]
    },
    {
      "cell_type": "code",
      "metadata": {
        "id": "Gi3JD8dtLmJB",
        "colab_type": "code",
        "colab": {}
      },
      "source": [
        "start_date = pd.to_datetime('01/08/2019', dayfirst=True)\n",
        "end_date = pd.to_datetime('31/08/2019', dayfirst=True)"
      ],
      "execution_count": 0,
      "outputs": []
    },
    {
      "cell_type": "code",
      "metadata": {
        "id": "PyFM2AjIKO6F",
        "colab_type": "code",
        "colab": {}
      },
      "source": [
        "mask = (df['date'] > start_date) & (df['date'] < end_date)"
      ],
      "execution_count": 0,
      "outputs": []
    },
    {
      "cell_type": "code",
      "metadata": {
        "id": "XVQRYNoJKyJf",
        "colab_type": "code",
        "outputId": "489fe7cb-289e-44c4-9f8e-0a6028ecc629",
        "colab": {
          "base_uri": "https://localhost:8080/",
          "height": 34
        }
      },
      "source": [
        "df['date'].max()"
      ],
      "execution_count": 0,
      "outputs": [
        {
          "output_type": "execute_result",
          "data": {
            "text/plain": [
              "Timestamp('2018-12-31 18:00:00')"
            ]
          },
          "metadata": {
            "tags": []
          },
          "execution_count": 24
        }
      ]
    },
    {
      "cell_type": "markdown",
      "metadata": {
        "id": "I_AlNUFXO5Z0",
        "colab_type": "text"
      },
      "source": [
        "> <b>Não</b> temos dados de <b>2019</b>!!! Vamos baixar da fonte"
      ]
    },
    {
      "cell_type": "code",
      "metadata": {
        "id": "VG3RlnHMqwpL",
        "colab_type": "code",
        "colab": {
          "base_uri": "https://localhost:8080/",
          "height": 1000
        },
        "outputId": "cede2678-3579-42e9-8258-2c28dba57a13"
      },
      "source": [
        "!wget \"https://onedrive.live.com/download?cid=BCBADB0836C97273&resid=BCBADB0836C97273%21115485&authkey=AJlb41BWz0YiBd8\" -O 2019.zip\n",
        "!unzip 2019.zip"
      ],
      "execution_count": 45,
      "outputs": [
        {
          "output_type": "stream",
          "text": [
            "--2019-10-25 21:06:58--  https://onedrive.live.com/download?cid=BCBADB0836C97273&resid=BCBADB0836C97273%21115485&authkey=AJlb41BWz0YiBd8\n",
            "Resolving onedrive.live.com (onedrive.live.com)... 13.107.42.13\n",
            "Connecting to onedrive.live.com (onedrive.live.com)|13.107.42.13|:443... connected.\n",
            "HTTP request sent, awaiting response... 302 Found\n",
            "Location: https://c9quda.bn.files.1drv.com/y4m7EqylrX6a0BtNXmtH14tmIGGf_QGpl0tJX07tDMq2ioXDPF1Nvz-hAjAcIqK5ymi6tyiOAHj3ZxT9tIseOcF97eV8tae4KgTVUvTgbshMNyM4yYNI8OQ0OH9WDeEwZs8rJYv5DDMGYsVsrLnIa1xKkcjuEOAEhssfAUWLm0gRb-0P8sIyRfQz4XONRTSmxeJYpq1-d6i1P-mmiuR-OH-Uw/2019.zip?download&psid=1 [following]\n",
            "--2019-10-25 21:06:59--  https://c9quda.bn.files.1drv.com/y4m7EqylrX6a0BtNXmtH14tmIGGf_QGpl0tJX07tDMq2ioXDPF1Nvz-hAjAcIqK5ymi6tyiOAHj3ZxT9tIseOcF97eV8tae4KgTVUvTgbshMNyM4yYNI8OQ0OH9WDeEwZs8rJYv5DDMGYsVsrLnIa1xKkcjuEOAEhssfAUWLm0gRb-0P8sIyRfQz4XONRTSmxeJYpq1-d6i1P-mmiuR-OH-Uw/2019.zip?download&psid=1\n",
            "Resolving c9quda.bn.files.1drv.com (c9quda.bn.files.1drv.com)... 13.107.43.12\n",
            "Connecting to c9quda.bn.files.1drv.com (c9quda.bn.files.1drv.com)|13.107.43.12|:443... connected.\n",
            "HTTP request sent, awaiting response... 200 OK\n",
            "Length: 1857551 (1.8M) [application/zip]\n",
            "Saving to: ‘2019.zip’\n",
            "\n",
            "2019.zip            100%[===================>]   1.77M  --.-KB/s    in 0.1s    \n",
            "\n",
            "2019-10-25 21:07:00 (16.4 MB/s) - ‘2019.zip’ saved [1857551/1857551]\n",
            "\n",
            "Archive:  2019.zip\n",
            "replace 2019/82024.csv? [y]es, [n]o, [A]ll, [N]one, [r]ename: y\n",
            "  inflating: 2019/82024.csv          \n",
            "replace 2019/82042.csv? [y]es, [n]o, [A]ll, [N]one, [r]ename: y\n",
            "  inflating: 2019/82042.csv          \n",
            "replace 2019/82098.csv? [y]es, [n]o, [A]ll, [N]one, [r]ename: y\n",
            "  inflating: 2019/82098.csv          \n",
            "replace 2019/82106.csv? [y]es, [n]o, [A]ll, [N]one, [r]ename: y\n",
            "  inflating: 2019/82106.csv          \n",
            "replace 2019/82113.csv? [y]es, [n]o, [A]ll, [N]one, [r]ename: y\n",
            "  inflating: 2019/82113.csv          \n",
            "replace 2019/82141.csv? [y]es, [n]o, [A]ll, [N]one, [r]ename: y\n",
            "  inflating: 2019/82141.csv          \n",
            "replace 2019/82145.csv? [y]es, [n]o, [A]ll, [N]one, [r]ename: y\n",
            "  inflating: 2019/82145.csv          \n",
            "replace 2019/82178.csv? [y]es, [n]o, [A]ll, [N]one, [r]ename: y\n",
            "  inflating: 2019/82178.csv          \n",
            "replace 2019/82181.csv? [y]es, [n]o, [A]ll, [N]one, [r]ename: y\n",
            "  inflating: 2019/82181.csv          \n",
            "replace 2019/82184.csv? [y]es, [n]o, [A]ll, [N]one, [r]ename: y\n",
            "  inflating: 2019/82184.csv          \n",
            "replace 2019/82188.csv? [y]es, [n]o, [A]ll, [N]one, [r]ename: y\n",
            "  inflating: 2019/82188.csv          \n",
            "replace 2019/82191.csv? [y]es, [n]o, [A]ll, [N]one, [r]ename: y\n",
            "  inflating: 2019/82191.csv          \n",
            "replace 2019/82198.csv? [y]es, [n]o, [A]ll, [N]one, [r]ename: y\n",
            "  inflating: 2019/82198.csv          \n",
            "replace 2019/82212.csv? [y]es, [n]o, [A]ll, [N]one, [r]ename: y\n",
            "  inflating: 2019/82212.csv          \n",
            "replace 2019/82246.csv? [y]es, [n]o, [A]ll, [N]one, [r]ename: y\n",
            "  inflating: 2019/82246.csv          \n",
            "replace 2019/82263.csv? [y]es, [n]o, [A]ll, [N]one, [r]ename: y\n",
            "  inflating: 2019/82263.csv          \n",
            "replace 2019/82280.csv? [y]es, [n]o, [A]ll, [N]one, [r]ename: y\n",
            "  inflating: 2019/82280.csv          \n",
            "replace 2019/82317.csv? [y]es, [n]o, [A]ll, [N]one, [r]ename: y\n",
            "  inflating: 2019/82317.csv          \n",
            "replace 2019/82326.csv? [y]es, [n]o, [A]ll, [N]one, [r]ename: y\n",
            "  inflating: 2019/82326.csv          \n",
            "replace 2019/82331.csv? [y]es, [n]o, [A]ll, [N]one, [r]ename: y\n",
            "  inflating: 2019/82331.csv          \n",
            "replace 2019/82336.csv? [y]es, [n]o, [A]ll, [N]one, [r]ename: y\n",
            "  inflating: 2019/82336.csv          \n",
            "replace 2019/82353.csv? [y]es, [n]o, [A]ll, [N]one, [r]ename: y\n",
            "  inflating: 2019/82353.csv          \n",
            "replace 2019/82361.csv? [y]es, [n]o, [A]ll, [N]one, [r]ename: y\n",
            "  inflating: 2019/82361.csv          \n",
            "replace 2019/82376.csv? [y]es, [n]o, [A]ll, [N]one, [r]ename: y\n",
            "  inflating: 2019/82376.csv          \n",
            "replace 2019/82382.csv? [y]es, [n]o, [A]ll, [N]one, [r]ename: y\n",
            "  inflating: 2019/82382.csv          \n",
            "replace 2019/82392.csv? [y]es, [n]o, [A]ll, [N]one, [r]ename: y\n",
            "  inflating: 2019/82392.csv          \n",
            "replace 2019/82397.csv? [y]es, [n]o, [A]ll, [N]one, [r]ename: y\n",
            "  inflating: 2019/82397.csv          \n",
            "replace 2019/82410.csv? [y]es, [n]o, [A]ll, [N]one, [r]ename: y\n",
            "  inflating: 2019/82410.csv          \n",
            "replace 2019/82445.csv? [y]es, [n]o, [A]ll, [N]one, [r]ename: y\n",
            "  inflating: 2019/82445.csv          \n",
            "replace 2019/82460.csv? [y]es, [n]o, [A]ll, [N]one, [r]ename: y\n",
            "  inflating: 2019/82460.csv          \n",
            "replace 2019/82476.csv? [y]es, [n]o, [A]ll, [N]one, [r]ename: y\n",
            "  inflating: 2019/82476.csv          \n",
            "replace 2019/82487.csv? [y]es, [n]o, [A]ll, [N]one, [r]ename: y\n",
            "  inflating: 2019/82487.csv          \n",
            "replace 2019/82493.csv? [y]es, [n]o, [A]ll, [N]one, [r]ename: y\n",
            "  inflating: 2019/82493.csv          \n",
            "replace 2019/82533.csv? [y]es, [n]o, [A]ll, [N]one, [r]ename: y\n",
            "  inflating: 2019/82533.csv          \n",
            "replace 2019/82562.csv? [y]es, [n]o, [A]ll, [N]one, [r]ename: y\n",
            "  inflating: 2019/82562.csv          \n",
            "replace 2019/82564.csv? [y]es, [n]o, [A]ll, [N]one, [r]ename: y\n",
            "  inflating: 2019/82564.csv          \n",
            "replace 2019/82571.csv? [y]es, [n]o, [A]ll, [N]one, [r]ename: y\n",
            "  inflating: 2019/82571.csv          \n",
            "replace 2019/82578.csv? [y]es, [n]o, [A]ll, [N]one, [r]ename: y\n",
            "  inflating: 2019/82578.csv          \n",
            "replace 2019/82586.csv? [y]es, [n]o, [A]ll, [N]one, [r]ename: y\n",
            "  inflating: 2019/82586.csv          \n",
            "replace 2019/82588.csv? [y]es, [n]o, [A]ll, [N]one, [r]ename: y\n",
            "  inflating: 2019/82588.csv          \n",
            "replace 2019/82590.csv? [y]es, [n]o, [A]ll, [N]one, [r]ename: y\n",
            "  inflating: 2019/82590.csv          \n",
            "replace 2019/82596.csv? [y]es, [n]o, [A]ll, [N]one, [r]ename: y\n",
            "  inflating: 2019/82596.csv          \n",
            "replace 2019/82598.csv? [y]es, [n]o, [A]ll, [N]one, [r]ename: y\n",
            "  inflating: 2019/82598.csv          \n",
            "replace 2019/82610.csv? [y]es, [n]o, [A]ll, [N]one, [r]ename: y\n",
            "  inflating: 2019/82610.csv          \n",
            "replace 2019/82659.csv? [y]es, [n]o, [A]ll, [N]one, [r]ename: y\n",
            "  inflating: 2019/82659.csv          \n",
            "replace 2019/82668.csv? [y]es, [n]o, [A]ll, [N]one, [r]ename: y\n",
            "  inflating: 2019/82668.csv          \n",
            "replace 2019/82676.csv? [y]es, [n]o, [A]ll, [N]one, [r]ename: y\n",
            "  inflating: 2019/82676.csv          \n",
            "replace 2019/82678.csv? [y]es, [n]o, [A]ll, [N]one, [r]ename: y\n",
            "  inflating: 2019/82678.csv          \n",
            "replace 2019/82683.csv? [y]es, [n]o, [A]ll, [N]one, [r]ename: y\n",
            "  inflating: 2019/82683.csv          \n",
            "replace 2019/82686.csv? [y]es, [n]o, [A]ll, [N]one, [r]ename: y\n",
            "  inflating: 2019/82686.csv          \n",
            "replace 2019/82689.csv? [y]es, [n]o, [A]ll, [N]one, [r]ename: y\n",
            "  inflating: 2019/82689.csv          \n",
            "replace 2019/82693.csv? [y]es, [n]o, [A]ll, [N]one, [r]ename: y\n",
            "  inflating: 2019/82693.csv          \n",
            "replace 2019/82723.csv? [y]es, [n]o, [A]ll, [N]one, [r]ename: y\n",
            "  inflating: 2019/82723.csv          \n",
            "replace 2019/82753.csv? [y]es, [n]o, [A]ll, [N]one, [r]ename: y\n",
            "  inflating: 2019/82753.csv          \n",
            "replace 2019/82765.csv? [y]es, [n]o, [A]ll, [N]one, [r]ename: y\n",
            "  inflating: 2019/82765.csv          \n",
            "replace 2019/82768.csv? [y]es, [n]o, [A]ll, [N]one, [r]ename: y\n",
            "  inflating: 2019/82768.csv          \n",
            "replace 2019/82777.csv? [y]es, [n]o, [A]ll, [N]one, [r]ename: y\n",
            "  inflating: 2019/82777.csv          \n",
            "replace 2019/82780.csv? [y]es, [n]o, [A]ll, [N]one, [r]ename: y\n",
            "  inflating: 2019/82780.csv          \n",
            "replace 2019/82784.csv? [y]es, [n]o, [A]ll, [N]one, [r]ename: y\n",
            "  inflating: 2019/82784.csv          \n",
            "replace 2019/82792.csv? [y]es, [n]o, [A]ll, [N]one, [r]ename: y\n",
            "  inflating: 2019/82792.csv          \n",
            "replace 2019/82795.csv? [y]es, [n]o, [A]ll, [N]one, [r]ename: y\n",
            "  inflating: 2019/82795.csv          \n",
            "replace 2019/82797.csv? [y]es, [n]o, [A]ll, [N]one, [r]ename: y\n",
            "  inflating: 2019/82797.csv          \n",
            "replace 2019/82798.csv? [y]es, [n]o, [A]ll, [N]one, [r]ename: y\n",
            "  inflating: 2019/82798.csv          \n",
            "replace 2019/82807.csv? [y]es, [n]o, [A]ll, [N]one, [r]ename: y\n",
            "  inflating: 2019/82807.csv          \n",
            "replace 2019/82861.csv? [y]es, [n]o, [A]ll, [N]one, [r]ename: y\n",
            "  inflating: 2019/82861.csv          \n",
            "replace 2019/82863.csv? [y]es, [n]o, [A]ll, [N]one, [r]ename: y\n",
            "  inflating: 2019/82863.csv          \n",
            "replace 2019/82882.csv? [y]es, [n]o, [A]ll, [N]one, [r]ename: y\n",
            "  inflating: 2019/82882.csv          \n",
            "replace 2019/82886.csv? [y]es, [n]o, [A]ll, [N]one, [r]ename: y\n",
            "  inflating: 2019/82886.csv          \n",
            "replace 2019/82890.csv? [y]es, [n]o, [A]ll, [N]one, [r]ename: y\n",
            "  inflating: 2019/82890.csv          \n",
            "replace 2019/82893.csv? [y]es, [n]o, [A]ll, [N]one, [r]ename: y\n",
            "  inflating: 2019/82893.csv          \n",
            "replace 2019/82900.csv? [y]es, [n]o, [A]ll, [N]one, [r]ename: y\n",
            "  inflating: 2019/82900.csv          \n",
            "replace 2019/82915.csv? [y]es, [n]o, [A]ll, [N]one, [r]ename: y\n",
            "  inflating: 2019/82915.csv          \n",
            "replace 2019/82970.csv? [y]es, [n]o, [A]ll, [N]one, [r]ename: y\n",
            "  inflating: 2019/82970.csv          \n",
            "replace 2019/82975.csv? [y]es, [n]o, [A]ll, [N]one, [r]ename: y\n",
            "  inflating: 2019/82975.csv          \n",
            "replace 2019/82976.csv? [y]es, [n]o, [A]ll, [N]one, [r]ename: y\n",
            "  inflating: 2019/82976.csv          \n",
            "replace 2019/82979.csv? [y]es, [n]o, [A]ll, [N]one, [r]ename: y\n",
            "  inflating: 2019/82979.csv          \n",
            "replace 2019/82983.csv? [y]es, [n]o, [A]ll, [N]one, [r]ename: y\n",
            "  inflating: 2019/82983.csv          \n",
            "replace 2019/82990.csv? [y]es, [n]o, [A]ll, [N]one, [r]ename: y\n",
            "  inflating: 2019/82990.csv          \n",
            "replace 2019/82992.csv? [y]es, [n]o, [A]ll, [N]one, [r]ename: y\n",
            "  inflating: 2019/82992.csv          \n",
            "replace 2019/82994.csv? [y]es, [n]o, [A]ll, [N]one, [r]ename: y\n",
            "  inflating: 2019/82994.csv          \n",
            "replace 2019/82996.csv? [y]es, [n]o, [A]ll, [N]one, [r]ename: y\n",
            "  inflating: 2019/82996.csv          \n",
            "replace 2019/83007.csv? [y]es, [n]o, [A]ll, [N]one, [r]ename: y\n",
            "  inflating: 2019/83007.csv          \n",
            "replace 2019/83013.csv? [y]es, [n]o, [A]ll, [N]one, [r]ename: y\n",
            "  inflating: 2019/83013.csv          \n",
            "replace 2019/83033.csv? [y]es, [n]o, [A]ll, [N]one, [r]ename: y\n",
            "  inflating: 2019/83033.csv          \n",
            "replace 2019/83049.csv? [y]es, [n]o, [A]ll, [N]one, [r]ename: y\n",
            "  inflating: 2019/83049.csv          \n",
            "replace 2019/83064.csv? [y]es, [n]o, [A]ll, [N]one, [r]ename: y\n",
            "  inflating: 2019/83064.csv          \n",
            "replace 2019/83076.csv? [y]es, [n]o, [A]ll, [N]one, [r]ename: y\n",
            "  inflating: 2019/83076.csv          \n",
            "replace 2019/83090.csv? [y]es, [n]o, [A]ll, [N]one, [r]ename: y\n",
            "  inflating: 2019/83090.csv          \n",
            "replace 2019/83096.csv? [y]es, [n]o, [A]ll, [N]one, [r]ename: y\n",
            "  inflating: 2019/83096.csv          \n",
            "replace 2019/83097.csv? [y]es, [n]o, [A]ll, [N]one, [r]ename: y\n",
            "  inflating: 2019/83097.csv          \n",
            "replace 2019/83114.csv? [y]es, [n]o, [A]ll, [N]one, [r]ename: y\n",
            "  inflating: 2019/83114.csv          \n",
            "replace 2019/83179.csv? [y]es, [n]o, [A]ll, [N]one, [r]ename: y\n",
            "  inflating: 2019/83179.csv          \n",
            "replace 2019/83182.csv? [y]es, [n]o, [A]ll, [N]one, [r]ename: y\n",
            "  inflating: 2019/83182.csv          \n",
            "replace 2019/83184.csv? [y]es, [n]o, [A]ll, [N]one, [r]ename: y\n",
            "  inflating: 2019/83184.csv          \n",
            "replace 2019/83186.csv? [y]es, [n]o, [A]ll, [N]one, [r]ename: y\n",
            "  inflating: 2019/83186.csv          \n",
            "replace 2019/83190.csv? [y]es, [n]o, [A]ll, [N]one, [r]ename: y\n",
            "  inflating: 2019/83190.csv          \n",
            "replace 2019/83192.csv? [y]es, [n]o, [A]ll, [N]one, [r]ename: y\n",
            "  inflating: 2019/83192.csv          \n",
            "replace 2019/83195.csv? [y]es, [n]o, [A]ll, [N]one, [r]ename: y\n",
            "  inflating: 2019/83195.csv          \n",
            "replace 2019/83221.csv? [y]es, [n]o, [A]ll, [N]one, [r]ename: y\n",
            "  inflating: 2019/83221.csv          \n",
            "replace 2019/83222.csv? [y]es, [n]o, [A]ll, [N]one, [r]ename: y\n",
            "  inflating: 2019/83222.csv          \n",
            "replace 2019/83228.csv? [y]es, [n]o, [A]ll, [N]one, [r]ename: y\n",
            "  inflating: 2019/83228.csv          \n",
            "replace 2019/83229.csv? [y]es, [n]o, [A]ll, [N]one, [r]ename: y\n",
            "  inflating: 2019/83229.csv          \n",
            "replace 2019/83235.csv? [y]es, [n]o, [A]ll, [N]one, [r]ename: y\n",
            "  inflating: 2019/83235.csv          \n",
            "replace 2019/83236.csv? [y]es, [n]o, [A]ll, [N]one, [r]ename: y\n",
            "  inflating: 2019/83236.csv          \n",
            "replace 2019/83242.csv? [y]es, [n]o, [A]ll, [N]one, [r]ename: y\n",
            "  inflating: 2019/83242.csv          \n",
            "replace 2019/83244.csv? [y]es, [n]o, [A]ll, [N]one, [r]ename: y\n",
            "  inflating: 2019/83244.csv          \n",
            "replace 2019/83249.csv? [y]es, [n]o, [A]ll, [N]one, [r]ename: y\n",
            "  inflating: 2019/83249.csv          \n",
            "replace 2019/83286.csv? [y]es, [n]o, [A]ll, [N]one, [r]ename: y\n",
            "  inflating: 2019/83286.csv          \n",
            "replace 2019/83288.csv? [y]es, [n]o, [A]ll, [N]one, [r]ename: y\n",
            "  inflating: 2019/83288.csv          \n",
            "replace 2019/83309.csv? [y]es, [n]o, [A]ll, [N]one, [r]ename: y\n",
            "  inflating: 2019/83309.csv          \n",
            "replace 2019/83332.csv? [y]es, [n]o, [A]ll, [N]one, [r]ename: y\n",
            "  inflating: 2019/83332.csv          \n",
            "replace 2019/83334.csv? [y]es, [n]o, [A]ll, [N]one, [r]ename: y\n",
            "  inflating: 2019/83334.csv          \n",
            "replace 2019/83338.csv? [y]es, [n]o, [A]ll, [N]one, [r]ename: y\n",
            "  inflating: 2019/83338.csv          \n",
            "replace 2019/83339.csv? [y]es, [n]o, [A]ll, [N]one, [r]ename: y\n",
            "  inflating: 2019/83339.csv          \n",
            "replace 2019/83358.csv? [y]es, [n]o, [A]ll, [N]one, [r]ename: y\n",
            "  inflating: 2019/83358.csv          \n",
            "replace 2019/83361.csv? [y]es, [n]o, [A]ll, [N]one, [r]ename: y\n",
            "  inflating: 2019/83361.csv          \n",
            "replace 2019/83368.csv? [y]es, [n]o, [A]ll, [N]one, [r]ename: y\n",
            "  inflating: 2019/83368.csv          \n",
            "replace 2019/83376.csv? [y]es, [n]o, [A]ll, [N]one, [r]ename: y\n",
            "  inflating: 2019/83376.csv          \n",
            "replace 2019/83377.csv? [y]es, [n]o, [A]ll, [N]one, [r]ename: y\n",
            "  inflating: 2019/83377.csv          \n",
            "replace 2019/83379.csv? [y]es, [n]o, [A]ll, [N]one, [r]ename: y\n",
            "  inflating: 2019/83379.csv          \n",
            "replace 2019/83384.csv? [y]es, [n]o, [A]ll, [N]one, [r]ename: y\n",
            "  inflating: 2019/83384.csv          \n",
            "replace 2019/83386.csv? [y]es, [n]o, [A]ll, [N]one, [r]ename: y\n",
            "  inflating: 2019/83386.csv          \n",
            "replace 2019/83393.csv? [y]es, [n]o, [A]ll, [N]one, [r]ename: y\n",
            "  inflating: 2019/83393.csv          \n",
            "replace 2019/83423.csv? [y]es, [n]o, [A]ll, [N]one, [r]ename: y\n",
            "  inflating: 2019/83423.csv          \n",
            "replace 2019/83428.csv? [y]es, [n]o, [A]ll, [N]one, [r]ename: y\n",
            "  inflating: 2019/83428.csv          \n",
            "replace 2019/83437.csv? [y]es, [n]o, [A]ll, [N]one, [r]ename: y\n",
            "  inflating: 2019/83437.csv          \n",
            "replace 2019/83441.csv? [y]es, [n]o, [A]ll, [N]one, [r]ename: y\n",
            "  inflating: 2019/83441.csv          \n",
            "replace 2019/83442.csv? [y]es, [n]o, [A]ll, [N]one, [r]ename: y\n",
            "  inflating: 2019/83442.csv          \n",
            "replace 2019/83464.csv? [y]es, [n]o, [A]ll, [N]one, [r]ename: y\n",
            "  inflating: 2019/83464.csv          \n",
            "replace 2019/83470.csv? [y]es, [n]o, [A]ll, [N]one, [r]ename: y\n",
            "  inflating: 2019/83470.csv          \n",
            "replace 2019/83479.csv? [y]es, [n]o, [A]ll, [N]one, [r]ename: y\n",
            "  inflating: 2019/83479.csv          \n",
            "replace 2019/83483.csv? [y]es, [n]o, [A]ll, [N]one, [r]ename: y\n",
            "  inflating: 2019/83483.csv          \n",
            "replace 2019/83488.csv? [y]es, [n]o, [A]ll, [N]one, [r]ename: y\n",
            "  inflating: 2019/83488.csv          \n",
            "replace 2019/83498.csv? [y]es, [n]o, [A]ll, [N]one, [r]ename: y\n",
            "  inflating: 2019/83498.csv          \n",
            "replace 2019/83522.csv? [y]es, [n]o, [A]ll, [N]one, [r]ename: y\n",
            "  inflating: 2019/83522.csv          \n",
            "replace 2019/83526.csv? [y]es, [n]o, [A]ll, [N]one, [r]ename: y\n",
            "  inflating: 2019/83526.csv          \n",
            "replace 2019/83536.csv? [y]es, [n]o, [A]ll, [N]one, [r]ename: y\n",
            "  inflating: 2019/83536.csv          \n",
            "replace 2019/83538.csv? [y]es, [n]o, [A]ll, [N]one, [r]ename: y\n",
            "  inflating: 2019/83538.csv          \n",
            "replace 2019/83550.csv? [y]es, [n]o, [A]ll, [N]one, [r]ename: y\n",
            "  inflating: 2019/83550.csv          \n",
            "replace 2019/83557.csv? [y]es, [n]o, [A]ll, [N]one, [r]ename: y\n",
            "  inflating: 2019/83557.csv          \n",
            "replace 2019/83565.csv? [y]es, [n]o, [A]ll, [N]one, [r]ename: y\n",
            "  inflating: 2019/83565.csv          \n",
            "replace 2019/83577.csv? [y]es, [n]o, [A]ll, [N]one, [r]ename: y\n",
            "  inflating: 2019/83577.csv          \n",
            "replace 2019/83579.csv? [y]es, [n]o, [A]ll, [N]one, [r]ename: y\n",
            "  inflating: 2019/83579.csv          \n",
            "replace 2019/83587.csv? [y]es, [n]o, [A]ll, [N]one, [r]ename: y\n",
            "  inflating: 2019/83587.csv          \n",
            "replace 2019/83589.csv? [y]es, [n]o, [A]ll, [N]one, [r]ename: y\n",
            "  inflating: 2019/83589.csv          \n",
            "replace 2019/83591.csv? [y]es, [n]o, [A]ll, [N]one, [r]ename: y\n",
            "  inflating: 2019/83591.csv          \n",
            "replace 2019/83592.csv? [y]es, [n]o, [A]ll, [N]one, [r]ename: y\n",
            "  inflating: 2019/83592.csv          \n",
            "replace 2019/83623.csv? [y]es, [n]o, [A]ll, [N]one, [r]ename: y\n",
            "  inflating: 2019/83623.csv          \n",
            "replace 2019/83630.csv? [y]es, [n]o, [A]ll, [N]one, [r]ename: y\n",
            "  inflating: 2019/83630.csv          \n",
            "replace 2019/83632.csv? [y]es, [n]o, [A]ll, [N]one, [r]ename: y\n",
            "  inflating: 2019/83632.csv          \n",
            "replace 2019/83639.csv? [y]es, [n]o, [A]ll, [N]one, [r]ename: y\n",
            "  inflating: 2019/83639.csv          \n",
            "replace 2019/83648.csv? [y]es, [n]o, [A]ll, [N]one, [r]ename: y\n",
            "  inflating: 2019/83648.csv          \n",
            "replace 2019/83669.csv? [y]es, [n]o, [A]ll, [N]one, [r]ename: y\n",
            "  inflating: 2019/83669.csv          \n",
            "replace 2019/83676.csv? [y]es, [n]o, [A]ll, [N]one, [r]ename: y\n",
            "  inflating: 2019/83676.csv          \n",
            "replace 2019/83683.csv? [y]es, [n]o, [A]ll, [N]one, [r]ename: y\n",
            "  inflating: 2019/83683.csv          \n",
            "  inflating: 2019/83687.csv          \n",
            "  inflating: 2019/83692.csv          \n",
            "replace 2019/83695.csv? [y]es, [n]o, [A]ll, [N]one, [r]ename: y\n",
            "  inflating: 2019/83695.csv          \n",
            "replace 2019/83696.csv? [y]es, [n]o, [A]ll, [N]one, [r]ename: y\n",
            "  inflating: 2019/83696.csv          \n",
            "replace 2019/83698.csv? [y]es, [n]o, [A]ll, [N]one, [r]ename: y\n",
            "  inflating: 2019/83698.csv          \n",
            "replace 2019/83714.csv? [y]es, [n]o, [A]ll, [N]one, [r]ename: y\n",
            "  inflating: 2019/83714.csv          \n",
            "replace 2019/83718.csv? [y]es, [n]o, [A]ll, [N]one, [r]ename: y\n",
            "  inflating: 2019/83718.csv          \n",
            "replace 2019/83726.csv? [y]es, [n]o, [A]ll, [N]one, [r]ename: y\n",
            "  inflating: 2019/83726.csv          \n",
            "replace 2019/83736.csv? [y]es, [n]o, [A]ll, [N]one, [r]ename: y\n",
            "  inflating: 2019/83736.csv          \n",
            "replace 2019/83737.csv? [y]es, [n]o, [A]ll, [N]one, [r]ename: y\n",
            "  inflating: 2019/83737.csv          \n",
            "replace 2019/83738.csv? [y]es, [n]o, [A]ll, [N]one, [r]ename: y\n",
            "  inflating: 2019/83738.csv          \n",
            "replace 2019/83744.csv? [y]es, [n]o, [A]ll, [N]one, [r]ename: y\n",
            "  inflating: 2019/83744.csv          \n",
            "replace 2019/83766.csv? [y]es, [n]o, [A]ll, [N]one, [r]ename: y\n",
            "  inflating: 2019/83766.csv          \n",
            "replace 2019/83767.csv? [y]es, [n]o, [A]ll, [N]one, [r]ename: y\n",
            "  inflating: 2019/83767.csv          \n",
            "replace 2019/83781.csv? [y]es, [n]o, [A]ll, [N]one, [r]ename: y\n",
            "  inflating: 2019/83781.csv          \n",
            "replace 2019/83789.csv? [y]es, [n]o, [A]ll, [N]one, [r]ename: y\n",
            "  inflating: 2019/83789.csv          \n",
            "replace 2019/83805.csv? [y]es, [n]o, [A]ll, [N]one, [r]ename: y\n",
            "  inflating: 2019/83805.csv          \n",
            "replace 2019/83807.csv? [y]es, [n]o, [A]ll, [N]one, [r]ename: y\n",
            "  inflating: 2019/83807.csv          \n",
            "replace 2019/83811.csv? [y]es, [n]o, [A]ll, [N]one, [r]ename: y\n",
            "  inflating: 2019/83811.csv          \n",
            "replace 2019/83813.csv? [y]es, [n]o, [A]ll, [N]one, [r]ename: y\n",
            "  inflating: 2019/83813.csv          \n",
            "replace 2019/83836.csv? [y]es, [n]o, [A]ll, [N]one, [r]ename: y\n",
            "  inflating: 2019/83836.csv          \n",
            "replace 2019/83842.csv? [y]es, [n]o, [A]ll, [N]one, [r]ename: y\n",
            "  inflating: 2019/83842.csv          \n",
            "replace 2019/83844.csv? [y]es, [n]o, [A]ll, [N]one, [r]ename: y\n",
            "  inflating: 2019/83844.csv          \n",
            "replace 2019/83851.csv? [y]es, [n]o, [A]ll, [N]one, [r]ename: y\n",
            "  inflating: 2019/83851.csv          \n",
            "replace 2019/83897.csv? [y]es, [n]o, [A]ll, [N]one, [r]ename: y\n",
            "  inflating: 2019/83897.csv          \n",
            "replace 2019/83907.csv? [y]es, [n]o, [A]ll, [N]one, [r]ename: y\n",
            "  inflating: 2019/83907.csv          \n",
            "replace 2019/83912.csv? [y]es, [n]o, [A]ll, [N]one, [r]ename: y\n",
            "  inflating: 2019/83912.csv          \n",
            "replace 2019/83914.csv? [y]es, [n]o, [A]ll, [N]one, [r]ename: y\n",
            "  inflating: 2019/83914.csv          \n",
            "replace 2019/83916.csv? [y]es, [n]o, [A]ll, [N]one, [r]ename: y\n",
            "  inflating: 2019/83916.csv          \n",
            "replace 2019/83919.csv? [y]es, [n]o, [A]ll, [N]one, [r]ename: y\n",
            "  inflating: 2019/83919.csv          \n",
            "replace 2019/83927.csv? [y]es, [n]o, [A]ll, [N]one, [r]ename: y\n",
            "  inflating: 2019/83927.csv          \n",
            "replace 2019/83936.csv? [y]es, [n]o, [A]ll, [N]one, [r]ename: y\n",
            "  inflating: 2019/83936.csv          \n",
            "replace 2019/83942.csv? [y]es, [n]o, [A]ll, [N]one, [r]ename: y\n",
            "  inflating: 2019/83942.csv          \n",
            "replace 2019/83948.csv? [y]es, [n]o, [A]ll, [N]one, [r]ename: y\n",
            "  inflating: 2019/83948.csv          \n",
            "replace 2019/83964.csv? [y]es, [n]o, [A]ll, [N]one, [r]ename: y\n",
            "  inflating: 2019/83964.csv          \n",
            "replace 2019/83967.csv? [y]es, [n]o, [A]ll, [N]one, [r]ename: y\n",
            "  inflating: 2019/83967.csv          \n",
            "replace 2019/83980.csv? [y]es, [n]o, [A]ll, [N]one, [r]ename: y\n",
            "  inflating: 2019/83980.csv          \n",
            "replace 2019/83985.csv? [y]es, [n]o, [A]ll, [N]one, [r]ename: y\n",
            "  inflating: 2019/83985.csv          \n",
            "replace 2019/83995.csv? [y]es, [n]o, [A]ll, [N]one, [r]ename: y\n",
            "  inflating: 2019/83995.csv          \n",
            "replace 2019/83997.csv? [y]es, [n]o, [A]ll, [N]one, [r]ename: y\n",
            "  inflating: 2019/83997.csv          \n"
          ],
          "name": "stdout"
        }
      ]
    },
    {
      "cell_type": "code",
      "metadata": {
        "id": "K-J94GmjsGnT",
        "colab_type": "code",
        "colab": {
          "base_uri": "https://localhost:8080/",
          "height": 68
        },
        "outputId": "e89d9e0b-12eb-4c74-facc-306a62b558f4"
      },
      "source": [
        "%ls "
      ],
      "execution_count": 46,
      "outputs": [
        {
          "output_type": "stream",
          "text": [
            " \u001b[0m\u001b[01;34m2019\u001b[0m/            ccd_2019.zip                             inmetr.csv\n",
            " 2019.zip        'index.html?authkey=!ACeM58BouQn1pCQ'     \u001b[01;34m__MACOSX\u001b[0m/\n",
            " bdmep_meta.csv  'index.html?authkey=!ACeM58BouQn1pCQ.1'   \u001b[01;34msample_data\u001b[0m/\n"
          ],
          "name": "stdout"
        }
      ]
    },
    {
      "cell_type": "code",
      "metadata": {
        "id": "zjvGMa2KsMCY",
        "colab_type": "code",
        "colab": {}
      },
      "source": [
        "%cd 2019"
      ],
      "execution_count": 0,
      "outputs": []
    },
    {
      "cell_type": "code",
      "metadata": {
        "id": "we-yMZrxsQD3",
        "colab_type": "code",
        "colab": {
          "base_uri": "https://localhost:8080/",
          "height": 68
        },
        "outputId": "74472bd9-0832-4e72-b2b3-89a68b4c91be"
      },
      "source": [
        "%ls"
      ],
      "execution_count": 38,
      "outputs": [
        {
          "output_type": "stream",
          "text": [
            " \u001b[0m\u001b[01;34m2019\u001b[0m/            ccd_2019.zip                             inmetr.csv\n",
            " 2019.zip        'index.html?authkey=!ACeM58BouQn1pCQ'     \u001b[01;34m__MACOSX\u001b[0m/\n",
            " bdmep_meta.csv  'index.html?authkey=!ACeM58BouQn1pCQ.1'   \u001b[01;34msample_data\u001b[0m/\n"
          ],
          "name": "stdout"
        }
      ]
    },
    {
      "cell_type": "code",
      "metadata": {
        "id": "NyYfadsgtrH5",
        "colab_type": "code",
        "colab": {
          "base_uri": "https://localhost:8080/",
          "height": 34
        },
        "outputId": "c8b46bc5-e315-4785-a8fa-01e102ad77d4"
      },
      "source": [
        "%cd .."
      ],
      "execution_count": 37,
      "outputs": [
        {
          "output_type": "stream",
          "text": [
            "/content\n"
          ],
          "name": "stdout"
        }
      ]
    },
    {
      "cell_type": "code",
      "metadata": {
        "id": "-FbsLr8XsS5s",
        "colab_type": "code",
        "colab": {}
      },
      "source": [
        "directory = '2019'\n",
        "files = []\n",
        "for filename in os.listdir(directory):\n",
        "    if filename.endswith(\".csv\"): \n",
        "        files.append(filename)\n",
        "        continue\n",
        "    else:\n",
        "        continue"
      ],
      "execution_count": 0,
      "outputs": []
    },
    {
      "cell_type": "code",
      "metadata": {
        "id": "xiwQKcGltyoe",
        "colab_type": "code",
        "colab": {
          "base_uri": "https://localhost:8080/",
          "height": 1000
        },
        "outputId": "e2176888-0880-4d3f-edb4-f65629ba0630"
      },
      "source": [
        "files"
      ],
      "execution_count": 49,
      "outputs": [
        {
          "output_type": "execute_result",
          "data": {
            "text/plain": [
              "['82562.csv',\n",
              " '83565.csv',\n",
              " '83339.csv',\n",
              " '83737.csv',\n",
              " '83309.csv',\n",
              " '83718.csv',\n",
              " '82768.csv',\n",
              " '82784.csv',\n",
              " '83980.csv',\n",
              " '83985.csv',\n",
              " '82397.csv',\n",
              " '83813.csv',\n",
              " '82571.csv',\n",
              " '83630.csv',\n",
              " '82263.csv',\n",
              " '83479.csv',\n",
              " '83033.csv',\n",
              " '83179.csv',\n",
              " '83587.csv',\n",
              " '83182.csv',\n",
              " '83228.csv',\n",
              " '83222.csv',\n",
              " '83186.csv',\n",
              " '82410.csv',\n",
              " '83114.csv',\n",
              " '83907.csv',\n",
              " '83384.csv',\n",
              " '83488.csv',\n",
              " '83498.csv',\n",
              " '83648.csv',\n",
              " '83897.csv',\n",
              " '82900.csv',\n",
              " '82979.csv',\n",
              " '83423.csv',\n",
              " '83995.csv',\n",
              " '82777.csv',\n",
              " '83236.csv',\n",
              " '83914.csv',\n",
              " '83464.csv',\n",
              " '83242.csv',\n",
              " '83696.csv',\n",
              " '83842.csv',\n",
              " '83358.csv',\n",
              " '82686.csv',\n",
              " '83097.csv',\n",
              " '83692.csv',\n",
              " '82668.csv',\n",
              " '83076.csv',\n",
              " '83789.csv',\n",
              " '82683.csv',\n",
              " '83437.csv',\n",
              " '83766.csv',\n",
              " '83235.csv',\n",
              " '82797.csv',\n",
              " '82113.csv',\n",
              " '83948.csv',\n",
              " '83332.csv',\n",
              " '83195.csv',\n",
              " '82353.csv',\n",
              " '82886.csv',\n",
              " '83836.csv',\n",
              " '82678.csv',\n",
              " '82807.csv',\n",
              " '83726.csv',\n",
              " '83393.csv',\n",
              " '82280.csv',\n",
              " '83589.csv',\n",
              " '82460.csv',\n",
              " '82861.csv',\n",
              " '83470.csv',\n",
              " '82976.csv',\n",
              " '83851.csv',\n",
              " '83683.csv',\n",
              " '82598.csv',\n",
              " '82610.csv',\n",
              " '83714.csv',\n",
              " '83007.csv',\n",
              " '82693.csv',\n",
              " '82596.csv',\n",
              " '83579.csv',\n",
              " '83379.csv',\n",
              " '83669.csv',\n",
              " '83919.csv',\n",
              " '83483.csv',\n",
              " '83695.csv',\n",
              " '82376.csv',\n",
              " '83441.csv',\n",
              " '83526.csv',\n",
              " '83577.csv',\n",
              " '83428.csv',\n",
              " '83229.csv',\n",
              " '83964.csv',\n",
              " '82246.csv',\n",
              " '82798.csv',\n",
              " '83744.csv',\n",
              " '82863.csv',\n",
              " '83538.csv',\n",
              " '82996.csv',\n",
              " '83361.csv',\n",
              " '83687.csv',\n",
              " '82445.csv',\n",
              " '82994.csv',\n",
              " '82915.csv',\n",
              " '83942.csv',\n",
              " '82753.csv',\n",
              " '83676.csv',\n",
              " '82792.csv',\n",
              " '83244.csv',\n",
              " '83221.csv',\n",
              " '83334.csv',\n",
              " '82361.csv',\n",
              " '83013.csv',\n",
              " '82780.csv',\n",
              " '83967.csv',\n",
              " '82212.csv',\n",
              " '82145.csv',\n",
              " '83090.csv',\n",
              " '82533.csv',\n",
              " '82181.csv',\n",
              " '83767.csv',\n",
              " '83522.csv',\n",
              " '82578.csv',\n",
              " '83591.csv',\n",
              " '83386.csv',\n",
              " '82392.csv',\n",
              " '83781.csv',\n",
              " '83736.csv',\n",
              " '82476.csv',\n",
              " '83096.csv',\n",
              " '83192.csv',\n",
              " '82990.csv',\n",
              " '82590.csv',\n",
              " '82106.csv',\n",
              " '83916.csv',\n",
              " '82795.csv',\n",
              " '82564.csv',\n",
              " '83064.csv',\n",
              " '83805.csv',\n",
              " '82487.csv',\n",
              " '82893.csv',\n",
              " '82882.csv',\n",
              " '83376.csv',\n",
              " '83338.csv',\n",
              " '82184.csv',\n",
              " '82188.csv',\n",
              " '83249.csv',\n",
              " '83912.csv',\n",
              " '83190.csv',\n",
              " '82326.csv',\n",
              " '83592.csv',\n",
              " '82317.csv',\n",
              " '83997.csv',\n",
              " '83639.csv',\n",
              " '82890.csv',\n",
              " '83844.csv',\n",
              " '82723.csv',\n",
              " '83550.csv',\n",
              " '82586.csv',\n",
              " '82493.csv',\n",
              " '83807.csv',\n",
              " '82689.csv',\n",
              " '82141.csv',\n",
              " '82382.csv',\n",
              " '83286.csv',\n",
              " '82178.csv',\n",
              " '82975.csv',\n",
              " '83738.csv',\n",
              " '82765.csv',\n",
              " '83442.csv',\n",
              " '83936.csv',\n",
              " '83536.csv',\n",
              " '82336.csv',\n",
              " '82970.csv',\n",
              " '82042.csv',\n",
              " '82024.csv',\n",
              " '83368.csv',\n",
              " '83184.csv',\n",
              " '83811.csv',\n",
              " '82198.csv',\n",
              " '82098.csv',\n",
              " '83698.csv',\n",
              " '83623.csv',\n",
              " '83927.csv',\n",
              " '82331.csv',\n",
              " '83288.csv',\n",
              " '83049.csv',\n",
              " '83377.csv',\n",
              " '83557.csv',\n",
              " '82659.csv',\n",
              " '82191.csv',\n",
              " '82676.csv',\n",
              " '82983.csv',\n",
              " '82992.csv',\n",
              " '82588.csv',\n",
              " '83632.csv']"
            ]
          },
          "metadata": {
            "tags": []
          },
          "execution_count": 49
        }
      ]
    },
    {
      "cell_type": "code",
      "metadata": {
        "id": "rN3s4jMUt_zR",
        "colab_type": "code",
        "colab": {
          "base_uri": "https://localhost:8080/",
          "height": 34
        },
        "outputId": "514f1807-aba9-41c2-b7c0-69dd1c10371e"
      },
      "source": [
        "len(files)"
      ],
      "execution_count": 50,
      "outputs": [
        {
          "output_type": "execute_result",
          "data": {
            "text/plain": [
              "195"
            ]
          },
          "metadata": {
            "tags": []
          },
          "execution_count": 50
        }
      ]
    },
    {
      "cell_type": "code",
      "metadata": {
        "id": "ey30P7pnuHOQ",
        "colab_type": "code",
        "colab": {}
      },
      "source": [
        "df = pd.DataFrame()\n",
        "for file in files:\n",
        "    df_aux = pd.read_csv(directory+'/'+file, delimiter=',')\n",
        "    df = pd.concat([df_aux, df], sort=True)"
      ],
      "execution_count": 0,
      "outputs": []
    },
    {
      "cell_type": "code",
      "metadata": {
        "id": "5vd8SRYYu_TF",
        "colab_type": "code",
        "colab": {
          "base_uri": "https://localhost:8080/",
          "height": 419
        },
        "outputId": "e521295c-71dc-4ac8-9adb-c374ba192300"
      },
      "source": [
        "df"
      ],
      "execution_count": 44,
      "outputs": [
        {
          "output_type": "execute_result",
          "data": {
            "text/html": [
              "<div>\n",
              "<style scoped>\n",
              "    .dataframe tbody tr th:only-of-type {\n",
              "        vertical-align: middle;\n",
              "    }\n",
              "\n",
              "    .dataframe tbody tr th {\n",
              "        vertical-align: top;\n",
              "    }\n",
              "\n",
              "    .dataframe thead th {\n",
              "        text-align: right;\n",
              "    }\n",
              "</style>\n",
              "<table border=\"1\" class=\"dataframe\">\n",
              "  <thead>\n",
              "    <tr style=\"text-align: right;\">\n",
              "      <th></th>\n",
              "      <th>cc</th>\n",
              "      <th>date</th>\n",
              "      <th>evap</th>\n",
              "      <th>id</th>\n",
              "      <th>n</th>\n",
              "      <th>patm</th>\n",
              "      <th>pnmm</th>\n",
              "      <th>prec</th>\n",
              "      <th>request_status</th>\n",
              "      <th>tair</th>\n",
              "      <th>tmax</th>\n",
              "      <th>tmin</th>\n",
              "      <th>tw</th>\n",
              "      <th>ur</th>\n",
              "      <th>urmax</th>\n",
              "      <th>wd</th>\n",
              "      <th>ws</th>\n",
              "      <th>wsmax</th>\n",
              "    </tr>\n",
              "  </thead>\n",
              "  <tbody>\n",
              "    <tr>\n",
              "      <th>0</th>\n",
              "      <td>-9999.00</td>\n",
              "      <td>2019-01-01T00:00:00Z</td>\n",
              "      <td>3.0</td>\n",
              "      <td>83632</td>\n",
              "      <td>-9999.0</td>\n",
              "      <td>-9999.0</td>\n",
              "      <td>-9999.0</td>\n",
              "      <td>-9999.0</td>\n",
              "      <td>Success: (200) OK</td>\n",
              "      <td>-9999.0</td>\n",
              "      <td>-9999.0</td>\n",
              "      <td>-9999.0</td>\n",
              "      <td>-9999.0</td>\n",
              "      <td>-9999.0</td>\n",
              "      <td>-9999</td>\n",
              "      <td>-9999</td>\n",
              "      <td>-9999.0</td>\n",
              "      <td>-9999.0</td>\n",
              "    </tr>\n",
              "    <tr>\n",
              "      <th>1</th>\n",
              "      <td>-9999.00</td>\n",
              "      <td>2019-01-01T12:00:00Z</td>\n",
              "      <td>-9999.0</td>\n",
              "      <td>83632</td>\n",
              "      <td>-9999.0</td>\n",
              "      <td>-9999.0</td>\n",
              "      <td>-9999.0</td>\n",
              "      <td>6.2</td>\n",
              "      <td>Success: (200) OK</td>\n",
              "      <td>-9999.0</td>\n",
              "      <td>-9999.0</td>\n",
              "      <td>-9999.0</td>\n",
              "      <td>-9999.0</td>\n",
              "      <td>-9999.0</td>\n",
              "      <td>-9999</td>\n",
              "      <td>-9999</td>\n",
              "      <td>-9999.0</td>\n",
              "      <td>-9999.0</td>\n",
              "    </tr>\n",
              "    <tr>\n",
              "      <th>2</th>\n",
              "      <td>-9999.00</td>\n",
              "      <td>2019-01-02T00:00:00Z</td>\n",
              "      <td>2.0</td>\n",
              "      <td>83632</td>\n",
              "      <td>-9999.0</td>\n",
              "      <td>-9999.0</td>\n",
              "      <td>-9999.0</td>\n",
              "      <td>-9999.0</td>\n",
              "      <td>Success: (200) OK</td>\n",
              "      <td>-9999.0</td>\n",
              "      <td>-9999.0</td>\n",
              "      <td>-9999.0</td>\n",
              "      <td>-9999.0</td>\n",
              "      <td>-9999.0</td>\n",
              "      <td>-9999</td>\n",
              "      <td>-9999</td>\n",
              "      <td>-9999.0</td>\n",
              "      <td>-9999.0</td>\n",
              "    </tr>\n",
              "    <tr>\n",
              "      <th>3</th>\n",
              "      <td>-9999.00</td>\n",
              "      <td>2019-01-02T12:00:00Z</td>\n",
              "      <td>-9999.0</td>\n",
              "      <td>83632</td>\n",
              "      <td>-9999.0</td>\n",
              "      <td>-9999.0</td>\n",
              "      <td>-9999.0</td>\n",
              "      <td>0.0</td>\n",
              "      <td>Success: (200) OK</td>\n",
              "      <td>-9999.0</td>\n",
              "      <td>-9999.0</td>\n",
              "      <td>-9999.0</td>\n",
              "      <td>-9999.0</td>\n",
              "      <td>-9999.0</td>\n",
              "      <td>-9999</td>\n",
              "      <td>-9999</td>\n",
              "      <td>-9999.0</td>\n",
              "      <td>-9999.0</td>\n",
              "    </tr>\n",
              "    <tr>\n",
              "      <th>4</th>\n",
              "      <td>-9999.00</td>\n",
              "      <td>2019-01-03T00:00:00Z</td>\n",
              "      <td>3.5</td>\n",
              "      <td>83632</td>\n",
              "      <td>-9999.0</td>\n",
              "      <td>-9999.0</td>\n",
              "      <td>-9999.0</td>\n",
              "      <td>-9999.0</td>\n",
              "      <td>Success: (200) OK</td>\n",
              "      <td>-9999.0</td>\n",
              "      <td>-9999.0</td>\n",
              "      <td>-9999.0</td>\n",
              "      <td>-9999.0</td>\n",
              "      <td>-9999.0</td>\n",
              "      <td>-9999</td>\n",
              "      <td>-9999</td>\n",
              "      <td>-9999.0</td>\n",
              "      <td>-9999.0</td>\n",
              "    </tr>\n",
              "    <tr>\n",
              "      <th>...</th>\n",
              "      <td>...</td>\n",
              "      <td>...</td>\n",
              "      <td>...</td>\n",
              "      <td>...</td>\n",
              "      <td>...</td>\n",
              "      <td>...</td>\n",
              "      <td>...</td>\n",
              "      <td>...</td>\n",
              "      <td>...</td>\n",
              "      <td>...</td>\n",
              "      <td>...</td>\n",
              "      <td>...</td>\n",
              "      <td>...</td>\n",
              "      <td>...</td>\n",
              "      <td>...</td>\n",
              "      <td>...</td>\n",
              "      <td>...</td>\n",
              "      <td>...</td>\n",
              "    </tr>\n",
              "    <tr>\n",
              "      <th>503</th>\n",
              "      <td>2.50</td>\n",
              "      <td>2019-08-02T12:00:00Z</td>\n",
              "      <td>-9999.0</td>\n",
              "      <td>82562</td>\n",
              "      <td>-9999.0</td>\n",
              "      <td>1003.6</td>\n",
              "      <td>1014.3</td>\n",
              "      <td>0.0</td>\n",
              "      <td>Success: (200) OK</td>\n",
              "      <td>28.3</td>\n",
              "      <td>-9999.0</td>\n",
              "      <td>23.0</td>\n",
              "      <td>-9999.0</td>\n",
              "      <td>-9999.0</td>\n",
              "      <td>77</td>\n",
              "      <td>36</td>\n",
              "      <td>-9999.0</td>\n",
              "      <td>-9999.0</td>\n",
              "    </tr>\n",
              "    <tr>\n",
              "      <th>504</th>\n",
              "      <td>3.75</td>\n",
              "      <td>2019-08-02T18:00:00Z</td>\n",
              "      <td>-9999.0</td>\n",
              "      <td>82562</td>\n",
              "      <td>-9999.0</td>\n",
              "      <td>1000.6</td>\n",
              "      <td>1011.3</td>\n",
              "      <td>-9999.0</td>\n",
              "      <td>Success: (200) OK</td>\n",
              "      <td>35.5</td>\n",
              "      <td>-9999.0</td>\n",
              "      <td>-9999.0</td>\n",
              "      <td>-9999.0</td>\n",
              "      <td>-9999.0</td>\n",
              "      <td>47</td>\n",
              "      <td>14</td>\n",
              "      <td>-9999.0</td>\n",
              "      <td>-9999.0</td>\n",
              "    </tr>\n",
              "    <tr>\n",
              "      <th>505</th>\n",
              "      <td>0.00</td>\n",
              "      <td>2019-08-03T00:00:00Z</td>\n",
              "      <td>-9999.0</td>\n",
              "      <td>82562</td>\n",
              "      <td>-9999.0</td>\n",
              "      <td>1002.9</td>\n",
              "      <td>1013.6</td>\n",
              "      <td>-9999.0</td>\n",
              "      <td>Success: (200) OK</td>\n",
              "      <td>30.3</td>\n",
              "      <td>-9999.0</td>\n",
              "      <td>-9999.0</td>\n",
              "      <td>-9999.0</td>\n",
              "      <td>-9999.0</td>\n",
              "      <td>66</td>\n",
              "      <td>9</td>\n",
              "      <td>-9999.0</td>\n",
              "      <td>-9999.0</td>\n",
              "    </tr>\n",
              "    <tr>\n",
              "      <th>506</th>\n",
              "      <td>-9999.00</td>\n",
              "      <td>2019-08-03T12:00:00Z</td>\n",
              "      <td>-9999.0</td>\n",
              "      <td>82562</td>\n",
              "      <td>-9999.0</td>\n",
              "      <td>-9999.0</td>\n",
              "      <td>-9999.0</td>\n",
              "      <td>0.0</td>\n",
              "      <td>Success: (200) OK</td>\n",
              "      <td>-9999.0</td>\n",
              "      <td>-9999.0</td>\n",
              "      <td>-9999.0</td>\n",
              "      <td>-9999.0</td>\n",
              "      <td>-9999.0</td>\n",
              "      <td>-9999</td>\n",
              "      <td>-9999</td>\n",
              "      <td>-9999.0</td>\n",
              "      <td>-9999.0</td>\n",
              "    </tr>\n",
              "    <tr>\n",
              "      <th>507</th>\n",
              "      <td>-9999.00</td>\n",
              "      <td>2019-08-04T12:00:00Z</td>\n",
              "      <td>-9999.0</td>\n",
              "      <td>82562</td>\n",
              "      <td>-9999.0</td>\n",
              "      <td>-9999.0</td>\n",
              "      <td>-9999.0</td>\n",
              "      <td>0.0</td>\n",
              "      <td>Success: (200) OK</td>\n",
              "      <td>-9999.0</td>\n",
              "      <td>-9999.0</td>\n",
              "      <td>-9999.0</td>\n",
              "      <td>-9999.0</td>\n",
              "      <td>-9999.0</td>\n",
              "      <td>-9999</td>\n",
              "      <td>-9999</td>\n",
              "      <td>-9999.0</td>\n",
              "      <td>-9999.0</td>\n",
              "    </tr>\n",
              "  </tbody>\n",
              "</table>\n",
              "<p>116155 rows × 18 columns</p>\n",
              "</div>"
            ],
            "text/plain": [
              "          cc                  date    evap     id  ...  urmax    wd      ws   wsmax\n",
              "0   -9999.00  2019-01-01T00:00:00Z     3.0  83632  ...  -9999 -9999 -9999.0 -9999.0\n",
              "1   -9999.00  2019-01-01T12:00:00Z -9999.0  83632  ...  -9999 -9999 -9999.0 -9999.0\n",
              "2   -9999.00  2019-01-02T00:00:00Z     2.0  83632  ...  -9999 -9999 -9999.0 -9999.0\n",
              "3   -9999.00  2019-01-02T12:00:00Z -9999.0  83632  ...  -9999 -9999 -9999.0 -9999.0\n",
              "4   -9999.00  2019-01-03T00:00:00Z     3.5  83632  ...  -9999 -9999 -9999.0 -9999.0\n",
              "..       ...                   ...     ...    ...  ...    ...   ...     ...     ...\n",
              "503     2.50  2019-08-02T12:00:00Z -9999.0  82562  ...     77    36 -9999.0 -9999.0\n",
              "504     3.75  2019-08-02T18:00:00Z -9999.0  82562  ...     47    14 -9999.0 -9999.0\n",
              "505     0.00  2019-08-03T00:00:00Z -9999.0  82562  ...     66     9 -9999.0 -9999.0\n",
              "506 -9999.00  2019-08-03T12:00:00Z -9999.0  82562  ...  -9999 -9999 -9999.0 -9999.0\n",
              "507 -9999.00  2019-08-04T12:00:00Z -9999.0  82562  ...  -9999 -9999 -9999.0 -9999.0\n",
              "\n",
              "[116155 rows x 18 columns]"
            ]
          },
          "metadata": {
            "tags": []
          },
          "execution_count": 44
        }
      ]
    },
    {
      "cell_type": "markdown",
      "metadata": {
        "id": "eLIgbRhrRlZm",
        "colab_type": "text"
      },
      "source": [
        "### Sobre a nuvem preta de SP"
      ]
    },
    {
      "cell_type": "markdown",
      "metadata": {
        "id": "MgRJpOB0Rowy",
        "colab_type": "text"
      },
      "source": [
        ">Segundo o documento, a passagem da frente fria fez o vento de camadas mais altas da atmosfera (entre mil metros e 5 mil metros de altitude) mudar de direção. Com isso, a fumaça acabou “direcionada para o estado de São Paulo, mas também para a região sul de Mato Grosso, Mato Grosso do Sul e Paraná”. O texto destaca, ainda, que o satélite Terra/MODIS, operado pela Nasa, detectou que uma grande quantidade de fumaça vinda da Bolívia e de Rondônia se encaminhava ao sul do Brasil no dia 17 de agosto. A fumaça, antes concentrada do sul do país, teria ganhado Paraná e Mato Grosso do Sul e alcançado São Paulo no dia 19 de agosto – justamente quando a tarde ficou escura na capital paulistana.<\n",
        "\n",
        ">Segundo o documento, a passagem da frente fria fez o vento de camadas mais altas da atmosfera (entre mil metros e 5 mil metros de altitude) mudar de direção. Com isso, a fumaça acabou “direcionada para o estado de São Paulo, mas também para a região sul de Mato Grosso, Mato Grosso do Sul e Paraná”. O texto destaca, ainda, que o satélite Terra/MODIS, operado pela Nasa, detectou que uma grande quantidade de fumaça vinda da Bolívia e de Rondônia se encaminhava ao sul do Brasil no dia 17 de agosto. A fumaça, antes concentrada do sul do país, teria ganhado Paraná e Mato Grosso do Sul e alcançado São Paulo no dia 19 de agosto – justamente quando a tarde ficou escura na capital paulistana.\n",
        "\n",
        ">Para notar a tal frente fria, bastava olhar os termômetros. Segundo o Inmet (Instituto Nacional de Meteorologia), na tarde do domingo (18), a temperatura às 15h era de 28,4°C. No mesmo horário do dia seguinte (19), registrou-se 15,3°C – um declínio de 13°C. Isso deixou o dia encoberto e com garoa em diferentes cidades do estado de São Paulo já no começo da segunda-feira. \n",
        "\n",
        ">“A sensação de escuridão foi por conta da formação de uma nuvem bastante baixa e densa, provavelmente uma nuvem Nimbustratus ou Cumulonimbus, que se formou na região de São Paulo, muito próxima a superfície. É normal acontecer, se tem o avanço da frente fria, dependendo das condições de umidade, pode se formar essas nuvens”, explicou o meteorologista do CPTEC, Maicon Veber.\n",
        "\n",
        ">“As partículas [de fumaça] funcionam como núcleo de condensação da água. Assim, gotículas de chuva menores são formadas, mas em grande quantidade, e isso faz com que uma maior parte da radiação solar seja refletida de volta para o espaço, a ponto de escurecer o solo”, explicou. [fonte](https://www.oeco.org.br/noticias/pesquisadores-descrevem-fenomeno-que-escureceu-sp-e-sua-relacao-com-as-queimadas-na-amazonia/) "
      ]
    },
    {
      "cell_type": "code",
      "metadata": {
        "id": "iGkV20FcJJaW",
        "colab_type": "code",
        "outputId": "ecfc9cef-2a44-4876-b634-56aec1d237b5",
        "colab": {
          "base_uri": "https://localhost:8080/",
          "height": 34
        }
      },
      "source": [
        "df['id'].nunique()"
      ],
      "execution_count": 0,
      "outputs": [
        {
          "output_type": "execute_result",
          "data": {
            "text/plain": [
              "389"
            ]
          },
          "metadata": {
            "tags": []
          },
          "execution_count": 26
        }
      ]
    },
    {
      "cell_type": "markdown",
      "metadata": {
        "id": "Ca-NPl4OJMMZ",
        "colab_type": "text"
      },
      "source": [
        "# Prophet\n",
        "## Quick Start\n",
        "\n",
        "Source: https://facebook.github.io/prophet/docs/quick_start.html"
      ]
    },
    {
      "cell_type": "code",
      "metadata": {
        "id": "g1hwNGOEHs4d",
        "colab_type": "code",
        "colab": {}
      },
      "source": [
        "import pandas as pd\n",
        "from fbprophet import Prophet"
      ],
      "execution_count": 0,
      "outputs": []
    },
    {
      "cell_type": "code",
      "metadata": {
        "id": "fhIpiZ2tIcUJ",
        "colab_type": "code",
        "colab": {}
      },
      "source": [
        "df = pd.read_csv(\"https://raw.githubusercontent.com/facebook/prophet/master/examples/example_wp_log_peyton_manning.csv\")\n",
        "df.head()"
      ],
      "execution_count": 0,
      "outputs": []
    },
    {
      "cell_type": "code",
      "metadata": {
        "id": "b89ThyctJFmZ",
        "colab_type": "code",
        "colab": {}
      },
      "source": [
        "m = Prophet()\n",
        "m.fit(df)"
      ],
      "execution_count": 0,
      "outputs": []
    },
    {
      "cell_type": "code",
      "metadata": {
        "id": "WfZpFYriJWWx",
        "colab_type": "code",
        "colab": {}
      },
      "source": [
        "future = m.make_future_dataframe(periods=365)\n",
        "future.tail()"
      ],
      "execution_count": 0,
      "outputs": []
    },
    {
      "cell_type": "code",
      "metadata": {
        "id": "IE6S-F3iJXZI",
        "colab_type": "code",
        "colab": {}
      },
      "source": [
        "forecast = m.predict(future)\n",
        "forecast[['ds', 'yhat', 'yhat_lower', 'yhat_upper']].tail()"
      ],
      "execution_count": 0,
      "outputs": []
    },
    {
      "cell_type": "code",
      "metadata": {
        "id": "UXzhagfOJZUL",
        "colab_type": "code",
        "colab": {}
      },
      "source": [
        "fig1 = m.plot(forecast)"
      ],
      "execution_count": 0,
      "outputs": []
    },
    {
      "cell_type": "code",
      "metadata": {
        "id": "yXHiF6f6JcKy",
        "colab_type": "code",
        "colab": {}
      },
      "source": [
        "fig2 = m.plot_components(forecast)"
      ],
      "execution_count": 0,
      "outputs": []
    }
  ]
}