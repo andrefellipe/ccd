{
  "nbformat": 4,
  "nbformat_minor": 0,
  "metadata": {
    "colab": {
      "name": "main.ipynb",
      "provenance": [],
      "collapsed_sections": [],
      "toc_visible": true,
      "include_colab_link": true
    },
    "kernelspec": {
      "name": "python3",
      "display_name": "Python 3"
    }
  },
  "cells": [
    {
      "cell_type": "markdown",
      "metadata": {
        "id": "view-in-github",
        "colab_type": "text"
      },
      "source": [
        "<a href=\"https://colab.research.google.com/github/vitorsr/ccd/blob/master/main.ipynb\" target=\"_parent\"><img src=\"https://colab.research.google.com/assets/colab-badge.svg\" alt=\"Open In Colab\"/></a>"
      ]
    },
    {
      "cell_type": "markdown",
      "metadata": {
        "id": "TqGQeZ0sCA-k",
        "colab_type": "text"
      },
      "source": [
        "# Importando dados"
      ]
    },
    {
      "cell_type": "code",
      "metadata": {
        "id": "hB420eiaCfAW",
        "colab_type": "code",
        "colab": {}
      },
      "source": [
        "import pandas as pd\n",
        "import os"
      ],
      "execution_count": 0,
      "outputs": []
    },
    {
      "cell_type": "code",
      "metadata": {
        "id": "69CSdZsN-XVT",
        "colab_type": "code",
        "outputId": "0c248915-3b8c-49f0-a623-7aabac1b35d6",
        "colab": {
          "base_uri": "https://localhost:8080/",
          "height": 479
        }
      },
      "source": [
        "!wget https://www.dropbox.com/s/7rriacb7c6vzf3m/ccd_2019.zip -O ccd_2019.zip\n",
        "!unzip ccd_2019.zip"
      ],
      "execution_count": 2,
      "outputs": [
        {
          "output_type": "stream",
          "text": [
            "--2019-10-25 23:43:08--  https://www.dropbox.com/s/7rriacb7c6vzf3m/ccd_2019.zip\n",
            "Resolving www.dropbox.com (www.dropbox.com)... 162.125.9.1, 2620:100:601f:1::a27d:901\n",
            "Connecting to www.dropbox.com (www.dropbox.com)|162.125.9.1|:443... connected.\n",
            "HTTP request sent, awaiting response... 301 Moved Permanently\n",
            "Location: /s/raw/7rriacb7c6vzf3m/ccd_2019.zip [following]\n",
            "--2019-10-25 23:43:08--  https://www.dropbox.com/s/raw/7rriacb7c6vzf3m/ccd_2019.zip\n",
            "Reusing existing connection to www.dropbox.com:443.\n",
            "HTTP request sent, awaiting response... 302 Found\n",
            "Location: https://ucb5672dcb58eb2db049874feb21.dl.dropboxusercontent.com/cd/0/inline/ArLNzK43V_IIqxWcfHIuV1jtBVfUzRbPQHuMyXctQqh1Gere93LfY_2fxJsSTbVRwnjdde5UIjJMws8eh8XnvxtV6KQ_QMvPX5zffiT7Q6SHoPBrZWQr0XMfXRXbgxj4cGg/file# [following]\n",
            "--2019-10-25 23:43:08--  https://ucb5672dcb58eb2db049874feb21.dl.dropboxusercontent.com/cd/0/inline/ArLNzK43V_IIqxWcfHIuV1jtBVfUzRbPQHuMyXctQqh1Gere93LfY_2fxJsSTbVRwnjdde5UIjJMws8eh8XnvxtV6KQ_QMvPX5zffiT7Q6SHoPBrZWQr0XMfXRXbgxj4cGg/file\n",
            "Resolving ucb5672dcb58eb2db049874feb21.dl.dropboxusercontent.com (ucb5672dcb58eb2db049874feb21.dl.dropboxusercontent.com)... 162.125.9.6, 2620:100:601f:6::a27d:906\n",
            "Connecting to ucb5672dcb58eb2db049874feb21.dl.dropboxusercontent.com (ucb5672dcb58eb2db049874feb21.dl.dropboxusercontent.com)|162.125.9.6|:443... connected.\n",
            "HTTP request sent, awaiting response... 302 FOUND\n",
            "Location: /cd/0/inline2/ArLR91vuBoe2aDFghD1OVkt5wz2Z-C5TPaVtmx_FwyKyxgIUy4LNJa8bVCspWAc4HlzIedjMJ5gRXlQJ27aT4e19WNz_l4kL-VE37FwGWcJfB_bMDlY53PFMj32I0YHYRh-QO1TYx_sOKAK7P7XXBu5bMcfU-KFtliyijYuonNWNpuCi20ok4rZ2tc94td7Uu01dVebFA2-tRjy0v7TBMch5_BFm9ky25EFck7A504o2HOdwF9hvdVsEsGeWof5MOktRAyFy_-Tqq7jpBr2eIYLcvLe65CiGs2ImgsDWjetvGYrgT5L4IrkMrsNo_pveQYVHMagI0WRu6WmwD8gxpX7oKlhIITxHNFxCHQhofXfTNQ/file [following]\n",
            "--2019-10-25 23:43:09--  https://ucb5672dcb58eb2db049874feb21.dl.dropboxusercontent.com/cd/0/inline2/ArLR91vuBoe2aDFghD1OVkt5wz2Z-C5TPaVtmx_FwyKyxgIUy4LNJa8bVCspWAc4HlzIedjMJ5gRXlQJ27aT4e19WNz_l4kL-VE37FwGWcJfB_bMDlY53PFMj32I0YHYRh-QO1TYx_sOKAK7P7XXBu5bMcfU-KFtliyijYuonNWNpuCi20ok4rZ2tc94td7Uu01dVebFA2-tRjy0v7TBMch5_BFm9ky25EFck7A504o2HOdwF9hvdVsEsGeWof5MOktRAyFy_-Tqq7jpBr2eIYLcvLe65CiGs2ImgsDWjetvGYrgT5L4IrkMrsNo_pveQYVHMagI0WRu6WmwD8gxpX7oKlhIITxHNFxCHQhofXfTNQ/file\n",
            "Reusing existing connection to ucb5672dcb58eb2db049874feb21.dl.dropboxusercontent.com:443.\n",
            "HTTP request sent, awaiting response... 200 OK\n",
            "Length: 214105380 (204M) [application/zip]\n",
            "Saving to: ‘ccd_2019.zip’\n",
            "\n",
            "ccd_2019.zip        100%[===================>] 204.19M  41.9MB/s    in 4.9s    \n",
            "\n",
            "2019-10-25 23:43:14 (41.9 MB/s) - ‘ccd_2019.zip’ saved [214105380/214105380]\n",
            "\n",
            "Archive:  ccd_2019.zip\n",
            "replace bdmep_meta.csv? [y]es, [n]o, [A]ll, [N]one, [r]ename: N\n"
          ],
          "name": "stdout"
        }
      ]
    },
    {
      "cell_type": "markdown",
      "metadata": {
        "id": "OfzV4keyqh68",
        "colab_type": "text"
      },
      "source": [
        "Import csvs from git"
      ]
    },
    {
      "cell_type": "code",
      "metadata": {
        "id": "1lK6A5mmB9C6",
        "colab_type": "code",
        "colab": {}
      },
      "source": [
        "df_m = pd.read_csv(\"bdmep_meta.csv\")"
      ],
      "execution_count": 0,
      "outputs": []
    },
    {
      "cell_type": "code",
      "metadata": {
        "id": "FU_92u4FKZVQ",
        "colab_type": "code",
        "colab": {}
      },
      "source": [
        "df = pd.read_csv(\"inmetr.csv\")"
      ],
      "execution_count": 0,
      "outputs": []
    },
    {
      "cell_type": "code",
      "metadata": {
        "id": "OSJ9YEOGCyew",
        "colab_type": "code",
        "outputId": "e65a3173-2b8a-42e2-c086-edc0fe0cd995",
        "colab": {
          "base_uri": "https://localhost:8080/",
          "height": 204
        }
      },
      "source": [
        "df.head()"
      ],
      "execution_count": 5,
      "outputs": [
        {
          "output_type": "execute_result",
          "data": {
            "text/html": [
              "<div>\n",
              "<style scoped>\n",
              "    .dataframe tbody tr th:only-of-type {\n",
              "        vertical-align: middle;\n",
              "    }\n",
              "\n",
              "    .dataframe tbody tr th {\n",
              "        vertical-align: top;\n",
              "    }\n",
              "\n",
              "    .dataframe thead th {\n",
              "        text-align: right;\n",
              "    }\n",
              "</style>\n",
              "<table border=\"1\" class=\"dataframe\">\n",
              "  <thead>\n",
              "    <tr style=\"text-align: right;\">\n",
              "      <th></th>\n",
              "      <th>date</th>\n",
              "      <th>id</th>\n",
              "      <th>prec</th>\n",
              "      <th>tair</th>\n",
              "      <th>tw</th>\n",
              "      <th>tmax</th>\n",
              "      <th>tmin</th>\n",
              "      <th>urmax</th>\n",
              "      <th>patm</th>\n",
              "      <th>pnmm</th>\n",
              "      <th>wd</th>\n",
              "      <th>wsmax</th>\n",
              "      <th>n</th>\n",
              "      <th>cc</th>\n",
              "      <th>evap</th>\n",
              "      <th>ur</th>\n",
              "      <th>ws</th>\n",
              "    </tr>\n",
              "  </thead>\n",
              "  <tbody>\n",
              "    <tr>\n",
              "      <th>0</th>\n",
              "      <td>1970-05-04 00:00:00</td>\n",
              "      <td>83010</td>\n",
              "      <td>NaN</td>\n",
              "      <td>NaN</td>\n",
              "      <td>NaN</td>\n",
              "      <td>32.6</td>\n",
              "      <td>NaN</td>\n",
              "      <td>NaN</td>\n",
              "      <td>NaN</td>\n",
              "      <td>NaN</td>\n",
              "      <td>NaN</td>\n",
              "      <td>NaN</td>\n",
              "      <td>NaN</td>\n",
              "      <td>NaN</td>\n",
              "      <td>NaN</td>\n",
              "      <td>89.75</td>\n",
              "      <td>NaN</td>\n",
              "    </tr>\n",
              "    <tr>\n",
              "      <th>1</th>\n",
              "      <td>1970-05-04 12:00:00</td>\n",
              "      <td>83010</td>\n",
              "      <td>NaN</td>\n",
              "      <td>25.3</td>\n",
              "      <td>24.0</td>\n",
              "      <td>NaN</td>\n",
              "      <td>23.7</td>\n",
              "      <td>90.0</td>\n",
              "      <td>1005.9</td>\n",
              "      <td>NaN</td>\n",
              "      <td>NaN</td>\n",
              "      <td>NaN</td>\n",
              "      <td>NaN</td>\n",
              "      <td>5.0</td>\n",
              "      <td>NaN</td>\n",
              "      <td>NaN</td>\n",
              "      <td>NaN</td>\n",
              "    </tr>\n",
              "    <tr>\n",
              "      <th>2</th>\n",
              "      <td>1970-05-04 18:00:00</td>\n",
              "      <td>83010</td>\n",
              "      <td>NaN</td>\n",
              "      <td>29.2</td>\n",
              "      <td>27.1</td>\n",
              "      <td>NaN</td>\n",
              "      <td>NaN</td>\n",
              "      <td>85.0</td>\n",
              "      <td>1004.2</td>\n",
              "      <td>NaN</td>\n",
              "      <td>NaN</td>\n",
              "      <td>NaN</td>\n",
              "      <td>NaN</td>\n",
              "      <td>4.0</td>\n",
              "      <td>NaN</td>\n",
              "      <td>NaN</td>\n",
              "      <td>NaN</td>\n",
              "    </tr>\n",
              "    <tr>\n",
              "      <th>3</th>\n",
              "      <td>1970-05-05 00:00:00</td>\n",
              "      <td>83010</td>\n",
              "      <td>NaN</td>\n",
              "      <td>25.0</td>\n",
              "      <td>27.0</td>\n",
              "      <td>32.6</td>\n",
              "      <td>NaN</td>\n",
              "      <td>92.0</td>\n",
              "      <td>1007.5</td>\n",
              "      <td>NaN</td>\n",
              "      <td>NaN</td>\n",
              "      <td>NaN</td>\n",
              "      <td>NaN</td>\n",
              "      <td>8.0</td>\n",
              "      <td>2.4</td>\n",
              "      <td>88.25</td>\n",
              "      <td>NaN</td>\n",
              "    </tr>\n",
              "    <tr>\n",
              "      <th>4</th>\n",
              "      <td>1970-05-05 12:00:00</td>\n",
              "      <td>83010</td>\n",
              "      <td>0.0</td>\n",
              "      <td>25.9</td>\n",
              "      <td>24.8</td>\n",
              "      <td>NaN</td>\n",
              "      <td>23.0</td>\n",
              "      <td>91.0</td>\n",
              "      <td>1006.4</td>\n",
              "      <td>NaN</td>\n",
              "      <td>NaN</td>\n",
              "      <td>NaN</td>\n",
              "      <td>NaN</td>\n",
              "      <td>4.0</td>\n",
              "      <td>NaN</td>\n",
              "      <td>NaN</td>\n",
              "      <td>NaN</td>\n",
              "    </tr>\n",
              "  </tbody>\n",
              "</table>\n",
              "</div>"
            ],
            "text/plain": [
              "                  date     id  prec  tair    tw  ...   n   cc  evap     ur  ws\n",
              "0  1970-05-04 00:00:00  83010   NaN   NaN   NaN  ... NaN  NaN   NaN  89.75 NaN\n",
              "1  1970-05-04 12:00:00  83010   NaN  25.3  24.0  ... NaN  5.0   NaN    NaN NaN\n",
              "2  1970-05-04 18:00:00  83010   NaN  29.2  27.1  ... NaN  4.0   NaN    NaN NaN\n",
              "3  1970-05-05 00:00:00  83010   NaN  25.0  27.0  ... NaN  8.0   2.4  88.25 NaN\n",
              "4  1970-05-05 12:00:00  83010   0.0  25.9  24.8  ... NaN  4.0   NaN    NaN NaN\n",
              "\n",
              "[5 rows x 17 columns]"
            ]
          },
          "metadata": {
            "tags": []
          },
          "execution_count": 5
        }
      ]
    },
    {
      "cell_type": "code",
      "metadata": {
        "id": "9XL-kyfjK1gX",
        "colab_type": "code",
        "outputId": "6f3173e1-8447-4830-8e47-9978d28b6c0e",
        "colab": {
          "base_uri": "https://localhost:8080/",
          "height": 204
        }
      },
      "source": [
        "df_m.head()"
      ],
      "execution_count": 6,
      "outputs": [
        {
          "output_type": "execute_result",
          "data": {
            "text/html": [
              "<div>\n",
              "<style scoped>\n",
              "    .dataframe tbody tr th:only-of-type {\n",
              "        vertical-align: middle;\n",
              "    }\n",
              "\n",
              "    .dataframe tbody tr th {\n",
              "        vertical-align: top;\n",
              "    }\n",
              "\n",
              "    .dataframe thead th {\n",
              "        text-align: right;\n",
              "    }\n",
              "</style>\n",
              "<table border=\"1\" class=\"dataframe\">\n",
              "  <thead>\n",
              "    <tr style=\"text-align: right;\">\n",
              "      <th></th>\n",
              "      <th>id</th>\n",
              "      <th>lon</th>\n",
              "      <th>lat</th>\n",
              "      <th>alt</th>\n",
              "      <th>name</th>\n",
              "      <th>state</th>\n",
              "      <th>uf</th>\n",
              "      <th>time_zone</th>\n",
              "      <th>offset_utc</th>\n",
              "      <th>time_zone.1</th>\n",
              "      <th>offset_utc.1</th>\n",
              "    </tr>\n",
              "  </thead>\n",
              "  <tbody>\n",
              "    <tr>\n",
              "      <th>0</th>\n",
              "      <td>83010</td>\n",
              "      <td>-68.733333</td>\n",
              "      <td>-11.016667</td>\n",
              "      <td>260.00</td>\n",
              "      <td>Brasiléia</td>\n",
              "      <td>Acre</td>\n",
              "      <td>AC</td>\n",
              "      <td>America/Rio_Branco</td>\n",
              "      <td>-5</td>\n",
              "      <td>America/Rio_Branco</td>\n",
              "      <td>-5</td>\n",
              "    </tr>\n",
              "    <tr>\n",
              "      <th>1</th>\n",
              "      <td>82704</td>\n",
              "      <td>-72.666667</td>\n",
              "      <td>-7.633333</td>\n",
              "      <td>170.00</td>\n",
              "      <td>Cruzeiro do Sul</td>\n",
              "      <td>Acre</td>\n",
              "      <td>AC</td>\n",
              "      <td>America/Rio_Branco</td>\n",
              "      <td>-5</td>\n",
              "      <td>America/Rio_Branco</td>\n",
              "      <td>-5</td>\n",
              "    </tr>\n",
              "    <tr>\n",
              "      <th>2</th>\n",
              "      <td>82915</td>\n",
              "      <td>-67.800000</td>\n",
              "      <td>-9.966667</td>\n",
              "      <td>160.00</td>\n",
              "      <td>Rio Branco</td>\n",
              "      <td>Acre</td>\n",
              "      <td>AC</td>\n",
              "      <td>America/Rio_Branco</td>\n",
              "      <td>-5</td>\n",
              "      <td>America/Rio_Branco</td>\n",
              "      <td>-5</td>\n",
              "    </tr>\n",
              "    <tr>\n",
              "      <th>3</th>\n",
              "      <td>82807</td>\n",
              "      <td>-70.766667</td>\n",
              "      <td>-8.166667</td>\n",
              "      <td>190.00</td>\n",
              "      <td>Tarauacá</td>\n",
              "      <td>Acre</td>\n",
              "      <td>AC</td>\n",
              "      <td>America/Rio_Branco</td>\n",
              "      <td>-5</td>\n",
              "      <td>America/Rio_Branco</td>\n",
              "      <td>-5</td>\n",
              "    </tr>\n",
              "    <tr>\n",
              "      <th>4</th>\n",
              "      <td>83098</td>\n",
              "      <td>-36.166667</td>\n",
              "      <td>-10.150000</td>\n",
              "      <td>56.13</td>\n",
              "      <td>Coruripe</td>\n",
              "      <td>Alagoas</td>\n",
              "      <td>AL</td>\n",
              "      <td>America/Maceio</td>\n",
              "      <td>-3</td>\n",
              "      <td>America/Maceio</td>\n",
              "      <td>-3</td>\n",
              "    </tr>\n",
              "  </tbody>\n",
              "</table>\n",
              "</div>"
            ],
            "text/plain": [
              "      id        lon        lat  ...  offset_utc         time_zone.1 offset_utc.1\n",
              "0  83010 -68.733333 -11.016667  ...          -5  America/Rio_Branco           -5\n",
              "1  82704 -72.666667  -7.633333  ...          -5  America/Rio_Branco           -5\n",
              "2  82915 -67.800000  -9.966667  ...          -5  America/Rio_Branco           -5\n",
              "3  82807 -70.766667  -8.166667  ...          -5  America/Rio_Branco           -5\n",
              "4  83098 -36.166667 -10.150000  ...          -3      America/Maceio           -3\n",
              "\n",
              "[5 rows x 11 columns]"
            ]
          },
          "metadata": {
            "tags": []
          },
          "execution_count": 6
        }
      ]
    },
    {
      "cell_type": "markdown",
      "metadata": {
        "id": "-N5Chu1-spS2",
        "colab_type": "text"
      },
      "source": [
        "### Dicionário de dados:"
      ]
    },
    {
      "cell_type": "markdown",
      "metadata": {
        "id": "CNa0QZa1szu-",
        "colab_type": "text"
      },
      "source": [
        "<br><b>variável | descrição | unidade </b></br>\n",
        "<br>date | data e hora da coleta             -\n",
        "<br> id | ID da estação de coleta             -\n",
        "<br>prec | precipitação |       mm\n",
        "<br>tair | temperatura do ar  | graus Celsius\n",
        "<br>tw | temperatura de bulbo úmido |  graus Celsius\n",
        "<br>tmax | temperatura máxima do ar  | graus Celsius\n",
        "<br>tmin | temperatura mínima do ar  | graus Celsius\n",
        "<br>urmax | umidade relativa máxima  |             %\n",
        "<br>patm | pressão atmosférica         |    hPa\n",
        "<br>pnmm | pressão atmosférica média ao nível do mar  |           hPa\n",
        "<br>wd | direção do vento        |   graus\n",
        "<br>wsmax  |  rajadas de vento    |         m/s\n",
        "<br>n |  horas de sol          |     h\n",
        "<br>cc |   cobertura de nuvens    |           -\n",
        "<br>evap  |   evaporação        |      mm\n",
        "<br>ur  |   umidade relativa          |     %\n",
        "<br>ws   |   velocidade do vento       |      m/s\n",
        "\n"
      ]
    },
    {
      "cell_type": "markdown",
      "metadata": {
        "id": "PHi9-XWjq2LY",
        "colab_type": "text"
      },
      "source": [
        "## Explorando"
      ]
    },
    {
      "cell_type": "markdown",
      "metadata": {
        "id": "ShEluODmsRYn",
        "colab_type": "text"
      },
      "source": [
        "> **Hipótese**: as queimadas que ocorreram na amazônia, entre 8 e 22 de Agosto de 2019 influenciaram as temperaturas na região e/ou no restante do país?"
      ]
    },
    {
      "cell_type": "markdown",
      "metadata": {
        "id": "XyXuVGsAHmvd",
        "colab_type": "text"
      },
      "source": [
        "Primeiramente, vamos fazer que a coluna date seja do tipo **datetime**"
      ]
    },
    {
      "cell_type": "code",
      "metadata": {
        "id": "la0H-B-Fshza",
        "colab_type": "code",
        "outputId": "4f7cac57-555e-4627-c37d-0e7166a1456b",
        "colab": {
          "base_uri": "https://localhost:8080/",
          "height": 204
        }
      },
      "source": [
        "df.head()"
      ],
      "execution_count": 7,
      "outputs": [
        {
          "output_type": "execute_result",
          "data": {
            "text/html": [
              "<div>\n",
              "<style scoped>\n",
              "    .dataframe tbody tr th:only-of-type {\n",
              "        vertical-align: middle;\n",
              "    }\n",
              "\n",
              "    .dataframe tbody tr th {\n",
              "        vertical-align: top;\n",
              "    }\n",
              "\n",
              "    .dataframe thead th {\n",
              "        text-align: right;\n",
              "    }\n",
              "</style>\n",
              "<table border=\"1\" class=\"dataframe\">\n",
              "  <thead>\n",
              "    <tr style=\"text-align: right;\">\n",
              "      <th></th>\n",
              "      <th>date</th>\n",
              "      <th>id</th>\n",
              "      <th>prec</th>\n",
              "      <th>tair</th>\n",
              "      <th>tw</th>\n",
              "      <th>tmax</th>\n",
              "      <th>tmin</th>\n",
              "      <th>urmax</th>\n",
              "      <th>patm</th>\n",
              "      <th>pnmm</th>\n",
              "      <th>wd</th>\n",
              "      <th>wsmax</th>\n",
              "      <th>n</th>\n",
              "      <th>cc</th>\n",
              "      <th>evap</th>\n",
              "      <th>ur</th>\n",
              "      <th>ws</th>\n",
              "    </tr>\n",
              "  </thead>\n",
              "  <tbody>\n",
              "    <tr>\n",
              "      <th>0</th>\n",
              "      <td>1970-05-04 00:00:00</td>\n",
              "      <td>83010</td>\n",
              "      <td>NaN</td>\n",
              "      <td>NaN</td>\n",
              "      <td>NaN</td>\n",
              "      <td>32.6</td>\n",
              "      <td>NaN</td>\n",
              "      <td>NaN</td>\n",
              "      <td>NaN</td>\n",
              "      <td>NaN</td>\n",
              "      <td>NaN</td>\n",
              "      <td>NaN</td>\n",
              "      <td>NaN</td>\n",
              "      <td>NaN</td>\n",
              "      <td>NaN</td>\n",
              "      <td>89.75</td>\n",
              "      <td>NaN</td>\n",
              "    </tr>\n",
              "    <tr>\n",
              "      <th>1</th>\n",
              "      <td>1970-05-04 12:00:00</td>\n",
              "      <td>83010</td>\n",
              "      <td>NaN</td>\n",
              "      <td>25.3</td>\n",
              "      <td>24.0</td>\n",
              "      <td>NaN</td>\n",
              "      <td>23.7</td>\n",
              "      <td>90.0</td>\n",
              "      <td>1005.9</td>\n",
              "      <td>NaN</td>\n",
              "      <td>NaN</td>\n",
              "      <td>NaN</td>\n",
              "      <td>NaN</td>\n",
              "      <td>5.0</td>\n",
              "      <td>NaN</td>\n",
              "      <td>NaN</td>\n",
              "      <td>NaN</td>\n",
              "    </tr>\n",
              "    <tr>\n",
              "      <th>2</th>\n",
              "      <td>1970-05-04 18:00:00</td>\n",
              "      <td>83010</td>\n",
              "      <td>NaN</td>\n",
              "      <td>29.2</td>\n",
              "      <td>27.1</td>\n",
              "      <td>NaN</td>\n",
              "      <td>NaN</td>\n",
              "      <td>85.0</td>\n",
              "      <td>1004.2</td>\n",
              "      <td>NaN</td>\n",
              "      <td>NaN</td>\n",
              "      <td>NaN</td>\n",
              "      <td>NaN</td>\n",
              "      <td>4.0</td>\n",
              "      <td>NaN</td>\n",
              "      <td>NaN</td>\n",
              "      <td>NaN</td>\n",
              "    </tr>\n",
              "    <tr>\n",
              "      <th>3</th>\n",
              "      <td>1970-05-05 00:00:00</td>\n",
              "      <td>83010</td>\n",
              "      <td>NaN</td>\n",
              "      <td>25.0</td>\n",
              "      <td>27.0</td>\n",
              "      <td>32.6</td>\n",
              "      <td>NaN</td>\n",
              "      <td>92.0</td>\n",
              "      <td>1007.5</td>\n",
              "      <td>NaN</td>\n",
              "      <td>NaN</td>\n",
              "      <td>NaN</td>\n",
              "      <td>NaN</td>\n",
              "      <td>8.0</td>\n",
              "      <td>2.4</td>\n",
              "      <td>88.25</td>\n",
              "      <td>NaN</td>\n",
              "    </tr>\n",
              "    <tr>\n",
              "      <th>4</th>\n",
              "      <td>1970-05-05 12:00:00</td>\n",
              "      <td>83010</td>\n",
              "      <td>0.0</td>\n",
              "      <td>25.9</td>\n",
              "      <td>24.8</td>\n",
              "      <td>NaN</td>\n",
              "      <td>23.0</td>\n",
              "      <td>91.0</td>\n",
              "      <td>1006.4</td>\n",
              "      <td>NaN</td>\n",
              "      <td>NaN</td>\n",
              "      <td>NaN</td>\n",
              "      <td>NaN</td>\n",
              "      <td>4.0</td>\n",
              "      <td>NaN</td>\n",
              "      <td>NaN</td>\n",
              "      <td>NaN</td>\n",
              "    </tr>\n",
              "  </tbody>\n",
              "</table>\n",
              "</div>"
            ],
            "text/plain": [
              "                  date     id  prec  tair    tw  ...   n   cc  evap     ur  ws\n",
              "0  1970-05-04 00:00:00  83010   NaN   NaN   NaN  ... NaN  NaN   NaN  89.75 NaN\n",
              "1  1970-05-04 12:00:00  83010   NaN  25.3  24.0  ... NaN  5.0   NaN    NaN NaN\n",
              "2  1970-05-04 18:00:00  83010   NaN  29.2  27.1  ... NaN  4.0   NaN    NaN NaN\n",
              "3  1970-05-05 00:00:00  83010   NaN  25.0  27.0  ... NaN  8.0   2.4  88.25 NaN\n",
              "4  1970-05-05 12:00:00  83010   0.0  25.9  24.8  ... NaN  4.0   NaN    NaN NaN\n",
              "\n",
              "[5 rows x 17 columns]"
            ]
          },
          "metadata": {
            "tags": []
          },
          "execution_count": 7
        }
      ]
    },
    {
      "cell_type": "code",
      "metadata": {
        "id": "vZhijR7lH_FC",
        "colab_type": "code",
        "outputId": "ae1a7af1-6684-47f6-8dc7-88dcfb0cbe75",
        "colab": {
          "base_uri": "https://localhost:8080/",
          "height": 323
        }
      },
      "source": [
        "df.dtypes"
      ],
      "execution_count": 8,
      "outputs": [
        {
          "output_type": "execute_result",
          "data": {
            "text/plain": [
              "date      object\n",
              "id         int64\n",
              "prec     float64\n",
              "tair     float64\n",
              "tw       float64\n",
              "tmax     float64\n",
              "tmin     float64\n",
              "urmax    float64\n",
              "patm     float64\n",
              "pnmm     float64\n",
              "wd       float64\n",
              "wsmax    float64\n",
              "n        float64\n",
              "cc       float64\n",
              "evap     float64\n",
              "ur       float64\n",
              "ws       float64\n",
              "dtype: object"
            ]
          },
          "metadata": {
            "tags": []
          },
          "execution_count": 8
        }
      ]
    },
    {
      "cell_type": "code",
      "metadata": {
        "id": "yrsOkvZNIrtU",
        "colab_type": "code",
        "colab": {}
      },
      "source": [
        "df['date'] = pd.to_datetime(df['date'])"
      ],
      "execution_count": 0,
      "outputs": []
    },
    {
      "cell_type": "code",
      "metadata": {
        "id": "CPlyAIIbI1sa",
        "colab_type": "code",
        "outputId": "7abe758f-a4ac-4e40-ace8-0b06461ab125",
        "colab": {
          "base_uri": "https://localhost:8080/",
          "height": 323
        }
      },
      "source": [
        "df.dtypes"
      ],
      "execution_count": 10,
      "outputs": [
        {
          "output_type": "execute_result",
          "data": {
            "text/plain": [
              "date     datetime64[ns]\n",
              "id                int64\n",
              "prec            float64\n",
              "tair            float64\n",
              "tw              float64\n",
              "tmax            float64\n",
              "tmin            float64\n",
              "urmax           float64\n",
              "patm            float64\n",
              "pnmm            float64\n",
              "wd              float64\n",
              "wsmax           float64\n",
              "n               float64\n",
              "cc              float64\n",
              "evap            float64\n",
              "ur              float64\n",
              "ws              float64\n",
              "dtype: object"
            ]
          },
          "metadata": {
            "tags": []
          },
          "execution_count": 10
        }
      ]
    },
    {
      "cell_type": "markdown",
      "metadata": {
        "id": "I_AlNUFXO5Z0",
        "colab_type": "text"
      },
      "source": [
        "> <b>Não</b> temos dados de <b>2019</b>!!! Vamos baixar da fonte"
      ]
    },
    {
      "cell_type": "code",
      "metadata": {
        "id": "VG3RlnHMqwpL",
        "colab_type": "code",
        "outputId": "6e43893d-b0f7-470e-eefa-486c5d6396d6",
        "colab": {
          "base_uri": "https://localhost:8080/",
          "height": 343
        }
      },
      "source": [
        "!wget \"https://onedrive.live.com/download?cid=BCBADB0836C97273&resid=BCBADB0836C97273%21115485&authkey=AJlb41BWz0YiBd8\" -O 2019.zip\n",
        "!unzip 2019.zip"
      ],
      "execution_count": 11,
      "outputs": [
        {
          "output_type": "stream",
          "text": [
            "--2019-10-25 23:43:47--  https://onedrive.live.com/download?cid=BCBADB0836C97273&resid=BCBADB0836C97273%21115485&authkey=AJlb41BWz0YiBd8\n",
            "Resolving onedrive.live.com (onedrive.live.com)... 13.107.42.13\n",
            "Connecting to onedrive.live.com (onedrive.live.com)|13.107.42.13|:443... connected.\n",
            "HTTP request sent, awaiting response... 302 Found\n",
            "Location: https://c9quda.bn.files.1drv.com/y4mb07ei-ZvmiiDMz0a2DP1uW3XfvF8dAzIqmH13GFKlQ1-PwEQHvV0Cmibw3Sv4O0DCiI0ytNbUxCtctJoLiKznRzqJS9fxZvQVYyVh-v6l0uiyVWrATQeO9aJ5zVBNlda3larkxeMpcmY9pQhRWoEPJnmNqzmVbxFsGomKNZCvLyfCV3WE_d0MgQVwez1CwOzkORhUmg8nTXzlDuOpKUiNA/2019.zip?download&psid=1 [following]\n",
            "--2019-10-25 23:43:52--  https://c9quda.bn.files.1drv.com/y4mb07ei-ZvmiiDMz0a2DP1uW3XfvF8dAzIqmH13GFKlQ1-PwEQHvV0Cmibw3Sv4O0DCiI0ytNbUxCtctJoLiKznRzqJS9fxZvQVYyVh-v6l0uiyVWrATQeO9aJ5zVBNlda3larkxeMpcmY9pQhRWoEPJnmNqzmVbxFsGomKNZCvLyfCV3WE_d0MgQVwez1CwOzkORhUmg8nTXzlDuOpKUiNA/2019.zip?download&psid=1\n",
            "Resolving c9quda.bn.files.1drv.com (c9quda.bn.files.1drv.com)... 13.107.42.12\n",
            "Connecting to c9quda.bn.files.1drv.com (c9quda.bn.files.1drv.com)|13.107.42.12|:443... connected.\n",
            "HTTP request sent, awaiting response... 200 OK\n",
            "Length: 1857551 (1.8M) [application/zip]\n",
            "Saving to: ‘2019.zip’\n",
            "\n",
            "2019.zip            100%[===================>]   1.77M  --.-KB/s    in 0.09s   \n",
            "\n",
            "2019-10-25 23:43:52 (19.3 MB/s) - ‘2019.zip’ saved [1857551/1857551]\n",
            "\n",
            "Archive:  2019.zip\n",
            "replace 2019/82024.csv? [y]es, [n]o, [A]ll, [N]one, [r]ename: N\n"
          ],
          "name": "stdout"
        }
      ]
    },
    {
      "cell_type": "code",
      "metadata": {
        "id": "K-J94GmjsGnT",
        "colab_type": "code",
        "outputId": "ce3bc639-670b-42a8-96d0-b37cd46f6ad3",
        "colab": {
          "base_uri": "https://localhost:8080/",
          "height": 51
        }
      },
      "source": [
        "%ls "
      ],
      "execution_count": 12,
      "outputs": [
        {
          "output_type": "stream",
          "text": [
            "\u001b[0m\u001b[01;34m2019\u001b[0m/     bdmep_meta.csv  inmetr_201908.csv  \u001b[01;34m__MACOSX\u001b[0m/\n",
            "2019.zip  ccd_2019.zip    inmetr.csv         \u001b[01;34msample_data\u001b[0m/\n"
          ],
          "name": "stdout"
        }
      ]
    },
    {
      "cell_type": "code",
      "metadata": {
        "id": "zjvGMa2KsMCY",
        "colab_type": "code",
        "colab": {
          "base_uri": "https://localhost:8080/",
          "height": 34
        },
        "outputId": "ead5f4e7-10af-440c-d714-df3c6a5a864b"
      },
      "source": [
        "%cd 2019"
      ],
      "execution_count": 13,
      "outputs": [
        {
          "output_type": "stream",
          "text": [
            "/content/2019\n"
          ],
          "name": "stdout"
        }
      ]
    },
    {
      "cell_type": "code",
      "metadata": {
        "id": "we-yMZrxsQD3",
        "colab_type": "code",
        "outputId": "3bca7737-d066-4467-b36b-384be3acb302",
        "colab": {
          "base_uri": "https://localhost:8080/",
          "height": 493
        }
      },
      "source": [
        "%ls"
      ],
      "execution_count": 14,
      "outputs": [
        {
          "output_type": "stream",
          "text": [
            "82024.csv  82445.csv  82777.csv  83049.csv  83338.csv  83565.csv  83767.csv\n",
            "82042.csv  82460.csv  82780.csv  83064.csv  83339.csv  83577.csv  83781.csv\n",
            "82098.csv  82476.csv  82784.csv  83076.csv  83358.csv  83579.csv  83789.csv\n",
            "82106.csv  82487.csv  82792.csv  83090.csv  83361.csv  83587.csv  83805.csv\n",
            "82113.csv  82493.csv  82795.csv  83096.csv  83368.csv  83589.csv  83807.csv\n",
            "82141.csv  82533.csv  82797.csv  83097.csv  83376.csv  83591.csv  83811.csv\n",
            "82145.csv  82562.csv  82798.csv  83114.csv  83377.csv  83592.csv  83813.csv\n",
            "82178.csv  82564.csv  82807.csv  83179.csv  83379.csv  83623.csv  83836.csv\n",
            "82181.csv  82571.csv  82861.csv  83182.csv  83384.csv  83630.csv  83842.csv\n",
            "82184.csv  82578.csv  82863.csv  83184.csv  83386.csv  83632.csv  83844.csv\n",
            "82188.csv  82586.csv  82882.csv  83186.csv  83393.csv  83639.csv  83851.csv\n",
            "82191.csv  82588.csv  82886.csv  83190.csv  83423.csv  83648.csv  83897.csv\n",
            "82198.csv  82590.csv  82890.csv  83192.csv  83428.csv  83669.csv  83907.csv\n",
            "82212.csv  82596.csv  82893.csv  83195.csv  83437.csv  83676.csv  83912.csv\n",
            "82246.csv  82598.csv  82900.csv  83221.csv  83441.csv  83683.csv  83914.csv\n",
            "82263.csv  82610.csv  82915.csv  83222.csv  83442.csv  83687.csv  83916.csv\n",
            "82280.csv  82659.csv  82970.csv  83228.csv  83464.csv  83692.csv  83919.csv\n",
            "82317.csv  82668.csv  82975.csv  83229.csv  83470.csv  83695.csv  83927.csv\n",
            "82326.csv  82676.csv  82976.csv  83235.csv  83479.csv  83696.csv  83936.csv\n",
            "82331.csv  82678.csv  82979.csv  83236.csv  83483.csv  83698.csv  83942.csv\n",
            "82336.csv  82683.csv  82983.csv  83242.csv  83488.csv  83714.csv  83948.csv\n",
            "82353.csv  82686.csv  82990.csv  83244.csv  83498.csv  83718.csv  83964.csv\n",
            "82361.csv  82689.csv  82992.csv  83249.csv  83522.csv  83726.csv  83967.csv\n",
            "82376.csv  82693.csv  82994.csv  83286.csv  83526.csv  83736.csv  83980.csv\n",
            "82382.csv  82723.csv  82996.csv  83288.csv  83536.csv  83737.csv  83985.csv\n",
            "82392.csv  82753.csv  83007.csv  83309.csv  83538.csv  83738.csv  83995.csv\n",
            "82397.csv  82765.csv  83013.csv  83332.csv  83550.csv  83744.csv  83997.csv\n",
            "82410.csv  82768.csv  83033.csv  83334.csv  83557.csv  83766.csv\n"
          ],
          "name": "stdout"
        }
      ]
    },
    {
      "cell_type": "code",
      "metadata": {
        "id": "NyYfadsgtrH5",
        "colab_type": "code",
        "outputId": "1af4acc7-2492-4224-c46f-14aa53e1cd76",
        "colab": {
          "base_uri": "https://localhost:8080/",
          "height": 34
        }
      },
      "source": [
        "%cd .."
      ],
      "execution_count": 15,
      "outputs": [
        {
          "output_type": "stream",
          "text": [
            "/content\n"
          ],
          "name": "stdout"
        }
      ]
    },
    {
      "cell_type": "code",
      "metadata": {
        "id": "-FbsLr8XsS5s",
        "colab_type": "code",
        "colab": {}
      },
      "source": [
        "directory = '2019'\n",
        "files = []\n",
        "for filename in os.listdir(directory):\n",
        "    if filename.endswith(\".csv\"): \n",
        "        files.append(filename)\n",
        "        continue\n",
        "    else:\n",
        "        continue"
      ],
      "execution_count": 0,
      "outputs": []
    },
    {
      "cell_type": "code",
      "metadata": {
        "id": "xiwQKcGltyoe",
        "colab_type": "code",
        "outputId": "e54b93d4-fa30-4053-ae59-a0d2255b3acc",
        "colab": {
          "base_uri": "https://localhost:8080/",
          "height": 1000
        }
      },
      "source": [
        "files"
      ],
      "execution_count": 17,
      "outputs": [
        {
          "output_type": "execute_result",
          "data": {
            "text/plain": [
              "['82562.csv',\n",
              " '83565.csv',\n",
              " '83339.csv',\n",
              " '83737.csv',\n",
              " '83309.csv',\n",
              " '83718.csv',\n",
              " '82768.csv',\n",
              " '82784.csv',\n",
              " '83980.csv',\n",
              " '83985.csv',\n",
              " '82397.csv',\n",
              " '83813.csv',\n",
              " '82571.csv',\n",
              " '83630.csv',\n",
              " '82263.csv',\n",
              " '83479.csv',\n",
              " '83033.csv',\n",
              " '83179.csv',\n",
              " '83587.csv',\n",
              " '83182.csv',\n",
              " '83228.csv',\n",
              " '83222.csv',\n",
              " '83186.csv',\n",
              " '82410.csv',\n",
              " '83114.csv',\n",
              " '83907.csv',\n",
              " '83384.csv',\n",
              " '83488.csv',\n",
              " '83498.csv',\n",
              " '83648.csv',\n",
              " '83897.csv',\n",
              " '82900.csv',\n",
              " '82979.csv',\n",
              " '83423.csv',\n",
              " '83995.csv',\n",
              " '82777.csv',\n",
              " '83236.csv',\n",
              " '83914.csv',\n",
              " '83464.csv',\n",
              " '83242.csv',\n",
              " '83696.csv',\n",
              " '83842.csv',\n",
              " '83358.csv',\n",
              " '82686.csv',\n",
              " '83097.csv',\n",
              " '83692.csv',\n",
              " '82668.csv',\n",
              " '83076.csv',\n",
              " '83789.csv',\n",
              " '82683.csv',\n",
              " '83437.csv',\n",
              " '83766.csv',\n",
              " '83235.csv',\n",
              " '82797.csv',\n",
              " '82113.csv',\n",
              " '83948.csv',\n",
              " '83332.csv',\n",
              " '83195.csv',\n",
              " '82353.csv',\n",
              " '82886.csv',\n",
              " '83836.csv',\n",
              " '82678.csv',\n",
              " '82807.csv',\n",
              " '83726.csv',\n",
              " '83393.csv',\n",
              " '82280.csv',\n",
              " '83589.csv',\n",
              " '82460.csv',\n",
              " '82861.csv',\n",
              " '83470.csv',\n",
              " '82976.csv',\n",
              " '83851.csv',\n",
              " '83683.csv',\n",
              " '82598.csv',\n",
              " '82610.csv',\n",
              " '83714.csv',\n",
              " '83007.csv',\n",
              " '82693.csv',\n",
              " '82596.csv',\n",
              " '83579.csv',\n",
              " '83379.csv',\n",
              " '83669.csv',\n",
              " '83919.csv',\n",
              " '83483.csv',\n",
              " '83695.csv',\n",
              " '82376.csv',\n",
              " '83441.csv',\n",
              " '83526.csv',\n",
              " '83577.csv',\n",
              " '83428.csv',\n",
              " '83229.csv',\n",
              " '83964.csv',\n",
              " '82246.csv',\n",
              " '82798.csv',\n",
              " '83744.csv',\n",
              " '82863.csv',\n",
              " '83538.csv',\n",
              " '82996.csv',\n",
              " '83361.csv',\n",
              " '83687.csv',\n",
              " '82445.csv',\n",
              " '82994.csv',\n",
              " '82915.csv',\n",
              " '83942.csv',\n",
              " '82753.csv',\n",
              " '83676.csv',\n",
              " '82792.csv',\n",
              " '83244.csv',\n",
              " '83221.csv',\n",
              " '83334.csv',\n",
              " '82361.csv',\n",
              " '83013.csv',\n",
              " '82780.csv',\n",
              " '83967.csv',\n",
              " '82212.csv',\n",
              " '82145.csv',\n",
              " '83090.csv',\n",
              " '82533.csv',\n",
              " '82181.csv',\n",
              " '83767.csv',\n",
              " '83522.csv',\n",
              " '82578.csv',\n",
              " '83591.csv',\n",
              " '83386.csv',\n",
              " '82392.csv',\n",
              " '83781.csv',\n",
              " '83736.csv',\n",
              " '82476.csv',\n",
              " '83096.csv',\n",
              " '83192.csv',\n",
              " '82990.csv',\n",
              " '82590.csv',\n",
              " '82106.csv',\n",
              " '83916.csv',\n",
              " '82795.csv',\n",
              " '82564.csv',\n",
              " '83064.csv',\n",
              " '83805.csv',\n",
              " '82487.csv',\n",
              " '82893.csv',\n",
              " '82882.csv',\n",
              " '83376.csv',\n",
              " '83338.csv',\n",
              " '82184.csv',\n",
              " '82188.csv',\n",
              " '83249.csv',\n",
              " '83912.csv',\n",
              " '83190.csv',\n",
              " '82326.csv',\n",
              " '83592.csv',\n",
              " '82317.csv',\n",
              " '83997.csv',\n",
              " '83639.csv',\n",
              " '82890.csv',\n",
              " '83844.csv',\n",
              " '82723.csv',\n",
              " '83550.csv',\n",
              " '82586.csv',\n",
              " '82493.csv',\n",
              " '83807.csv',\n",
              " '82689.csv',\n",
              " '82141.csv',\n",
              " '82382.csv',\n",
              " '83286.csv',\n",
              " '82178.csv',\n",
              " '82975.csv',\n",
              " '83738.csv',\n",
              " '82765.csv',\n",
              " '83442.csv',\n",
              " '83936.csv',\n",
              " '83536.csv',\n",
              " '82336.csv',\n",
              " '82970.csv',\n",
              " '82042.csv',\n",
              " '82024.csv',\n",
              " '83368.csv',\n",
              " '83184.csv',\n",
              " '83811.csv',\n",
              " '82198.csv',\n",
              " '82098.csv',\n",
              " '83698.csv',\n",
              " '83623.csv',\n",
              " '83927.csv',\n",
              " '82331.csv',\n",
              " '83288.csv',\n",
              " '83049.csv',\n",
              " '83377.csv',\n",
              " '83557.csv',\n",
              " '82659.csv',\n",
              " '82191.csv',\n",
              " '82676.csv',\n",
              " '82983.csv',\n",
              " '82992.csv',\n",
              " '82588.csv',\n",
              " '83632.csv']"
            ]
          },
          "metadata": {
            "tags": []
          },
          "execution_count": 17
        }
      ]
    },
    {
      "cell_type": "code",
      "metadata": {
        "id": "rN3s4jMUt_zR",
        "colab_type": "code",
        "outputId": "aa83b17c-4c3d-4285-c773-b3d0f95272e8",
        "colab": {
          "base_uri": "https://localhost:8080/",
          "height": 34
        }
      },
      "source": [
        "len(files)"
      ],
      "execution_count": 18,
      "outputs": [
        {
          "output_type": "execute_result",
          "data": {
            "text/plain": [
              "195"
            ]
          },
          "metadata": {
            "tags": []
          },
          "execution_count": 18
        }
      ]
    },
    {
      "cell_type": "code",
      "metadata": {
        "id": "ey30P7pnuHOQ",
        "colab_type": "code",
        "colab": {}
      },
      "source": [
        "df = pd.DataFrame()\n",
        "for file in files:\n",
        "    df_aux = pd.read_csv(directory+'/'+file, delimiter=',')\n",
        "    df = pd.concat([df_aux, df], sort=True)"
      ],
      "execution_count": 0,
      "outputs": []
    },
    {
      "cell_type": "code",
      "metadata": {
        "id": "5vd8SRYYu_TF",
        "colab_type": "code",
        "outputId": "7bf26989-94b5-44ff-8683-1cd12293cfdb",
        "colab": {
          "base_uri": "https://localhost:8080/",
          "height": 419
        }
      },
      "source": [
        "df"
      ],
      "execution_count": 20,
      "outputs": [
        {
          "output_type": "execute_result",
          "data": {
            "text/html": [
              "<div>\n",
              "<style scoped>\n",
              "    .dataframe tbody tr th:only-of-type {\n",
              "        vertical-align: middle;\n",
              "    }\n",
              "\n",
              "    .dataframe tbody tr th {\n",
              "        vertical-align: top;\n",
              "    }\n",
              "\n",
              "    .dataframe thead th {\n",
              "        text-align: right;\n",
              "    }\n",
              "</style>\n",
              "<table border=\"1\" class=\"dataframe\">\n",
              "  <thead>\n",
              "    <tr style=\"text-align: right;\">\n",
              "      <th></th>\n",
              "      <th>cc</th>\n",
              "      <th>date</th>\n",
              "      <th>evap</th>\n",
              "      <th>id</th>\n",
              "      <th>n</th>\n",
              "      <th>patm</th>\n",
              "      <th>pnmm</th>\n",
              "      <th>prec</th>\n",
              "      <th>request_status</th>\n",
              "      <th>tair</th>\n",
              "      <th>tmax</th>\n",
              "      <th>tmin</th>\n",
              "      <th>tw</th>\n",
              "      <th>ur</th>\n",
              "      <th>urmax</th>\n",
              "      <th>wd</th>\n",
              "      <th>ws</th>\n",
              "      <th>wsmax</th>\n",
              "    </tr>\n",
              "  </thead>\n",
              "  <tbody>\n",
              "    <tr>\n",
              "      <th>0</th>\n",
              "      <td>-9999.00</td>\n",
              "      <td>2019-01-01T00:00:00Z</td>\n",
              "      <td>3.0</td>\n",
              "      <td>83632</td>\n",
              "      <td>-9999.0</td>\n",
              "      <td>-9999.0</td>\n",
              "      <td>-9999.0</td>\n",
              "      <td>-9999.0</td>\n",
              "      <td>Success: (200) OK</td>\n",
              "      <td>-9999.0</td>\n",
              "      <td>-9999.0</td>\n",
              "      <td>-9999.0</td>\n",
              "      <td>-9999.0</td>\n",
              "      <td>-9999.0</td>\n",
              "      <td>-9999</td>\n",
              "      <td>-9999</td>\n",
              "      <td>-9999.0</td>\n",
              "      <td>-9999.0</td>\n",
              "    </tr>\n",
              "    <tr>\n",
              "      <th>1</th>\n",
              "      <td>-9999.00</td>\n",
              "      <td>2019-01-01T12:00:00Z</td>\n",
              "      <td>-9999.0</td>\n",
              "      <td>83632</td>\n",
              "      <td>-9999.0</td>\n",
              "      <td>-9999.0</td>\n",
              "      <td>-9999.0</td>\n",
              "      <td>6.2</td>\n",
              "      <td>Success: (200) OK</td>\n",
              "      <td>-9999.0</td>\n",
              "      <td>-9999.0</td>\n",
              "      <td>-9999.0</td>\n",
              "      <td>-9999.0</td>\n",
              "      <td>-9999.0</td>\n",
              "      <td>-9999</td>\n",
              "      <td>-9999</td>\n",
              "      <td>-9999.0</td>\n",
              "      <td>-9999.0</td>\n",
              "    </tr>\n",
              "    <tr>\n",
              "      <th>2</th>\n",
              "      <td>-9999.00</td>\n",
              "      <td>2019-01-02T00:00:00Z</td>\n",
              "      <td>2.0</td>\n",
              "      <td>83632</td>\n",
              "      <td>-9999.0</td>\n",
              "      <td>-9999.0</td>\n",
              "      <td>-9999.0</td>\n",
              "      <td>-9999.0</td>\n",
              "      <td>Success: (200) OK</td>\n",
              "      <td>-9999.0</td>\n",
              "      <td>-9999.0</td>\n",
              "      <td>-9999.0</td>\n",
              "      <td>-9999.0</td>\n",
              "      <td>-9999.0</td>\n",
              "      <td>-9999</td>\n",
              "      <td>-9999</td>\n",
              "      <td>-9999.0</td>\n",
              "      <td>-9999.0</td>\n",
              "    </tr>\n",
              "    <tr>\n",
              "      <th>3</th>\n",
              "      <td>-9999.00</td>\n",
              "      <td>2019-01-02T12:00:00Z</td>\n",
              "      <td>-9999.0</td>\n",
              "      <td>83632</td>\n",
              "      <td>-9999.0</td>\n",
              "      <td>-9999.0</td>\n",
              "      <td>-9999.0</td>\n",
              "      <td>0.0</td>\n",
              "      <td>Success: (200) OK</td>\n",
              "      <td>-9999.0</td>\n",
              "      <td>-9999.0</td>\n",
              "      <td>-9999.0</td>\n",
              "      <td>-9999.0</td>\n",
              "      <td>-9999.0</td>\n",
              "      <td>-9999</td>\n",
              "      <td>-9999</td>\n",
              "      <td>-9999.0</td>\n",
              "      <td>-9999.0</td>\n",
              "    </tr>\n",
              "    <tr>\n",
              "      <th>4</th>\n",
              "      <td>-9999.00</td>\n",
              "      <td>2019-01-03T00:00:00Z</td>\n",
              "      <td>3.5</td>\n",
              "      <td>83632</td>\n",
              "      <td>-9999.0</td>\n",
              "      <td>-9999.0</td>\n",
              "      <td>-9999.0</td>\n",
              "      <td>-9999.0</td>\n",
              "      <td>Success: (200) OK</td>\n",
              "      <td>-9999.0</td>\n",
              "      <td>-9999.0</td>\n",
              "      <td>-9999.0</td>\n",
              "      <td>-9999.0</td>\n",
              "      <td>-9999.0</td>\n",
              "      <td>-9999</td>\n",
              "      <td>-9999</td>\n",
              "      <td>-9999.0</td>\n",
              "      <td>-9999.0</td>\n",
              "    </tr>\n",
              "    <tr>\n",
              "      <th>...</th>\n",
              "      <td>...</td>\n",
              "      <td>...</td>\n",
              "      <td>...</td>\n",
              "      <td>...</td>\n",
              "      <td>...</td>\n",
              "      <td>...</td>\n",
              "      <td>...</td>\n",
              "      <td>...</td>\n",
              "      <td>...</td>\n",
              "      <td>...</td>\n",
              "      <td>...</td>\n",
              "      <td>...</td>\n",
              "      <td>...</td>\n",
              "      <td>...</td>\n",
              "      <td>...</td>\n",
              "      <td>...</td>\n",
              "      <td>...</td>\n",
              "      <td>...</td>\n",
              "    </tr>\n",
              "    <tr>\n",
              "      <th>503</th>\n",
              "      <td>2.50</td>\n",
              "      <td>2019-08-02T12:00:00Z</td>\n",
              "      <td>-9999.0</td>\n",
              "      <td>82562</td>\n",
              "      <td>-9999.0</td>\n",
              "      <td>1003.6</td>\n",
              "      <td>1014.3</td>\n",
              "      <td>0.0</td>\n",
              "      <td>Success: (200) OK</td>\n",
              "      <td>28.3</td>\n",
              "      <td>-9999.0</td>\n",
              "      <td>23.0</td>\n",
              "      <td>-9999.0</td>\n",
              "      <td>-9999.0</td>\n",
              "      <td>77</td>\n",
              "      <td>36</td>\n",
              "      <td>-9999.0</td>\n",
              "      <td>-9999.0</td>\n",
              "    </tr>\n",
              "    <tr>\n",
              "      <th>504</th>\n",
              "      <td>3.75</td>\n",
              "      <td>2019-08-02T18:00:00Z</td>\n",
              "      <td>-9999.0</td>\n",
              "      <td>82562</td>\n",
              "      <td>-9999.0</td>\n",
              "      <td>1000.6</td>\n",
              "      <td>1011.3</td>\n",
              "      <td>-9999.0</td>\n",
              "      <td>Success: (200) OK</td>\n",
              "      <td>35.5</td>\n",
              "      <td>-9999.0</td>\n",
              "      <td>-9999.0</td>\n",
              "      <td>-9999.0</td>\n",
              "      <td>-9999.0</td>\n",
              "      <td>47</td>\n",
              "      <td>14</td>\n",
              "      <td>-9999.0</td>\n",
              "      <td>-9999.0</td>\n",
              "    </tr>\n",
              "    <tr>\n",
              "      <th>505</th>\n",
              "      <td>0.00</td>\n",
              "      <td>2019-08-03T00:00:00Z</td>\n",
              "      <td>-9999.0</td>\n",
              "      <td>82562</td>\n",
              "      <td>-9999.0</td>\n",
              "      <td>1002.9</td>\n",
              "      <td>1013.6</td>\n",
              "      <td>-9999.0</td>\n",
              "      <td>Success: (200) OK</td>\n",
              "      <td>30.3</td>\n",
              "      <td>-9999.0</td>\n",
              "      <td>-9999.0</td>\n",
              "      <td>-9999.0</td>\n",
              "      <td>-9999.0</td>\n",
              "      <td>66</td>\n",
              "      <td>9</td>\n",
              "      <td>-9999.0</td>\n",
              "      <td>-9999.0</td>\n",
              "    </tr>\n",
              "    <tr>\n",
              "      <th>506</th>\n",
              "      <td>-9999.00</td>\n",
              "      <td>2019-08-03T12:00:00Z</td>\n",
              "      <td>-9999.0</td>\n",
              "      <td>82562</td>\n",
              "      <td>-9999.0</td>\n",
              "      <td>-9999.0</td>\n",
              "      <td>-9999.0</td>\n",
              "      <td>0.0</td>\n",
              "      <td>Success: (200) OK</td>\n",
              "      <td>-9999.0</td>\n",
              "      <td>-9999.0</td>\n",
              "      <td>-9999.0</td>\n",
              "      <td>-9999.0</td>\n",
              "      <td>-9999.0</td>\n",
              "      <td>-9999</td>\n",
              "      <td>-9999</td>\n",
              "      <td>-9999.0</td>\n",
              "      <td>-9999.0</td>\n",
              "    </tr>\n",
              "    <tr>\n",
              "      <th>507</th>\n",
              "      <td>-9999.00</td>\n",
              "      <td>2019-08-04T12:00:00Z</td>\n",
              "      <td>-9999.0</td>\n",
              "      <td>82562</td>\n",
              "      <td>-9999.0</td>\n",
              "      <td>-9999.0</td>\n",
              "      <td>-9999.0</td>\n",
              "      <td>0.0</td>\n",
              "      <td>Success: (200) OK</td>\n",
              "      <td>-9999.0</td>\n",
              "      <td>-9999.0</td>\n",
              "      <td>-9999.0</td>\n",
              "      <td>-9999.0</td>\n",
              "      <td>-9999.0</td>\n",
              "      <td>-9999</td>\n",
              "      <td>-9999</td>\n",
              "      <td>-9999.0</td>\n",
              "      <td>-9999.0</td>\n",
              "    </tr>\n",
              "  </tbody>\n",
              "</table>\n",
              "<p>117586 rows × 18 columns</p>\n",
              "</div>"
            ],
            "text/plain": [
              "          cc                  date    evap     id  ...  urmax    wd      ws   wsmax\n",
              "0   -9999.00  2019-01-01T00:00:00Z     3.0  83632  ...  -9999 -9999 -9999.0 -9999.0\n",
              "1   -9999.00  2019-01-01T12:00:00Z -9999.0  83632  ...  -9999 -9999 -9999.0 -9999.0\n",
              "2   -9999.00  2019-01-02T00:00:00Z     2.0  83632  ...  -9999 -9999 -9999.0 -9999.0\n",
              "3   -9999.00  2019-01-02T12:00:00Z -9999.0  83632  ...  -9999 -9999 -9999.0 -9999.0\n",
              "4   -9999.00  2019-01-03T00:00:00Z     3.5  83632  ...  -9999 -9999 -9999.0 -9999.0\n",
              "..       ...                   ...     ...    ...  ...    ...   ...     ...     ...\n",
              "503     2.50  2019-08-02T12:00:00Z -9999.0  82562  ...     77    36 -9999.0 -9999.0\n",
              "504     3.75  2019-08-02T18:00:00Z -9999.0  82562  ...     47    14 -9999.0 -9999.0\n",
              "505     0.00  2019-08-03T00:00:00Z -9999.0  82562  ...     66     9 -9999.0 -9999.0\n",
              "506 -9999.00  2019-08-03T12:00:00Z -9999.0  82562  ...  -9999 -9999 -9999.0 -9999.0\n",
              "507 -9999.00  2019-08-04T12:00:00Z -9999.0  82562  ...  -9999 -9999 -9999.0 -9999.0\n",
              "\n",
              "[117586 rows x 18 columns]"
            ]
          },
          "metadata": {
            "tags": []
          },
          "execution_count": 20
        }
      ]
    },
    {
      "cell_type": "markdown",
      "metadata": {
        "id": "jXK1WGo9JUoi",
        "colab_type": "text"
      },
      "source": [
        "\n",
        "Vamos selecionar o período desejado para a análise: 01/Ago a 31/Ago"
      ]
    },
    {
      "cell_type": "code",
      "metadata": {
        "id": "gl8N4rvfxNpF",
        "colab_type": "code",
        "outputId": "e79f7415-9c4c-44c5-a98f-b3a7b096c4b4",
        "colab": {
          "base_uri": "https://localhost:8080/",
          "height": 340
        }
      },
      "source": [
        "df.dtypes"
      ],
      "execution_count": 21,
      "outputs": [
        {
          "output_type": "execute_result",
          "data": {
            "text/plain": [
              "cc                float64\n",
              "date               object\n",
              "evap              float64\n",
              "id                  int64\n",
              "n                 float64\n",
              "patm              float64\n",
              "pnmm              float64\n",
              "prec              float64\n",
              "request_status     object\n",
              "tair              float64\n",
              "tmax              float64\n",
              "tmin              float64\n",
              "tw                float64\n",
              "ur                float64\n",
              "urmax               int64\n",
              "wd                  int64\n",
              "ws                float64\n",
              "wsmax             float64\n",
              "dtype: object"
            ]
          },
          "metadata": {
            "tags": []
          },
          "execution_count": 21
        }
      ]
    },
    {
      "cell_type": "code",
      "metadata": {
        "id": "QEHocujOxYz9",
        "colab_type": "code",
        "outputId": "88b17675-6ce3-4f56-8e5b-6ad3329fe4ec",
        "colab": {
          "base_uri": "https://localhost:8080/",
          "height": 359
        }
      },
      "source": [
        "df.head(10)"
      ],
      "execution_count": 22,
      "outputs": [
        {
          "output_type": "execute_result",
          "data": {
            "text/html": [
              "<div>\n",
              "<style scoped>\n",
              "    .dataframe tbody tr th:only-of-type {\n",
              "        vertical-align: middle;\n",
              "    }\n",
              "\n",
              "    .dataframe tbody tr th {\n",
              "        vertical-align: top;\n",
              "    }\n",
              "\n",
              "    .dataframe thead th {\n",
              "        text-align: right;\n",
              "    }\n",
              "</style>\n",
              "<table border=\"1\" class=\"dataframe\">\n",
              "  <thead>\n",
              "    <tr style=\"text-align: right;\">\n",
              "      <th></th>\n",
              "      <th>cc</th>\n",
              "      <th>date</th>\n",
              "      <th>evap</th>\n",
              "      <th>id</th>\n",
              "      <th>n</th>\n",
              "      <th>patm</th>\n",
              "      <th>pnmm</th>\n",
              "      <th>prec</th>\n",
              "      <th>request_status</th>\n",
              "      <th>tair</th>\n",
              "      <th>tmax</th>\n",
              "      <th>tmin</th>\n",
              "      <th>tw</th>\n",
              "      <th>ur</th>\n",
              "      <th>urmax</th>\n",
              "      <th>wd</th>\n",
              "      <th>ws</th>\n",
              "      <th>wsmax</th>\n",
              "    </tr>\n",
              "  </thead>\n",
              "  <tbody>\n",
              "    <tr>\n",
              "      <th>0</th>\n",
              "      <td>-9999.0</td>\n",
              "      <td>2019-01-01T00:00:00Z</td>\n",
              "      <td>3.0</td>\n",
              "      <td>83632</td>\n",
              "      <td>-9999.0</td>\n",
              "      <td>-9999.0</td>\n",
              "      <td>-9999.0</td>\n",
              "      <td>-9999.0</td>\n",
              "      <td>Success: (200) OK</td>\n",
              "      <td>-9999.0</td>\n",
              "      <td>-9999.0</td>\n",
              "      <td>-9999.0</td>\n",
              "      <td>-9999.0</td>\n",
              "      <td>-9999.0</td>\n",
              "      <td>-9999</td>\n",
              "      <td>-9999</td>\n",
              "      <td>-9999.0</td>\n",
              "      <td>-9999.0</td>\n",
              "    </tr>\n",
              "    <tr>\n",
              "      <th>1</th>\n",
              "      <td>-9999.0</td>\n",
              "      <td>2019-01-01T12:00:00Z</td>\n",
              "      <td>-9999.0</td>\n",
              "      <td>83632</td>\n",
              "      <td>-9999.0</td>\n",
              "      <td>-9999.0</td>\n",
              "      <td>-9999.0</td>\n",
              "      <td>6.2</td>\n",
              "      <td>Success: (200) OK</td>\n",
              "      <td>-9999.0</td>\n",
              "      <td>-9999.0</td>\n",
              "      <td>-9999.0</td>\n",
              "      <td>-9999.0</td>\n",
              "      <td>-9999.0</td>\n",
              "      <td>-9999</td>\n",
              "      <td>-9999</td>\n",
              "      <td>-9999.0</td>\n",
              "      <td>-9999.0</td>\n",
              "    </tr>\n",
              "    <tr>\n",
              "      <th>2</th>\n",
              "      <td>-9999.0</td>\n",
              "      <td>2019-01-02T00:00:00Z</td>\n",
              "      <td>2.0</td>\n",
              "      <td>83632</td>\n",
              "      <td>-9999.0</td>\n",
              "      <td>-9999.0</td>\n",
              "      <td>-9999.0</td>\n",
              "      <td>-9999.0</td>\n",
              "      <td>Success: (200) OK</td>\n",
              "      <td>-9999.0</td>\n",
              "      <td>-9999.0</td>\n",
              "      <td>-9999.0</td>\n",
              "      <td>-9999.0</td>\n",
              "      <td>-9999.0</td>\n",
              "      <td>-9999</td>\n",
              "      <td>-9999</td>\n",
              "      <td>-9999.0</td>\n",
              "      <td>-9999.0</td>\n",
              "    </tr>\n",
              "    <tr>\n",
              "      <th>3</th>\n",
              "      <td>-9999.0</td>\n",
              "      <td>2019-01-02T12:00:00Z</td>\n",
              "      <td>-9999.0</td>\n",
              "      <td>83632</td>\n",
              "      <td>-9999.0</td>\n",
              "      <td>-9999.0</td>\n",
              "      <td>-9999.0</td>\n",
              "      <td>0.0</td>\n",
              "      <td>Success: (200) OK</td>\n",
              "      <td>-9999.0</td>\n",
              "      <td>-9999.0</td>\n",
              "      <td>-9999.0</td>\n",
              "      <td>-9999.0</td>\n",
              "      <td>-9999.0</td>\n",
              "      <td>-9999</td>\n",
              "      <td>-9999</td>\n",
              "      <td>-9999.0</td>\n",
              "      <td>-9999.0</td>\n",
              "    </tr>\n",
              "    <tr>\n",
              "      <th>4</th>\n",
              "      <td>-9999.0</td>\n",
              "      <td>2019-01-03T00:00:00Z</td>\n",
              "      <td>3.5</td>\n",
              "      <td>83632</td>\n",
              "      <td>-9999.0</td>\n",
              "      <td>-9999.0</td>\n",
              "      <td>-9999.0</td>\n",
              "      <td>-9999.0</td>\n",
              "      <td>Success: (200) OK</td>\n",
              "      <td>-9999.0</td>\n",
              "      <td>-9999.0</td>\n",
              "      <td>-9999.0</td>\n",
              "      <td>-9999.0</td>\n",
              "      <td>-9999.0</td>\n",
              "      <td>-9999</td>\n",
              "      <td>-9999</td>\n",
              "      <td>-9999.0</td>\n",
              "      <td>-9999.0</td>\n",
              "    </tr>\n",
              "    <tr>\n",
              "      <th>5</th>\n",
              "      <td>-9999.0</td>\n",
              "      <td>2019-01-03T12:00:00Z</td>\n",
              "      <td>-9999.0</td>\n",
              "      <td>83632</td>\n",
              "      <td>-9999.0</td>\n",
              "      <td>-9999.0</td>\n",
              "      <td>-9999.0</td>\n",
              "      <td>9.4</td>\n",
              "      <td>Success: (200) OK</td>\n",
              "      <td>-9999.0</td>\n",
              "      <td>-9999.0</td>\n",
              "      <td>-9999.0</td>\n",
              "      <td>-9999.0</td>\n",
              "      <td>-9999.0</td>\n",
              "      <td>-9999</td>\n",
              "      <td>-9999</td>\n",
              "      <td>-9999.0</td>\n",
              "      <td>-9999.0</td>\n",
              "    </tr>\n",
              "    <tr>\n",
              "      <th>6</th>\n",
              "      <td>-9999.0</td>\n",
              "      <td>2019-01-04T00:00:00Z</td>\n",
              "      <td>2.7</td>\n",
              "      <td>83632</td>\n",
              "      <td>-9999.0</td>\n",
              "      <td>-9999.0</td>\n",
              "      <td>-9999.0</td>\n",
              "      <td>-9999.0</td>\n",
              "      <td>Success: (200) OK</td>\n",
              "      <td>-9999.0</td>\n",
              "      <td>-9999.0</td>\n",
              "      <td>-9999.0</td>\n",
              "      <td>-9999.0</td>\n",
              "      <td>-9999.0</td>\n",
              "      <td>-9999</td>\n",
              "      <td>-9999</td>\n",
              "      <td>-9999.0</td>\n",
              "      <td>-9999.0</td>\n",
              "    </tr>\n",
              "    <tr>\n",
              "      <th>7</th>\n",
              "      <td>-9999.0</td>\n",
              "      <td>2019-01-04T12:00:00Z</td>\n",
              "      <td>-9999.0</td>\n",
              "      <td>83632</td>\n",
              "      <td>-9999.0</td>\n",
              "      <td>-9999.0</td>\n",
              "      <td>-9999.0</td>\n",
              "      <td>0.0</td>\n",
              "      <td>Success: (200) OK</td>\n",
              "      <td>-9999.0</td>\n",
              "      <td>-9999.0</td>\n",
              "      <td>-9999.0</td>\n",
              "      <td>-9999.0</td>\n",
              "      <td>-9999.0</td>\n",
              "      <td>-9999</td>\n",
              "      <td>-9999</td>\n",
              "      <td>-9999.0</td>\n",
              "      <td>-9999.0</td>\n",
              "    </tr>\n",
              "    <tr>\n",
              "      <th>8</th>\n",
              "      <td>-9999.0</td>\n",
              "      <td>2019-01-05T00:00:00Z</td>\n",
              "      <td>2.2</td>\n",
              "      <td>83632</td>\n",
              "      <td>-9999.0</td>\n",
              "      <td>-9999.0</td>\n",
              "      <td>-9999.0</td>\n",
              "      <td>-9999.0</td>\n",
              "      <td>Success: (200) OK</td>\n",
              "      <td>-9999.0</td>\n",
              "      <td>-9999.0</td>\n",
              "      <td>-9999.0</td>\n",
              "      <td>-9999.0</td>\n",
              "      <td>-9999.0</td>\n",
              "      <td>-9999</td>\n",
              "      <td>-9999</td>\n",
              "      <td>-9999.0</td>\n",
              "      <td>-9999.0</td>\n",
              "    </tr>\n",
              "    <tr>\n",
              "      <th>9</th>\n",
              "      <td>-9999.0</td>\n",
              "      <td>2019-01-05T12:00:00Z</td>\n",
              "      <td>-9999.0</td>\n",
              "      <td>83632</td>\n",
              "      <td>-9999.0</td>\n",
              "      <td>-9999.0</td>\n",
              "      <td>-9999.0</td>\n",
              "      <td>11.1</td>\n",
              "      <td>Success: (200) OK</td>\n",
              "      <td>-9999.0</td>\n",
              "      <td>-9999.0</td>\n",
              "      <td>-9999.0</td>\n",
              "      <td>-9999.0</td>\n",
              "      <td>-9999.0</td>\n",
              "      <td>-9999</td>\n",
              "      <td>-9999</td>\n",
              "      <td>-9999.0</td>\n",
              "      <td>-9999.0</td>\n",
              "    </tr>\n",
              "  </tbody>\n",
              "</table>\n",
              "</div>"
            ],
            "text/plain": [
              "       cc                  date    evap     id  ...  urmax    wd      ws   wsmax\n",
              "0 -9999.0  2019-01-01T00:00:00Z     3.0  83632  ...  -9999 -9999 -9999.0 -9999.0\n",
              "1 -9999.0  2019-01-01T12:00:00Z -9999.0  83632  ...  -9999 -9999 -9999.0 -9999.0\n",
              "2 -9999.0  2019-01-02T00:00:00Z     2.0  83632  ...  -9999 -9999 -9999.0 -9999.0\n",
              "3 -9999.0  2019-01-02T12:00:00Z -9999.0  83632  ...  -9999 -9999 -9999.0 -9999.0\n",
              "4 -9999.0  2019-01-03T00:00:00Z     3.5  83632  ...  -9999 -9999 -9999.0 -9999.0\n",
              "5 -9999.0  2019-01-03T12:00:00Z -9999.0  83632  ...  -9999 -9999 -9999.0 -9999.0\n",
              "6 -9999.0  2019-01-04T00:00:00Z     2.7  83632  ...  -9999 -9999 -9999.0 -9999.0\n",
              "7 -9999.0  2019-01-04T12:00:00Z -9999.0  83632  ...  -9999 -9999 -9999.0 -9999.0\n",
              "8 -9999.0  2019-01-05T00:00:00Z     2.2  83632  ...  -9999 -9999 -9999.0 -9999.0\n",
              "9 -9999.0  2019-01-05T12:00:00Z -9999.0  83632  ...  -9999 -9999 -9999.0 -9999.0\n",
              "\n",
              "[10 rows x 18 columns]"
            ]
          },
          "metadata": {
            "tags": []
          },
          "execution_count": 22
        }
      ]
    },
    {
      "cell_type": "code",
      "metadata": {
        "id": "h_lRCbNFzkLi",
        "colab_type": "code",
        "outputId": "a3d689d8-5ad2-44d2-f391-35b98c9c5815",
        "colab": {
          "base_uri": "https://localhost:8080/",
          "height": 340
        }
      },
      "source": [
        "df.dtypes"
      ],
      "execution_count": 23,
      "outputs": [
        {
          "output_type": "execute_result",
          "data": {
            "text/plain": [
              "cc                float64\n",
              "date               object\n",
              "evap              float64\n",
              "id                  int64\n",
              "n                 float64\n",
              "patm              float64\n",
              "pnmm              float64\n",
              "prec              float64\n",
              "request_status     object\n",
              "tair              float64\n",
              "tmax              float64\n",
              "tmin              float64\n",
              "tw                float64\n",
              "ur                float64\n",
              "urmax               int64\n",
              "wd                  int64\n",
              "ws                float64\n",
              "wsmax             float64\n",
              "dtype: object"
            ]
          },
          "metadata": {
            "tags": []
          },
          "execution_count": 23
        }
      ]
    },
    {
      "cell_type": "code",
      "metadata": {
        "id": "1gaH8SiPxMas",
        "colab_type": "code",
        "colab": {}
      },
      "source": [
        "df['date'] = pd.to_datetime(df['date'])"
      ],
      "execution_count": 0,
      "outputs": []
    },
    {
      "cell_type": "code",
      "metadata": {
        "id": "Gi3JD8dtLmJB",
        "colab_type": "code",
        "colab": {}
      },
      "source": [
        "start_date = pd.to_datetime('01/08/2019 00:00:00', dayfirst=True, utc=True)\n",
        "end_date = pd.to_datetime('31/08/2019  00:00:00', dayfirst=True, utc=True)"
      ],
      "execution_count": 0,
      "outputs": []
    },
    {
      "cell_type": "code",
      "metadata": {
        "id": "6kPq6uKay480",
        "colab_type": "code",
        "outputId": "a6458e71-ee65-4ebb-f65b-d5121166dd1a",
        "colab": {
          "base_uri": "https://localhost:8080/",
          "height": 221
        }
      },
      "source": [
        "df['date'][0][0]"
      ],
      "execution_count": 26,
      "outputs": [
        {
          "output_type": "execute_result",
          "data": {
            "text/plain": [
              "0   2019-01-01 00:00:00+00:00\n",
              "0   2019-01-01 00:00:00+00:00\n",
              "0   2019-01-01 00:00:00+00:00\n",
              "0   2019-01-01 00:00:00+00:00\n",
              "0   2019-01-01 00:00:00+00:00\n",
              "               ...           \n",
              "0   2019-01-01 00:00:00+00:00\n",
              "0   2019-01-02 12:00:00+00:00\n",
              "0   2019-01-01 00:00:00+00:00\n",
              "0   2019-01-01 00:00:00+00:00\n",
              "0   2019-01-01 00:00:00+00:00\n",
              "Name: date, Length: 195, dtype: datetime64[ns, UTC]"
            ]
          },
          "metadata": {
            "tags": []
          },
          "execution_count": 26
        }
      ]
    },
    {
      "cell_type": "code",
      "metadata": {
        "id": "PyFM2AjIKO6F",
        "colab_type": "code",
        "colab": {}
      },
      "source": [
        "mask = (df['date'] > start_date) & (df['date'] < end_date)"
      ],
      "execution_count": 0,
      "outputs": []
    },
    {
      "cell_type": "code",
      "metadata": {
        "id": "XVQRYNoJKyJf",
        "colab_type": "code",
        "outputId": "efcd96fc-5dab-49cd-eca7-3d5c43e10f3f",
        "colab": {
          "base_uri": "https://localhost:8080/",
          "height": 34
        }
      },
      "source": [
        "df['date'].max()"
      ],
      "execution_count": 28,
      "outputs": [
        {
          "output_type": "execute_result",
          "data": {
            "text/plain": [
              "Timestamp('2019-08-31 18:00:00+0000', tz='UTC')"
            ]
          },
          "metadata": {
            "tags": []
          },
          "execution_count": 28
        }
      ]
    },
    {
      "cell_type": "code",
      "metadata": {
        "id": "tpormI1CzcOe",
        "colab_type": "code",
        "outputId": "6f9b0036-c61d-4c30-afb1-b7d36bbddad0",
        "colab": {
          "base_uri": "https://localhost:8080/",
          "height": 34
        }
      },
      "source": [
        "df['date'].min()"
      ],
      "execution_count": 29,
      "outputs": [
        {
          "output_type": "execute_result",
          "data": {
            "text/plain": [
              "Timestamp('2019-01-01 00:00:00+0000', tz='UTC')"
            ]
          },
          "metadata": {
            "tags": []
          },
          "execution_count": 29
        }
      ]
    },
    {
      "cell_type": "code",
      "metadata": {
        "id": "1dim6ENCzo92",
        "colab_type": "code",
        "colab": {}
      },
      "source": [
        "df = df.loc[mask]"
      ],
      "execution_count": 0,
      "outputs": []
    },
    {
      "cell_type": "code",
      "metadata": {
        "id": "mBUUAfWwztph",
        "colab_type": "code",
        "outputId": "7549ad24-b4ea-4bd4-e19e-252655674f1e",
        "colab": {
          "base_uri": "https://localhost:8080/",
          "height": 34
        }
      },
      "source": [
        "df['date'].min()"
      ],
      "execution_count": 31,
      "outputs": [
        {
          "output_type": "execute_result",
          "data": {
            "text/plain": [
              "Timestamp('2019-08-01 12:00:00+0000', tz='UTC')"
            ]
          },
          "metadata": {
            "tags": []
          },
          "execution_count": 31
        }
      ]
    },
    {
      "cell_type": "code",
      "metadata": {
        "id": "jmjgmbUDz1w3",
        "colab_type": "code",
        "outputId": "f617f67d-ee6e-4103-ddef-ea0ac024ff53",
        "colab": {
          "base_uri": "https://localhost:8080/",
          "height": 221
        }
      },
      "source": [
        "df['date']"
      ],
      "execution_count": 32,
      "outputs": [
        {
          "output_type": "execute_result",
          "data": {
            "text/plain": [
              "303   2019-08-01 12:00:00+00:00\n",
              "304   2019-08-02 00:00:00+00:00\n",
              "305   2019-08-02 12:00:00+00:00\n",
              "306   2019-08-03 00:00:00+00:00\n",
              "307   2019-08-03 12:00:00+00:00\n",
              "                 ...           \n",
              "503   2019-08-02 12:00:00+00:00\n",
              "504   2019-08-02 18:00:00+00:00\n",
              "505   2019-08-03 00:00:00+00:00\n",
              "506   2019-08-03 12:00:00+00:00\n",
              "507   2019-08-04 12:00:00+00:00\n",
              "Name: date, Length: 14103, dtype: datetime64[ns, UTC]"
            ]
          },
          "metadata": {
            "tags": []
          },
          "execution_count": 32
        }
      ]
    },
    {
      "cell_type": "markdown",
      "metadata": {
        "id": "Y_Gzhg9H_TNN",
        "colab_type": "text"
      },
      "source": [
        "Podemos salvar o csv no git da forma comentada abaixo, porém iremos upar manualmente"
      ]
    },
    {
      "cell_type": "code",
      "metadata": {
        "id": "Qb-TiyEF1AwC",
        "colab_type": "code",
        "colab": {}
      },
      "source": [
        "## !apt install git"
      ],
      "execution_count": 0,
      "outputs": []
    },
    {
      "cell_type": "code",
      "metadata": {
        "id": "vcQXymmW1_4q",
        "colab_type": "code",
        "colab": {}
      },
      "source": [
        "## !git clone https://github.com/vitorsr/ccd.git"
      ],
      "execution_count": 0,
      "outputs": []
    },
    {
      "cell_type": "code",
      "metadata": {
        "id": "aEaUDXnt_VTO",
        "colab_type": "code",
        "colab": {}
      },
      "source": [
        "df.to_csv('inmetr_201908.csv')"
      ],
      "execution_count": 0,
      "outputs": []
    },
    {
      "cell_type": "markdown",
      "metadata": {
        "id": "eLIgbRhrRlZm",
        "colab_type": "text"
      },
      "source": [
        "### Sobre a nuvem preta de SP"
      ]
    },
    {
      "cell_type": "markdown",
      "metadata": {
        "id": "MgRJpOB0Rowy",
        "colab_type": "text"
      },
      "source": [
        ">Segundo o documento, a passagem da frente fria fez o vento de camadas mais altas da atmosfera (entre mil metros e 5 mil metros de altitude) mudar de direção. Com isso, a fumaça acabou “direcionada para o estado de São Paulo, mas também para a região sul de Mato Grosso, Mato Grosso do Sul e Paraná”. O texto destaca, ainda, que o satélite Terra/MODIS, operado pela Nasa, detectou que uma grande quantidade de fumaça vinda da Bolívia e de Rondônia se encaminhava ao sul do Brasil no dia 17 de agosto. A fumaça, antes concentrada do sul do país, teria ganhado Paraná e Mato Grosso do Sul e alcançado São Paulo no dia 19 de agosto – justamente quando a tarde ficou escura na capital paulistana.<\n",
        "\n",
        ">Segundo o documento, a passagem da frente fria fez o vento de camadas mais altas da atmosfera (entre mil metros e 5 mil metros de altitude) mudar de direção. Com isso, a fumaça acabou “direcionada para o estado de São Paulo, mas também para a região sul de Mato Grosso, Mato Grosso do Sul e Paraná”. O texto destaca, ainda, que o satélite Terra/MODIS, operado pela Nasa, detectou que uma grande quantidade de fumaça vinda da Bolívia e de Rondônia se encaminhava ao sul do Brasil no dia 17 de agosto. A fumaça, antes concentrada do sul do país, teria ganhado Paraná e Mato Grosso do Sul e alcançado São Paulo no dia 19 de agosto – justamente quando a tarde ficou escura na capital paulistana.\n",
        "\n",
        ">Para notar a tal frente fria, bastava olhar os termômetros. Segundo o Inmet (Instituto Nacional de Meteorologia), na tarde do domingo (18), a temperatura às 15h era de 28,4°C. No mesmo horário do dia seguinte (19), registrou-se 15,3°C – um declínio de 13°C. Isso deixou o dia encoberto e com garoa em diferentes cidades do estado de São Paulo já no começo da segunda-feira. \n",
        "\n",
        ">“A sensação de escuridão foi por conta da formação de uma nuvem bastante baixa e densa, provavelmente uma nuvem Nimbustratus ou Cumulonimbus, que se formou na região de São Paulo, muito próxima a superfície. É normal acontecer, se tem o avanço da frente fria, dependendo das condições de umidade, pode se formar essas nuvens”, explicou o meteorologista do CPTEC, Maicon Veber.\n",
        "\n",
        ">“As partículas [de fumaça] funcionam como núcleo de condensação da água. Assim, gotículas de chuva menores são formadas, mas em grande quantidade, e isso faz com que uma maior parte da radiação solar seja refletida de volta para o espaço, a ponto de escurecer o solo”, explicou. [fonte](https://www.oeco.org.br/noticias/pesquisadores-descrevem-fenomeno-que-escureceu-sp-e-sua-relacao-com-as-queimadas-na-amazonia/) "
      ]
    },
    {
      "cell_type": "code",
      "metadata": {
        "id": "iGkV20FcJJaW",
        "colab_type": "code",
        "outputId": "488ae3da-ad86-49cf-ef20-c7cbb1911584",
        "colab": {
          "base_uri": "https://localhost:8080/",
          "height": 34
        }
      },
      "source": [
        "df['id'].nunique()"
      ],
      "execution_count": 36,
      "outputs": [
        {
          "output_type": "execute_result",
          "data": {
            "text/plain": [
              "180"
            ]
          },
          "metadata": {
            "tags": []
          },
          "execution_count": 36
        }
      ]
    },
    {
      "cell_type": "markdown",
      "metadata": {
        "id": "ITUWS3SNK_Zh",
        "colab_type": "text"
      },
      "source": [
        "# Baseline"
      ]
    },
    {
      "cell_type": "code",
      "metadata": {
        "id": "CkPGob3rTJ9x",
        "colab_type": "code",
        "colab": {}
      },
      "source": [
        "df_m = pd.read_csv(\"bdmep_meta.csv\")\n",
        "df = pd.read_csv(\"inmetr.csv\")"
      ],
      "execution_count": 0,
      "outputs": []
    },
    {
      "cell_type": "code",
      "metadata": {
        "id": "1o1tl3jeLBJb",
        "colab_type": "code",
        "colab": {
          "base_uri": "https://localhost:8080/",
          "height": 204
        },
        "outputId": "7f79cd2e-fb26-4cf9-95ef-aece93a45fb5"
      },
      "source": [
        "df.head()"
      ],
      "execution_count": 38,
      "outputs": [
        {
          "output_type": "execute_result",
          "data": {
            "text/html": [
              "<div>\n",
              "<style scoped>\n",
              "    .dataframe tbody tr th:only-of-type {\n",
              "        vertical-align: middle;\n",
              "    }\n",
              "\n",
              "    .dataframe tbody tr th {\n",
              "        vertical-align: top;\n",
              "    }\n",
              "\n",
              "    .dataframe thead th {\n",
              "        text-align: right;\n",
              "    }\n",
              "</style>\n",
              "<table border=\"1\" class=\"dataframe\">\n",
              "  <thead>\n",
              "    <tr style=\"text-align: right;\">\n",
              "      <th></th>\n",
              "      <th>date</th>\n",
              "      <th>id</th>\n",
              "      <th>prec</th>\n",
              "      <th>tair</th>\n",
              "      <th>tw</th>\n",
              "      <th>tmax</th>\n",
              "      <th>tmin</th>\n",
              "      <th>urmax</th>\n",
              "      <th>patm</th>\n",
              "      <th>pnmm</th>\n",
              "      <th>wd</th>\n",
              "      <th>wsmax</th>\n",
              "      <th>n</th>\n",
              "      <th>cc</th>\n",
              "      <th>evap</th>\n",
              "      <th>ur</th>\n",
              "      <th>ws</th>\n",
              "    </tr>\n",
              "  </thead>\n",
              "  <tbody>\n",
              "    <tr>\n",
              "      <th>0</th>\n",
              "      <td>1970-05-04 00:00:00</td>\n",
              "      <td>83010</td>\n",
              "      <td>NaN</td>\n",
              "      <td>NaN</td>\n",
              "      <td>NaN</td>\n",
              "      <td>32.6</td>\n",
              "      <td>NaN</td>\n",
              "      <td>NaN</td>\n",
              "      <td>NaN</td>\n",
              "      <td>NaN</td>\n",
              "      <td>NaN</td>\n",
              "      <td>NaN</td>\n",
              "      <td>NaN</td>\n",
              "      <td>NaN</td>\n",
              "      <td>NaN</td>\n",
              "      <td>89.75</td>\n",
              "      <td>NaN</td>\n",
              "    </tr>\n",
              "    <tr>\n",
              "      <th>1</th>\n",
              "      <td>1970-05-04 12:00:00</td>\n",
              "      <td>83010</td>\n",
              "      <td>NaN</td>\n",
              "      <td>25.3</td>\n",
              "      <td>24.0</td>\n",
              "      <td>NaN</td>\n",
              "      <td>23.7</td>\n",
              "      <td>90.0</td>\n",
              "      <td>1005.9</td>\n",
              "      <td>NaN</td>\n",
              "      <td>NaN</td>\n",
              "      <td>NaN</td>\n",
              "      <td>NaN</td>\n",
              "      <td>5.0</td>\n",
              "      <td>NaN</td>\n",
              "      <td>NaN</td>\n",
              "      <td>NaN</td>\n",
              "    </tr>\n",
              "    <tr>\n",
              "      <th>2</th>\n",
              "      <td>1970-05-04 18:00:00</td>\n",
              "      <td>83010</td>\n",
              "      <td>NaN</td>\n",
              "      <td>29.2</td>\n",
              "      <td>27.1</td>\n",
              "      <td>NaN</td>\n",
              "      <td>NaN</td>\n",
              "      <td>85.0</td>\n",
              "      <td>1004.2</td>\n",
              "      <td>NaN</td>\n",
              "      <td>NaN</td>\n",
              "      <td>NaN</td>\n",
              "      <td>NaN</td>\n",
              "      <td>4.0</td>\n",
              "      <td>NaN</td>\n",
              "      <td>NaN</td>\n",
              "      <td>NaN</td>\n",
              "    </tr>\n",
              "    <tr>\n",
              "      <th>3</th>\n",
              "      <td>1970-05-05 00:00:00</td>\n",
              "      <td>83010</td>\n",
              "      <td>NaN</td>\n",
              "      <td>25.0</td>\n",
              "      <td>27.0</td>\n",
              "      <td>32.6</td>\n",
              "      <td>NaN</td>\n",
              "      <td>92.0</td>\n",
              "      <td>1007.5</td>\n",
              "      <td>NaN</td>\n",
              "      <td>NaN</td>\n",
              "      <td>NaN</td>\n",
              "      <td>NaN</td>\n",
              "      <td>8.0</td>\n",
              "      <td>2.4</td>\n",
              "      <td>88.25</td>\n",
              "      <td>NaN</td>\n",
              "    </tr>\n",
              "    <tr>\n",
              "      <th>4</th>\n",
              "      <td>1970-05-05 12:00:00</td>\n",
              "      <td>83010</td>\n",
              "      <td>0.0</td>\n",
              "      <td>25.9</td>\n",
              "      <td>24.8</td>\n",
              "      <td>NaN</td>\n",
              "      <td>23.0</td>\n",
              "      <td>91.0</td>\n",
              "      <td>1006.4</td>\n",
              "      <td>NaN</td>\n",
              "      <td>NaN</td>\n",
              "      <td>NaN</td>\n",
              "      <td>NaN</td>\n",
              "      <td>4.0</td>\n",
              "      <td>NaN</td>\n",
              "      <td>NaN</td>\n",
              "      <td>NaN</td>\n",
              "    </tr>\n",
              "  </tbody>\n",
              "</table>\n",
              "</div>"
            ],
            "text/plain": [
              "                  date     id  prec  tair    tw  ...   n   cc  evap     ur  ws\n",
              "0  1970-05-04 00:00:00  83010   NaN   NaN   NaN  ... NaN  NaN   NaN  89.75 NaN\n",
              "1  1970-05-04 12:00:00  83010   NaN  25.3  24.0  ... NaN  5.0   NaN    NaN NaN\n",
              "2  1970-05-04 18:00:00  83010   NaN  29.2  27.1  ... NaN  4.0   NaN    NaN NaN\n",
              "3  1970-05-05 00:00:00  83010   NaN  25.0  27.0  ... NaN  8.0   2.4  88.25 NaN\n",
              "4  1970-05-05 12:00:00  83010   0.0  25.9  24.8  ... NaN  4.0   NaN    NaN NaN\n",
              "\n",
              "[5 rows x 17 columns]"
            ]
          },
          "metadata": {
            "tags": []
          },
          "execution_count": 38
        }
      ]
    },
    {
      "cell_type": "code",
      "metadata": {
        "id": "zmabJDd6LIWJ",
        "colab_type": "code",
        "colab": {
          "base_uri": "https://localhost:8080/",
          "height": 204
        },
        "outputId": "49cb4b7c-2821-40fd-be17-384b6056a0a8"
      },
      "source": [
        "df_m.head()"
      ],
      "execution_count": 39,
      "outputs": [
        {
          "output_type": "execute_result",
          "data": {
            "text/html": [
              "<div>\n",
              "<style scoped>\n",
              "    .dataframe tbody tr th:only-of-type {\n",
              "        vertical-align: middle;\n",
              "    }\n",
              "\n",
              "    .dataframe tbody tr th {\n",
              "        vertical-align: top;\n",
              "    }\n",
              "\n",
              "    .dataframe thead th {\n",
              "        text-align: right;\n",
              "    }\n",
              "</style>\n",
              "<table border=\"1\" class=\"dataframe\">\n",
              "  <thead>\n",
              "    <tr style=\"text-align: right;\">\n",
              "      <th></th>\n",
              "      <th>id</th>\n",
              "      <th>lon</th>\n",
              "      <th>lat</th>\n",
              "      <th>alt</th>\n",
              "      <th>name</th>\n",
              "      <th>state</th>\n",
              "      <th>uf</th>\n",
              "      <th>time_zone</th>\n",
              "      <th>offset_utc</th>\n",
              "      <th>time_zone.1</th>\n",
              "      <th>offset_utc.1</th>\n",
              "    </tr>\n",
              "  </thead>\n",
              "  <tbody>\n",
              "    <tr>\n",
              "      <th>0</th>\n",
              "      <td>83010</td>\n",
              "      <td>-68.733333</td>\n",
              "      <td>-11.016667</td>\n",
              "      <td>260.00</td>\n",
              "      <td>Brasiléia</td>\n",
              "      <td>Acre</td>\n",
              "      <td>AC</td>\n",
              "      <td>America/Rio_Branco</td>\n",
              "      <td>-5</td>\n",
              "      <td>America/Rio_Branco</td>\n",
              "      <td>-5</td>\n",
              "    </tr>\n",
              "    <tr>\n",
              "      <th>1</th>\n",
              "      <td>82704</td>\n",
              "      <td>-72.666667</td>\n",
              "      <td>-7.633333</td>\n",
              "      <td>170.00</td>\n",
              "      <td>Cruzeiro do Sul</td>\n",
              "      <td>Acre</td>\n",
              "      <td>AC</td>\n",
              "      <td>America/Rio_Branco</td>\n",
              "      <td>-5</td>\n",
              "      <td>America/Rio_Branco</td>\n",
              "      <td>-5</td>\n",
              "    </tr>\n",
              "    <tr>\n",
              "      <th>2</th>\n",
              "      <td>82915</td>\n",
              "      <td>-67.800000</td>\n",
              "      <td>-9.966667</td>\n",
              "      <td>160.00</td>\n",
              "      <td>Rio Branco</td>\n",
              "      <td>Acre</td>\n",
              "      <td>AC</td>\n",
              "      <td>America/Rio_Branco</td>\n",
              "      <td>-5</td>\n",
              "      <td>America/Rio_Branco</td>\n",
              "      <td>-5</td>\n",
              "    </tr>\n",
              "    <tr>\n",
              "      <th>3</th>\n",
              "      <td>82807</td>\n",
              "      <td>-70.766667</td>\n",
              "      <td>-8.166667</td>\n",
              "      <td>190.00</td>\n",
              "      <td>Tarauacá</td>\n",
              "      <td>Acre</td>\n",
              "      <td>AC</td>\n",
              "      <td>America/Rio_Branco</td>\n",
              "      <td>-5</td>\n",
              "      <td>America/Rio_Branco</td>\n",
              "      <td>-5</td>\n",
              "    </tr>\n",
              "    <tr>\n",
              "      <th>4</th>\n",
              "      <td>83098</td>\n",
              "      <td>-36.166667</td>\n",
              "      <td>-10.150000</td>\n",
              "      <td>56.13</td>\n",
              "      <td>Coruripe</td>\n",
              "      <td>Alagoas</td>\n",
              "      <td>AL</td>\n",
              "      <td>America/Maceio</td>\n",
              "      <td>-3</td>\n",
              "      <td>America/Maceio</td>\n",
              "      <td>-3</td>\n",
              "    </tr>\n",
              "  </tbody>\n",
              "</table>\n",
              "</div>"
            ],
            "text/plain": [
              "      id        lon        lat  ...  offset_utc         time_zone.1 offset_utc.1\n",
              "0  83010 -68.733333 -11.016667  ...          -5  America/Rio_Branco           -5\n",
              "1  82704 -72.666667  -7.633333  ...          -5  America/Rio_Branco           -5\n",
              "2  82915 -67.800000  -9.966667  ...          -5  America/Rio_Branco           -5\n",
              "3  82807 -70.766667  -8.166667  ...          -5  America/Rio_Branco           -5\n",
              "4  83098 -36.166667 -10.150000  ...          -3      America/Maceio           -3\n",
              "\n",
              "[5 rows x 11 columns]"
            ]
          },
          "metadata": {
            "tags": []
          },
          "execution_count": 39
        }
      ]
    },
    {
      "cell_type": "code",
      "metadata": {
        "id": "nXLGk6vhQY2r",
        "colab_type": "code",
        "colab": {}
      },
      "source": [
        "df_m= df_m.drop(['lat','lon','alt','time_zone','offset_utc','time_zone.1','offset_utc.1','uf'],axis=1)"
      ],
      "execution_count": 0,
      "outputs": []
    },
    {
      "cell_type": "code",
      "metadata": {
        "id": "4UHnHcG-LLYN",
        "colab_type": "code",
        "colab": {
          "base_uri": "https://localhost:8080/",
          "height": 204
        },
        "outputId": "74433fe8-08f8-48f8-83ea-bcbf2be03475"
      },
      "source": [
        "df = pd.merge(df,df_m,on='id')\n",
        "df.head()"
      ],
      "execution_count": 41,
      "outputs": [
        {
          "output_type": "execute_result",
          "data": {
            "text/html": [
              "<div>\n",
              "<style scoped>\n",
              "    .dataframe tbody tr th:only-of-type {\n",
              "        vertical-align: middle;\n",
              "    }\n",
              "\n",
              "    .dataframe tbody tr th {\n",
              "        vertical-align: top;\n",
              "    }\n",
              "\n",
              "    .dataframe thead th {\n",
              "        text-align: right;\n",
              "    }\n",
              "</style>\n",
              "<table border=\"1\" class=\"dataframe\">\n",
              "  <thead>\n",
              "    <tr style=\"text-align: right;\">\n",
              "      <th></th>\n",
              "      <th>date</th>\n",
              "      <th>id</th>\n",
              "      <th>prec</th>\n",
              "      <th>tair</th>\n",
              "      <th>tw</th>\n",
              "      <th>tmax</th>\n",
              "      <th>tmin</th>\n",
              "      <th>urmax</th>\n",
              "      <th>patm</th>\n",
              "      <th>pnmm</th>\n",
              "      <th>wd</th>\n",
              "      <th>wsmax</th>\n",
              "      <th>n</th>\n",
              "      <th>cc</th>\n",
              "      <th>evap</th>\n",
              "      <th>ur</th>\n",
              "      <th>ws</th>\n",
              "      <th>name</th>\n",
              "      <th>state</th>\n",
              "    </tr>\n",
              "  </thead>\n",
              "  <tbody>\n",
              "    <tr>\n",
              "      <th>0</th>\n",
              "      <td>1970-05-04 00:00:00</td>\n",
              "      <td>83010</td>\n",
              "      <td>NaN</td>\n",
              "      <td>NaN</td>\n",
              "      <td>NaN</td>\n",
              "      <td>32.6</td>\n",
              "      <td>NaN</td>\n",
              "      <td>NaN</td>\n",
              "      <td>NaN</td>\n",
              "      <td>NaN</td>\n",
              "      <td>NaN</td>\n",
              "      <td>NaN</td>\n",
              "      <td>NaN</td>\n",
              "      <td>NaN</td>\n",
              "      <td>NaN</td>\n",
              "      <td>89.75</td>\n",
              "      <td>NaN</td>\n",
              "      <td>Brasiléia</td>\n",
              "      <td>Acre</td>\n",
              "    </tr>\n",
              "    <tr>\n",
              "      <th>1</th>\n",
              "      <td>1970-05-04 12:00:00</td>\n",
              "      <td>83010</td>\n",
              "      <td>NaN</td>\n",
              "      <td>25.3</td>\n",
              "      <td>24.0</td>\n",
              "      <td>NaN</td>\n",
              "      <td>23.7</td>\n",
              "      <td>90.0</td>\n",
              "      <td>1005.9</td>\n",
              "      <td>NaN</td>\n",
              "      <td>NaN</td>\n",
              "      <td>NaN</td>\n",
              "      <td>NaN</td>\n",
              "      <td>5.0</td>\n",
              "      <td>NaN</td>\n",
              "      <td>NaN</td>\n",
              "      <td>NaN</td>\n",
              "      <td>Brasiléia</td>\n",
              "      <td>Acre</td>\n",
              "    </tr>\n",
              "    <tr>\n",
              "      <th>2</th>\n",
              "      <td>1970-05-04 18:00:00</td>\n",
              "      <td>83010</td>\n",
              "      <td>NaN</td>\n",
              "      <td>29.2</td>\n",
              "      <td>27.1</td>\n",
              "      <td>NaN</td>\n",
              "      <td>NaN</td>\n",
              "      <td>85.0</td>\n",
              "      <td>1004.2</td>\n",
              "      <td>NaN</td>\n",
              "      <td>NaN</td>\n",
              "      <td>NaN</td>\n",
              "      <td>NaN</td>\n",
              "      <td>4.0</td>\n",
              "      <td>NaN</td>\n",
              "      <td>NaN</td>\n",
              "      <td>NaN</td>\n",
              "      <td>Brasiléia</td>\n",
              "      <td>Acre</td>\n",
              "    </tr>\n",
              "    <tr>\n",
              "      <th>3</th>\n",
              "      <td>1970-05-05 00:00:00</td>\n",
              "      <td>83010</td>\n",
              "      <td>NaN</td>\n",
              "      <td>25.0</td>\n",
              "      <td>27.0</td>\n",
              "      <td>32.6</td>\n",
              "      <td>NaN</td>\n",
              "      <td>92.0</td>\n",
              "      <td>1007.5</td>\n",
              "      <td>NaN</td>\n",
              "      <td>NaN</td>\n",
              "      <td>NaN</td>\n",
              "      <td>NaN</td>\n",
              "      <td>8.0</td>\n",
              "      <td>2.4</td>\n",
              "      <td>88.25</td>\n",
              "      <td>NaN</td>\n",
              "      <td>Brasiléia</td>\n",
              "      <td>Acre</td>\n",
              "    </tr>\n",
              "    <tr>\n",
              "      <th>4</th>\n",
              "      <td>1970-05-05 12:00:00</td>\n",
              "      <td>83010</td>\n",
              "      <td>0.0</td>\n",
              "      <td>25.9</td>\n",
              "      <td>24.8</td>\n",
              "      <td>NaN</td>\n",
              "      <td>23.0</td>\n",
              "      <td>91.0</td>\n",
              "      <td>1006.4</td>\n",
              "      <td>NaN</td>\n",
              "      <td>NaN</td>\n",
              "      <td>NaN</td>\n",
              "      <td>NaN</td>\n",
              "      <td>4.0</td>\n",
              "      <td>NaN</td>\n",
              "      <td>NaN</td>\n",
              "      <td>NaN</td>\n",
              "      <td>Brasiléia</td>\n",
              "      <td>Acre</td>\n",
              "    </tr>\n",
              "  </tbody>\n",
              "</table>\n",
              "</div>"
            ],
            "text/plain": [
              "                  date     id  prec  tair  ...     ur  ws       name  state\n",
              "0  1970-05-04 00:00:00  83010   NaN   NaN  ...  89.75 NaN  Brasiléia   Acre\n",
              "1  1970-05-04 12:00:00  83010   NaN  25.3  ...    NaN NaN  Brasiléia   Acre\n",
              "2  1970-05-04 18:00:00  83010   NaN  29.2  ...    NaN NaN  Brasiléia   Acre\n",
              "3  1970-05-05 00:00:00  83010   NaN  25.0  ...  88.25 NaN  Brasiléia   Acre\n",
              "4  1970-05-05 12:00:00  83010   0.0  25.9  ...    NaN NaN  Brasiléia   Acre\n",
              "\n",
              "[5 rows x 19 columns]"
            ]
          },
          "metadata": {
            "tags": []
          },
          "execution_count": 41
        }
      ]
    },
    {
      "cell_type": "code",
      "metadata": {
        "id": "aUmgmXoPLVSe",
        "colab_type": "code",
        "colab": {}
      },
      "source": [
        ""
      ],
      "execution_count": 0,
      "outputs": []
    },
    {
      "cell_type": "code",
      "metadata": {
        "id": "IHKVYLH5LWcU",
        "colab_type": "code",
        "colab": {}
      },
      "source": [
        ""
      ],
      "execution_count": 0,
      "outputs": []
    },
    {
      "cell_type": "markdown",
      "metadata": {
        "id": "Ca-NPl4OJMMZ",
        "colab_type": "text"
      },
      "source": [
        "# Prophet\n",
        "## Quick Start\n",
        "\n",
        "Source: https://facebook.github.io/prophet/docs/quick_start.html"
      ]
    },
    {
      "cell_type": "code",
      "metadata": {
        "id": "g1hwNGOEHs4d",
        "colab_type": "code",
        "colab": {}
      },
      "source": [
        "import pandas as pd\n",
        "from fbprophet import Prophet"
      ],
      "execution_count": 0,
      "outputs": []
    },
    {
      "cell_type": "code",
      "metadata": {
        "id": "fhIpiZ2tIcUJ",
        "colab_type": "code",
        "colab": {
          "base_uri": "https://localhost:8080/",
          "height": 204
        },
        "outputId": "92d9f8a5-5615-41cd-917d-b9b67ba73169"
      },
      "source": [
        "df = pd.read_csv(\"https://raw.githubusercontent.com/facebook/prophet/master/examples/example_wp_log_peyton_manning.csv\")\n",
        "df.head()"
      ],
      "execution_count": 42,
      "outputs": [
        {
          "output_type": "execute_result",
          "data": {
            "text/html": [
              "<div>\n",
              "<style scoped>\n",
              "    .dataframe tbody tr th:only-of-type {\n",
              "        vertical-align: middle;\n",
              "    }\n",
              "\n",
              "    .dataframe tbody tr th {\n",
              "        vertical-align: top;\n",
              "    }\n",
              "\n",
              "    .dataframe thead th {\n",
              "        text-align: right;\n",
              "    }\n",
              "</style>\n",
              "<table border=\"1\" class=\"dataframe\">\n",
              "  <thead>\n",
              "    <tr style=\"text-align: right;\">\n",
              "      <th></th>\n",
              "      <th>ds</th>\n",
              "      <th>y</th>\n",
              "    </tr>\n",
              "  </thead>\n",
              "  <tbody>\n",
              "    <tr>\n",
              "      <th>0</th>\n",
              "      <td>2007-12-10</td>\n",
              "      <td>9.590761</td>\n",
              "    </tr>\n",
              "    <tr>\n",
              "      <th>1</th>\n",
              "      <td>2007-12-11</td>\n",
              "      <td>8.519590</td>\n",
              "    </tr>\n",
              "    <tr>\n",
              "      <th>2</th>\n",
              "      <td>2007-12-12</td>\n",
              "      <td>8.183677</td>\n",
              "    </tr>\n",
              "    <tr>\n",
              "      <th>3</th>\n",
              "      <td>2007-12-13</td>\n",
              "      <td>8.072467</td>\n",
              "    </tr>\n",
              "    <tr>\n",
              "      <th>4</th>\n",
              "      <td>2007-12-14</td>\n",
              "      <td>7.893572</td>\n",
              "    </tr>\n",
              "  </tbody>\n",
              "</table>\n",
              "</div>"
            ],
            "text/plain": [
              "           ds         y\n",
              "0  2007-12-10  9.590761\n",
              "1  2007-12-11  8.519590\n",
              "2  2007-12-12  8.183677\n",
              "3  2007-12-13  8.072467\n",
              "4  2007-12-14  7.893572"
            ]
          },
          "metadata": {
            "tags": []
          },
          "execution_count": 42
        }
      ]
    },
    {
      "cell_type": "code",
      "metadata": {
        "id": "b89ThyctJFmZ",
        "colab_type": "code",
        "colab": {
          "base_uri": "https://localhost:8080/",
          "height": 68
        },
        "outputId": "1eef087f-71df-4aab-a5c6-aad5ebc8f9a8"
      },
      "source": [
        "m = Prophet()\n",
        "m.fit(df)"
      ],
      "execution_count": 43,
      "outputs": [
        {
          "output_type": "stream",
          "text": [
            "INFO:numexpr.utils:NumExpr defaulting to 2 threads.\n",
            "INFO:fbprophet:Disabling daily seasonality. Run prophet with daily_seasonality=True to override this.\n"
          ],
          "name": "stderr"
        },
        {
          "output_type": "execute_result",
          "data": {
            "text/plain": [
              "<fbprophet.forecaster.Prophet at 0x7faf9a947dd8>"
            ]
          },
          "metadata": {
            "tags": []
          },
          "execution_count": 43
        }
      ]
    },
    {
      "cell_type": "code",
      "metadata": {
        "id": "WfZpFYriJWWx",
        "colab_type": "code",
        "colab": {
          "base_uri": "https://localhost:8080/",
          "height": 204
        },
        "outputId": "c8ed2d9c-bbf5-4cf1-b880-ba56359ac343"
      },
      "source": [
        "future = m.make_future_dataframe(periods=365)\n",
        "future.tail()"
      ],
      "execution_count": 44,
      "outputs": [
        {
          "output_type": "execute_result",
          "data": {
            "text/html": [
              "<div>\n",
              "<style scoped>\n",
              "    .dataframe tbody tr th:only-of-type {\n",
              "        vertical-align: middle;\n",
              "    }\n",
              "\n",
              "    .dataframe tbody tr th {\n",
              "        vertical-align: top;\n",
              "    }\n",
              "\n",
              "    .dataframe thead th {\n",
              "        text-align: right;\n",
              "    }\n",
              "</style>\n",
              "<table border=\"1\" class=\"dataframe\">\n",
              "  <thead>\n",
              "    <tr style=\"text-align: right;\">\n",
              "      <th></th>\n",
              "      <th>ds</th>\n",
              "    </tr>\n",
              "  </thead>\n",
              "  <tbody>\n",
              "    <tr>\n",
              "      <th>3265</th>\n",
              "      <td>2017-01-15</td>\n",
              "    </tr>\n",
              "    <tr>\n",
              "      <th>3266</th>\n",
              "      <td>2017-01-16</td>\n",
              "    </tr>\n",
              "    <tr>\n",
              "      <th>3267</th>\n",
              "      <td>2017-01-17</td>\n",
              "    </tr>\n",
              "    <tr>\n",
              "      <th>3268</th>\n",
              "      <td>2017-01-18</td>\n",
              "    </tr>\n",
              "    <tr>\n",
              "      <th>3269</th>\n",
              "      <td>2017-01-19</td>\n",
              "    </tr>\n",
              "  </tbody>\n",
              "</table>\n",
              "</div>"
            ],
            "text/plain": [
              "             ds\n",
              "3265 2017-01-15\n",
              "3266 2017-01-16\n",
              "3267 2017-01-17\n",
              "3268 2017-01-18\n",
              "3269 2017-01-19"
            ]
          },
          "metadata": {
            "tags": []
          },
          "execution_count": 44
        }
      ]
    },
    {
      "cell_type": "code",
      "metadata": {
        "id": "IE6S-F3iJXZI",
        "colab_type": "code",
        "colab": {
          "base_uri": "https://localhost:8080/",
          "height": 204
        },
        "outputId": "9db0e8e7-8c19-46fe-8ec4-11f73a415282"
      },
      "source": [
        "forecast = m.predict(future)\n",
        "forecast[['ds', 'yhat', 'yhat_lower', 'yhat_upper']].tail()"
      ],
      "execution_count": 45,
      "outputs": [
        {
          "output_type": "execute_result",
          "data": {
            "text/html": [
              "<div>\n",
              "<style scoped>\n",
              "    .dataframe tbody tr th:only-of-type {\n",
              "        vertical-align: middle;\n",
              "    }\n",
              "\n",
              "    .dataframe tbody tr th {\n",
              "        vertical-align: top;\n",
              "    }\n",
              "\n",
              "    .dataframe thead th {\n",
              "        text-align: right;\n",
              "    }\n",
              "</style>\n",
              "<table border=\"1\" class=\"dataframe\">\n",
              "  <thead>\n",
              "    <tr style=\"text-align: right;\">\n",
              "      <th></th>\n",
              "      <th>ds</th>\n",
              "      <th>yhat</th>\n",
              "      <th>yhat_lower</th>\n",
              "      <th>yhat_upper</th>\n",
              "    </tr>\n",
              "  </thead>\n",
              "  <tbody>\n",
              "    <tr>\n",
              "      <th>3265</th>\n",
              "      <td>2017-01-15</td>\n",
              "      <td>8.199274</td>\n",
              "      <td>7.483214</td>\n",
              "      <td>8.882697</td>\n",
              "    </tr>\n",
              "    <tr>\n",
              "      <th>3266</th>\n",
              "      <td>2017-01-16</td>\n",
              "      <td>8.524244</td>\n",
              "      <td>7.810651</td>\n",
              "      <td>9.213301</td>\n",
              "    </tr>\n",
              "    <tr>\n",
              "      <th>3267</th>\n",
              "      <td>2017-01-17</td>\n",
              "      <td>8.311615</td>\n",
              "      <td>7.601762</td>\n",
              "      <td>9.000959</td>\n",
              "    </tr>\n",
              "    <tr>\n",
              "      <th>3268</th>\n",
              "      <td>2017-01-18</td>\n",
              "      <td>8.144232</td>\n",
              "      <td>7.414405</td>\n",
              "      <td>8.857569</td>\n",
              "    </tr>\n",
              "    <tr>\n",
              "      <th>3269</th>\n",
              "      <td>2017-01-19</td>\n",
              "      <td>8.156091</td>\n",
              "      <td>7.442962</td>\n",
              "      <td>8.847375</td>\n",
              "    </tr>\n",
              "  </tbody>\n",
              "</table>\n",
              "</div>"
            ],
            "text/plain": [
              "             ds      yhat  yhat_lower  yhat_upper\n",
              "3265 2017-01-15  8.199274    7.483214    8.882697\n",
              "3266 2017-01-16  8.524244    7.810651    9.213301\n",
              "3267 2017-01-17  8.311615    7.601762    9.000959\n",
              "3268 2017-01-18  8.144232    7.414405    8.857569\n",
              "3269 2017-01-19  8.156091    7.442962    8.847375"
            ]
          },
          "metadata": {
            "tags": []
          },
          "execution_count": 45
        }
      ]
    },
    {
      "cell_type": "code",
      "metadata": {
        "id": "UXzhagfOJZUL",
        "colab_type": "code",
        "colab": {
          "base_uri": "https://localhost:8080/",
          "height": 441
        },
        "outputId": "ce2d61d2-fff4-479f-fa9d-4751c527f918"
      },
      "source": [
        "fig1 = m.plot(forecast)"
      ],
      "execution_count": 46,
      "outputs": [
        {
          "output_type": "display_data",
          "data": {
            "image/png": "[encoded data removed]",
            "text/plain": [
              "<Figure size 720x432 with 1 Axes>"
            ]
          },
          "metadata": {
            "tags": []
          }
        }
      ]
    },
    {
      "cell_type": "code",
      "metadata": {
        "id": "yXHiF6f6JcKy",
        "colab_type": "code",
        "colab": {
          "base_uri": "https://localhost:8080/",
          "height": 657
        },
        "outputId": "bb3d0410-560c-4017-a37f-99d270e9183c"
      },
      "source": [
        "fig2 = m.plot_components(forecast)"
      ],
      "execution_count": 47,
      "outputs": [
        {
          "output_type": "display_data",
          "data": {
            "image/png": "[encoded data removed]",
            "text/plain": [
              "<Figure size 648x648 with 3 Axes>"
            ]
          },
          "metadata": {
            "tags": []
          }
        }
      ]
    }
  ]
}