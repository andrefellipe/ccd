{
  "nbformat": 4,
  "nbformat_minor": 0,
  "metadata": {
    "kernelspec": {
      "name": "python3",
      "language": "python",
      "display_name": "Python 3"
    },
    "language_info": {
      "name": "python",
      "version": "3.6.1",
      "mimetype": "text/x-python",
      "file_extension": ".py",
      "pygments_lexer": "ipython3",
      "codemirror_mode": {
        "name": "ipython",
        "version": 3
      },
      "nbconvert_exporter": "python"
    },
    "colab": {
      "name": "new_maps.ipynb",
      "provenance": [],
      "include_colab_link": true
    }
  },
  "cells": [
    {
      "cell_type": "markdown",
      "metadata": {
        "id": "view-in-github",
        "colab_type": "text"
      },
      "source": [
        "<a href=\"https://colab.research.google.com/github/vitorsr/ccd/blob/master/new_maps.ipynb\" target=\"_parent\"><img src=\"https://colab.research.google.com/assets/colab-badge.svg\" alt=\"Open In Colab\"/></a>"
      ]
    },
    {
      "cell_type": "code",
      "metadata": {
        "id": "5qdDEt6FRQ0u",
        "colab_type": "code",
        "colab": {}
      },
      "source": [
        "# !apt-get update -qqq && apt-get dist-upgrade -qqq -y"
      ],
      "execution_count": 0,
      "outputs": []
    },
    {
      "cell_type": "code",
      "metadata": {
        "id": "3y0-IbttPYSg",
        "colab_type": "code",
        "colab": {}
      },
      "source": [
        "# https://github.com/googlecolab/colabtools/issues/85#issuecomment-372532728\n",
        "!apt-get install libproj-dev proj-data proj-bin -qqq -y\n",
        "!apt-get install libgeos-dev -qqq -y\n",
        "!pip install -q -U cython\n",
        "!pip install -q -U cartopy\n",
        "!pip install -q -U geopandas\n",
        "!pip install -q -U geoplot"
      ],
      "execution_count": 0,
      "outputs": []
    },
    {
      "cell_type": "code",
      "metadata": {
        "id": "Goln-ckpZk7l",
        "colab_type": "code",
        "colab": {}
      },
      "source": [
        "# https://gadm.org/about.html\n",
        "!wget -q \"https://biogeo.ucdavis.edu/data/gadm3.6/shp/gadm36_BRA_shp.zip\"\n",
        "!unzip -qq -u gadm36_BRA_shp.zip"
      ],
      "execution_count": 0,
      "outputs": []
    },
    {
      "cell_type": "code",
      "metadata": {
        "id": "zn8PTPwFG4ZJ",
        "colab_type": "code",
        "colab": {}
      },
      "source": [
        "import geopandas as gpd\n",
        "import geoplot as gplt\n",
        "\n",
        "br = gpd.read_file('gadm36_BRA_1.shp')"
      ],
      "execution_count": 0,
      "outputs": []
    },
    {
      "cell_type": "code",
      "metadata": {
        "id": "pXwO37oDTz3T",
        "colab_type": "code",
        "outputId": "aecf61d2-6426-4bd6-80bf-680a7d675ab6",
        "colab": {
          "base_uri": "https://localhost:8080/",
          "height": 80
        }
      },
      "source": [
        "import pandas as pd\n",
        "\n",
        "# pca_vals = pd.read_csv(\"https://raw.githubusercontent.com/vitorsr/ccd/master/data/pca_values_08-19.csv?token=AJW2VYKF6JXIF7CPJPIX4YC5X3H4E\")\n",
        "\n",
        "pca_vals = pd.read_csv(\"https://raw.githubusercontent.com/vitorsr/ccd/master/data/pc1_2019.csv?token=AJW2VYLHX2G6H76T3YWGEQ25X5MEW\")\n",
        "pca_vals.head(1)"
      ],
      "execution_count": 4,
      "outputs": [
        {
          "output_type": "execute_result",
          "data": {
            "text/html": [
              "<div>\n",
              "<style scoped>\n",
              "    .dataframe tbody tr th:only-of-type {\n",
              "        vertical-align: middle;\n",
              "    }\n",
              "\n",
              "    .dataframe tbody tr th {\n",
              "        vertical-align: top;\n",
              "    }\n",
              "\n",
              "    .dataframe thead th {\n",
              "        text-align: right;\n",
              "    }\n",
              "</style>\n",
              "<table border=\"1\" class=\"dataframe\">\n",
              "  <thead>\n",
              "    <tr style=\"text-align: right;\">\n",
              "      <th></th>\n",
              "      <th>Unnamed: 0</th>\n",
              "      <th>id</th>\n",
              "      <th>0</th>\n",
              "      <th>1</th>\n",
              "      <th>2</th>\n",
              "      <th>lon</th>\n",
              "      <th>lat</th>\n",
              "    </tr>\n",
              "  </thead>\n",
              "  <tbody>\n",
              "    <tr>\n",
              "      <th>0</th>\n",
              "      <td>0</td>\n",
              "      <td>82098</td>\n",
              "      <td>-0.519376</td>\n",
              "      <td>2.422612</td>\n",
              "      <td>0.173939</td>\n",
              "      <td>-51.116667</td>\n",
              "      <td>-0.05</td>\n",
              "    </tr>\n",
              "  </tbody>\n",
              "</table>\n",
              "</div>"
            ],
            "text/plain": [
              "   Unnamed: 0     id         0         1         2        lon   lat\n",
              "0           0  82098 -0.519376  2.422612  0.173939 -51.116667 -0.05"
            ]
          },
          "metadata": {
            "tags": []
          },
          "execution_count": 4
        }
      ]
    },
    {
      "cell_type": "code",
      "metadata": {
        "id": "846eUuiLSH7j",
        "colab_type": "code",
        "colab": {
          "base_uri": "https://localhost:8080/",
          "height": 34
        },
        "outputId": "d79dfe45-d03d-46dd-cd67-5a37dc47032b"
      },
      "source": [
        "import numpy as np\n",
        "(np.min(pca_vals[\"0\"].to_numpy()[:]), np.max(pca_vals[\"0\"].to_numpy()[:]))"
      ],
      "execution_count": 6,
      "outputs": [
        {
          "output_type": "execute_result",
          "data": {
            "text/plain": [
              "(-3.4831080515443564, 4.534872295930258)"
            ]
          },
          "metadata": {
            "tags": []
          },
          "execution_count": 6
        }
      ]
    },
    {
      "cell_type": "code",
      "metadata": {
        "id": "-dbQ81YyVN0c",
        "colab_type": "code",
        "outputId": "299a0a7c-8445-49d9-9cf5-9612a38ca242",
        "colab": {
          "base_uri": "https://localhost:8080/",
          "height": 248
        }
      },
      "source": [
        "import cartopy.crs as ccrs\n",
        "import matplotlib.pyplot as plt\n",
        "from matplotlib.cm import ScalarMappable\n",
        "from matplotlib.colors import Normalize\n",
        "\n",
        "lons = pca_vals[\"lon\"].to_numpy()[:]\n",
        "lats = pca_vals[\"lat\"].to_numpy()[:]\n",
        "data = pca_vals[\"0\"].to_numpy()[:] # 0th princomp\n",
        "\n",
        "fig_pc = plt.figure()\n",
        "\n",
        "ax = plt.axes(projection=ccrs.Miller())\n",
        "\n",
        "lb = -5; ub = 5; lv = 20 # lower bound, upper bound, levels\n",
        "\n",
        "plt.tricontourf(lons, lats, data, np.linspace(lb, ub, lv),\n",
        "                cmap=\"coolwarm\", extend=\"both\")\n",
        "\n",
        "gplt.polyplot(br, edgecolor=\"dimgray\", linewidth=0.5, zorder=1, ax=ax)\n",
        "\n",
        "plt.colorbar(ScalarMappable(norm=Normalize(lb, ub), cmap=\"coolwarm\"), ax=ax)\n",
        "\n",
        "plt.show()\n",
        "\n",
        "fig_pc.savefig(\"pca_princomp1_20190819.png\", dpi=300)"
      ],
      "execution_count": 7,
      "outputs": [
        {
          "output_type": "display_data",
          "data": {
            "image/png": "[encoded data removed]",
            "text/plain": [
              "<Figure size 432x288 with 2 Axes>"
            ]
          },
          "metadata": {
            "tags": []
          }
        }
      ]
    },
    {
      "cell_type": "code",
      "metadata": {
        "id": "GEyc84cAZMgn",
        "colab_type": "code",
        "colab": {}
      },
      "source": [
        "metadata = pd.read_csv(\"https://onedrive.live.com/download?cid=BCBADB0836C97273&resid=BCBADB0836C97273%21115089&authkey=AN3WuZnSKh9jgC8\")\n",
        "temp_aug = pd.read_csv(\"https://raw.githubusercontent.com/vitorsr/ccd/master/data/baseline_historic_mean.csv?token=AJW2VYMFUCGYYQMVEQAMNTC5X5MLE\")\n",
        "temp_vals = pd.merge(metadata, temp_aug.groupby(by=\"id\").mean(), on=\"id\")"
      ],
      "execution_count": 0,
      "outputs": []
    },
    {
      "cell_type": "code",
      "metadata": {
        "id": "wuPFSbPqe_7a",
        "colab_type": "code",
        "colab": {
          "base_uri": "https://localhost:8080/",
          "height": 117
        },
        "outputId": "0bfd48d5-3870-46cb-efa9-aa387730e656"
      },
      "source": [
        "temp_vals.head(1)"
      ],
      "execution_count": 9,
      "outputs": [
        {
          "output_type": "execute_result",
          "data": {
            "text/html": [
              "<div>\n",
              "<style scoped>\n",
              "    .dataframe tbody tr th:only-of-type {\n",
              "        vertical-align: middle;\n",
              "    }\n",
              "\n",
              "    .dataframe tbody tr th {\n",
              "        vertical-align: top;\n",
              "    }\n",
              "\n",
              "    .dataframe thead th {\n",
              "        text-align: right;\n",
              "    }\n",
              "</style>\n",
              "<table border=\"1\" class=\"dataframe\">\n",
              "  <thead>\n",
              "    <tr style=\"text-align: right;\">\n",
              "      <th></th>\n",
              "      <th>id</th>\n",
              "      <th>lon</th>\n",
              "      <th>lat</th>\n",
              "      <th>alt</th>\n",
              "      <th>name</th>\n",
              "      <th>state</th>\n",
              "      <th>uf</th>\n",
              "      <th>time_zone</th>\n",
              "      <th>offset_utc</th>\n",
              "      <th>time_zone.1</th>\n",
              "      <th>offset_utc.1</th>\n",
              "      <th>prec</th>\n",
              "      <th>tair</th>\n",
              "      <th>tw</th>\n",
              "      <th>tmax</th>\n",
              "      <th>tmin</th>\n",
              "      <th>urmax</th>\n",
              "      <th>patm</th>\n",
              "      <th>pnmm</th>\n",
              "      <th>wd</th>\n",
              "      <th>wsmax</th>\n",
              "      <th>n</th>\n",
              "      <th>cc</th>\n",
              "      <th>evap</th>\n",
              "      <th>ur</th>\n",
              "      <th>ws</th>\n",
              "    </tr>\n",
              "  </thead>\n",
              "  <tbody>\n",
              "    <tr>\n",
              "      <th>0</th>\n",
              "      <td>82915</td>\n",
              "      <td>-67.8</td>\n",
              "      <td>-9.966667</td>\n",
              "      <td>160.0</td>\n",
              "      <td>Rio Branco</td>\n",
              "      <td>Acre</td>\n",
              "      <td>AC</td>\n",
              "      <td>America/Rio_Branco</td>\n",
              "      <td>-5</td>\n",
              "      <td>America/Rio_Branco</td>\n",
              "      <td>-5</td>\n",
              "      <td>1.736536</td>\n",
              "      <td>25.67877</td>\n",
              "      <td>22.235053</td>\n",
              "      <td>32.977355</td>\n",
              "      <td>18.284184</td>\n",
              "      <td>76.200715</td>\n",
              "      <td>995.277863</td>\n",
              "      <td>1012.995128</td>\n",
              "      <td>10.004215</td>\n",
              "      <td>1.072976</td>\n",
              "      <td>6.372858</td>\n",
              "      <td>5.134233</td>\n",
              "      <td>3.471002</td>\n",
              "      <td>77.147346</td>\n",
              "      <td>1.073483</td>\n",
              "    </tr>\n",
              "  </tbody>\n",
              "</table>\n",
              "</div>"
            ],
            "text/plain": [
              "      id   lon       lat    alt  ...        cc      evap         ur        ws\n",
              "0  82915 -67.8 -9.966667  160.0  ...  5.134233  3.471002  77.147346  1.073483\n",
              "\n",
              "[1 rows x 26 columns]"
            ]
          },
          "metadata": {
            "tags": []
          },
          "execution_count": 9
        }
      ]
    },
    {
      "cell_type": "code",
      "metadata": {
        "id": "yyFSD3tpXbzs",
        "colab_type": "code",
        "colab": {
          "base_uri": "https://localhost:8080/",
          "height": 34
        },
        "outputId": "14336f52-68ea-4e78-df8a-57edde4a91e2"
      },
      "source": [
        "temp_vals = temp_vals[temp_vals[\"tair\"] == temp_vals[\"tair\"]]\n",
        "(np.min(temp_vals[\"tair\"].to_numpy()[:]), np.max(temp_vals[\"tair\"].to_numpy()[:]))"
      ],
      "execution_count": 10,
      "outputs": [
        {
          "output_type": "execute_result",
          "data": {
            "text/plain": [
              "(13.094847427330537, 30.7841906905677)"
            ]
          },
          "metadata": {
            "tags": []
          },
          "execution_count": 10
        }
      ]
    },
    {
      "cell_type": "code",
      "metadata": {
        "id": "pqBx99DoJyEE",
        "colab_type": "code",
        "colab": {
          "base_uri": "https://localhost:8080/",
          "height": 248
        },
        "outputId": "d57ded57-0eb6-46d5-8647-3a2662c9446e"
      },
      "source": [
        "lons = temp_vals[\"lon\"].to_numpy()[:]\n",
        "lats = temp_vals[\"lat\"].to_numpy()[:]\n",
        "data = temp_vals[\"tair\"].to_numpy()[:]\n",
        "\n",
        "fig_tair = plt.figure()\n",
        "\n",
        "ax = plt.axes(projection=ccrs.Miller())\n",
        "\n",
        "lb = 13; ub = 31; lv = 20 # lower bound, upper bound, levels\n",
        "\n",
        "plt.tricontourf(lons, lats, data, np.linspace(lb, ub, lv),\n",
        "                cmap=\"coolwarm\", extend=\"both\")\n",
        "\n",
        "gplt.polyplot(br, edgecolor=\"dimgray\", linewidth=0.5, zorder=1, ax=ax)\n",
        "\n",
        "plt.colorbar(ScalarMappable(norm=Normalize(lb, ub), cmap=\"coolwarm\"), ax=ax)\n",
        "\n",
        "plt.show()\n",
        "\n",
        "fig_tair.savefig(\"tair_baseline.png\", dpi=300)"
      ],
      "execution_count": 11,
      "outputs": [
        {
          "output_type": "display_data",
          "data": {
            "image/png": "[encoded data removed]",
            "text/plain": [
              "<Figure size 432x288 with 2 Axes>"
            ]
          },
          "metadata": {
            "tags": []
          }
        }
      ]
    }
  ]
}