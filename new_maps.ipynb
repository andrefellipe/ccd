{
  "nbformat": 4,
  "nbformat_minor": 0,
  "metadata": {
    "kernelspec": {
      "name": "python3",
      "language": "python",
      "display_name": "Python 3"
    },
    "language_info": {
      "name": "python",
      "version": "3.6.1",
      "mimetype": "text/x-python",
      "file_extension": ".py",
      "pygments_lexer": "ipython3",
      "codemirror_mode": {
        "name": "ipython",
        "version": 3
      },
      "nbconvert_exporter": "python"
    },
    "colab": {
      "name": "new_maps.ipynb",
      "provenance": [],
      "include_colab_link": true
    }
  },
  "cells": [
    {
      "cell_type": "markdown",
      "metadata": {
        "id": "view-in-github",
        "colab_type": "text"
      },
      "source": [
        "<a href=\"https://colab.research.google.com/github/vitorsr/ccd/blob/master/new_maps.ipynb\" target=\"_parent\"><img src=\"https://colab.research.google.com/assets/colab-badge.svg\" alt=\"Open In Colab\"/></a>"
      ]
    },
    {
      "cell_type": "code",
      "metadata": {
        "id": "5qdDEt6FRQ0u",
        "colab_type": "code",
        "colab": {}
      },
      "source": [
        "# !apt-get update -qqq && apt-get dist-upgrade -qqq -y"
      ],
      "execution_count": 0,
      "outputs": []
    },
    {
      "cell_type": "code",
      "metadata": {
        "id": "3y0-IbttPYSg",
        "colab_type": "code",
        "colab": {}
      },
      "source": [
        "# https://github.com/googlecolab/colabtools/issues/85#issuecomment-372532728\n",
        "!apt-get install libproj-dev proj-data proj-bin -qqq -y\n",
        "!apt-get install libgeos-dev -qqq -y\n",
        "!pip install -q -U cython\n",
        "!pip install -q -U cartopy\n",
        "!pip install -q -U geopandas\n",
        "!pip install -q -U geoplot"
      ],
      "execution_count": 0,
      "outputs": []
    },
    {
      "cell_type": "code",
      "metadata": {
        "id": "Goln-ckpZk7l",
        "colab_type": "code",
        "colab": {}
      },
      "source": [
        "# https://gadm.org/about.html\n",
        "!wget -q \"https://biogeo.ucdavis.edu/data/gadm3.6/shp/gadm36_BRA_shp.zip\"\n",
        "!unzip -qq -u gadm36_BRA_shp.zip"
      ],
      "execution_count": 0,
      "outputs": []
    },
    {
      "cell_type": "code",
      "metadata": {
        "id": "zn8PTPwFG4ZJ",
        "colab_type": "code",
        "colab": {}
      },
      "source": [
        "import geopandas as gpd\n",
        "import geoplot as gplt\n",
        "\n",
        "br = gpd.read_file('gadm36_BRA_1.shp')"
      ],
      "execution_count": 0,
      "outputs": []
    },
    {
      "cell_type": "code",
      "metadata": {
        "id": "pXwO37oDTz3T",
        "colab_type": "code",
        "colab": {
          "base_uri": "https://localhost:8080/",
          "height": 77
        },
        "outputId": "ad330063-96c6-4bb4-e8eb-8a5837d51920"
      },
      "source": [
        "import pandas as pd\n",
        "\n",
        "pca_vals = pd.read_csv(\"https://raw.githubusercontent.com/vitorsr/ccd/master/data/pca_values_08-19.csv?token=AJW2VYKF6JXIF7CPJPIX4YC5X3H4E\")\n",
        "pca_vals.head(1)"
      ],
      "execution_count": 5,
      "outputs": [
        {
          "output_type": "execute_result",
          "data": {
            "text/html": [
              "<div>\n",
              "<style scoped>\n",
              "    .dataframe tbody tr th:only-of-type {\n",
              "        vertical-align: middle;\n",
              "    }\n",
              "\n",
              "    .dataframe tbody tr th {\n",
              "        vertical-align: top;\n",
              "    }\n",
              "\n",
              "    .dataframe thead th {\n",
              "        text-align: right;\n",
              "    }\n",
              "</style>\n",
              "<table border=\"1\" class=\"dataframe\">\n",
              "  <thead>\n",
              "    <tr style=\"text-align: right;\">\n",
              "      <th></th>\n",
              "      <th>Unnamed: 0</th>\n",
              "      <th>id</th>\n",
              "      <th>0</th>\n",
              "      <th>1</th>\n",
              "      <th>2</th>\n",
              "      <th>lon</th>\n",
              "      <th>lat</th>\n",
              "    </tr>\n",
              "  </thead>\n",
              "  <tbody>\n",
              "    <tr>\n",
              "      <th>0</th>\n",
              "      <td>0</td>\n",
              "      <td>82024</td>\n",
              "      <td>-33.748093</td>\n",
              "      <td>-12.382246</td>\n",
              "      <td>-9.632669</td>\n",
              "      <td>-60.65</td>\n",
              "      <td>2.816667</td>\n",
              "    </tr>\n",
              "  </tbody>\n",
              "</table>\n",
              "</div>"
            ],
            "text/plain": [
              "   Unnamed: 0     id          0          1         2    lon       lat\n",
              "0           0  82024 -33.748093 -12.382246 -9.632669 -60.65  2.816667"
            ]
          },
          "metadata": {
            "tags": []
          },
          "execution_count": 5
        }
      ]
    },
    {
      "cell_type": "code",
      "metadata": {
        "id": "-dbQ81YyVN0c",
        "colab_type": "code",
        "colab": {
          "base_uri": "https://localhost:8080/",
          "height": 258
        },
        "outputId": "07298c21-0ce2-4588-bc4a-c8d7d8f9ed50"
      },
      "source": [
        "import numpy as np\n",
        "import cartopy.crs as ccrs\n",
        "import matplotlib.pyplot as plt\n",
        "from matplotlib.cm import ScalarMappable\n",
        "from matplotlib.colors import Normalize\n",
        "\n",
        "lons = pca_vals[\"lon\"].to_numpy()[:]\n",
        "lats = pca_vals[\"lat\"].to_numpy()[:]\n",
        "data = pca_vals[\"0\"].to_numpy()[:] # 0th princomp\n",
        "\n",
        "ax = plt.axes(projection=ccrs.Miller())\n",
        "\n",
        "lb = -80; ub = 80; lv = 20 # lower bound, upper bound,levels\n",
        "\n",
        "plt.tricontourf(lons, lats, data, np.linspace(lb, ub, lv),\n",
        "                cmap=\"coolwarm\", extend=\"both\")\n",
        "\n",
        "gplt.polyplot(br, edgecolor=\"dimgray\", linewidth=0.5, zorder=1, ax=ax)\n",
        "\n",
        "plt.colorbar(ScalarMappable(norm=Normalize(-80, 80), cmap=\"coolwarm\"), ax=ax)\n",
        "\n",
        "plt.show()"
      ],
      "execution_count": 6,
      "outputs": [
        {
          "output_type": "display_data",
          "data": {
            "image/png": "[encoded data removed]",
            "text/plain": [
              "<Figure size 432x288 with 2 Axes>"
            ]
          },
          "metadata": {
            "tags": []
          }
        }
      ]
    }
  ]
}