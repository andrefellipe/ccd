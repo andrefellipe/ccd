{
  "nbformat": 4,
  "nbformat_minor": 0,
  "metadata": {
    "kernelspec": {
      "name": "python3",
      "language": "python",
      "display_name": "Python 3"
    },
    "language_info": {
      "name": "python",
      "version": "3.6.1",
      "mimetype": "text/x-python",
      "file_extension": ".py",
      "pygments_lexer": "ipython3",
      "codemirror_mode": {
        "name": "ipython",
        "version": 3
      },
      "nbconvert_exporter": "python"
    },
    "colab": {
      "name": "new_maps.ipynb",
      "provenance": [],
      "include_colab_link": true
    }
  },
  "cells": [
    {
      "cell_type": "markdown",
      "metadata": {
        "id": "view-in-github",
        "colab_type": "text"
      },
      "source": [
        "<a href=\"https://colab.research.google.com/github/vitorsr/ccd/blob/master/new_maps.ipynb\" target=\"_parent\"><img src=\"https://colab.research.google.com/assets/colab-badge.svg\" alt=\"Open In Colab\"/></a>"
      ]
    },
    {
      "cell_type": "code",
      "metadata": {
        "id": "5qdDEt6FRQ0u",
        "colab_type": "code",
        "colab": {}
      },
      "source": [
        "# !apt-get update -qqq && apt-get dist-upgrade -qqq -y"
      ],
      "execution_count": 0,
      "outputs": []
    },
    {
      "cell_type": "code",
      "metadata": {
        "id": "3y0-IbttPYSg",
        "colab_type": "code",
        "colab": {
          "base_uri": "https://localhost:8080/",
          "height": 510
        },
        "outputId": "ed0e7952-fb4f-4ee3-9d4e-61530b100f05"
      },
      "source": [
        "# https://github.com/googlecolab/colabtools/issues/85#issuecomment-372532728\n",
        "!apt-get install libproj-dev proj-data proj-bin -qqq -y\n",
        "!apt-get install libgeos-dev -qqq -y\n",
        "!pip install -q -U cython\n",
        "!pip install -q -U cartopy\n",
        "!pip install -q -U geopandas\n",
        "!pip install -q -U geoplot"
      ],
      "execution_count": 3,
      "outputs": [
        {
          "output_type": "stream",
          "text": [
            "Selecting previously unselected package libproj-dev:amd64.\n",
            "(Reading database ... 132681 files and directories currently installed.)\n",
            "Preparing to unpack .../libproj-dev_4.9.3-2_amd64.deb ...\n",
            "Unpacking libproj-dev:amd64 (4.9.3-2) ...\n",
            "Selecting previously unselected package proj-bin.\n",
            "Preparing to unpack .../proj-bin_4.9.3-2_amd64.deb ...\n",
            "Unpacking proj-bin (4.9.3-2) ...\n",
            "Setting up libproj-dev:amd64 (4.9.3-2) ...\n",
            "Setting up proj-bin (4.9.3-2) ...\n",
            "Processing triggers for man-db (2.8.3-2ubuntu0.1) ...\n",
            "Selecting previously unselected package libgeos-dev.\n",
            "(Reading database ... 132714 files and directories currently installed.)\n",
            "Preparing to unpack .../libgeos-dev_3.6.2-1build2_amd64.deb ...\n",
            "Unpacking libgeos-dev (3.6.2-1build2) ...\n",
            "Setting up libgeos-dev (3.6.2-1build2) ...\n",
            "Processing triggers for man-db (2.8.3-2ubuntu0.1) ...\n",
            "\u001b[K     |████████████████████████████████| 8.9MB 2.8MB/s \n",
            "\u001b[?25h  Installing build dependencies ... \u001b[?25l\u001b[?25hdone\n",
            "  Getting requirements to build wheel ... \u001b[?25l\u001b[?25hdone\n",
            "    Preparing wheel metadata ... \u001b[?25l\u001b[?25hdone\n",
            "\u001b[K     |████████████████████████████████| 225kB 52.8MB/s \n",
            "\u001b[?25h  Building wheel for cartopy (PEP 517) ... \u001b[?25l\u001b[?25hdone\n",
            "  Building wheel for pyshp (setup.py) ... \u001b[?25l\u001b[?25hdone\n",
            "\u001b[K     |████████████████████████████████| 921kB 2.8MB/s \n",
            "\u001b[K     |████████████████████████████████| 11.9MB 202kB/s \n",
            "\u001b[K     |████████████████████████████████| 10.1MB 41.0MB/s \n",
            "\u001b[?25h  Building wheel for munch (setup.py) ... \u001b[?25l\u001b[?25hdone\n",
            "\u001b[K     |████████████████████████████████| 15.1MB 159kB/s \n",
            "\u001b[?25h  Building wheel for mapclassify (setup.py) ... \u001b[?25l\u001b[?25hdone\n"
          ],
          "name": "stdout"
        }
      ]
    },
    {
      "cell_type": "code",
      "metadata": {
        "id": "Goln-ckpZk7l",
        "colab_type": "code",
        "colab": {}
      },
      "source": [
        "# https://gadm.org/about.html\n",
        "!wget -q \"https://biogeo.ucdavis.edu/data/gadm3.6/shp/gadm36_BRA_shp.zip\"\n",
        "!unzip -qq -u gadm36_BRA_shp.zip"
      ],
      "execution_count": 0,
      "outputs": []
    },
    {
      "cell_type": "code",
      "metadata": {
        "id": "zn8PTPwFG4ZJ",
        "colab_type": "code",
        "colab": {}
      },
      "source": [
        "import geopandas as gpd\n",
        "import geoplot as gplt\n",
        "\n",
        "br = gpd.read_file('gadm36_BRA_1.shp')"
      ],
      "execution_count": 0,
      "outputs": []
    },
    {
      "cell_type": "code",
      "metadata": {
        "id": "pXwO37oDTz3T",
        "colab_type": "code",
        "outputId": "9fee4f0f-82a2-4596-c221-d2a757919d42",
        "colab": {
          "base_uri": "https://localhost:8080/",
          "height": 80
        }
      },
      "source": [
        "import pandas as pd\n",
        "\n",
        "#antigo\n",
        "#pca_vals = pd.read_csv(\"https://raw.githubusercontent.com/vitorsr/ccd/master/data/pca_values_08-19.csv?token=AJW2VYKF6JXIF7CPJPIX4YC5X3H4E\")\n",
        "\n",
        "#novo: pc1_2019.csv\n",
        "pca_vals = pd.read_csv(\"https://raw.githubusercontent.com/vitorsr/ccd/master/data/pc1_2019.csv?token=AFPQLZH5NNQGDME6R3PPGFS5X5EIY\")\n",
        "pca_vals.head(1)"
      ],
      "execution_count": 9,
      "outputs": [
        {
          "output_type": "execute_result",
          "data": {
            "text/html": [
              "<div>\n",
              "<style scoped>\n",
              "    .dataframe tbody tr th:only-of-type {\n",
              "        vertical-align: middle;\n",
              "    }\n",
              "\n",
              "    .dataframe tbody tr th {\n",
              "        vertical-align: top;\n",
              "    }\n",
              "\n",
              "    .dataframe thead th {\n",
              "        text-align: right;\n",
              "    }\n",
              "</style>\n",
              "<table border=\"1\" class=\"dataframe\">\n",
              "  <thead>\n",
              "    <tr style=\"text-align: right;\">\n",
              "      <th></th>\n",
              "      <th>Unnamed: 0</th>\n",
              "      <th>id</th>\n",
              "      <th>0</th>\n",
              "      <th>lon</th>\n",
              "      <th>lat</th>\n",
              "    </tr>\n",
              "  </thead>\n",
              "  <tbody>\n",
              "    <tr>\n",
              "      <th>0</th>\n",
              "      <td>0</td>\n",
              "      <td>82024</td>\n",
              "      <td>11.888933</td>\n",
              "      <td>-60.65</td>\n",
              "      <td>2.816667</td>\n",
              "    </tr>\n",
              "  </tbody>\n",
              "</table>\n",
              "</div>"
            ],
            "text/plain": [
              "   Unnamed: 0     id          0    lon       lat\n",
              "0           0  82024  11.888933 -60.65  2.816667"
            ]
          },
          "metadata": {
            "tags": []
          },
          "execution_count": 9
        }
      ]
    },
    {
      "cell_type": "code",
      "metadata": {
        "id": "-dbQ81YyVN0c",
        "colab_type": "code",
        "outputId": "0adbf911-83c2-42c0-aabc-e9c0bc23f518",
        "colab": {
          "base_uri": "https://localhost:8080/",
          "height": 258
        }
      },
      "source": [
        "import numpy as np\n",
        "import cartopy.crs as ccrs\n",
        "import matplotlib.pyplot as plt\n",
        "from matplotlib.cm import ScalarMappable\n",
        "from matplotlib.colors import Normalize\n",
        "\n",
        "lons = pca_vals[\"lon\"].to_numpy()[:]\n",
        "lats = pca_vals[\"lat\"].to_numpy()[:]\n",
        "data = pca_vals[\"0\"].to_numpy()[:] # 0th princomp\n",
        "\n",
        "ax = plt.axes(projection=ccrs.Miller())\n",
        "\n",
        "lb = -80; ub = 80; lv = 20 # lower bound, upper bound,levels\n",
        "\n",
        "plt.tricontourf(lons, lats, data, np.linspace(lb, ub, lv),\n",
        "                cmap=\"coolwarm\", extend=\"both\")\n",
        "\n",
        "gplt.polyplot(br, edgecolor=\"dimgray\", linewidth=0.5, zorder=1, ax=ax)\n",
        "\n",
        "plt.colorbar(ScalarMappable(norm=Normalize(-80, 80), cmap=\"coolwarm\"), ax=ax)\n",
        "\n",
        "plt.show()"
      ],
      "execution_count": 10,
      "outputs": [
        {
          "output_type": "display_data",
          "data": {
            "image/png": "[encoded data removed]",
            "text/plain": [
              "<Figure size 432x288 with 2 Axes>"
            ]
          },
          "metadata": {
            "tags": []
          }
        }
      ]
    },
    {
      "cell_type": "code",
      "metadata": {
        "id": "pqBx99DoJyEE",
        "colab_type": "code",
        "colab": {}
      },
      "source": [
        ""
      ],
      "execution_count": 0,
      "outputs": []
    }
  ]
}